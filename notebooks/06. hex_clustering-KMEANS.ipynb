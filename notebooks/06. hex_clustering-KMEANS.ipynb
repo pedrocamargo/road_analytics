{
 "cells": [
  {
   "cell_type": "code",
   "execution_count": 1,
   "id": "white-value",
   "metadata": {
    "pycharm": {
     "name": "#%%\n"
    }
   },
   "outputs": [
    {
     "ename": "ImportError",
     "evalue": "DLL load failed: The specified procedure could not be found.",
     "output_type": "error",
     "traceback": [
      "\u001B[1;31m---------------------------------------------------------------------------\u001B[0m",
      "\u001B[1;31mImportError\u001B[0m                               Traceback (most recent call last)",
      "\u001B[1;32m<ipython-input-1-9aa8671be646>\u001B[0m in \u001B[0;36m<module>\u001B[1;34m\u001B[0m\n\u001B[0;32m      6\u001B[0m \u001B[1;32mimport\u001B[0m \u001B[0mpandas\u001B[0m \u001B[1;32mas\u001B[0m \u001B[0mpd\u001B[0m\u001B[1;33m\u001B[0m\u001B[1;33m\u001B[0m\u001B[0m\n\u001B[0;32m      7\u001B[0m \u001B[1;32mfrom\u001B[0m \u001B[0msklearn\u001B[0m\u001B[1;33m.\u001B[0m\u001B[0mcluster\u001B[0m \u001B[1;32mimport\u001B[0m \u001B[0mKMeans\u001B[0m\u001B[1;33m\u001B[0m\u001B[1;33m\u001B[0m\u001B[0m\n\u001B[1;32m----> 8\u001B[1;33m \u001B[1;32mimport\u001B[0m \u001B[0mlibpysal\u001B[0m\u001B[1;33m\u001B[0m\u001B[1;33m\u001B[0m\u001B[0m\n\u001B[0m\u001B[0;32m      9\u001B[0m \u001B[1;32mimport\u001B[0m \u001B[0mwarnings\u001B[0m\u001B[1;33m\u001B[0m\u001B[1;33m\u001B[0m\u001B[0m\n\u001B[0;32m     10\u001B[0m \u001B[1;32mfrom\u001B[0m \u001B[0mfolders\u001B[0m \u001B[1;32mimport\u001B[0m \u001B[0mlyr_fldr\u001B[0m\u001B[1;33m,\u001B[0m \u001B[0mmodel_fldr\u001B[0m\u001B[1;33m,\u001B[0m \u001B[0mmodel_file\u001B[0m\u001B[1;33m,\u001B[0m \u001B[0mhexbins_file\u001B[0m\u001B[1;33m,\u001B[0m \u001B[0mfinal_zoning\u001B[0m\u001B[1;33m\u001B[0m\u001B[1;33m\u001B[0m\u001B[0m\n",
      "\u001B[1;32mc:\\users\\pedro\\.virtualenvs\\vietnam_model-znkxesgw\\lib\\site-packages\\libpysal\\__init__.py\u001B[0m in \u001B[0;36m<module>\u001B[1;34m\u001B[0m\n\u001B[0;32m     25\u001B[0m     \u001B[0mTools\u001B[0m \u001B[1;32mfor\u001B[0m \u001B[0mcreating\u001B[0m \u001B[1;32mand\u001B[0m \u001B[0mmanipulating\u001B[0m \u001B[0mweights\u001B[0m\u001B[1;33m\u001B[0m\u001B[1;33m\u001B[0m\u001B[0m\n\u001B[0;32m     26\u001B[0m \"\"\"\n\u001B[1;32m---> 27\u001B[1;33m \u001B[1;32mfrom\u001B[0m \u001B[1;33m.\u001B[0m \u001B[1;32mimport\u001B[0m \u001B[0mcg\u001B[0m\u001B[1;33m\u001B[0m\u001B[1;33m\u001B[0m\u001B[0m\n\u001B[0m\u001B[0;32m     28\u001B[0m \u001B[1;32mfrom\u001B[0m \u001B[1;33m.\u001B[0m \u001B[1;32mimport\u001B[0m \u001B[0mio\u001B[0m\u001B[1;33m\u001B[0m\u001B[1;33m\u001B[0m\u001B[0m\n\u001B[0;32m     29\u001B[0m \u001B[1;32mfrom\u001B[0m \u001B[1;33m.\u001B[0m \u001B[1;32mimport\u001B[0m \u001B[0mweights\u001B[0m\u001B[1;33m\u001B[0m\u001B[1;33m\u001B[0m\u001B[0m\n",
      "\u001B[1;32mc:\\users\\pedro\\.virtualenvs\\vietnam_model-znkxesgw\\lib\\site-packages\\libpysal\\cg\\__init__.py\u001B[0m in \u001B[0;36m<module>\u001B[1;34m\u001B[0m\n\u001B[0;32m      9\u001B[0m \u001B[1;32mfrom\u001B[0m \u001B[1;33m.\u001B[0m\u001B[0msphere\u001B[0m \u001B[1;32mimport\u001B[0m \u001B[1;33m*\u001B[0m\u001B[1;33m\u001B[0m\u001B[1;33m\u001B[0m\u001B[0m\n\u001B[0;32m     10\u001B[0m \u001B[1;32mfrom\u001B[0m \u001B[1;33m.\u001B[0m\u001B[0mvoronoi\u001B[0m \u001B[1;32mimport\u001B[0m \u001B[1;33m*\u001B[0m\u001B[1;33m\u001B[0m\u001B[1;33m\u001B[0m\u001B[0m\n\u001B[1;32m---> 11\u001B[1;33m \u001B[1;32mfrom\u001B[0m \u001B[1;33m.\u001B[0m\u001B[0malpha_shapes\u001B[0m \u001B[1;32mimport\u001B[0m \u001B[1;33m*\u001B[0m\u001B[1;33m\u001B[0m\u001B[1;33m\u001B[0m\u001B[0m\n\u001B[0m",
      "\u001B[1;32mc:\\users\\pedro\\.virtualenvs\\vietnam_model-znkxesgw\\lib\\site-packages\\libpysal\\cg\\alpha_shapes.py\u001B[0m in \u001B[0;36m<module>\u001B[1;34m\u001B[0m\n\u001B[0;32m     22\u001B[0m \u001B[1;33m\u001B[0m\u001B[0m\n\u001B[0;32m     23\u001B[0m \u001B[1;32mtry\u001B[0m\u001B[1;33m:\u001B[0m\u001B[1;33m\u001B[0m\u001B[1;33m\u001B[0m\u001B[0m\n\u001B[1;32m---> 24\u001B[1;33m     \u001B[1;32mimport\u001B[0m \u001B[0mpygeos\u001B[0m\u001B[1;33m\u001B[0m\u001B[1;33m\u001B[0m\u001B[0m\n\u001B[0m\u001B[0;32m     25\u001B[0m \u001B[1;33m\u001B[0m\u001B[0m\n\u001B[0;32m     26\u001B[0m     \u001B[0mHAS_PYGEOS\u001B[0m \u001B[1;33m=\u001B[0m \u001B[1;32mTrue\u001B[0m\u001B[1;33m\u001B[0m\u001B[1;33m\u001B[0m\u001B[0m\n",
      "\u001B[1;32mc:\\users\\pedro\\.virtualenvs\\vietnam_model-znkxesgw\\lib\\site-packages\\pygeos\\__init__.py\u001B[0m in \u001B[0;36m<module>\u001B[1;34m\u001B[0m\n\u001B[1;32m----> 1\u001B[1;33m \u001B[1;32mfrom\u001B[0m \u001B[1;33m.\u001B[0m\u001B[0mlib\u001B[0m \u001B[1;32mimport\u001B[0m \u001B[0mGEOSException\u001B[0m  \u001B[1;31m# NOQA\u001B[0m\u001B[1;33m\u001B[0m\u001B[1;33m\u001B[0m\u001B[0m\n\u001B[0m\u001B[0;32m      2\u001B[0m \u001B[1;32mfrom\u001B[0m \u001B[1;33m.\u001B[0m\u001B[0mlib\u001B[0m \u001B[1;32mimport\u001B[0m \u001B[0mGeometry\u001B[0m  \u001B[1;31m# NOQA\u001B[0m\u001B[1;33m\u001B[0m\u001B[1;33m\u001B[0m\u001B[0m\n\u001B[0;32m      3\u001B[0m \u001B[1;32mfrom\u001B[0m \u001B[1;33m.\u001B[0m\u001B[0mlib\u001B[0m \u001B[1;32mimport\u001B[0m \u001B[0mgeos_version\u001B[0m\u001B[1;33m,\u001B[0m \u001B[0mgeos_version_string\u001B[0m  \u001B[1;31m# NOQA\u001B[0m\u001B[1;33m\u001B[0m\u001B[1;33m\u001B[0m\u001B[0m\n\u001B[0;32m      4\u001B[0m \u001B[1;32mfrom\u001B[0m \u001B[1;33m.\u001B[0m\u001B[0mlib\u001B[0m \u001B[1;32mimport\u001B[0m \u001B[0mgeos_capi_version\u001B[0m\u001B[1;33m,\u001B[0m \u001B[0mgeos_capi_version_string\u001B[0m  \u001B[1;31m# NOQA\u001B[0m\u001B[1;33m\u001B[0m\u001B[1;33m\u001B[0m\u001B[0m\n\u001B[0;32m      5\u001B[0m \u001B[1;32mfrom\u001B[0m \u001B[1;33m.\u001B[0m\u001B[0mdecorators\u001B[0m \u001B[1;32mimport\u001B[0m \u001B[0mUnsupportedGEOSOperation\u001B[0m  \u001B[1;31m# NOQA\u001B[0m\u001B[1;33m\u001B[0m\u001B[1;33m\u001B[0m\u001B[0m\n",
      "\u001B[1;31mImportError\u001B[0m: DLL load failed: The specified procedure could not be found."
     ]
    }
   ],
   "source": [
    "from math import sqrt, ceil\n",
    "import geopandas as gpd\n",
    "from geopandas import sjoin\n",
    "from os.path import join\n",
    "import numpy as np\n",
    "import pandas as pd\n",
    "from sklearn.cluster import KMeans\n",
    "import libpysal\n",
    "import warnings\n",
    "from folders import lyr_fldr, model_fldr, model_file, hexbins_file, final_zoning"
   ]
  },
  {
   "cell_type": "code",
   "execution_count": null,
   "id": "1b5de092-6693-4dbe-8bfe-def19b9b2b1e",
   "metadata": {
    "pycharm": {
     "name": "#%%\n"
    }
   },
   "outputs": [],
   "source": [
    "hexbins_file = join(lyr_fldr, 'hexbins_small.gpkg')"
   ]
  },
  {
   "cell_type": "markdown",
   "id": "9cde5934-6614-48a5-895c-893c96544d36",
   "metadata": {
    "pycharm": {
     "name": "#%% md\n"
    }
   },
   "source": [
    "# Zone size parameters"
   ]
  },
  {
   "cell_type": "code",
   "execution_count": null,
   "id": "144f9542-ef27-493b-869e-93bbe06070eb",
   "metadata": {
    "pycharm": {
     "name": "#%%\n"
    }
   },
   "outputs": [],
   "source": [
    "max_zone_size = 10000 # No zone can have more than 50,000 people\n",
    "min_zone_size = 500 # No zone can have less than 500 people"
   ]
  },
  {
   "cell_type": "markdown",
   "id": "8cab7952-bcb9-4bdb-9859-24308f23063b",
   "metadata": {
    "pycharm": {
     "name": "#%% md\n"
    }
   },
   "source": [
    "# Input data"
   ]
  },
  {
   "cell_type": "code",
   "execution_count": null,
   "id": "signed-integration",
   "metadata": {
    "pycharm": {
     "name": "#%%\n"
    }
   },
   "outputs": [],
   "source": [
    "%%time\n",
    "hexbins = gpd.read_file(hexbins_file, layer='hexbins', driver='gpkg')"
   ]
  },
  {
   "cell_type": "markdown",
   "id": "9c77f96a-e422-4444-93cd-0545098a6706",
   "metadata": {
    "pycharm": {
     "name": "#%% md\n"
    }
   },
   "source": [
    "# Initializes centroids zoned by district\n",
    "It could've (should've) been by distritict, but let's try to face the computational challenge!"
   ]
  },
  {
   "cell_type": "code",
   "execution_count": null,
   "id": "a6445dcb-21a0-45c7-92e7-aade0fd53cf8",
   "metadata": {
    "pycharm": {
     "name": "#%%\n"
    }
   },
   "outputs": [],
   "source": [
    "%%time\n",
    "hexbins['zone_id'] = -1\n",
    "list_districts = list(hexbins.district.unique())\n",
    "data_store = []\n",
    "master_zone_id = 1\n",
    "for i, district in enumerate(list_districts):\n",
    "    df = hexbins[hexbins.district==district].copy()\n",
    "    df.loc[:, 'zone_id'] = master_zone_id + i\n",
    "    data_store.append(df[['hex_id', 'x', 'y', 'population', 'province', 'district', 'zone_id']])"
   ]
  },
  {
   "cell_type": "markdown",
   "id": "f2a77a52-4ae6-4a30-9f0f-cb482d741ef0",
   "metadata": {
    "pycharm": {
     "name": "#%% md\n"
    }
   },
   "source": [
    "# And progressively break them"
   ]
  },
  {
   "cell_type": "code",
   "execution_count": null,
   "id": "0772087d-a887-4b78-9902-a2837f6b5102",
   "metadata": {
    "tags": [],
    "pycharm": {
     "name": "#%%\n"
    }
   },
   "outputs": [],
   "source": [
    "%%time\n",
    "for cnt, df in enumerate(data_store):\n",
    "    t = df.groupby(['zone_id']).sum()\n",
    "    t = t.loc[t.population>max_zone_size]\n",
    "    zone_sizes = t['population'].to_dict()\n",
    "    zones_to_break = len(zone_sizes)\n",
    "    counter = 0\n",
    "    threshold = 500\n",
    "    thrsh = 500\n",
    "    if cnt % 25 == 0:\n",
    "        print(f'Done {cnt}/{len(data_store)} districts')\n",
    "    while zones_to_break > 0:\n",
    "        counter += 1\n",
    "        zone_to_analyze = min(zone_sizes)\n",
    "        zone_pop = zone_sizes.pop(zone_to_analyze)\n",
    "        zones_to_break -= 1\n",
    "        if zone_pop < max_zone_size:\n",
    "            continue\n",
    "        fltr = df.zone_id==zone_to_analyze\n",
    "        segments = max(2, ceil(sqrt(zone_pop/max_zone_size)))\n",
    "        prov_pop = df.loc[fltr, :]\n",
    "        segments = min( prov_pop.shape[0], segments)\n",
    "        if prov_pop.shape[0] < 2:\n",
    "            continue\n",
    "        \n",
    "        kmeans = KMeans(n_clusters=segments, random_state=0)\n",
    "        centr_results = kmeans.fit_predict(X=prov_pop[['x', 'y']].values, sample_weight=prov_pop.population.values)\n",
    "        df.loc[fltr, 'zone_id'] = centr_results[:] + master_zone_id\n",
    "\n",
    "        t = df.groupby(['zone_id']).sum()\n",
    "        ready= t.loc[t.population<=max_zone_size].shape[0]\n",
    "        avg = int(np.nansum(t.loc[t.population<=max_zone_size, 'population'])/max(1, ready))\n",
    "        t = t.loc[t.population>max_zone_size]\n",
    "        zone_sizes = t['population'].to_dict()\n",
    "        zones_to_break = len(zone_sizes)\n",
    "        master_zone_id += segments + 1\n",
    "        if counter % 50 == 0:\n",
    "            print(f'Queue for analysis: {zones_to_break} (Done: {ready} ({avg} people/zone))')"
   ]
  },
  {
   "cell_type": "code",
   "execution_count": null,
   "id": "4caeabc8-0a0c-4615-afc4-94a8ecd15a3e",
   "metadata": {
    "tags": [],
    "pycharm": {
     "name": "#%%\n"
    }
   },
   "outputs": [],
   "source": [
    "%%time\n",
    "df = pd.concat(data_store)[['hex_id', 'zone_id']]\n",
    "df = pd.merge(hexbins[['hex_id', 'x', 'y', 'population', 'province', 'district', 'geometry']], df, on='hex_id')\n",
    "df = gpd.GeoDataFrame(df[['hex_id', 'x', 'y', 'population', 'province', 'district', 'zone_id']], geometry=df['geometry'])"
   ]
  },
  {
   "cell_type": "code",
   "execution_count": null,
   "id": "857095f8-060e-459a-93e4-b530870373bf",
   "metadata": {
    "pycharm": {
     "name": "#%%\n"
    }
   },
   "outputs": [],
   "source": [
    "%%time\n",
    "zoning=df.dissolve(by='zone_id')[['province', 'district', 'geometry']]\n",
    "pop_total = df[['zone_id', 'population']].groupby(['zone_id']).sum()['population']\n",
    "zoning = zoning.join(pop_total)"
   ]
  },
  {
   "cell_type": "markdown",
   "id": "93806485-c5f8-47a8-ba64-8233ac724696",
   "metadata": {
    "pycharm": {
     "name": "#%% md\n"
    }
   },
   "source": [
    "# Break non-contiguous zones"
   ]
  },
  {
   "cell_type": "code",
   "execution_count": null,
   "id": "2ac347b3-5639-4383-9c44-23210475dcdd",
   "metadata": {
    "tags": [],
    "pycharm": {
     "name": "#%%\n"
    }
   },
   "outputs": [],
   "source": [
    "%%time\n",
    "while zoning[zoning.geometry.type=='MultiPolygon'].shape[0] > 0:\n",
    "    for zid, record in zoning[zoning.geometry.type=='MultiPolygon'].iterrows():\n",
    "        zone_df = df[df.zone_id==zid]\n",
    "        with warnings.catch_warnings():\n",
    "            adj_mtx = libpysal.weights.Queen.from_dataframe(zone_df)\n",
    "        island_pop = {isl:zone_df[adj_mtx.component_labels==isl].population.sum() for isl in islands}\n",
    "        islands =  np.unique(adj_mtx.component_labels)\n",
    "        max_island = max(island_pop.values())\n",
    "        remove_islands = [k for k, v in island_pop.items() if v < max_island]\n",
    "        for rmv in remove_islands:\n",
    "            island_hexbins = zone_df[adj_mtx.component_labels == rmv].hex_id\n",
    "            if zone_df[df.hex_id.isin(island_hexbins)].population.sum() > min_zone_size:\n",
    "                df.loc[df.hex_id.isin(island_hexbins),'zone_id'] = master_zone_id\n",
    "                master_zone_id += 1\n",
    "                continue\n",
    "\n",
    "            closeby = []\n",
    "            for island_geo in zone_df[adj_mtx.component_labels == rmv].geometry:\n",
    "                closeby.extend([x for x in df.sindex.nearest(island_geo.bounds, 6)])\n",
    "            closeby = list(set(closeby))\n",
    "            if not closeby:\n",
    "                continue\n",
    "            adjacent = df.loc[df.index.isin(closeby),:]\n",
    "            available = [x for x in adjacent.zone_id.unique() if x != zid]\n",
    "\n",
    "            same_area = [av for av in available if adjacent.loc[adjacent.zone_id==av, 'district'].values[0] == record.district]\n",
    "            if same_area:\n",
    "                df.loc[df.hex_id.isin(island_hexbins),'zone_id'] = same_area[0]\n",
    "            else:\n",
    "                counts = adjacent.groupby(['zone_id']).count()\n",
    "                counts = list(counts[counts.hex_id==counts.hex_id.max()].index)\n",
    "                counts = [x for x in counts if x != zid][0]\n",
    "                df.loc[df.hex_id.isin(island_hexbins), 'district'] = adjacent.loc[adjacent.zone_id==counts, 'district'].values[0]\n",
    "                df.loc[df.hex_id.isin(island_hexbins), 'province'] = adjacent.loc[adjacent.zone_id==counts, 'province'].values[0]\n",
    "                df.loc[df.hex_id.isin(island_hexbins),'zone_id'] = counts\n",
    "\n",
    "    zoning=df.dissolve(by='zone_id')[['province', 'district', 'geometry']]\n",
    "    pop_total = df[['zone_id', 'population']].groupby(['zone_id']).sum()['population']\n",
    "    zoning = zoning.join(pop_total)"
   ]
  },
  {
   "cell_type": "code",
   "execution_count": null,
   "id": "ce41d6a9-bb35-4b88-b207-899f4ccc1bbe",
   "metadata": {
    "pycharm": {
     "name": "#%%\n"
    }
   },
   "outputs": [],
   "source": [
    "zoning=df.dissolve(by='zone_id')[['province', 'district', 'geometry']]\n",
    "pop_total = df[['zone_id', 'population']].groupby(['zone_id']).sum()['population']\n",
    "zoning = zoning.join(pop_total)"
   ]
  },
  {
   "cell_type": "markdown",
   "id": "d46f9519-30a7-4b48-ad02-95204dd37745",
   "metadata": {
    "pycharm": {
     "name": "#%% md\n"
    }
   },
   "source": [
    "# Saves results"
   ]
  },
  {
   "cell_type": "code",
   "execution_count": null,
   "id": "30eba750-24f6-4fdc-a0de-274c3db1ed95",
   "metadata": {
    "pycharm": {
     "name": "#%%\n"
    }
   },
   "outputs": [],
   "source": [
    "%%time\n",
    "zoning['final_zone_id'] = np.arange(zoning.shape[0]) + 1\n",
    "zoning = gpd.GeoDataFrame(zoning[['final_zone_id', 'province', 'district', 'population']], geometry=zoning['geometry'])\n",
    "zoning.to_file(final_zoning, driver='GPKG')"
   ]
  },
  {
   "cell_type": "code",
   "execution_count": null,
   "id": "39d33745-2c3a-41c7-9b3b-03225ac9b57f",
   "metadata": {
    "pycharm": {
     "name": "#%%\n"
    }
   },
   "outputs": [],
   "source": [
    "# %%time\n",
    "df.to_file(join(lyr_fldr, 'hexbins_with_zone.gpkg'), driver='GPKG')"
   ]
  }
 ],
 "metadata": {
  "kernelspec": {
   "display_name": "Python 3 (ipykernel)",
   "language": "python",
   "name": "python3"
  },
  "language_info": {
   "codemirror_mode": {
    "name": "ipython",
    "version": 3
   },
   "file_extension": ".py",
   "mimetype": "text/x-python",
   "name": "python",
   "nbconvert_exporter": "python",
   "pygments_lexer": "ipython3",
   "version": "3.8.8"
  }
 },
 "nbformat": 4,
 "nbformat_minor": 5
}