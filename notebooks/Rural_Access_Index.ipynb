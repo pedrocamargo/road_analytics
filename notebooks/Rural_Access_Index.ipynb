{
 "cells": [
  {
   "cell_type": "code",
   "execution_count": 1,
   "id": "cb5b3b96-8e0d-4135-b09a-cda2859dac96",
   "metadata": {
    "execution": {
     "iopub.execute_input": "2022-05-20T20:19:39.614081Z",
     "iopub.status.busy": "2022-05-20T20:19:39.611801Z",
     "iopub.status.idle": "2022-05-20T20:19:40.733426Z",
     "shell.execute_reply": "2022-05-20T20:19:40.732714Z",
     "shell.execute_reply.started": "2022-05-20T20:19:39.613989Z"
    },
    "tags": []
   },
   "outputs": [],
   "source": [
    "import pandas as pd\n",
    "import numpy as np\n",
    "from aequilibrae import Project\n",
    "import sqlite3\n",
    "from os.path import isdir, join\n",
    "\n",
    "from functions.load_hexbins import load_hexbins"
   ]
  },
  {
   "cell_type": "code",
   "execution_count": 2,
   "id": "902cb4a8-865c-467f-b931-16ed0faed007",
   "metadata": {
    "execution": {
     "iopub.execute_input": "2022-05-20T20:19:40.961132Z",
     "iopub.status.busy": "2022-05-20T20:19:40.960649Z",
     "iopub.status.idle": "2022-05-20T20:19:40.965460Z",
     "shell.execute_reply": "2022-05-20T20:19:40.964402Z",
     "shell.execute_reply.started": "2022-05-20T20:19:40.961104Z"
    },
    "tags": []
   },
   "outputs": [],
   "source": [
    "model_place = \"Armenia\""
   ]
  },
  {
   "cell_type": "code",
   "execution_count": 3,
   "id": "ecc89254-2ff5-4621-a118-9fd8562f3f9d",
   "metadata": {
    "execution": {
     "iopub.execute_input": "2022-05-20T20:19:41.640376Z",
     "iopub.status.busy": "2022-05-20T20:19:41.639990Z",
     "iopub.status.idle": "2022-05-20T20:19:41.645052Z",
     "shell.execute_reply": "2022-05-20T20:19:41.644237Z",
     "shell.execute_reply.started": "2022-05-20T20:19:41.640349Z"
    },
    "tags": []
   },
   "outputs": [
    {
     "name": "stdout",
     "output_type": "stream",
     "text": [
      "/home/jovyan/workspace/road_analytics/Armenia\n"
     ]
    }
   ],
   "source": [
    "folder = f'/home/jovyan/workspace/road_analytics/{model_place}'\n",
    "\n",
    "if isdir(folder):\n",
    "    print(folder)"
   ]
  },
  {
   "cell_type": "code",
   "execution_count": 4,
   "id": "1a923ae9-8f01-46af-993c-2ba7e363a44e",
   "metadata": {
    "execution": {
     "iopub.execute_input": "2022-05-20T20:19:42.257482Z",
     "iopub.status.busy": "2022-05-20T20:19:42.256906Z",
     "iopub.status.idle": "2022-05-20T20:19:43.303757Z",
     "shell.execute_reply": "2022-05-20T20:19:43.303171Z",
     "shell.execute_reply.started": "2022-05-20T20:19:42.257356Z"
    },
    "tags": []
   },
   "outputs": [],
   "source": [
    "project = Project()\n",
    "project.open(folder)"
   ]
  },
  {
   "cell_type": "markdown",
   "id": "2b3d5204-7166-4c07-b201-376feb6aac80",
   "metadata": {},
   "source": [
    "---\n",
    "### Display a map showing the population that lives up to 2km from a permanent road\n",
    "\n",
    "- [ ] Select country's rural area\n",
    "- [ ] Which roads are in country's rural area\n",
    "- [ ] From population grid near each road, how many pepole are in this buffer area"
   ]
  },
  {
   "cell_type": "code",
   "execution_count": 5,
   "id": "a1b5f4f9-cdc7-49ea-9cd8-e2a16e0fc58f",
   "metadata": {
    "execution": {
     "iopub.execute_input": "2022-05-20T20:19:46.317302Z",
     "iopub.status.busy": "2022-05-20T20:19:46.316807Z",
     "iopub.status.idle": "2022-05-20T20:20:32.440907Z",
     "shell.execute_reply": "2022-05-20T20:20:32.440331Z",
     "shell.execute_reply.started": "2022-05-20T20:19:46.317266Z"
    },
    "tags": []
   },
   "outputs": [],
   "source": [
    "hexbins = load_hexbins(project)"
   ]
  },
  {
   "cell_type": "markdown",
   "id": "d1962130-c30d-4a68-9c78-434b4cf90191",
   "metadata": {
    "execution": {
     "iopub.execute_input": "2022-05-20T20:13:52.037962Z",
     "iopub.status.busy": "2022-05-20T20:13:52.036022Z"
    }
   },
   "source": [
    "hexbins.plot(column='country_subdivision', legend=True, legend_kwds={'loc': 'lower right'}, figsize=(10,8))"
   ]
  },
  {
   "cell_type": "code",
   "execution_count": 6,
   "id": "f0d7c693-bb4d-4c6f-b01a-9e3ec49bc391",
   "metadata": {
    "execution": {
     "iopub.execute_input": "2022-05-20T20:20:34.702501Z",
     "iopub.status.busy": "2022-05-20T20:20:34.701742Z",
     "iopub.status.idle": "2022-05-20T20:20:40.134027Z",
     "shell.execute_reply": "2022-05-20T20:20:40.133269Z",
     "shell.execute_reply.started": "2022-05-20T20:20:34.702326Z"
    }
   },
   "outputs": [],
   "source": [
    "links = project.network.links.data\n",
    "links = links[links.modes.str.contains('c')]"
   ]
  },
  {
   "cell_type": "code",
   "execution_count": null,
   "id": "02d9ff7b-5e42-4f55-8809-e269ca62711e",
   "metadata": {
    "tags": []
   },
   "outputs": [],
   "source": []
  },
  {
   "cell_type": "code",
   "execution_count": 10,
   "id": "2f2a2004-daf6-480a-87d1-b661ca233492",
   "metadata": {
    "execution": {
     "iopub.execute_input": "2022-05-20T20:53:01.258403Z",
     "iopub.status.busy": "2022-05-20T20:53:01.258011Z",
     "iopub.status.idle": "2022-05-20T20:53:01.264154Z",
     "shell.execute_reply": "2022-05-20T20:53:01.262934Z",
     "shell.execute_reply.started": "2022-05-20T20:53:01.258377Z"
    }
   },
   "outputs": [],
   "source": [
    "from functions.country_borders import get_country_borders"
   ]
  },
  {
   "cell_type": "code",
   "execution_count": 12,
   "id": "a1147f70-7ccf-43c0-b9f8-6fa2857d6cd0",
   "metadata": {
    "execution": {
     "iopub.execute_input": "2022-05-20T20:53:33.746463Z",
     "iopub.status.busy": "2022-05-20T20:53:33.745540Z",
     "iopub.status.idle": "2022-05-20T20:53:35.797698Z",
     "shell.execute_reply": "2022-05-20T20:53:35.797098Z",
     "shell.execute_reply.started": "2022-05-20T20:53:33.746431Z"
    },
    "tags": []
   },
   "outputs": [],
   "source": [
    "country_borders = get_country_borders(model_place)"
   ]
  },
  {
   "cell_type": "code",
   "execution_count": 15,
   "id": "7a077436-6579-4536-a63a-ed82dc2741e4",
   "metadata": {
    "execution": {
     "iopub.execute_input": "2022-05-20T20:54:17.934090Z",
     "iopub.status.busy": "2022-05-20T20:54:17.933171Z",
     "iopub.status.idle": "2022-05-20T20:54:17.937674Z",
     "shell.execute_reply": "2022-05-20T20:54:17.936988Z",
     "shell.execute_reply.started": "2022-05-20T20:54:17.934049Z"
    }
   },
   "outputs": [],
   "source": [
    "import geopandas as gpd"
   ]
  },
  {
   "cell_type": "code",
   "execution_count": 22,
   "id": "cb6e7ebc-7e13-4230-ad8f-e68056df342d",
   "metadata": {
    "execution": {
     "iopub.execute_input": "2022-05-20T20:58:19.619803Z",
     "iopub.status.busy": "2022-05-20T20:58:19.619419Z",
     "iopub.status.idle": "2022-05-20T20:58:19.827196Z",
     "shell.execute_reply": "2022-05-20T20:58:19.825554Z",
     "shell.execute_reply.started": "2022-05-20T20:58:19.619779Z"
    },
    "tags": []
   },
   "outputs": [
    {
     "ename": "DriverError",
     "evalue": "Unable to open /home/jovyan/workspace/road_analytics/model/urban_areas/global_urban_extent.shx or /home/jovyan/workspace/road_analytics/model/urban_areas/global_urban_extent.SHX. Set SHAPE_RESTORE_SHX config option to YES to restore or create it.",
     "output_type": "error",
     "traceback": [
      "\u001b[0;31m---------------------------------------------------------------------------\u001b[0m",
      "\u001b[0;31mCPLE_OpenFailedError\u001b[0m                      Traceback (most recent call last)",
      "File \u001b[0;32mfiona/_shim.pyx:83\u001b[0m, in \u001b[0;36mfiona._shim.gdal_open_vector\u001b[0;34m()\u001b[0m\n",
      "File \u001b[0;32mfiona/_err.pyx:291\u001b[0m, in \u001b[0;36mfiona._err.exc_wrap_pointer\u001b[0;34m()\u001b[0m\n",
      "\u001b[0;31mCPLE_OpenFailedError\u001b[0m: Unable to open /home/jovyan/workspace/road_analytics/model/urban_areas/global_urban_extent.shx or /home/jovyan/workspace/road_analytics/model/urban_areas/global_urban_extent.SHX. Set SHAPE_RESTORE_SHX config option to YES to restore or create it.",
      "\nDuring handling of the above exception, another exception occurred:\n",
      "\u001b[0;31mDriverError\u001b[0m                               Traceback (most recent call last)",
      "Input \u001b[0;32mIn [22]\u001b[0m, in \u001b[0;36m<cell line: 3>\u001b[0;34m()\u001b[0m\n\u001b[1;32m      1\u001b[0m path \u001b[38;5;241m=\u001b[39m \u001b[38;5;124mf\u001b[39m\u001b[38;5;124m'\u001b[39m\u001b[38;5;124m/home/jovyan/workspace/road_analytics/model/urban_areas/global_urban_extent.shp\u001b[39m\u001b[38;5;124m'\u001b[39m\n\u001b[0;32m----> 3\u001b[0m urban_areas \u001b[38;5;241m=\u001b[39m \u001b[43mgpd\u001b[49m\u001b[38;5;241;43m.\u001b[39;49m\u001b[43mread_file\u001b[49m\u001b[43m(\u001b[49m\u001b[43mpath\u001b[49m\u001b[43m,\u001b[49m\u001b[43m \u001b[49m\u001b[43mmask\u001b[49m\u001b[38;5;241;43m=\u001b[39;49m\u001b[43mcountry_borders\u001b[49m\u001b[43m)\u001b[49m\n",
      "File \u001b[0;32m/srv/conda/envs/saturn/lib/python3.9/site-packages/geopandas/io/file.py:201\u001b[0m, in \u001b[0;36m_read_file\u001b[0;34m(filename, bbox, mask, rows, **kwargs)\u001b[0m\n\u001b[1;32m    198\u001b[0m     reader \u001b[38;5;241m=\u001b[39m fiona\u001b[38;5;241m.\u001b[39mopen\n\u001b[1;32m    200\u001b[0m \u001b[38;5;28;01mwith\u001b[39;00m fiona_env():\n\u001b[0;32m--> 201\u001b[0m     \u001b[38;5;28;01mwith\u001b[39;00m \u001b[43mreader\u001b[49m\u001b[43m(\u001b[49m\u001b[43mpath_or_bytes\u001b[49m\u001b[43m,\u001b[49m\u001b[43m \u001b[49m\u001b[38;5;241;43m*\u001b[39;49m\u001b[38;5;241;43m*\u001b[39;49m\u001b[43mkwargs\u001b[49m\u001b[43m)\u001b[49m \u001b[38;5;28;01mas\u001b[39;00m features:\n\u001b[1;32m    202\u001b[0m \n\u001b[1;32m    203\u001b[0m         \u001b[38;5;66;03m# In a future Fiona release the crs attribute of features will\u001b[39;00m\n\u001b[1;32m    204\u001b[0m         \u001b[38;5;66;03m# no longer be a dict, but will behave like a dict. So this should\u001b[39;00m\n\u001b[1;32m    205\u001b[0m         \u001b[38;5;66;03m# be forwards compatible\u001b[39;00m\n\u001b[1;32m    206\u001b[0m         crs \u001b[38;5;241m=\u001b[39m (\n\u001b[1;32m    207\u001b[0m             features\u001b[38;5;241m.\u001b[39mcrs[\u001b[38;5;124m\"\u001b[39m\u001b[38;5;124minit\u001b[39m\u001b[38;5;124m\"\u001b[39m]\n\u001b[1;32m    208\u001b[0m             \u001b[38;5;28;01mif\u001b[39;00m features\u001b[38;5;241m.\u001b[39mcrs \u001b[38;5;129;01mand\u001b[39;00m \u001b[38;5;124m\"\u001b[39m\u001b[38;5;124minit\u001b[39m\u001b[38;5;124m\"\u001b[39m \u001b[38;5;129;01min\u001b[39;00m features\u001b[38;5;241m.\u001b[39mcrs\n\u001b[1;32m    209\u001b[0m             \u001b[38;5;28;01melse\u001b[39;00m features\u001b[38;5;241m.\u001b[39mcrs_wkt\n\u001b[1;32m    210\u001b[0m         )\n\u001b[1;32m    212\u001b[0m         \u001b[38;5;66;03m# handle loading the bounding box\u001b[39;00m\n",
      "File \u001b[0;32m/srv/conda/envs/saturn/lib/python3.9/site-packages/fiona/env.py:408\u001b[0m, in \u001b[0;36mensure_env_with_credentials.<locals>.wrapper\u001b[0;34m(*args, **kwargs)\u001b[0m\n\u001b[1;32m    405\u001b[0m \u001b[38;5;129m@wraps\u001b[39m(f)\n\u001b[1;32m    406\u001b[0m \u001b[38;5;28;01mdef\u001b[39;00m \u001b[38;5;21mwrapper\u001b[39m(\u001b[38;5;241m*\u001b[39margs, \u001b[38;5;241m*\u001b[39m\u001b[38;5;241m*\u001b[39mkwargs):\n\u001b[1;32m    407\u001b[0m     \u001b[38;5;28;01mif\u001b[39;00m local\u001b[38;5;241m.\u001b[39m_env:\n\u001b[0;32m--> 408\u001b[0m         \u001b[38;5;28;01mreturn\u001b[39;00m \u001b[43mf\u001b[49m\u001b[43m(\u001b[49m\u001b[38;5;241;43m*\u001b[39;49m\u001b[43margs\u001b[49m\u001b[43m,\u001b[49m\u001b[43m \u001b[49m\u001b[38;5;241;43m*\u001b[39;49m\u001b[38;5;241;43m*\u001b[39;49m\u001b[43mkwargs\u001b[49m\u001b[43m)\u001b[49m\n\u001b[1;32m    409\u001b[0m     \u001b[38;5;28;01melse\u001b[39;00m:\n\u001b[1;32m    410\u001b[0m         \u001b[38;5;28;01mif\u001b[39;00m \u001b[38;5;28misinstance\u001b[39m(args[\u001b[38;5;241m0\u001b[39m], \u001b[38;5;28mstr\u001b[39m):\n",
      "File \u001b[0;32m/srv/conda/envs/saturn/lib/python3.9/site-packages/fiona/__init__.py:264\u001b[0m, in \u001b[0;36mopen\u001b[0;34m(fp, mode, driver, schema, crs, encoding, layer, vfs, enabled_drivers, crs_wkt, **kwargs)\u001b[0m\n\u001b[1;32m    261\u001b[0m     path \u001b[38;5;241m=\u001b[39m parse_path(fp)\n\u001b[1;32m    263\u001b[0m \u001b[38;5;28;01mif\u001b[39;00m mode \u001b[38;5;129;01min\u001b[39;00m (\u001b[38;5;124m'\u001b[39m\u001b[38;5;124ma\u001b[39m\u001b[38;5;124m'\u001b[39m, \u001b[38;5;124m'\u001b[39m\u001b[38;5;124mr\u001b[39m\u001b[38;5;124m'\u001b[39m):\n\u001b[0;32m--> 264\u001b[0m     c \u001b[38;5;241m=\u001b[39m \u001b[43mCollection\u001b[49m\u001b[43m(\u001b[49m\u001b[43mpath\u001b[49m\u001b[43m,\u001b[49m\u001b[43m \u001b[49m\u001b[43mmode\u001b[49m\u001b[43m,\u001b[49m\u001b[43m \u001b[49m\u001b[43mdriver\u001b[49m\u001b[38;5;241;43m=\u001b[39;49m\u001b[43mdriver\u001b[49m\u001b[43m,\u001b[49m\u001b[43m \u001b[49m\u001b[43mencoding\u001b[49m\u001b[38;5;241;43m=\u001b[39;49m\u001b[43mencoding\u001b[49m\u001b[43m,\u001b[49m\n\u001b[1;32m    265\u001b[0m \u001b[43m                   \u001b[49m\u001b[43mlayer\u001b[49m\u001b[38;5;241;43m=\u001b[39;49m\u001b[43mlayer\u001b[49m\u001b[43m,\u001b[49m\u001b[43m \u001b[49m\u001b[43menabled_drivers\u001b[49m\u001b[38;5;241;43m=\u001b[39;49m\u001b[43menabled_drivers\u001b[49m\u001b[43m,\u001b[49m\u001b[43m \u001b[49m\u001b[38;5;241;43m*\u001b[39;49m\u001b[38;5;241;43m*\u001b[39;49m\u001b[43mkwargs\u001b[49m\u001b[43m)\u001b[49m\n\u001b[1;32m    266\u001b[0m \u001b[38;5;28;01melif\u001b[39;00m mode \u001b[38;5;241m==\u001b[39m \u001b[38;5;124m'\u001b[39m\u001b[38;5;124mw\u001b[39m\u001b[38;5;124m'\u001b[39m:\n\u001b[1;32m    267\u001b[0m     \u001b[38;5;28;01mif\u001b[39;00m schema:\n\u001b[1;32m    268\u001b[0m         \u001b[38;5;66;03m# Make an ordered dict of schema properties.\u001b[39;00m\n",
      "File \u001b[0;32m/srv/conda/envs/saturn/lib/python3.9/site-packages/fiona/collection.py:162\u001b[0m, in \u001b[0;36mCollection.__init__\u001b[0;34m(self, path, mode, driver, schema, crs, encoding, layer, vsi, archive, enabled_drivers, crs_wkt, ignore_fields, ignore_geometry, **kwargs)\u001b[0m\n\u001b[1;32m    160\u001b[0m \u001b[38;5;28;01mif\u001b[39;00m \u001b[38;5;28mself\u001b[39m\u001b[38;5;241m.\u001b[39mmode \u001b[38;5;241m==\u001b[39m \u001b[38;5;124m'\u001b[39m\u001b[38;5;124mr\u001b[39m\u001b[38;5;124m'\u001b[39m:\n\u001b[1;32m    161\u001b[0m     \u001b[38;5;28mself\u001b[39m\u001b[38;5;241m.\u001b[39msession \u001b[38;5;241m=\u001b[39m Session()\n\u001b[0;32m--> 162\u001b[0m     \u001b[38;5;28;43mself\u001b[39;49m\u001b[38;5;241;43m.\u001b[39;49m\u001b[43msession\u001b[49m\u001b[38;5;241;43m.\u001b[39;49m\u001b[43mstart\u001b[49m\u001b[43m(\u001b[49m\u001b[38;5;28;43mself\u001b[39;49m\u001b[43m,\u001b[49m\u001b[43m \u001b[49m\u001b[38;5;241;43m*\u001b[39;49m\u001b[38;5;241;43m*\u001b[39;49m\u001b[43mkwargs\u001b[49m\u001b[43m)\u001b[49m\n\u001b[1;32m    163\u001b[0m \u001b[38;5;28;01melif\u001b[39;00m \u001b[38;5;28mself\u001b[39m\u001b[38;5;241m.\u001b[39mmode \u001b[38;5;129;01min\u001b[39;00m (\u001b[38;5;124m'\u001b[39m\u001b[38;5;124ma\u001b[39m\u001b[38;5;124m'\u001b[39m, \u001b[38;5;124m'\u001b[39m\u001b[38;5;124mw\u001b[39m\u001b[38;5;124m'\u001b[39m):\n\u001b[1;32m    164\u001b[0m     \u001b[38;5;28mself\u001b[39m\u001b[38;5;241m.\u001b[39msession \u001b[38;5;241m=\u001b[39m WritingSession()\n",
      "File \u001b[0;32mfiona/ogrext.pyx:540\u001b[0m, in \u001b[0;36mfiona.ogrext.Session.start\u001b[0;34m()\u001b[0m\n",
      "File \u001b[0;32mfiona/_shim.pyx:90\u001b[0m, in \u001b[0;36mfiona._shim.gdal_open_vector\u001b[0;34m()\u001b[0m\n",
      "\u001b[0;31mDriverError\u001b[0m: Unable to open /home/jovyan/workspace/road_analytics/model/urban_areas/global_urban_extent.shx or /home/jovyan/workspace/road_analytics/model/urban_areas/global_urban_extent.SHX. Set SHAPE_RESTORE_SHX config option to YES to restore or create it."
     ]
    }
   ],
   "source": [
    "path = f'/home/jovyan/workspace/road_analytics/model/urban_areas/global_urban_extent.shp'\n",
    "\n",
    "urban_areas = gpd.read_file(path, mask=country_borders)"
   ]
  },
  {
   "cell_type": "code",
   "execution_count": null,
   "id": "4775249c-f09e-453d-8ca6-c035f0290f8c",
   "metadata": {},
   "outputs": [],
   "source": []
  }
 ],
 "metadata": {
  "kernelspec": {
   "display_name": "saturn (Python 3)",
   "language": "python",
   "name": "python3"
  },
  "language_info": {
   "codemirror_mode": {
    "name": "ipython",
    "version": 3
   },
   "file_extension": ".py",
   "mimetype": "text/x-python",
   "name": "python",
   "nbconvert_exporter": "python",
   "pygments_lexer": "ipython3",
   "version": "3.9.9"
  }
 },
 "nbformat": 4,
 "nbformat_minor": 5
}
