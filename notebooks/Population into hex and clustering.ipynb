{
 "cells": [
  {
   "cell_type": "code",
   "execution_count": 1,
   "id": "3a12d8dd-c525-4c3c-9a09-3bd4907865ef",
   "metadata": {
    "execution": {
     "iopub.execute_input": "2022-05-19T00:05:04.478026Z",
     "iopub.status.busy": "2022-05-19T00:05:04.475612Z",
     "iopub.status.idle": "2022-05-19T00:05:04.489868Z",
     "shell.execute_reply": "2022-05-19T00:05:04.488821Z",
     "shell.execute_reply.started": "2022-05-19T00:05:04.477906Z"
    },
    "tags": []
   },
   "outputs": [],
   "source": [
    "#pip install libpysal==4.5"
   ]
  },
  {
   "cell_type": "code",
   "execution_count": 2,
   "id": "b364893e-9478-4f8b-8444-93409b528fd0",
   "metadata": {
    "execution": {
     "iopub.execute_input": "2022-05-19T00:05:04.498252Z",
     "iopub.status.busy": "2022-05-19T00:05:04.497540Z",
     "iopub.status.idle": "2022-05-19T00:05:05.681693Z",
     "shell.execute_reply": "2022-05-19T00:05:05.680944Z",
     "shell.execute_reply.started": "2022-05-19T00:05:04.498213Z"
    },
    "tags": []
   },
   "outputs": [],
   "source": [
    "from aequilibrae import Project\n",
    "\n",
    "from functions.hex_builder import hex_builder\n",
    "from functions.get_state_borders import state_borders\n",
    "from functions.export_states import export_states_to_project\n",
    "from functions.open_states import open_states\n",
    "from functions.remove_islands import remove_islands"
   ]
  },
  {
   "cell_type": "code",
   "execution_count": 3,
   "id": "ae6722ce-82ae-4c16-be27-1d191cfd7930",
   "metadata": {
    "execution": {
     "iopub.execute_input": "2022-05-19T00:05:05.683974Z",
     "iopub.status.busy": "2022-05-19T00:05:05.682702Z",
     "iopub.status.idle": "2022-05-19T00:05:05.687815Z",
     "shell.execute_reply": "2022-05-19T00:05:05.686973Z",
     "shell.execute_reply.started": "2022-05-19T00:05:05.683937Z"
    },
    "tags": []
   },
   "outputs": [],
   "source": [
    "model_fldr = r'/home/jovyan/workspace/road_analytics/Andorra'"
   ]
  },
  {
   "cell_type": "code",
   "execution_count": 4,
   "id": "7b86c871-0fe6-47a4-9f91-b51267f89a43",
   "metadata": {
    "execution": {
     "iopub.execute_input": "2022-05-19T00:05:05.689640Z",
     "iopub.status.busy": "2022-05-19T00:05:05.689152Z",
     "iopub.status.idle": "2022-05-19T00:05:05.950469Z",
     "shell.execute_reply": "2022-05-19T00:05:05.949720Z",
     "shell.execute_reply.started": "2022-05-19T00:05:05.689607Z"
    },
    "tags": []
   },
   "outputs": [],
   "source": [
    "project = Project()\n",
    "project.open(model_fldr)"
   ]
  },
  {
   "cell_type": "markdown",
   "id": "515cd0a5-2a24-4866-ab74-c3edae30471b",
   "metadata": {},
   "source": [
    "## Let's get all parishes from Andorra"
   ]
  },
  {
   "cell_type": "code",
   "execution_count": 5,
   "id": "6570d980-2eee-4fb7-9ff7-82c0d83a0331",
   "metadata": {
    "execution": {
     "iopub.execute_input": "2022-05-19T00:05:05.954441Z",
     "iopub.status.busy": "2022-05-19T00:05:05.953847Z",
     "iopub.status.idle": "2022-05-19T00:05:05.958478Z",
     "shell.execute_reply": "2022-05-19T00:05:05.957598Z",
     "shell.execute_reply.started": "2022-05-19T00:05:05.954403Z"
    },
    "tags": []
   },
   "outputs": [],
   "source": [
    "#If you have never analyzed the states in the project country, remove the commentary from the following lines\n",
    "\n",
    "#country_name = \"Andorra\"\n",
    "#states_wkb, dict_of_states = state_borders(country_name)\n",
    "#export_states_to_project(states, dict_of_states, project)"
   ]
  },
  {
   "cell_type": "code",
   "execution_count": 6,
   "id": "d98ddccf-151c-44ce-ae58-afad23e66583",
   "metadata": {
    "execution": {
     "iopub.execute_input": "2022-05-19T00:05:05.960397Z",
     "iopub.status.busy": "2022-05-19T00:05:05.959897Z",
     "iopub.status.idle": "2022-05-19T00:05:05.980907Z",
     "shell.execute_reply": "2022-05-19T00:05:05.980061Z",
     "shell.execute_reply.started": "2022-05-19T00:05:05.960349Z"
    },
    "tags": []
   },
   "outputs": [
    {
     "name": "stderr",
     "output_type": "stream",
     "text": [
      "/srv/conda/envs/saturn/lib/python3.9/site-packages/pandas/core/internals/construction.py:622: ShapelyDeprecationWarning: __len__ for multi-part geometries is deprecated and will be removed in Shapely 2.0. Check the length of the `geoms` property instead to get the  number of parts of a multi-part geometry.\n",
      "  raw_lengths.append(len(val))\n",
      "/srv/conda/envs/saturn/lib/python3.9/site-packages/pandas/core/construction.py:566: ShapelyDeprecationWarning: __len__ for multi-part geometries is deprecated and will be removed in Shapely 2.0. Check the length of the `geoms` property instead to get the  number of parts of a multi-part geometry.\n",
      "  data = list(data)\n",
      "/srv/conda/envs/saturn/lib/python3.9/site-packages/pandas/core/construction.py:566: ShapelyDeprecationWarning: Iteration over multi-part geometries is deprecated and will be removed in Shapely 2.0. Use the `geoms` property to access the constituent parts of a multi-part geometry.\n",
      "  data = list(data)\n"
     ]
    }
   ],
   "source": [
    "#Otherwise, if you have already exported states to your project, then continue here\n",
    "states = open_states(project)"
   ]
  },
  {
   "cell_type": "markdown",
   "id": "d85b4d5b-4497-491f-80c4-bbe7ca8698b3",
   "metadata": {},
   "source": [
    "## Let's get rid of all islands"
   ]
  },
  {
   "cell_type": "code",
   "execution_count": 7,
   "id": "4830171a-c55d-417a-a4d1-9b9802403170",
   "metadata": {
    "execution": {
     "iopub.execute_input": "2022-05-19T00:05:05.982782Z",
     "iopub.status.busy": "2022-05-19T00:05:05.982346Z",
     "iopub.status.idle": "2022-05-19T00:05:05.986267Z",
     "shell.execute_reply": "2022-05-19T00:05:05.985507Z",
     "shell.execute_reply.started": "2022-05-19T00:05:05.982747Z"
    },
    "tags": []
   },
   "outputs": [],
   "source": [
    "#If your country has many islands, and you want to get rid of them, then remove the comentary from the following line and insteade of states, you will continue\n",
    "#with no_islands\n",
    "#no_island = remove_islands(states)"
   ]
  },
  {
   "cell_type": "code",
   "execution_count": 8,
   "id": "d3d32498-fa0c-463a-a792-77c12b6de766",
   "metadata": {
    "execution": {
     "iopub.execute_input": "2022-05-19T00:05:05.988490Z",
     "iopub.status.busy": "2022-05-19T00:05:05.987543Z",
     "iopub.status.idle": "2022-05-19T00:05:06.049587Z",
     "shell.execute_reply": "2022-05-19T00:05:06.048787Z",
     "shell.execute_reply.started": "2022-05-19T00:05:05.988455Z"
    },
    "tags": []
   },
   "outputs": [],
   "source": [
    "#As Andorra has no islands, we can continue with states\n",
    "mlnd = states.to_crs('epsg:3405')\n",
    "minx, miny, maxx, maxy = mlnd.unary_union.bounds"
   ]
  },
  {
   "cell_type": "markdown",
   "id": "1d7652c8-6983-4144-b17f-69a65bb2b37c",
   "metadata": {},
   "source": [
    "## Create Hex Bins"
   ]
  },
  {
   "cell_type": "code",
   "execution_count": 9,
   "id": "a13d6b7c-edcc-4234-a8cf-d7c0bd6744c2",
   "metadata": {
    "execution": {
     "iopub.execute_input": "2022-05-19T00:05:06.051248Z",
     "iopub.status.busy": "2022-05-19T00:05:06.050670Z",
     "iopub.status.idle": "2022-05-19T00:05:17.757471Z",
     "shell.execute_reply": "2022-05-19T00:05:17.756584Z",
     "shell.execute_reply.started": "2022-05-19T00:05:06.051210Z"
    },
    "tags": []
   },
   "outputs": [
    {
     "name": "stdout",
     "output_type": "stream",
     "text": [
      "Expect 46,945 total hexbins for this bounding box\n",
      "CPU times: user 11.6 s, sys: 75.9 ms, total: 11.7 s\n",
      "Wall time: 11.7 s\n"
     ]
    }
   ],
   "source": [
    "%%time\n",
    "# size_parameter was determined empirically to not allow any hex bin with more than 10k people and be sufficiently small to allow for clusterings per district\n",
    "size_parameter = 200\n",
    "hexb = hex_builder(maxx, minx, maxy, miny, size_parameter, epsg=3405, coverage_area=mlnd)\n",
    "# hexb = hex_builder(maxx, minx, maxy, miny, size_parameter, epsg=4326)\n",
    "hexb.to_crs('epsg:4326', inplace=True)\n",
    "#hexb.shape[0]"
   ]
  },
  {
   "cell_type": "code",
   "execution_count": 10,
   "id": "d4e51405-bad6-4e49-8c9e-34e4d94d4ac1",
   "metadata": {
    "execution": {
     "iopub.execute_input": "2022-05-19T00:05:17.759342Z",
     "iopub.status.busy": "2022-05-19T00:05:17.758718Z",
     "iopub.status.idle": "2022-05-19T00:05:17.763689Z",
     "shell.execute_reply": "2022-05-19T00:05:17.762805Z",
     "shell.execute_reply.started": "2022-05-19T00:05:17.759295Z"
    },
    "tags": []
   },
   "outputs": [],
   "source": [
    "from functions.zones_with_location import zones_with_location"
   ]
  },
  {
   "cell_type": "code",
   "execution_count": 11,
   "id": "681960a9-6d9a-468f-9202-18571f66d5b1",
   "metadata": {
    "execution": {
     "iopub.execute_input": "2022-05-19T00:05:17.765411Z",
     "iopub.status.busy": "2022-05-19T00:05:17.764991Z",
     "iopub.status.idle": "2022-05-19T00:05:27.214112Z",
     "shell.execute_reply": "2022-05-19T00:05:27.213517Z",
     "shell.execute_reply.started": "2022-05-19T00:05:17.765355Z"
    },
    "tags": []
   },
   "outputs": [],
   "source": [
    "zones_locations = zones_with_location(hexb, states)"
   ]
  },
  {
   "cell_type": "markdown",
   "id": "c5535c34-26f8-4be0-95be-d1250697828c",
   "metadata": {},
   "source": [
    "## Compute the population for each HexBin"
   ]
  },
  {
   "cell_type": "code",
   "execution_count": 12,
   "id": "b2b779ce-9f54-4fd0-a67c-f1a563e35b38",
   "metadata": {
    "execution": {
     "iopub.execute_input": "2022-05-19T00:05:27.216226Z",
     "iopub.status.busy": "2022-05-19T00:05:27.215638Z",
     "iopub.status.idle": "2022-05-19T00:05:27.220404Z",
     "shell.execute_reply": "2022-05-19T00:05:27.219626Z",
     "shell.execute_reply.started": "2022-05-19T00:05:27.216189Z"
    },
    "tags": []
   },
   "outputs": [],
   "source": [
    "from functions.zones_with_pop import zones_with_population"
   ]
  },
  {
   "cell_type": "code",
   "execution_count": 13,
   "id": "aa00b31b-d40e-423a-b3b9-553272617593",
   "metadata": {
    "execution": {
     "iopub.execute_input": "2022-05-19T00:05:27.222588Z",
     "iopub.status.busy": "2022-05-19T00:05:27.221952Z",
     "iopub.status.idle": "2022-05-19T00:05:40.502705Z",
     "shell.execute_reply": "2022-05-19T00:05:40.502148Z",
     "shell.execute_reply.started": "2022-05-19T00:05:27.222555Z"
    },
    "tags": []
   },
   "outputs": [],
   "source": [
    "zones_pop = zones_with_population(model_fldr, zones_locations)"
   ]
  },
  {
   "cell_type": "markdown",
   "id": "624363a2-7c00-4029-a1f8-9c9866b3003f",
   "metadata": {},
   "source": [
    "## Saves the model hexbins"
   ]
  },
  {
   "cell_type": "code",
   "execution_count": 14,
   "id": "50a69c7e-1e7c-4027-8bae-306eed6cec65",
   "metadata": {
    "execution": {
     "iopub.execute_input": "2022-05-19T00:05:40.506861Z",
     "iopub.status.busy": "2022-05-19T00:05:40.506172Z",
     "iopub.status.idle": "2022-05-19T00:05:40.510896Z",
     "shell.execute_reply": "2022-05-19T00:05:40.510362Z",
     "shell.execute_reply.started": "2022-05-19T00:05:40.506819Z"
    },
    "tags": []
   },
   "outputs": [],
   "source": [
    "from functions.export_hex_population import export_hex_population"
   ]
  },
  {
   "cell_type": "code",
   "execution_count": 15,
   "id": "d6eb6e56-23b0-4eab-a23f-7c8705597875",
   "metadata": {
    "execution": {
     "iopub.execute_input": "2022-05-19T00:05:40.513309Z",
     "iopub.status.busy": "2022-05-19T00:05:40.512431Z",
     "iopub.status.idle": "2022-05-19T00:05:40.516512Z",
     "shell.execute_reply": "2022-05-19T00:05:40.515748Z",
     "shell.execute_reply.started": "2022-05-19T00:05:40.513269Z"
    },
    "tags": []
   },
   "outputs": [],
   "source": [
    "#If you have not previously saved your project, uncomment the line below\n",
    "#export_hex_population(project, zones_with_pop)"
   ]
  },
  {
   "cell_type": "markdown",
   "id": "90a2e32e-fc40-4af7-bee2-3dcf59d92daf",
   "metadata": {},
   "source": [
    "## Zone size parameters"
   ]
  },
  {
   "cell_type": "code",
   "execution_count": 16,
   "id": "b1757198-0a0b-48e1-85e2-ea39165f6997",
   "metadata": {
    "execution": {
     "iopub.execute_input": "2022-05-19T00:05:40.518925Z",
     "iopub.status.busy": "2022-05-19T00:05:40.518159Z",
     "iopub.status.idle": "2022-05-19T00:05:40.522639Z",
     "shell.execute_reply": "2022-05-19T00:05:40.521871Z",
     "shell.execute_reply.started": "2022-05-19T00:05:40.518888Z"
    },
    "tags": []
   },
   "outputs": [],
   "source": [
    "max_zone_size = 10000 # No zone can have more than 50,000 people\n",
    "min_zone_size = 500 # No zone can have less than 500 people"
   ]
  },
  {
   "cell_type": "markdown",
   "id": "00fe513a-ab1f-4951-b8bc-33eab90c2647",
   "metadata": {},
   "source": [
    "## Initializes centroids zoned by parish & progressively break them"
   ]
  },
  {
   "cell_type": "code",
   "execution_count": 17,
   "id": "94551dcb-1093-41e3-a549-9c9724942f72",
   "metadata": {
    "execution": {
     "iopub.execute_input": "2022-05-19T00:05:40.525110Z",
     "iopub.status.busy": "2022-05-19T00:05:40.524230Z",
     "iopub.status.idle": "2022-05-19T00:05:40.529910Z",
     "shell.execute_reply": "2022-05-19T00:05:40.528727Z",
     "shell.execute_reply.started": "2022-05-19T00:05:40.525074Z"
    },
    "tags": []
   },
   "outputs": [],
   "source": [
    "from functions.load_hexbins import load_hexbins"
   ]
  },
  {
   "cell_type": "code",
   "execution_count": 18,
   "id": "e4a20642-38e1-4015-b56f-305003439c9a",
   "metadata": {
    "execution": {
     "iopub.execute_input": "2022-05-19T00:05:40.532108Z",
     "iopub.status.busy": "2022-05-19T00:05:40.531514Z",
     "iopub.status.idle": "2022-05-19T00:05:41.146895Z",
     "shell.execute_reply": "2022-05-19T00:05:41.146295Z",
     "shell.execute_reply.started": "2022-05-19T00:05:40.532072Z"
    },
    "tags": []
   },
   "outputs": [],
   "source": [
    "hexbins = load_hexbins(project)"
   ]
  },
  {
   "cell_type": "code",
   "execution_count": 19,
   "id": "39531e76-2f10-4148-8d16-626ed72df5bf",
   "metadata": {
    "execution": {
     "iopub.execute_input": "2022-05-19T00:05:41.148822Z",
     "iopub.status.busy": "2022-05-19T00:05:41.148220Z",
     "iopub.status.idle": "2022-05-19T00:05:41.366508Z",
     "shell.execute_reply": "2022-05-19T00:05:41.365965Z",
     "shell.execute_reply.started": "2022-05-19T00:05:41.148784Z"
    },
    "tags": []
   },
   "outputs": [],
   "source": [
    "from functions.initialize_and_break_centroids import initialize_and_break"
   ]
  },
  {
   "cell_type": "code",
   "execution_count": 20,
   "id": "16cb285d-6c01-427f-9a15-b683dee4296c",
   "metadata": {
    "execution": {
     "iopub.execute_input": "2022-05-19T00:05:41.368522Z",
     "iopub.status.busy": "2022-05-19T00:05:41.367923Z",
     "iopub.status.idle": "2022-05-19T00:05:43.582989Z",
     "shell.execute_reply": "2022-05-19T00:05:43.582131Z",
     "shell.execute_reply.started": "2022-05-19T00:05:41.368484Z"
    },
    "tags": []
   },
   "outputs": [],
   "source": [
    "df, zoning, master_zone_id = initialize_and_break(hexbins, max_zone_size)"
   ]
  },
  {
   "cell_type": "code",
   "execution_count": 21,
   "id": "39f1004b-d2e8-46d8-ab6e-5916d549d44e",
   "metadata": {
    "execution": {
     "iopub.execute_input": "2022-05-19T00:05:43.584562Z",
     "iopub.status.busy": "2022-05-19T00:05:43.584076Z",
     "iopub.status.idle": "2022-05-19T00:05:43.922875Z",
     "shell.execute_reply": "2022-05-19T00:05:43.922340Z",
     "shell.execute_reply.started": "2022-05-19T00:05:43.584529Z"
    },
    "tags": []
   },
   "outputs": [],
   "source": [
    "from functions.progressive_break import progressive_break"
   ]
  },
  {
   "cell_type": "code",
   "execution_count": 22,
   "id": "114907bc-037b-4bb2-a419-b896cb014c71",
   "metadata": {
    "collapsed": true,
    "execution": {
     "iopub.execute_input": "2022-05-19T00:05:43.924573Z",
     "iopub.status.busy": "2022-05-19T00:05:43.923804Z",
     "iopub.status.idle": "2022-05-19T00:06:27.667513Z",
     "shell.execute_reply": "2022-05-19T00:06:27.666377Z",
     "shell.execute_reply.started": "2022-05-19T00:05:43.924539Z"
    },
    "jupyter": {
     "outputs_hidden": true
    },
    "tags": []
   },
   "outputs": [
    {
     "name": "stderr",
     "output_type": "stream",
     "text": [
      "/srv/conda/envs/saturn/lib/python3.9/site-packages/libpysal/weights/_contW_lists.py:31: ShapelyDeprecationWarning: Iteration over multi-part geometries is deprecated and will be removed in Shapely 2.0. Use the `geoms` property to access the constituent parts of a multi-part geometry.\n",
      "  return list(it.chain(*(_get_boundary_points(part.boundary) for part in shape)))\n",
      "/srv/conda/envs/saturn/lib/python3.9/site-packages/libpysal/weights/weights.py:172: UserWarning: The weights matrix is not fully connected: \n",
      " There are 2 disconnected components.\n",
      "  warnings.warn(message)\n",
      "/srv/conda/envs/saturn/lib/python3.9/site-packages/geopandas/geodataframe.py:1327: UserWarning: Boolean Series key will be reindexed to match DataFrame index.\n",
      "  result = super().__getitem__(key)\n",
      "/srv/conda/envs/saturn/lib/python3.9/site-packages/libpysal/weights/_contW_lists.py:31: ShapelyDeprecationWarning: Iteration over multi-part geometries is deprecated and will be removed in Shapely 2.0. Use the `geoms` property to access the constituent parts of a multi-part geometry.\n",
      "  return list(it.chain(*(_get_boundary_points(part.boundary) for part in shape)))\n",
      "/srv/conda/envs/saturn/lib/python3.9/site-packages/libpysal/weights/_contW_lists.py:31: ShapelyDeprecationWarning: Iteration over multi-part geometries is deprecated and will be removed in Shapely 2.0. Use the `geoms` property to access the constituent parts of a multi-part geometry.\n",
      "  return list(it.chain(*(_get_boundary_points(part.boundary) for part in shape)))\n",
      "/srv/conda/envs/saturn/lib/python3.9/site-packages/libpysal/weights/_contW_lists.py:31: ShapelyDeprecationWarning: Iteration over multi-part geometries is deprecated and will be removed in Shapely 2.0. Use the `geoms` property to access the constituent parts of a multi-part geometry.\n",
      "  return list(it.chain(*(_get_boundary_points(part.boundary) for part in shape)))\n",
      "/srv/conda/envs/saturn/lib/python3.9/site-packages/libpysal/weights/_contW_lists.py:31: ShapelyDeprecationWarning: Iteration over multi-part geometries is deprecated and will be removed in Shapely 2.0. Use the `geoms` property to access the constituent parts of a multi-part geometry.\n",
      "  return list(it.chain(*(_get_boundary_points(part.boundary) for part in shape)))\n",
      "/srv/conda/envs/saturn/lib/python3.9/site-packages/libpysal/weights/_contW_lists.py:31: ShapelyDeprecationWarning: Iteration over multi-part geometries is deprecated and will be removed in Shapely 2.0. Use the `geoms` property to access the constituent parts of a multi-part geometry.\n",
      "  return list(it.chain(*(_get_boundary_points(part.boundary) for part in shape)))\n",
      "/srv/conda/envs/saturn/lib/python3.9/site-packages/libpysal/weights/_contW_lists.py:31: ShapelyDeprecationWarning: Iteration over multi-part geometries is deprecated and will be removed in Shapely 2.0. Use the `geoms` property to access the constituent parts of a multi-part geometry.\n",
      "  return list(it.chain(*(_get_boundary_points(part.boundary) for part in shape)))\n",
      "/srv/conda/envs/saturn/lib/python3.9/site-packages/libpysal/weights/_contW_lists.py:31: ShapelyDeprecationWarning: Iteration over multi-part geometries is deprecated and will be removed in Shapely 2.0. Use the `geoms` property to access the constituent parts of a multi-part geometry.\n",
      "  return list(it.chain(*(_get_boundary_points(part.boundary) for part in shape)))\n",
      "/srv/conda/envs/saturn/lib/python3.9/site-packages/libpysal/weights/_contW_lists.py:31: ShapelyDeprecationWarning: Iteration over multi-part geometries is deprecated and will be removed in Shapely 2.0. Use the `geoms` property to access the constituent parts of a multi-part geometry.\n",
      "  return list(it.chain(*(_get_boundary_points(part.boundary) for part in shape)))\n",
      "/srv/conda/envs/saturn/lib/python3.9/site-packages/libpysal/weights/_contW_lists.py:31: ShapelyDeprecationWarning: Iteration over multi-part geometries is deprecated and will be removed in Shapely 2.0. Use the `geoms` property to access the constituent parts of a multi-part geometry.\n",
      "  return list(it.chain(*(_get_boundary_points(part.boundary) for part in shape)))\n",
      "/srv/conda/envs/saturn/lib/python3.9/site-packages/libpysal/weights/_contW_lists.py:31: ShapelyDeprecationWarning: Iteration over multi-part geometries is deprecated and will be removed in Shapely 2.0. Use the `geoms` property to access the constituent parts of a multi-part geometry.\n",
      "  return list(it.chain(*(_get_boundary_points(part.boundary) for part in shape)))\n",
      "/srv/conda/envs/saturn/lib/python3.9/site-packages/libpysal/weights/_contW_lists.py:31: ShapelyDeprecationWarning: Iteration over multi-part geometries is deprecated and will be removed in Shapely 2.0. Use the `geoms` property to access the constituent parts of a multi-part geometry.\n",
      "  return list(it.chain(*(_get_boundary_points(part.boundary) for part in shape)))\n",
      "/srv/conda/envs/saturn/lib/python3.9/site-packages/libpysal/weights/_contW_lists.py:31: ShapelyDeprecationWarning: Iteration over multi-part geometries is deprecated and will be removed in Shapely 2.0. Use the `geoms` property to access the constituent parts of a multi-part geometry.\n",
      "  return list(it.chain(*(_get_boundary_points(part.boundary) for part in shape)))\n",
      "/srv/conda/envs/saturn/lib/python3.9/site-packages/libpysal/weights/_contW_lists.py:31: ShapelyDeprecationWarning: Iteration over multi-part geometries is deprecated and will be removed in Shapely 2.0. Use the `geoms` property to access the constituent parts of a multi-part geometry.\n",
      "  return list(it.chain(*(_get_boundary_points(part.boundary) for part in shape)))\n",
      "/srv/conda/envs/saturn/lib/python3.9/site-packages/libpysal/weights/_contW_lists.py:31: ShapelyDeprecationWarning: Iteration over multi-part geometries is deprecated and will be removed in Shapely 2.0. Use the `geoms` property to access the constituent parts of a multi-part geometry.\n",
      "  return list(it.chain(*(_get_boundary_points(part.boundary) for part in shape)))\n",
      "/srv/conda/envs/saturn/lib/python3.9/site-packages/libpysal/weights/_contW_lists.py:31: ShapelyDeprecationWarning: Iteration over multi-part geometries is deprecated and will be removed in Shapely 2.0. Use the `geoms` property to access the constituent parts of a multi-part geometry.\n",
      "  return list(it.chain(*(_get_boundary_points(part.boundary) for part in shape)))\n",
      "/srv/conda/envs/saturn/lib/python3.9/site-packages/libpysal/weights/_contW_lists.py:31: ShapelyDeprecationWarning: Iteration over multi-part geometries is deprecated and will be removed in Shapely 2.0. Use the `geoms` property to access the constituent parts of a multi-part geometry.\n",
      "  return list(it.chain(*(_get_boundary_points(part.boundary) for part in shape)))\n",
      "/srv/conda/envs/saturn/lib/python3.9/site-packages/libpysal/weights/_contW_lists.py:31: ShapelyDeprecationWarning: Iteration over multi-part geometries is deprecated and will be removed in Shapely 2.0. Use the `geoms` property to access the constituent parts of a multi-part geometry.\n",
      "  return list(it.chain(*(_get_boundary_points(part.boundary) for part in shape)))\n",
      "/srv/conda/envs/saturn/lib/python3.9/site-packages/libpysal/weights/_contW_lists.py:31: ShapelyDeprecationWarning: Iteration over multi-part geometries is deprecated and will be removed in Shapely 2.0. Use the `geoms` property to access the constituent parts of a multi-part geometry.\n",
      "  return list(it.chain(*(_get_boundary_points(part.boundary) for part in shape)))\n",
      "/srv/conda/envs/saturn/lib/python3.9/site-packages/libpysal/weights/_contW_lists.py:31: ShapelyDeprecationWarning: Iteration over multi-part geometries is deprecated and will be removed in Shapely 2.0. Use the `geoms` property to access the constituent parts of a multi-part geometry.\n",
      "  return list(it.chain(*(_get_boundary_points(part.boundary) for part in shape)))\n",
      "/srv/conda/envs/saturn/lib/python3.9/site-packages/libpysal/weights/_contW_lists.py:31: ShapelyDeprecationWarning: Iteration over multi-part geometries is deprecated and will be removed in Shapely 2.0. Use the `geoms` property to access the constituent parts of a multi-part geometry.\n",
      "  return list(it.chain(*(_get_boundary_points(part.boundary) for part in shape)))\n",
      "/srv/conda/envs/saturn/lib/python3.9/site-packages/libpysal/weights/_contW_lists.py:31: ShapelyDeprecationWarning: Iteration over multi-part geometries is deprecated and will be removed in Shapely 2.0. Use the `geoms` property to access the constituent parts of a multi-part geometry.\n",
      "  return list(it.chain(*(_get_boundary_points(part.boundary) for part in shape)))\n",
      "/srv/conda/envs/saturn/lib/python3.9/site-packages/libpysal/weights/_contW_lists.py:31: ShapelyDeprecationWarning: Iteration over multi-part geometries is deprecated and will be removed in Shapely 2.0. Use the `geoms` property to access the constituent parts of a multi-part geometry.\n",
      "  return list(it.chain(*(_get_boundary_points(part.boundary) for part in shape)))\n",
      "/srv/conda/envs/saturn/lib/python3.9/site-packages/libpysal/weights/_contW_lists.py:31: ShapelyDeprecationWarning: Iteration over multi-part geometries is deprecated and will be removed in Shapely 2.0. Use the `geoms` property to access the constituent parts of a multi-part geometry.\n",
      "  return list(it.chain(*(_get_boundary_points(part.boundary) for part in shape)))\n",
      "/srv/conda/envs/saturn/lib/python3.9/site-packages/libpysal/weights/_contW_lists.py:31: ShapelyDeprecationWarning: Iteration over multi-part geometries is deprecated and will be removed in Shapely 2.0. Use the `geoms` property to access the constituent parts of a multi-part geometry.\n",
      "  return list(it.chain(*(_get_boundary_points(part.boundary) for part in shape)))\n",
      "/srv/conda/envs/saturn/lib/python3.9/site-packages/libpysal/weights/_contW_lists.py:31: ShapelyDeprecationWarning: Iteration over multi-part geometries is deprecated and will be removed in Shapely 2.0. Use the `geoms` property to access the constituent parts of a multi-part geometry.\n",
      "  return list(it.chain(*(_get_boundary_points(part.boundary) for part in shape)))\n",
      "/srv/conda/envs/saturn/lib/python3.9/site-packages/libpysal/weights/_contW_lists.py:31: ShapelyDeprecationWarning: Iteration over multi-part geometries is deprecated and will be removed in Shapely 2.0. Use the `geoms` property to access the constituent parts of a multi-part geometry.\n",
      "  return list(it.chain(*(_get_boundary_points(part.boundary) for part in shape)))\n",
      "/srv/conda/envs/saturn/lib/python3.9/site-packages/libpysal/weights/_contW_lists.py:31: ShapelyDeprecationWarning: Iteration over multi-part geometries is deprecated and will be removed in Shapely 2.0. Use the `geoms` property to access the constituent parts of a multi-part geometry.\n",
      "  return list(it.chain(*(_get_boundary_points(part.boundary) for part in shape)))\n",
      "/srv/conda/envs/saturn/lib/python3.9/site-packages/libpysal/weights/_contW_lists.py:31: ShapelyDeprecationWarning: Iteration over multi-part geometries is deprecated and will be removed in Shapely 2.0. Use the `geoms` property to access the constituent parts of a multi-part geometry.\n",
      "  return list(it.chain(*(_get_boundary_points(part.boundary) for part in shape)))\n",
      "/srv/conda/envs/saturn/lib/python3.9/site-packages/libpysal/weights/_contW_lists.py:31: ShapelyDeprecationWarning: Iteration over multi-part geometries is deprecated and will be removed in Shapely 2.0. Use the `geoms` property to access the constituent parts of a multi-part geometry.\n",
      "  return list(it.chain(*(_get_boundary_points(part.boundary) for part in shape)))\n",
      "/srv/conda/envs/saturn/lib/python3.9/site-packages/libpysal/weights/_contW_lists.py:31: ShapelyDeprecationWarning: Iteration over multi-part geometries is deprecated and will be removed in Shapely 2.0. Use the `geoms` property to access the constituent parts of a multi-part geometry.\n",
      "  return list(it.chain(*(_get_boundary_points(part.boundary) for part in shape)))\n",
      "/srv/conda/envs/saturn/lib/python3.9/site-packages/libpysal/weights/_contW_lists.py:31: ShapelyDeprecationWarning: Iteration over multi-part geometries is deprecated and will be removed in Shapely 2.0. Use the `geoms` property to access the constituent parts of a multi-part geometry.\n",
      "  return list(it.chain(*(_get_boundary_points(part.boundary) for part in shape)))\n",
      "/srv/conda/envs/saturn/lib/python3.9/site-packages/libpysal/weights/_contW_lists.py:31: ShapelyDeprecationWarning: Iteration over multi-part geometries is deprecated and will be removed in Shapely 2.0. Use the `geoms` property to access the constituent parts of a multi-part geometry.\n",
      "  return list(it.chain(*(_get_boundary_points(part.boundary) for part in shape)))\n",
      "/srv/conda/envs/saturn/lib/python3.9/site-packages/libpysal/weights/_contW_lists.py:31: ShapelyDeprecationWarning: Iteration over multi-part geometries is deprecated and will be removed in Shapely 2.0. Use the `geoms` property to access the constituent parts of a multi-part geometry.\n",
      "  return list(it.chain(*(_get_boundary_points(part.boundary) for part in shape)))\n",
      "/srv/conda/envs/saturn/lib/python3.9/site-packages/libpysal/weights/_contW_lists.py:31: ShapelyDeprecationWarning: Iteration over multi-part geometries is deprecated and will be removed in Shapely 2.0. Use the `geoms` property to access the constituent parts of a multi-part geometry.\n",
      "  return list(it.chain(*(_get_boundary_points(part.boundary) for part in shape)))\n",
      "/srv/conda/envs/saturn/lib/python3.9/site-packages/libpysal/weights/_contW_lists.py:31: ShapelyDeprecationWarning: Iteration over multi-part geometries is deprecated and will be removed in Shapely 2.0. Use the `geoms` property to access the constituent parts of a multi-part geometry.\n",
      "  return list(it.chain(*(_get_boundary_points(part.boundary) for part in shape)))\n",
      "/srv/conda/envs/saturn/lib/python3.9/site-packages/libpysal/weights/_contW_lists.py:31: ShapelyDeprecationWarning: Iteration over multi-part geometries is deprecated and will be removed in Shapely 2.0. Use the `geoms` property to access the constituent parts of a multi-part geometry.\n",
      "  return list(it.chain(*(_get_boundary_points(part.boundary) for part in shape)))\n",
      "/srv/conda/envs/saturn/lib/python3.9/site-packages/libpysal/weights/_contW_lists.py:31: ShapelyDeprecationWarning: Iteration over multi-part geometries is deprecated and will be removed in Shapely 2.0. Use the `geoms` property to access the constituent parts of a multi-part geometry.\n",
      "  return list(it.chain(*(_get_boundary_points(part.boundary) for part in shape)))\n",
      "/srv/conda/envs/saturn/lib/python3.9/site-packages/libpysal/weights/_contW_lists.py:31: ShapelyDeprecationWarning: Iteration over multi-part geometries is deprecated and will be removed in Shapely 2.0. Use the `geoms` property to access the constituent parts of a multi-part geometry.\n",
      "  return list(it.chain(*(_get_boundary_points(part.boundary) for part in shape)))\n",
      "/srv/conda/envs/saturn/lib/python3.9/site-packages/libpysal/weights/_contW_lists.py:31: ShapelyDeprecationWarning: Iteration over multi-part geometries is deprecated and will be removed in Shapely 2.0. Use the `geoms` property to access the constituent parts of a multi-part geometry.\n",
      "  return list(it.chain(*(_get_boundary_points(part.boundary) for part in shape)))\n",
      "/srv/conda/envs/saturn/lib/python3.9/site-packages/libpysal/weights/_contW_lists.py:31: ShapelyDeprecationWarning: Iteration over multi-part geometries is deprecated and will be removed in Shapely 2.0. Use the `geoms` property to access the constituent parts of a multi-part geometry.\n",
      "  return list(it.chain(*(_get_boundary_points(part.boundary) for part in shape)))\n",
      "/srv/conda/envs/saturn/lib/python3.9/site-packages/libpysal/weights/_contW_lists.py:31: ShapelyDeprecationWarning: Iteration over multi-part geometries is deprecated and will be removed in Shapely 2.0. Use the `geoms` property to access the constituent parts of a multi-part geometry.\n",
      "  return list(it.chain(*(_get_boundary_points(part.boundary) for part in shape)))\n",
      "/srv/conda/envs/saturn/lib/python3.9/site-packages/libpysal/weights/_contW_lists.py:31: ShapelyDeprecationWarning: Iteration over multi-part geometries is deprecated and will be removed in Shapely 2.0. Use the `geoms` property to access the constituent parts of a multi-part geometry.\n",
      "  return list(it.chain(*(_get_boundary_points(part.boundary) for part in shape)))\n",
      "/srv/conda/envs/saturn/lib/python3.9/site-packages/libpysal/weights/_contW_lists.py:31: ShapelyDeprecationWarning: Iteration over multi-part geometries is deprecated and will be removed in Shapely 2.0. Use the `geoms` property to access the constituent parts of a multi-part geometry.\n",
      "  return list(it.chain(*(_get_boundary_points(part.boundary) for part in shape)))\n",
      "/srv/conda/envs/saturn/lib/python3.9/site-packages/libpysal/weights/_contW_lists.py:31: ShapelyDeprecationWarning: Iteration over multi-part geometries is deprecated and will be removed in Shapely 2.0. Use the `geoms` property to access the constituent parts of a multi-part geometry.\n",
      "  return list(it.chain(*(_get_boundary_points(part.boundary) for part in shape)))\n",
      "/srv/conda/envs/saturn/lib/python3.9/site-packages/libpysal/weights/_contW_lists.py:31: ShapelyDeprecationWarning: Iteration over multi-part geometries is deprecated and will be removed in Shapely 2.0. Use the `geoms` property to access the constituent parts of a multi-part geometry.\n",
      "  return list(it.chain(*(_get_boundary_points(part.boundary) for part in shape)))\n",
      "/srv/conda/envs/saturn/lib/python3.9/site-packages/libpysal/weights/_contW_lists.py:31: ShapelyDeprecationWarning: Iteration over multi-part geometries is deprecated and will be removed in Shapely 2.0. Use the `geoms` property to access the constituent parts of a multi-part geometry.\n",
      "  return list(it.chain(*(_get_boundary_points(part.boundary) for part in shape)))\n",
      "/srv/conda/envs/saturn/lib/python3.9/site-packages/libpysal/weights/_contW_lists.py:31: ShapelyDeprecationWarning: Iteration over multi-part geometries is deprecated and will be removed in Shapely 2.0. Use the `geoms` property to access the constituent parts of a multi-part geometry.\n",
      "  return list(it.chain(*(_get_boundary_points(part.boundary) for part in shape)))\n",
      "/srv/conda/envs/saturn/lib/python3.9/site-packages/libpysal/weights/_contW_lists.py:31: ShapelyDeprecationWarning: Iteration over multi-part geometries is deprecated and will be removed in Shapely 2.0. Use the `geoms` property to access the constituent parts of a multi-part geometry.\n",
      "  return list(it.chain(*(_get_boundary_points(part.boundary) for part in shape)))\n",
      "/srv/conda/envs/saturn/lib/python3.9/site-packages/libpysal/weights/_contW_lists.py:31: ShapelyDeprecationWarning: Iteration over multi-part geometries is deprecated and will be removed in Shapely 2.0. Use the `geoms` property to access the constituent parts of a multi-part geometry.\n",
      "  return list(it.chain(*(_get_boundary_points(part.boundary) for part in shape)))\n",
      "/srv/conda/envs/saturn/lib/python3.9/site-packages/libpysal/weights/_contW_lists.py:31: ShapelyDeprecationWarning: Iteration over multi-part geometries is deprecated and will be removed in Shapely 2.0. Use the `geoms` property to access the constituent parts of a multi-part geometry.\n",
      "  return list(it.chain(*(_get_boundary_points(part.boundary) for part in shape)))\n",
      "/srv/conda/envs/saturn/lib/python3.9/site-packages/libpysal/weights/_contW_lists.py:31: ShapelyDeprecationWarning: Iteration over multi-part geometries is deprecated and will be removed in Shapely 2.0. Use the `geoms` property to access the constituent parts of a multi-part geometry.\n",
      "  return list(it.chain(*(_get_boundary_points(part.boundary) for part in shape)))\n",
      "/srv/conda/envs/saturn/lib/python3.9/site-packages/libpysal/weights/_contW_lists.py:31: ShapelyDeprecationWarning: Iteration over multi-part geometries is deprecated and will be removed in Shapely 2.0. Use the `geoms` property to access the constituent parts of a multi-part geometry.\n",
      "  return list(it.chain(*(_get_boundary_points(part.boundary) for part in shape)))\n",
      "/srv/conda/envs/saturn/lib/python3.9/site-packages/libpysal/weights/_contW_lists.py:31: ShapelyDeprecationWarning: Iteration over multi-part geometries is deprecated and will be removed in Shapely 2.0. Use the `geoms` property to access the constituent parts of a multi-part geometry.\n",
      "  return list(it.chain(*(_get_boundary_points(part.boundary) for part in shape)))\n",
      "/srv/conda/envs/saturn/lib/python3.9/site-packages/libpysal/weights/_contW_lists.py:31: ShapelyDeprecationWarning: Iteration over multi-part geometries is deprecated and will be removed in Shapely 2.0. Use the `geoms` property to access the constituent parts of a multi-part geometry.\n",
      "  return list(it.chain(*(_get_boundary_points(part.boundary) for part in shape)))\n",
      "/srv/conda/envs/saturn/lib/python3.9/site-packages/libpysal/weights/_contW_lists.py:31: ShapelyDeprecationWarning: Iteration over multi-part geometries is deprecated and will be removed in Shapely 2.0. Use the `geoms` property to access the constituent parts of a multi-part geometry.\n",
      "  return list(it.chain(*(_get_boundary_points(part.boundary) for part in shape)))\n",
      "/srv/conda/envs/saturn/lib/python3.9/site-packages/libpysal/weights/_contW_lists.py:31: ShapelyDeprecationWarning: Iteration over multi-part geometries is deprecated and will be removed in Shapely 2.0. Use the `geoms` property to access the constituent parts of a multi-part geometry.\n",
      "  return list(it.chain(*(_get_boundary_points(part.boundary) for part in shape)))\n",
      "/srv/conda/envs/saturn/lib/python3.9/site-packages/libpysal/weights/_contW_lists.py:31: ShapelyDeprecationWarning: Iteration over multi-part geometries is deprecated and will be removed in Shapely 2.0. Use the `geoms` property to access the constituent parts of a multi-part geometry.\n",
      "  return list(it.chain(*(_get_boundary_points(part.boundary) for part in shape)))\n",
      "/srv/conda/envs/saturn/lib/python3.9/site-packages/libpysal/weights/_contW_lists.py:31: ShapelyDeprecationWarning: Iteration over multi-part geometries is deprecated and will be removed in Shapely 2.0. Use the `geoms` property to access the constituent parts of a multi-part geometry.\n",
      "  return list(it.chain(*(_get_boundary_points(part.boundary) for part in shape)))\n",
      "/srv/conda/envs/saturn/lib/python3.9/site-packages/libpysal/weights/_contW_lists.py:31: ShapelyDeprecationWarning: Iteration over multi-part geometries is deprecated and will be removed in Shapely 2.0. Use the `geoms` property to access the constituent parts of a multi-part geometry.\n",
      "  return list(it.chain(*(_get_boundary_points(part.boundary) for part in shape)))\n",
      "/srv/conda/envs/saturn/lib/python3.9/site-packages/libpysal/weights/_contW_lists.py:31: ShapelyDeprecationWarning: Iteration over multi-part geometries is deprecated and will be removed in Shapely 2.0. Use the `geoms` property to access the constituent parts of a multi-part geometry.\n",
      "  return list(it.chain(*(_get_boundary_points(part.boundary) for part in shape)))\n",
      "/srv/conda/envs/saturn/lib/python3.9/site-packages/libpysal/weights/_contW_lists.py:31: ShapelyDeprecationWarning: Iteration over multi-part geometries is deprecated and will be removed in Shapely 2.0. Use the `geoms` property to access the constituent parts of a multi-part geometry.\n",
      "  return list(it.chain(*(_get_boundary_points(part.boundary) for part in shape)))\n",
      "/srv/conda/envs/saturn/lib/python3.9/site-packages/libpysal/weights/_contW_lists.py:31: ShapelyDeprecationWarning: Iteration over multi-part geometries is deprecated and will be removed in Shapely 2.0. Use the `geoms` property to access the constituent parts of a multi-part geometry.\n",
      "  return list(it.chain(*(_get_boundary_points(part.boundary) for part in shape)))\n",
      "/srv/conda/envs/saturn/lib/python3.9/site-packages/libpysal/weights/_contW_lists.py:31: ShapelyDeprecationWarning: Iteration over multi-part geometries is deprecated and will be removed in Shapely 2.0. Use the `geoms` property to access the constituent parts of a multi-part geometry.\n",
      "  return list(it.chain(*(_get_boundary_points(part.boundary) for part in shape)))\n",
      "/srv/conda/envs/saturn/lib/python3.9/site-packages/libpysal/weights/_contW_lists.py:31: ShapelyDeprecationWarning: Iteration over multi-part geometries is deprecated and will be removed in Shapely 2.0. Use the `geoms` property to access the constituent parts of a multi-part geometry.\n",
      "  return list(it.chain(*(_get_boundary_points(part.boundary) for part in shape)))\n",
      "/srv/conda/envs/saturn/lib/python3.9/site-packages/libpysal/weights/_contW_lists.py:31: ShapelyDeprecationWarning: Iteration over multi-part geometries is deprecated and will be removed in Shapely 2.0. Use the `geoms` property to access the constituent parts of a multi-part geometry.\n",
      "  return list(it.chain(*(_get_boundary_points(part.boundary) for part in shape)))\n",
      "/srv/conda/envs/saturn/lib/python3.9/site-packages/libpysal/weights/_contW_lists.py:31: ShapelyDeprecationWarning: Iteration over multi-part geometries is deprecated and will be removed in Shapely 2.0. Use the `geoms` property to access the constituent parts of a multi-part geometry.\n",
      "  return list(it.chain(*(_get_boundary_points(part.boundary) for part in shape)))\n",
      "/srv/conda/envs/saturn/lib/python3.9/site-packages/libpysal/weights/_contW_lists.py:31: ShapelyDeprecationWarning: Iteration over multi-part geometries is deprecated and will be removed in Shapely 2.0. Use the `geoms` property to access the constituent parts of a multi-part geometry.\n",
      "  return list(it.chain(*(_get_boundary_points(part.boundary) for part in shape)))\n",
      "/srv/conda/envs/saturn/lib/python3.9/site-packages/libpysal/weights/_contW_lists.py:31: ShapelyDeprecationWarning: Iteration over multi-part geometries is deprecated and will be removed in Shapely 2.0. Use the `geoms` property to access the constituent parts of a multi-part geometry.\n",
      "  return list(it.chain(*(_get_boundary_points(part.boundary) for part in shape)))\n",
      "/srv/conda/envs/saturn/lib/python3.9/site-packages/libpysal/weights/_contW_lists.py:31: ShapelyDeprecationWarning: Iteration over multi-part geometries is deprecated and will be removed in Shapely 2.0. Use the `geoms` property to access the constituent parts of a multi-part geometry.\n",
      "  return list(it.chain(*(_get_boundary_points(part.boundary) for part in shape)))\n",
      "/srv/conda/envs/saturn/lib/python3.9/site-packages/libpysal/weights/_contW_lists.py:31: ShapelyDeprecationWarning: Iteration over multi-part geometries is deprecated and will be removed in Shapely 2.0. Use the `geoms` property to access the constituent parts of a multi-part geometry.\n",
      "  return list(it.chain(*(_get_boundary_points(part.boundary) for part in shape)))\n",
      "/srv/conda/envs/saturn/lib/python3.9/site-packages/libpysal/weights/_contW_lists.py:31: ShapelyDeprecationWarning: Iteration over multi-part geometries is deprecated and will be removed in Shapely 2.0. Use the `geoms` property to access the constituent parts of a multi-part geometry.\n",
      "  return list(it.chain(*(_get_boundary_points(part.boundary) for part in shape)))\n",
      "/srv/conda/envs/saturn/lib/python3.9/site-packages/libpysal/weights/_contW_lists.py:31: ShapelyDeprecationWarning: Iteration over multi-part geometries is deprecated and will be removed in Shapely 2.0. Use the `geoms` property to access the constituent parts of a multi-part geometry.\n",
      "  return list(it.chain(*(_get_boundary_points(part.boundary) for part in shape)))\n",
      "/srv/conda/envs/saturn/lib/python3.9/site-packages/libpysal/weights/_contW_lists.py:31: ShapelyDeprecationWarning: Iteration over multi-part geometries is deprecated and will be removed in Shapely 2.0. Use the `geoms` property to access the constituent parts of a multi-part geometry.\n",
      "  return list(it.chain(*(_get_boundary_points(part.boundary) for part in shape)))\n",
      "/srv/conda/envs/saturn/lib/python3.9/site-packages/libpysal/weights/_contW_lists.py:31: ShapelyDeprecationWarning: Iteration over multi-part geometries is deprecated and will be removed in Shapely 2.0. Use the `geoms` property to access the constituent parts of a multi-part geometry.\n",
      "  return list(it.chain(*(_get_boundary_points(part.boundary) for part in shape)))\n",
      "/srv/conda/envs/saturn/lib/python3.9/site-packages/libpysal/weights/_contW_lists.py:31: ShapelyDeprecationWarning: Iteration over multi-part geometries is deprecated and will be removed in Shapely 2.0. Use the `geoms` property to access the constituent parts of a multi-part geometry.\n",
      "  return list(it.chain(*(_get_boundary_points(part.boundary) for part in shape)))\n",
      "/srv/conda/envs/saturn/lib/python3.9/site-packages/libpysal/weights/_contW_lists.py:31: ShapelyDeprecationWarning: Iteration over multi-part geometries is deprecated and will be removed in Shapely 2.0. Use the `geoms` property to access the constituent parts of a multi-part geometry.\n",
      "  return list(it.chain(*(_get_boundary_points(part.boundary) for part in shape)))\n",
      "/srv/conda/envs/saturn/lib/python3.9/site-packages/libpysal/weights/_contW_lists.py:31: ShapelyDeprecationWarning: Iteration over multi-part geometries is deprecated and will be removed in Shapely 2.0. Use the `geoms` property to access the constituent parts of a multi-part geometry.\n",
      "  return list(it.chain(*(_get_boundary_points(part.boundary) for part in shape)))\n",
      "/srv/conda/envs/saturn/lib/python3.9/site-packages/libpysal/weights/_contW_lists.py:31: ShapelyDeprecationWarning: Iteration over multi-part geometries is deprecated and will be removed in Shapely 2.0. Use the `geoms` property to access the constituent parts of a multi-part geometry.\n",
      "  return list(it.chain(*(_get_boundary_points(part.boundary) for part in shape)))\n",
      "/srv/conda/envs/saturn/lib/python3.9/site-packages/libpysal/weights/_contW_lists.py:31: ShapelyDeprecationWarning: Iteration over multi-part geometries is deprecated and will be removed in Shapely 2.0. Use the `geoms` property to access the constituent parts of a multi-part geometry.\n",
      "  return list(it.chain(*(_get_boundary_points(part.boundary) for part in shape)))\n",
      "/srv/conda/envs/saturn/lib/python3.9/site-packages/libpysal/weights/_contW_lists.py:31: ShapelyDeprecationWarning: Iteration over multi-part geometries is deprecated and will be removed in Shapely 2.0. Use the `geoms` property to access the constituent parts of a multi-part geometry.\n",
      "  return list(it.chain(*(_get_boundary_points(part.boundary) for part in shape)))\n",
      "/srv/conda/envs/saturn/lib/python3.9/site-packages/libpysal/weights/_contW_lists.py:31: ShapelyDeprecationWarning: Iteration over multi-part geometries is deprecated and will be removed in Shapely 2.0. Use the `geoms` property to access the constituent parts of a multi-part geometry.\n",
      "  return list(it.chain(*(_get_boundary_points(part.boundary) for part in shape)))\n",
      "/srv/conda/envs/saturn/lib/python3.9/site-packages/libpysal/weights/_contW_lists.py:31: ShapelyDeprecationWarning: Iteration over multi-part geometries is deprecated and will be removed in Shapely 2.0. Use the `geoms` property to access the constituent parts of a multi-part geometry.\n",
      "  return list(it.chain(*(_get_boundary_points(part.boundary) for part in shape)))\n",
      "/srv/conda/envs/saturn/lib/python3.9/site-packages/libpysal/weights/_contW_lists.py:31: ShapelyDeprecationWarning: Iteration over multi-part geometries is deprecated and will be removed in Shapely 2.0. Use the `geoms` property to access the constituent parts of a multi-part geometry.\n",
      "  return list(it.chain(*(_get_boundary_points(part.boundary) for part in shape)))\n",
      "/srv/conda/envs/saturn/lib/python3.9/site-packages/libpysal/weights/_contW_lists.py:31: ShapelyDeprecationWarning: Iteration over multi-part geometries is deprecated and will be removed in Shapely 2.0. Use the `geoms` property to access the constituent parts of a multi-part geometry.\n",
      "  return list(it.chain(*(_get_boundary_points(part.boundary) for part in shape)))\n",
      "/srv/conda/envs/saturn/lib/python3.9/site-packages/libpysal/weights/_contW_lists.py:31: ShapelyDeprecationWarning: Iteration over multi-part geometries is deprecated and will be removed in Shapely 2.0. Use the `geoms` property to access the constituent parts of a multi-part geometry.\n",
      "  return list(it.chain(*(_get_boundary_points(part.boundary) for part in shape)))\n",
      "/srv/conda/envs/saturn/lib/python3.9/site-packages/libpysal/weights/_contW_lists.py:31: ShapelyDeprecationWarning: Iteration over multi-part geometries is deprecated and will be removed in Shapely 2.0. Use the `geoms` property to access the constituent parts of a multi-part geometry.\n",
      "  return list(it.chain(*(_get_boundary_points(part.boundary) for part in shape)))\n",
      "/srv/conda/envs/saturn/lib/python3.9/site-packages/libpysal/weights/_contW_lists.py:31: ShapelyDeprecationWarning: Iteration over multi-part geometries is deprecated and will be removed in Shapely 2.0. Use the `geoms` property to access the constituent parts of a multi-part geometry.\n",
      "  return list(it.chain(*(_get_boundary_points(part.boundary) for part in shape)))\n"
     ]
    },
    {
     "ename": "KeyboardInterrupt",
     "evalue": "",
     "output_type": "error",
     "traceback": [
      "\u001b[0;31m---------------------------------------------------------------------------\u001b[0m",
      "\u001b[0;31mKeyboardInterrupt\u001b[0m                         Traceback (most recent call last)",
      "Input \u001b[0;32mIn [22]\u001b[0m, in \u001b[0;36m<cell line: 1>\u001b[0;34m()\u001b[0m\n\u001b[0;32m----> 1\u001b[0m new_zoning \u001b[38;5;241m=\u001b[39m \u001b[43mprogressive_break\u001b[49m\u001b[43m(\u001b[49m\u001b[43mdf\u001b[49m\u001b[43m,\u001b[49m\u001b[43m \u001b[49m\u001b[43mzoning\u001b[49m\u001b[43m,\u001b[49m\u001b[43m \u001b[49m\u001b[43mmin_zone_size\u001b[49m\u001b[43m,\u001b[49m\u001b[43m \u001b[49m\u001b[43mmaster_zone_id\u001b[49m\u001b[43m)\u001b[49m\n",
      "File \u001b[0;32m~/workspace/road_analytics/notebooks/functions/progressive_break.py:16\u001b[0m, in \u001b[0;36mprogressive_break\u001b[0;34m(df, zoning, min_zone_size, master_zone_id)\u001b[0m\n\u001b[1;32m     14\u001b[0m zone_df \u001b[38;5;241m=\u001b[39m df[df\u001b[38;5;241m.\u001b[39mzone_id\u001b[38;5;241m==\u001b[39mzid]\n\u001b[1;32m     15\u001b[0m \u001b[38;5;28;01mwith\u001b[39;00m warnings\u001b[38;5;241m.\u001b[39mcatch_warnings():\n\u001b[0;32m---> 16\u001b[0m     adj_mtx \u001b[38;5;241m=\u001b[39m \u001b[43mlibpysal\u001b[49m\u001b[38;5;241;43m.\u001b[39;49m\u001b[43mweights\u001b[49m\u001b[38;5;241;43m.\u001b[39;49m\u001b[43mQueen\u001b[49m\u001b[38;5;241;43m.\u001b[39;49m\u001b[43mfrom_dataframe\u001b[49m\u001b[43m(\u001b[49m\u001b[43mzone_df\u001b[49m\u001b[43m)\u001b[49m\n\u001b[1;32m     17\u001b[0m islands \u001b[38;5;241m=\u001b[39m  np\u001b[38;5;241m.\u001b[39munique(adj_mtx\u001b[38;5;241m.\u001b[39mcomponent_labels)\n\u001b[1;32m     18\u001b[0m island_pop \u001b[38;5;241m=\u001b[39m {isl:zone_df[adj_mtx\u001b[38;5;241m.\u001b[39mcomponent_labels\u001b[38;5;241m==\u001b[39misl]\u001b[38;5;241m.\u001b[39mpopulation\u001b[38;5;241m.\u001b[39msum() \u001b[38;5;28;01mfor\u001b[39;00m isl \u001b[38;5;129;01min\u001b[39;00m islands}\n",
      "File \u001b[0;32m/srv/conda/envs/saturn/lib/python3.9/site-packages/libpysal/weights/contiguity.py:410\u001b[0m, in \u001b[0;36mQueen.from_dataframe\u001b[0;34m(cls, df, geom_col, **kwargs)\u001b[0m\n\u001b[1;32m    408\u001b[0m \u001b[38;5;28;01melif\u001b[39;00m \u001b[38;5;28misinstance\u001b[39m(ids, \u001b[38;5;28mstr\u001b[39m):\n\u001b[1;32m    409\u001b[0m     ids \u001b[38;5;241m=\u001b[39m df\u001b[38;5;241m.\u001b[39mget(ids)\u001b[38;5;241m.\u001b[39mtolist()\n\u001b[0;32m--> 410\u001b[0m w \u001b[38;5;241m=\u001b[39m \u001b[38;5;28;43mcls\u001b[39;49m\u001b[38;5;241;43m.\u001b[39;49m\u001b[43mfrom_iterable\u001b[49m\u001b[43m(\u001b[49m\n\u001b[1;32m    411\u001b[0m \u001b[43m    \u001b[49m\u001b[43mdf\u001b[49m\u001b[43m[\u001b[49m\u001b[43mgeom_col\u001b[49m\u001b[43m]\u001b[49m\u001b[38;5;241;43m.\u001b[39;49m\u001b[43mtolist\u001b[49m\u001b[43m(\u001b[49m\u001b[43m)\u001b[49m\u001b[43m,\u001b[49m\u001b[43m \u001b[49m\u001b[43mids\u001b[49m\u001b[38;5;241;43m=\u001b[39;49m\u001b[43mids\u001b[49m\u001b[43m,\u001b[49m\u001b[43m \u001b[49m\u001b[43mid_order\u001b[49m\u001b[38;5;241;43m=\u001b[39;49m\u001b[43mid_order\u001b[49m\u001b[43m,\u001b[49m\u001b[43m \u001b[49m\u001b[38;5;241;43m*\u001b[39;49m\u001b[38;5;241;43m*\u001b[39;49m\u001b[43mkwargs\u001b[49m\n\u001b[1;32m    412\u001b[0m \u001b[43m\u001b[49m\u001b[43m)\u001b[49m\n\u001b[1;32m    413\u001b[0m \u001b[38;5;28;01mreturn\u001b[39;00m w\n",
      "File \u001b[0;32m/srv/conda/envs/saturn/lib/python3.9/site-packages/libpysal/weights/contiguity.py:355\u001b[0m, in \u001b[0;36mQueen.from_iterable\u001b[0;34m(cls, iterable, sparse, **kwargs)\u001b[0m\n\u001b[1;32m    338\u001b[0m \u001b[38;5;124;03m\"\"\"\u001b[39;00m\n\u001b[1;32m    339\u001b[0m \u001b[38;5;124;03mConstruct a weights object from a collection of arbitrary polygons. This\u001b[39;00m\n\u001b[1;32m    340\u001b[0m \u001b[38;5;124;03mwill cast the polygons to PySAL polygons, then build the W.\u001b[39;00m\n\u001b[0;32m   (...)\u001b[0m\n\u001b[1;32m    352\u001b[0m \u001b[38;5;124;03m:class:`libpysal.weights.contiguiyt.Queen`\u001b[39;00m\n\u001b[1;32m    353\u001b[0m \u001b[38;5;124;03m\"\"\"\u001b[39;00m\n\u001b[1;32m    354\u001b[0m new_iterable \u001b[38;5;241m=\u001b[39m \u001b[38;5;28miter\u001b[39m(iterable)\n\u001b[0;32m--> 355\u001b[0m w \u001b[38;5;241m=\u001b[39m \u001b[38;5;28;43mcls\u001b[39;49m\u001b[43m(\u001b[49m\u001b[43mnew_iterable\u001b[49m\u001b[43m,\u001b[49m\u001b[43m \u001b[49m\u001b[38;5;241;43m*\u001b[39;49m\u001b[38;5;241;43m*\u001b[39;49m\u001b[43mkwargs\u001b[49m\u001b[43m)\u001b[49m\n\u001b[1;32m    356\u001b[0m \u001b[38;5;28;01mif\u001b[39;00m sparse:\n\u001b[1;32m    357\u001b[0m     w \u001b[38;5;241m=\u001b[39m WSP\u001b[38;5;241m.\u001b[39mfrom_W(w)\n",
      "File \u001b[0;32m/srv/conda/envs/saturn/lib/python3.9/site-packages/libpysal/weights/contiguity.py:276\u001b[0m, in \u001b[0;36mQueen.__init__\u001b[0;34m(self, polygons, **kw)\u001b[0m\n\u001b[1;32m    274\u001b[0m     polygons, vertices \u001b[38;5;241m=\u001b[39m voronoi_frames(get_points_array(polygons))\n\u001b[1;32m    275\u001b[0m     polygons \u001b[38;5;241m=\u001b[39m \u001b[38;5;28mlist\u001b[39m(polygons\u001b[38;5;241m.\u001b[39mgeometry)\n\u001b[0;32m--> 276\u001b[0m neighbors, ids \u001b[38;5;241m=\u001b[39m \u001b[43m_build\u001b[49m\u001b[43m(\u001b[49m\u001b[43mpolygons\u001b[49m\u001b[43m,\u001b[49m\u001b[43m \u001b[49m\u001b[43mcriterion\u001b[49m\u001b[38;5;241;43m=\u001b[39;49m\u001b[43mcriterion\u001b[49m\u001b[43m,\u001b[49m\u001b[43m \u001b[49m\u001b[43mids\u001b[49m\u001b[38;5;241;43m=\u001b[39;49m\u001b[43mids\u001b[49m\u001b[43m)\u001b[49m\n\u001b[1;32m    277\u001b[0m W\u001b[38;5;241m.\u001b[39m\u001b[38;5;21m__init__\u001b[39m(\u001b[38;5;28mself\u001b[39m, neighbors, ids\u001b[38;5;241m=\u001b[39mids, \u001b[38;5;241m*\u001b[39m\u001b[38;5;241m*\u001b[39mkw)\n",
      "File \u001b[0;32m/srv/conda/envs/saturn/lib/python3.9/site-packages/libpysal/weights/contiguity.py:596\u001b[0m, in \u001b[0;36m_build\u001b[0;34m(polygons, criterion, ids)\u001b[0m\n\u001b[1;32m    593\u001b[0m \u001b[38;5;28;01mif\u001b[39;00m \u001b[38;5;28missubclass\u001b[39m(\u001b[38;5;28mtype\u001b[39m(geo), FileIO):\n\u001b[1;32m    594\u001b[0m     geo\u001b[38;5;241m.\u001b[39mseek(\u001b[38;5;241m0\u001b[39m)  \u001b[38;5;66;03m# Make sure we read from the beginning of the file.\u001b[39;00m\n\u001b[0;32m--> 596\u001b[0m neighbor_data \u001b[38;5;241m=\u001b[39m \u001b[43mContiguityWeightsLists\u001b[49m\u001b[43m(\u001b[49m\u001b[43mpolygons\u001b[49m\u001b[43m,\u001b[49m\u001b[43m \u001b[49m\u001b[43mwttype\u001b[49m\u001b[38;5;241;43m=\u001b[39;49m\u001b[43mwttype\u001b[49m\u001b[43m)\u001b[49m\u001b[38;5;241m.\u001b[39mw\n\u001b[1;32m    598\u001b[0m neighbors \u001b[38;5;241m=\u001b[39m {}\n\u001b[1;32m    599\u001b[0m \u001b[38;5;66;03m# weights={}\u001b[39;00m\n",
      "File \u001b[0;32m/srv/conda/envs/saturn/lib/python3.9/site-packages/libpysal/weights/_contW_lists.py:59\u001b[0m, in \u001b[0;36mContiguityWeightsLists.__init__\u001b[0;34m(self, collection, wttype)\u001b[0m\n\u001b[1;32m     57\u001b[0m \u001b[38;5;28mself\u001b[39m\u001b[38;5;241m.\u001b[39mcollection \u001b[38;5;241m=\u001b[39m \u001b[38;5;28mlist\u001b[39m(collection)\n\u001b[1;32m     58\u001b[0m \u001b[38;5;28mself\u001b[39m\u001b[38;5;241m.\u001b[39mwttype \u001b[38;5;241m=\u001b[39m wttype\n\u001b[0;32m---> 59\u001b[0m \u001b[38;5;28;43mself\u001b[39;49m\u001b[38;5;241;43m.\u001b[39;49m\u001b[43mjcontiguity\u001b[49m\u001b[43m(\u001b[49m\u001b[43m)\u001b[49m\n",
      "File \u001b[0;32m/srv/conda/envs/saturn/lib/python3.9/site-packages/libpysal/weights/_contW_lists.py:81\u001b[0m, in \u001b[0;36mContiguityWeightsLists.jcontiguity\u001b[0;34m(self)\u001b[0m\n\u001b[1;32m     79\u001b[0m items \u001b[38;5;241m=\u001b[39m collections\u001b[38;5;241m.\u001b[39mdefaultdict(\u001b[38;5;28mset\u001b[39m)\n\u001b[1;32m     80\u001b[0m \u001b[38;5;28;01mfor\u001b[39;00m i, vertex \u001b[38;5;129;01min\u001b[39;00m \u001b[38;5;28menumerate\u001b[39m(geoms):\n\u001b[0;32m---> 81\u001b[0m     \u001b[43mitems\u001b[49m\u001b[43m[\u001b[49m\u001b[43mvertex\u001b[49m\u001b[43m]\u001b[49m\u001b[38;5;241m.\u001b[39madd(offsets[i])\n\u001b[1;32m     83\u001b[0m shared_vertices \u001b[38;5;241m=\u001b[39m []\n\u001b[1;32m     84\u001b[0m \u001b[38;5;28;01mfor\u001b[39;00m item, location \u001b[38;5;129;01min\u001b[39;00m \u001b[38;5;28mlist\u001b[39m(items\u001b[38;5;241m.\u001b[39mitems()):\n",
      "\u001b[0;31mKeyboardInterrupt\u001b[0m: "
     ]
    }
   ],
   "source": [
    "new_zoning = progressive_break(df, zoning, min_zone_size, master_zone_id)"
   ]
  },
  {
   "cell_type": "code",
   "execution_count": null,
   "id": "02c6683a-477d-4352-8471-b744d117d01a",
   "metadata": {
    "execution": {
     "iopub.status.busy": "2022-05-19T00:06:27.668621Z",
     "iopub.status.idle": "2022-05-19T00:06:27.669322Z",
     "shell.execute_reply": "2022-05-19T00:06:27.669098Z",
     "shell.execute_reply.started": "2022-05-19T00:06:27.669075Z"
    }
   },
   "outputs": [],
   "source": [
    "new_zoning.plot(column='state')"
   ]
  },
  {
   "cell_type": "markdown",
   "id": "46d326b8-507f-4680-8522-37f2b9a4990b",
   "metadata": {},
   "source": [
    "## Saves hexbins with zones"
   ]
  },
  {
   "cell_type": "code",
   "execution_count": null,
   "id": "3abcdd48-a240-4d33-a0c0-d1c9a213cac5",
   "metadata": {
    "execution": {
     "iopub.status.busy": "2022-05-19T00:06:27.670248Z",
     "iopub.status.idle": "2022-05-19T00:06:27.670798Z",
     "shell.execute_reply": "2022-05-19T00:06:27.670609Z",
     "shell.execute_reply.started": "2022-05-19T00:06:27.670587Z"
    }
   },
   "outputs": [],
   "source": [
    "from functions.export_zones import export_zones"
   ]
  },
  {
   "cell_type": "code",
   "execution_count": null,
   "id": "247abcd7-6fd0-4044-84e0-18c885da2896",
   "metadata": {
    "execution": {
     "iopub.status.busy": "2022-05-19T00:06:27.671888Z",
     "iopub.status.idle": "2022-05-19T00:06:27.672340Z",
     "shell.execute_reply": "2022-05-19T00:06:27.672156Z",
     "shell.execute_reply.started": "2022-05-19T00:06:27.672134Z"
    },
    "tags": []
   },
   "outputs": [],
   "source": [
    "#export_zones(zoning, project)"
   ]
  }
 ],
 "metadata": {
  "kernelspec": {
   "display_name": "saturn (Python 3)",
   "language": "python",
   "name": "python3"
  },
  "language_info": {
   "codemirror_mode": {
    "name": "ipython",
    "version": 3
   },
   "file_extension": ".py",
   "mimetype": "text/x-python",
   "name": "python",
   "nbconvert_exporter": "python",
   "pygments_lexer": "ipython3",
   "version": "3.9.9"
  }
 },
 "nbformat": 4,
 "nbformat_minor": 5
}
