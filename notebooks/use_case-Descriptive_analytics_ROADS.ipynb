{
 "cells": [
  {
   "cell_type": "markdown",
   "id": "019b293e-c5b6-442c-973e-b157a82ce134",
   "metadata": {},
   "source": [
    "# Imports"
   ]
  },
  {
   "cell_type": "code",
   "execution_count": 1,
   "id": "84820b9f-8c2c-4332-bbb8-b8a44a71894a",
   "metadata": {
    "execution": {
     "iopub.execute_input": "2022-05-20T05:18:43.905011Z",
     "iopub.status.busy": "2022-05-20T05:18:43.904367Z",
     "iopub.status.idle": "2022-05-20T05:18:45.238403Z",
     "shell.execute_reply": "2022-05-20T05:18:45.237417Z",
     "shell.execute_reply.started": "2022-05-20T05:18:43.904911Z"
    },
    "tags": []
   },
   "outputs": [
    {
     "name": "stderr",
     "output_type": "stream",
     "text": [
      "ERROR 1: PROJ: proj_create_from_database: Open of /opt/conda/envs/saturn/share/proj failed\n"
     ]
    }
   ],
   "source": [
    "import logging\n",
    "import shutil\n",
    "import sys\n",
    "from os.path import isdir, join\n",
    "from tempfile import gettempdir\n",
    "from uuid import uuid4\n",
    "\n",
    "import folium\n",
    "import pandas as pd\n",
    "import geopandas as gpd\n",
    "from aequilibrae import Parameters, Project, logger\n",
    "\n",
    "from functions.basic_stats import basic_stats\n",
    "from functions.bridge_stats import bridge_stats\n",
    "from functions.toll_stats import toll_stats\n",
    "from functions.tunnel_stats import tunnel_stats"
   ]
  },
  {
   "cell_type": "markdown",
   "id": "706f171e-43bb-431e-af6e-20b5b2014493",
   "metadata": {},
   "source": [
    "# Model place (Country) to build the model for"
   ]
  },
  {
   "cell_type": "code",
   "execution_count": 2,
   "id": "28475878-31e3-49c0-a38b-6bd3fa53f5ee",
   "metadata": {
    "execution": {
     "iopub.execute_input": "2022-05-20T05:18:45.240944Z",
     "iopub.status.busy": "2022-05-20T05:18:45.240539Z",
     "iopub.status.idle": "2022-05-20T05:18:45.248655Z",
     "shell.execute_reply": "2022-05-20T05:18:45.245233Z",
     "shell.execute_reply.started": "2022-05-20T05:18:45.240918Z"
    },
    "tags": []
   },
   "outputs": [],
   "source": [
    "model_place = 'Andorra'"
   ]
  },
  {
   "cell_type": "code",
   "execution_count": 3,
   "id": "94a4f4b1",
   "metadata": {
    "execution": {
     "iopub.execute_input": "2022-05-20T05:18:45.250678Z",
     "iopub.status.busy": "2022-05-20T05:18:45.250227Z",
     "iopub.status.idle": "2022-05-20T05:18:45.256727Z",
     "shell.execute_reply": "2022-05-20T05:18:45.255488Z",
     "shell.execute_reply.started": "2022-05-20T05:18:45.250640Z"
    },
    "tags": []
   },
   "outputs": [
    {
     "name": "stdout",
     "output_type": "stream",
     "text": [
      "../../Andorra\n"
     ]
    }
   ],
   "source": [
    "fldr = f'../../{model_place}'\n",
    "\n",
    "if isdir(fldr):\n",
    "    print(fldr)"
   ]
  },
  {
   "cell_type": "markdown",
   "id": "37340d5e-8005-4db4-9939-527ff9209c59",
   "metadata": {
    "execution": {
     "iopub.execute_input": "2022-05-06T08:44:13.171729Z",
     "iopub.status.busy": "2022-05-06T08:44:13.171509Z",
     "iopub.status.idle": "2022-05-06T08:44:13.175112Z",
     "shell.execute_reply": "2022-05-06T08:44:13.174427Z",
     "shell.execute_reply.started": "2022-05-06T08:44:13.171708Z"
    },
    "tags": []
   },
   "source": [
    "# Open Model"
   ]
  },
  {
   "cell_type": "code",
   "execution_count": 4,
   "id": "4fe405c9",
   "metadata": {
    "execution": {
     "iopub.execute_input": "2022-05-20T05:18:45.259148Z",
     "iopub.status.busy": "2022-05-20T05:18:45.258572Z",
     "iopub.status.idle": "2022-05-20T05:18:45.565336Z",
     "shell.execute_reply": "2022-05-20T05:18:45.564407Z",
     "shell.execute_reply.started": "2022-05-20T05:18:45.259109Z"
    },
    "tags": []
   },
   "outputs": [],
   "source": [
    "project = Project()\n",
    "project.open(fldr)"
   ]
  },
  {
   "cell_type": "markdown",
   "id": "e19e1493-b8c2-455b-be2e-706dc05c011e",
   "metadata": {},
   "source": [
    "# Get model data\n",
    "\n",
    "And filters only to links accessible to cars"
   ]
  },
  {
   "cell_type": "code",
   "execution_count": 5,
   "id": "498956e2-e8cf-4a84-8700-1f061dbe5ea7",
   "metadata": {
    "execution": {
     "iopub.execute_input": "2022-05-20T05:18:45.567803Z",
     "iopub.status.busy": "2022-05-20T05:18:45.567341Z",
     "iopub.status.idle": "2022-05-20T05:18:45.870611Z",
     "shell.execute_reply": "2022-05-20T05:18:45.869717Z",
     "shell.execute_reply.started": "2022-05-20T05:18:45.567764Z"
    },
    "tags": []
   },
   "outputs": [],
   "source": [
    "links = project.network.links.data\n",
    "links = links[links.modes.str.contains('c')]"
   ]
  },
  {
   "cell_type": "markdown",
   "id": "daef2105-6e4a-4ee9-a639-230409c1ee81",
   "metadata": {},
   "source": [
    "# Print statistics"
   ]
  },
  {
   "cell_type": "code",
   "execution_count": 6,
   "id": "3d7cfeb6-aab2-4d7e-a9d9-8ad9654850a2",
   "metadata": {
    "execution": {
     "iopub.execute_input": "2022-05-20T05:18:45.872688Z",
     "iopub.status.busy": "2022-05-20T05:18:45.872200Z",
     "iopub.status.idle": "2022-05-20T05:18:45.944853Z",
     "shell.execute_reply": "2022-05-20T05:18:45.941557Z",
     "shell.execute_reply.started": "2022-05-20T05:18:45.872649Z"
    },
    "tags": []
   },
   "outputs": [
    {
     "name": "stdout",
     "output_type": "stream",
     "text": [
      "----- Links -----\n",
      "\n",
      "|   General |   Bridge |   Toll |   Tunnel |   Total |\n",
      "|-----------|----------|--------|----------|---------|\n",
      "|      4820 |      290 |     15 |       68 |    5193 |\n",
      "\n",
      "----- Total km -----\n",
      "\n",
      "|   General |   Bridge |   Toll |   Tunnel |   Total |\n",
      "|-----------|----------|--------|----------|---------|\n",
      "|    479.93 |     7.60 |   4.49 |    16.62 |  508.64 |\n",
      "\n",
      "----- Link Type -----\n",
      "\n",
      "| Link Type     |   Links |     km |\n",
      "|---------------|---------|--------|\n",
      "| living_street |      70 |   2.76 |\n",
      "| primary       |    1238 | 117.10 |\n",
      "| residential   |    1518 | 114.05 |\n",
      "| secondary     |     937 | 145.82 |\n",
      "| service       |     916 |  59.11 |\n",
      "| tertiary      |     296 |  42.78 |\n",
      "| trunk         |      63 |  12.82 |\n",
      "| unclassified  |     154 |  13.86 |\n",
      "| via_ferrata   |       1 |   0.34 |\n",
      "\n",
      "----- Pavement Surfaces -----\n",
      "\n",
      "| Surface Type   |   Links |     km |\n",
      "|----------------|---------|--------|\n",
      "| asphalt        |    2804 | 341.60 |\n",
      "| compacted      |       2 |   0.53 |\n",
      "| concrete       |       3 |   0.07 |\n",
      "| dirt           |       1 |   0.05 |\n",
      "| fine_gravel    |       1 |   0.07 |\n",
      "| gravel         |       1 |   0.08 |\n",
      "| ground         |       3 |   0.11 |\n",
      "| paved          |       2 |   0.24 |\n",
      "| paving_stones  |       1 |   0.05 |\n",
      "| pebblestone    |       3 |   0.12 |\n",
      "| sett           |       3 |   0.23 |\n",
      "| unclassified   |    2366 | 164.98 |\n",
      "| unpaved        |       3 |   0.51 |\n",
      "\n"
     ]
    },
    {
     "name": "stderr",
     "output_type": "stream",
     "text": [
      "/srv/conda/envs/saturn/lib/python3.9/site-packages/pandas/core/indexing.py:1817: SettingWithCopyWarning: \n",
      "A value is trying to be set on a copy of a slice from a DataFrame.\n",
      "Try using .loc[row_indexer,col_indexer] = value instead\n",
      "\n",
      "See the caveats in the documentation: https://pandas.pydata.org/pandas-docs/stable/user_guide/indexing.html#returning-a-view-versus-a-copy\n",
      "  self._setitem_single_column(loc, value, pi)\n"
     ]
    }
   ],
   "source": [
    "basic_stats(links)"
   ]
  },
  {
   "cell_type": "code",
   "execution_count": 7,
   "id": "b7143f87-3296-4364-8d4c-132d8648558f",
   "metadata": {
    "execution": {
     "iopub.execute_input": "2022-05-20T05:18:45.948395Z",
     "iopub.status.busy": "2022-05-20T05:18:45.947940Z",
     "iopub.status.idle": "2022-05-20T05:18:45.982504Z",
     "shell.execute_reply": "2022-05-20T05:18:45.981450Z",
     "shell.execute_reply.started": "2022-05-20T05:18:45.948362Z"
    },
    "tags": []
   },
   "outputs": [
    {
     "name": "stdout",
     "output_type": "stream",
     "text": [
      "----- Bridge - Overall Stats -----\n",
      " \n",
      "|        |   Links |        km |\n",
      "|--------|---------|-----------|\n",
      "| Bridge |     290 |   7601.19 |\n",
      "| Total  |    5193 | 508641.53 |\n",
      " \n",
      "There are no toll bridges in the search area.\n",
      "\n",
      "----- Bridge - Link Type -----\n",
      "\n",
      "| Link Type     |   Links |   km |\n",
      "|---------------|---------|------|\n",
      "| living_street |       1 | 0.01 |\n",
      "| primary       |     106 | 3.42 |\n",
      "| residential   |      58 | 0.89 |\n",
      "| secondary     |      57 | 1.27 |\n",
      "| service       |      30 | 0.55 |\n",
      "| tertiary      |      11 | 0.11 |\n",
      "| trunk         |      12 | 1.06 |\n",
      "| unclassified  |      15 | 0.29 |\n",
      "\n",
      "----- Bridge - Pavement Surface -----\n",
      "\n",
      "| Surface Type   |   Links |   km |\n",
      "|----------------|---------|------|\n",
      "| asphalt        |     185 | 5.33 |\n",
      "| unclassified   |     105 | 2.27 |\n",
      "\n"
     ]
    }
   ],
   "source": [
    "bridge_stats(links)"
   ]
  },
  {
   "cell_type": "code",
   "execution_count": 8,
   "id": "6fe2bd78-1f7a-4ac8-984c-bf590599f56a",
   "metadata": {
    "execution": {
     "iopub.execute_input": "2022-05-20T05:18:45.984675Z",
     "iopub.status.busy": "2022-05-20T05:18:45.984167Z",
     "iopub.status.idle": "2022-05-20T05:18:46.030879Z",
     "shell.execute_reply": "2022-05-20T05:18:46.029748Z",
     "shell.execute_reply.started": "2022-05-20T05:18:45.984637Z"
    },
    "tags": []
   },
   "outputs": [
    {
     "name": "stdout",
     "output_type": "stream",
     "text": [
      "----- Tolls - Overall Stats -----\n",
      " \n",
      "|       |   Links |     km |\n",
      "|-------|---------|--------|\n",
      "| Tolls |      15 |   4.49 |\n",
      "| Total |    5193 | 508.64 |\n",
      " \n",
      "----- Tolls - Link Type -----\n",
      "\n",
      "| Link Type   |   Links |   km |\n",
      "|-------------|---------|------|\n",
      "| primary     |       2 | 0.22 |\n",
      "| trunk       |      13 | 4.27 |\n",
      "\n",
      "----- Tolls - Pavement Surfaces -----\n",
      "\n",
      "| Surface Type   |   Links |   km |\n",
      "|----------------|---------|------|\n",
      "| asphalt        |      15 | 4.49 |\n",
      "\n"
     ]
    }
   ],
   "source": [
    "toll_stats(links)"
   ]
  },
  {
   "cell_type": "code",
   "execution_count": 9,
   "id": "b223deda-cf92-448c-aa4b-e2e3890c25bf",
   "metadata": {
    "execution": {
     "iopub.execute_input": "2022-05-20T05:18:46.033812Z",
     "iopub.status.busy": "2022-05-20T05:18:46.033349Z",
     "iopub.status.idle": "2022-05-20T05:18:46.071324Z",
     "shell.execute_reply": "2022-05-20T05:18:46.070113Z",
     "shell.execute_reply.started": "2022-05-20T05:18:46.033773Z"
    },
    "tags": []
   },
   "outputs": [
    {
     "name": "stdout",
     "output_type": "stream",
     "text": [
      "----- Tunnels - Overall Stats -----\n",
      " \n",
      "|         |   Links |     km |\n",
      "|---------|---------|--------|\n",
      "| Tunnels |      68 |  16.62 |\n",
      "| Total   |    5193 | 508.64 |\n",
      " \n",
      "----- Toll Tunnels -----\n",
      " \n",
      "|   links |   km |\n",
      "|---------|------|\n",
      "|       2 | 2.96 |\n",
      "\n",
      "----- Tunnels - Link Type -----\n",
      "\n",
      "| Link Type     |   Links |   km |\n",
      "|---------------|---------|------|\n",
      "| living_street |       4 | 0.03 |\n",
      "| primary       |      16 | 3.65 |\n",
      "| residential   |       4 | 0.14 |\n",
      "| secondary     |       2 | 0.08 |\n",
      "| service       |      24 | 3.49 |\n",
      "| tertiary      |       4 | 0.37 |\n",
      "| trunk         |       9 | 8.81 |\n",
      "| unclassified  |       5 | 0.05 |\n",
      "\n",
      "----- Tunnels - Pavement Surfaces -----\n",
      "\n",
      "| Surface Type   |   Links |    km |\n",
      "|----------------|---------|-------|\n",
      "| asphalt        |      33 | 13.02 |\n",
      "| unclassified   |      35 |  3.61 |\n",
      "\n"
     ]
    }
   ],
   "source": [
    "tunnel_stats(links)"
   ]
  },
  {
   "cell_type": "markdown",
   "id": "24321269-a99d-4736-b9c8-475455987d0e",
   "metadata": {},
   "source": [
    "# Map the car network distance per subdivision\n",
    "\n",
    "in km"
   ]
  },
  {
   "cell_type": "code",
   "execution_count": 10,
   "id": "8abf552b-5846-4bfa-91c2-fe5e83c27157",
   "metadata": {
    "execution": {
     "iopub.execute_input": "2022-05-20T05:18:46.073371Z",
     "iopub.status.busy": "2022-05-20T05:18:46.072926Z",
     "iopub.status.idle": "2022-05-20T05:18:46.088035Z",
     "shell.execute_reply": "2022-05-20T05:18:46.087081Z",
     "shell.execute_reply.started": "2022-05-20T05:18:46.073333Z"
    },
    "tags": []
   },
   "outputs": [],
   "source": [
    "sql = \"SELECT division_name, level, Hex(ST_AsBinary(GEOMETRY)) as geom FROM country_subdivisions;\"\n",
    "subdivisions = gpd.GeoDataFrame.from_postgis(sql, project.conn, geom_col=\"geom\", crs=4326)\n",
    "subdiv1 = subdivisions[subdivisions.level==1]\n",
    "subdiv2 = subdivisions[subdivisions.level==2]"
   ]
  },
  {
   "cell_type": "code",
   "execution_count": 11,
   "id": "6f9469b2-efa4-4103-9c66-5ec24fd3869b",
   "metadata": {
    "execution": {
     "iopub.execute_input": "2022-05-20T05:18:46.089862Z",
     "iopub.status.busy": "2022-05-20T05:18:46.089465Z",
     "iopub.status.idle": "2022-05-20T05:18:47.276794Z",
     "shell.execute_reply": "2022-05-20T05:18:47.275848Z",
     "shell.execute_reply.started": "2022-05-20T05:18:46.089825Z"
    },
    "tags": []
   },
   "outputs": [
    {
     "data": {
      "text/plain": [
       "<AxesSubplot:>"
      ]
     },
     "execution_count": 11,
     "metadata": {},
     "output_type": "execute_result"
    },
    {
     "data": {
      "image/png": "[encoded data removed]",
      "text/plain": [
       "<Figure size 432x288 with 2 Axes>"
      ]
     },
     "metadata": {
      "needs_background": "light"
     },
     "output_type": "display_data"
    }
   ],
   "source": [
    "import matplotlib.pyplot as plt\n",
    "\n",
    "links=gpd.GeoDataFrame(links, geometry='geometry', crs=4326)\n",
    "data = gpd.sjoin(links, subdiv1)\n",
    "sum_distance = data.groupby(['division_name']).sum()[['distance']].reset_index()\n",
    "sum_distance.loc[:, 'distance'] /= 1000\n",
    "\n",
    "fig, ax = plt.subplots(1, 1)\n",
    "plot_data = subdivisions.merge(sum_distance, on='division_name')\n",
    "plot_data.plot(column='distance', ax=ax, legend=True)"
   ]
  },
  {
   "cell_type": "code",
   "execution_count": 12,
   "id": "339ecc6f-cdb1-4190-a91c-4edd9299b009",
   "metadata": {
    "execution": {
     "iopub.execute_input": "2022-05-20T05:18:47.278811Z",
     "iopub.status.busy": "2022-05-20T05:18:47.278221Z",
     "iopub.status.idle": "2022-05-20T05:18:47.285491Z",
     "shell.execute_reply": "2022-05-20T05:18:47.284439Z",
     "shell.execute_reply.started": "2022-05-20T05:18:47.278772Z"
    },
    "tags": []
   },
   "outputs": [],
   "source": [
    "import matplotlib.pyplot as plt\n",
    "\n",
    "if subdiv2.shape[0]:\n",
    "    links=gpd.GeoDataFrame(links, geometry='geometry', crs=4326)\n",
    "    data = gpd.sjoin(links, subdiv2)\n",
    "    sum_distance = data.groupby(['division_name']).sum()[['distance']].reset_index()\n",
    "    sum_distance.loc[:, 'distance'] /= 1000\n",
    "\n",
    "    fig, ax = plt.subplots(1, 1)\n",
    "    plot_data = subdivisions.merge(sum_distance, on='division_name')\n",
    "    plot_data.plot(column='distance', ax=ax, legend=True)\n"
   ]
  },
  {
   "cell_type": "markdown",
   "id": "46e081d5-60fb-4a8c-b57a-407616277d6c",
   "metadata": {},
   "source": [
    "# Map the car network DENSITY by zone"
   ]
  },
  {
   "cell_type": "code",
   "execution_count": 13,
   "id": "99f93b44-0c7a-421f-ad31-e94b7a3edb00",
   "metadata": {
    "execution": {
     "iopub.execute_input": "2022-05-20T05:18:47.287527Z",
     "iopub.status.busy": "2022-05-20T05:18:47.287132Z",
     "iopub.status.idle": "2022-05-20T05:18:47.797668Z",
     "shell.execute_reply": "2022-05-20T05:18:47.796765Z",
     "shell.execute_reply.started": "2022-05-20T05:18:47.287491Z"
    },
    "tags": []
   },
   "outputs": [
    {
     "data": {
      "text/plain": [
       "<AxesSubplot:>"
      ]
     },
     "execution_count": 13,
     "metadata": {},
     "output_type": "execute_result"
    },
    {
     "data": {
      "image/png": "[encoded data removed]",
      "text/plain": [
       "<Figure size 432x288 with 2 Axes>"
      ]
     },
     "metadata": {
      "needs_background": "light"
     },
     "output_type": "display_data"
    }
   ],
   "source": [
    "sql = \"SELECT zone_id, Hex(ST_AsBinary(GEOMETRY)) as geom FROM zones;\"\n",
    "zones = gpd.GeoDataFrame.from_postgis(sql, project.conn, geom_col=\"geom\", crs=4326)\n",
    "\n",
    "data = gpd.sjoin(links, zones)\n",
    "sum_distance = data.groupby(['zone_id']).sum()[['distance']].reset_index()\n",
    "sum_distance.loc[:, 'distance'] /= 1000\n",
    "\n",
    "\n",
    "fig, ax = plt.subplots(1, 1)\n",
    "plot_data = zones.merge(sum_distance, on='zone_id')\n",
    "plot_data= plot_data.to_crs(3857)\n",
    "\n",
    "plot_data['link_density'] = plot_data['distance']/plot_data.geom.area\n",
    "\n",
    "plot_data.plot(column='link_density', ax=ax, legend=True)"
   ]
  },
  {
   "cell_type": "code",
   "execution_count": 14,
   "id": "b11e5b17-a786-45e6-8aac-fafc261c65ea",
   "metadata": {
    "execution": {
     "iopub.execute_input": "2022-05-20T05:18:47.799648Z",
     "iopub.status.busy": "2022-05-20T05:18:47.799250Z",
     "iopub.status.idle": "2022-05-20T05:18:48.008054Z",
     "shell.execute_reply": "2022-05-20T05:18:48.007173Z",
     "shell.execute_reply.started": "2022-05-20T05:18:47.799612Z"
    },
    "tags": []
   },
   "outputs": [],
   "source": [
    "project.close()"
   ]
  }
 ],
 "metadata": {
  "kernelspec": {
   "display_name": "saturn (Python 3)",
   "language": "python",
   "name": "python3"
  },
  "language_info": {
   "codemirror_mode": {
    "name": "ipython",
    "version": 3
   },
   "file_extension": ".py",
   "mimetype": "text/x-python",
   "name": "python",
   "nbconvert_exporter": "python",
   "pygments_lexer": "ipython3",
   "version": "3.9.9"
  }
 },
 "nbformat": 4,
 "nbformat_minor": 5
}
