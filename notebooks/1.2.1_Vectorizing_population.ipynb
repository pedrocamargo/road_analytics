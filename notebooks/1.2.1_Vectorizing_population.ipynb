{
 "cells": [
  {
   "cell_type": "code",
   "execution_count": 1,
   "id": "f4591ff5-e9f3-4504-b94b-47eb18d029df",
   "metadata": {
    "execution": {
     "iopub.execute_input": "2022-05-20T04:44:22.004358Z",
     "iopub.status.busy": "2022-05-20T04:44:22.003504Z",
     "iopub.status.idle": "2022-05-20T04:44:22.037152Z",
     "shell.execute_reply": "2022-05-20T04:44:22.035552Z",
     "shell.execute_reply.started": "2022-05-20T04:44:22.004208Z"
    },
    "tags": [],
    "pycharm": {
     "name": "#%%\n"
    }
   },
   "outputs": [],
   "source": [
    "%load_ext autoreload\n",
    "%autoreload 2"
   ]
  },
  {
   "cell_type": "code",
   "execution_count": 2,
   "id": "liquid-wayne",
   "metadata": {
    "execution": {
     "iopub.execute_input": "2022-05-20T04:44:22.040974Z",
     "iopub.status.busy": "2022-05-20T04:44:22.040210Z",
     "iopub.status.idle": "2022-05-20T04:44:23.097187Z",
     "shell.execute_reply": "2022-05-20T04:44:23.096083Z",
     "shell.execute_reply.started": "2022-05-20T04:44:22.040934Z"
    },
    "pycharm": {
     "name": "#%%\n"
    },
    "tags": []
   },
   "outputs": [],
   "source": [
    "from aequilibrae import Project\n",
    "import pandas as pd\n",
    "import geopandas as gpd"
   ]
  },
  {
   "cell_type": "code",
   "execution_count": 3,
   "id": "2b474c29-80fa-4073-bd89-090c37da8791",
   "metadata": {
    "execution": {
     "iopub.execute_input": "2022-05-20T04:44:23.100326Z",
     "iopub.status.busy": "2022-05-20T04:44:23.098780Z",
     "iopub.status.idle": "2022-05-20T04:44:23.279724Z",
     "shell.execute_reply": "2022-05-20T04:44:23.278782Z",
     "shell.execute_reply.started": "2022-05-20T04:44:23.100231Z"
    },
    "tags": [],
    "pycharm": {
     "name": "#%%\n"
    }
   },
   "outputs": [
    {
     "ename": "ImportError",
     "evalue": "DLL load failed while importing _base: The specified module could not be found.",
     "output_type": "error",
     "traceback": [
      "\u001B[1;31m---------------------------------------------------------------------------\u001B[0m",
      "\u001B[1;31mImportError\u001B[0m                               Traceback (most recent call last)",
      "Input \u001B[1;32mIn [3]\u001B[0m, in \u001B[0;36m<module>\u001B[1;34m\u001B[0m\n\u001B[1;32m----> 1\u001B[0m \u001B[38;5;28;01mfrom\u001B[39;00m \u001B[38;5;21;01mfunctions\u001B[39;00m\u001B[38;5;21;01m.\u001B[39;00m\u001B[38;5;21;01mraster_to_model\u001B[39;00m \u001B[38;5;28;01mimport\u001B[39;00m pop_to_model\n\u001B[0;32m      2\u001B[0m \u001B[38;5;28;01mfrom\u001B[39;00m \u001B[38;5;21;01mfunctions\u001B[39;00m\u001B[38;5;21;01m.\u001B[39;00m\u001B[38;5;21;01mcheck_population\u001B[39;00m \u001B[38;5;28;01mimport\u001B[39;00m check_pop\n",
      "File \u001B[1;32mD:\\src\\road_analytics\\notebooks\\functions\\raster_to_model.py:5\u001B[0m, in \u001B[0;36m<module>\u001B[1;34m\u001B[0m\n\u001B[0;32m      3\u001B[0m \u001B[38;5;28;01mimport\u001B[39;00m \u001B[38;5;21;01mpandas\u001B[39;00m \u001B[38;5;28;01mas\u001B[39;00m \u001B[38;5;21;01mpd\u001B[39;00m\n\u001B[0;32m      4\u001B[0m \u001B[38;5;28;01mfrom\u001B[39;00m \u001B[38;5;21;01mscipy\u001B[39;00m\u001B[38;5;21;01m.\u001B[39;00m\u001B[38;5;21;01msparse\u001B[39;00m \u001B[38;5;28;01mimport\u001B[39;00m coo_matrix\n\u001B[1;32m----> 5\u001B[0m \u001B[38;5;28;01mimport\u001B[39;00m \u001B[38;5;21;01mrasterio\u001B[39;00m\n\u001B[0;32m      6\u001B[0m \u001B[38;5;28;01mfrom\u001B[39;00m \u001B[38;5;21;01maequilibrae\u001B[39;00m\u001B[38;5;21;01m.\u001B[39;00m\u001B[38;5;21;01mproject\u001B[39;00m \u001B[38;5;28;01mimport\u001B[39;00m Project\n\u001B[0;32m      7\u001B[0m \u001B[38;5;28;01mfrom\u001B[39;00m \u001B[38;5;21;01m.\u001B[39;00m\u001B[38;5;21;01mcountry_main_area\u001B[39;00m \u001B[38;5;28;01mimport\u001B[39;00m get_main_area\n",
      "File \u001B[1;32mc:\\python\\python38\\lib\\site-packages\\rasterio\\__init__.py:17\u001B[0m, in \u001B[0;36m<module>\u001B[1;34m\u001B[0m\n\u001B[0;32m     14\u001B[0m \u001B[38;5;28;01mfrom\u001B[39;00m \u001B[38;5;21;01mlogging\u001B[39;00m \u001B[38;5;28;01mimport\u001B[39;00m NullHandler\n\u001B[0;32m     15\u001B[0m \u001B[38;5;28;01mfrom\u001B[39;00m \u001B[38;5;21;01mpathlib\u001B[39;00m \u001B[38;5;28;01mimport\u001B[39;00m Path\n\u001B[1;32m---> 17\u001B[0m \u001B[38;5;28;01mfrom\u001B[39;00m \u001B[38;5;21;01mrasterio\u001B[39;00m\u001B[38;5;21;01m.\u001B[39;00m\u001B[38;5;21;01m_base\u001B[39;00m \u001B[38;5;28;01mimport\u001B[39;00m gdal_version\n\u001B[0;32m     18\u001B[0m \u001B[38;5;28;01mfrom\u001B[39;00m \u001B[38;5;21;01mrasterio\u001B[39;00m\u001B[38;5;21;01m.\u001B[39;00m\u001B[38;5;21;01mdrivers\u001B[39;00m \u001B[38;5;28;01mimport\u001B[39;00m driver_from_extension, is_blacklisted\n\u001B[0;32m     19\u001B[0m \u001B[38;5;28;01mfrom\u001B[39;00m \u001B[38;5;21;01mrasterio\u001B[39;00m\u001B[38;5;21;01m.\u001B[39;00m\u001B[38;5;21;01mdtypes\u001B[39;00m \u001B[38;5;28;01mimport\u001B[39;00m (\n\u001B[0;32m     20\u001B[0m     bool_,\n\u001B[0;32m     21\u001B[0m     ubyte,\n\u001B[1;32m   (...)\u001B[0m\n\u001B[0;32m     33\u001B[0m     check_dtype,\n\u001B[0;32m     34\u001B[0m )\n",
      "\u001B[1;31mImportError\u001B[0m: DLL load failed while importing _base: The specified module could not be found."
     ]
    }
   ],
   "source": [
    "from functions.raster_to_model import pop_to_model\n",
    "from functions.check_population import check_pop"
   ]
  },
  {
   "cell_type": "markdown",
   "id": "75e4534b-b14b-4698-a4bf-6ceae5cfc3e5",
   "metadata": {
    "execution": {
     "iopub.execute_input": "2022-05-11T16:57:50.975348Z",
     "iopub.status.busy": "2022-05-11T16:57:50.974908Z",
     "iopub.status.idle": "2022-05-11T16:57:50.984393Z",
     "shell.execute_reply": "2022-05-11T16:57:50.983359Z",
     "shell.execute_reply.started": "2022-05-11T16:57:50.975268Z"
    },
    "tags": [],
    "pycharm": {
     "name": "#%% md\n"
    }
   },
   "source": [
    "## Model place (country) and population raster definition\n",
    "(the raster must be in the same folder as this notebook)"
   ]
  },
  {
   "cell_type": "code",
   "execution_count": 4,
   "id": "5d409b2b-15ca-4ab1-85f6-27cb40ad4b21",
   "metadata": {
    "execution": {
     "iopub.execute_input": "2022-05-20T04:44:23.281787Z",
     "iopub.status.busy": "2022-05-20T04:44:23.281103Z",
     "iopub.status.idle": "2022-05-20T04:44:23.308846Z",
     "shell.execute_reply": "2022-05-20T04:44:23.307822Z",
     "shell.execute_reply.started": "2022-05-20T04:44:23.281749Z"
    },
    "tags": [],
    "pycharm": {
     "name": "#%%\n"
    }
   },
   "outputs": [],
   "source": [
    "model_place = 'Andorra'"
   ]
  },
  {
   "cell_type": "markdown",
   "id": "fe39f652-6c66-4a08-929d-70d4cfb1959d",
   "metadata": {
    "pycharm": {
     "name": "#%% md\n"
    }
   },
   "source": [
    "## Loading project and getting country main area"
   ]
  },
  {
   "cell_type": "code",
   "execution_count": 5,
   "id": "eligible-immunology",
   "metadata": {
    "execution": {
     "iopub.execute_input": "2022-05-20T04:44:23.312320Z",
     "iopub.status.busy": "2022-05-20T04:44:23.311705Z",
     "iopub.status.idle": "2022-05-20T04:44:23.339387Z",
     "shell.execute_reply": "2022-05-20T04:44:23.338494Z",
     "shell.execute_reply.started": "2022-05-20T04:44:23.312281Z"
    },
    "pycharm": {
     "name": "#%%\n"
    },
    "tags": []
   },
   "outputs": [],
   "source": [
    "model_fldr = f'../../{model_place}'"
   ]
  },
  {
   "cell_type": "code",
   "execution_count": 6,
   "id": "02d88be9-4d4e-4bf2-bd54-bb79c27633d1",
   "metadata": {
    "execution": {
     "iopub.execute_input": "2022-05-20T04:44:23.343501Z",
     "iopub.status.busy": "2022-05-20T04:44:23.342745Z",
     "iopub.status.idle": "2022-05-20T04:44:23.675926Z",
     "shell.execute_reply": "2022-05-20T04:44:23.674998Z",
     "shell.execute_reply.started": "2022-05-20T04:44:23.343474Z"
    },
    "pycharm": {
     "name": "#%%\n"
    },
    "tags": []
   },
   "outputs": [],
   "source": [
    "project = Project()\n",
    "project.open(model_fldr)"
   ]
  },
  {
   "cell_type": "markdown",
   "id": "984d7875-fde8-45aa-aa25-c6f2e11727d1",
   "metadata": {
    "pycharm": {
     "name": "#%% md\n"
    }
   },
   "source": [
    "## Processing the raster population information and inserts it into the model\n",
    "(slow for large datasets)"
   ]
  },
  {
   "cell_type": "code",
   "execution_count": 7,
   "id": "f1091f32-eadd-48a0-a6e6-c74d65b38176",
   "metadata": {
    "execution": {
     "iopub.execute_input": "2022-05-20T04:44:23.677939Z",
     "iopub.status.busy": "2022-05-20T04:44:23.677495Z",
     "iopub.status.idle": "2022-05-20T04:44:24.131395Z",
     "shell.execute_reply": "2022-05-20T04:44:24.130327Z",
     "shell.execute_reply.started": "2022-05-20T04:44:23.677903Z"
    },
    "tags": [],
    "pycharm": {
     "name": "#%%\n"
    }
   },
   "outputs": [
    {
     "name": "stderr",
     "output_type": "stream",
     "text": [
      "AddGeometryColumn() error: \"UNIQUE constraint failed: geometry_columns.f_table_name, geometry_columns.f_geometry_column\"\n",
      "CreateSpatialIndex() error: either \"raw_population\".\"geometry\" isn't a Geometry column or a SpatialIndex is already defined\n"
     ]
    }
   ],
   "source": [
    "pop_to_model(project, model_place)"
   ]
  },
  {
   "cell_type": "markdown",
   "id": "f13b3850-0c6a-42b7-ab4d-86ad193b52c4",
   "metadata": {
    "execution": {
     "iopub.execute_input": "2022-05-11T20:56:04.356315Z",
     "iopub.status.busy": "2022-05-11T20:56:04.355594Z",
     "iopub.status.idle": "2022-05-11T20:56:04.362000Z",
     "shell.execute_reply": "2022-05-11T20:56:04.361037Z",
     "shell.execute_reply.started": "2022-05-11T20:56:04.356241Z"
    },
    "tags": [],
    "pycharm": {
     "name": "#%% md\n"
    }
   },
   "source": [
    "## Comparing the total vectorized population to a World Bank source"
   ]
  },
  {
   "cell_type": "code",
   "execution_count": 8,
   "id": "407a763f-04e5-4a23-adc6-f1cd69afb39e",
   "metadata": {
    "execution": {
     "iopub.execute_input": "2022-05-20T04:44:24.133441Z",
     "iopub.status.busy": "2022-05-20T04:44:24.133010Z",
     "iopub.status.idle": "2022-05-20T04:44:24.612925Z",
     "shell.execute_reply": "2022-05-20T04:44:24.611873Z",
     "shell.execute_reply.started": "2022-05-20T04:44:24.133404Z"
    },
    "tags": [],
    "pycharm": {
     "name": "#%%\n"
    }
   },
   "outputs": [
    {
     "data": {
      "text/html": [
       "<div>\n",
       "<style scoped>\n",
       "    .dataframe tbody tr th:only-of-type {\n",
       "        vertical-align: middle;\n",
       "    }\n",
       "\n",
       "    .dataframe tbody tr th {\n",
       "        vertical-align: top;\n",
       "    }\n",
       "\n",
       "    .dataframe thead th {\n",
       "        text-align: right;\n",
       "    }\n",
       "</style>\n",
       "<table border=\"1\" class=\"dataframe\">\n",
       "  <thead>\n",
       "    <tr style=\"text-align: right;\">\n",
       "      <th></th>\n",
       "      <th>Total population</th>\n",
       "    </tr>\n",
       "    <tr>\n",
       "      <th></th>\n",
       "      <th></th>\n",
       "    </tr>\n",
       "  </thead>\n",
       "  <tbody>\n",
       "    <tr>\n",
       "      <th>Vectorized from raster</th>\n",
       "      <td>114,728</td>\n",
       "    </tr>\n",
       "    <tr>\n",
       "      <th>World Bank source</th>\n",
       "      <td>77,265</td>\n",
       "    </tr>\n",
       "  </tbody>\n",
       "</table>\n",
       "</div>"
      ],
      "text/plain": [
       "                       Total population\n",
       "                                       \n",
       "Vectorized from raster          114,728\n",
       "World Bank source                77,265"
      ]
     },
     "execution_count": 8,
     "metadata": {},
     "output_type": "execute_result"
    }
   ],
   "source": [
    "check_pop(model_place, project)"
   ]
  },
  {
   "cell_type": "markdown",
   "id": "541d64f8-c4e3-4056-9fc8-f8bcc85096f7",
   "metadata": {
    "pycharm": {
     "name": "#%% md\n"
    }
   },
   "source": [
    "# Population per subdivision"
   ]
  },
  {
   "cell_type": "code",
   "execution_count": 9,
   "id": "91e0be7b-310a-4b5f-a9b6-eceafb1f7ff4",
   "metadata": {
    "execution": {
     "iopub.execute_input": "2022-05-20T04:44:24.616687Z",
     "iopub.status.busy": "2022-05-20T04:44:24.616047Z",
     "iopub.status.idle": "2022-05-20T04:44:24.660079Z",
     "shell.execute_reply": "2022-05-20T04:44:24.658174Z",
     "shell.execute_reply.started": "2022-05-20T04:44:24.616661Z"
    },
    "tags": [],
    "pycharm": {
     "name": "#%%\n"
    }
   },
   "outputs": [],
   "source": [
    "sql = \"SELECT division_name, level, Hex(ST_AsBinary(GEOMETRY)) as geom FROM country_subdivisions;\"\n",
    "subdivisions = gpd.GeoDataFrame.from_postgis(sql, project.conn, geom_col=\"geom\", crs=4326)\n",
    "subdiv1 = subdivisions[subdivisions.level==1]\n",
    "subdiv2 = subdivisions[subdivisions.level==2]"
   ]
  },
  {
   "cell_type": "code",
   "execution_count": 10,
   "id": "9afedbfb-9981-40fa-ae5d-d093c83aa050",
   "metadata": {
    "execution": {
     "iopub.execute_input": "2022-05-20T04:44:24.662052Z",
     "iopub.status.busy": "2022-05-20T04:44:24.661602Z",
     "iopub.status.idle": "2022-05-20T04:44:27.101699Z",
     "shell.execute_reply": "2022-05-20T04:44:27.100780Z",
     "shell.execute_reply.started": "2022-05-20T04:44:24.662011Z"
    },
    "tags": [],
    "pycharm": {
     "name": "#%%\n"
    }
   },
   "outputs": [],
   "source": [
    "sql = \"SELECT population, Hex(ST_AsBinary(GEOMETRY)) as geom FROM raw_population;\"\n",
    "pop = gpd.GeoDataFrame.from_postgis(sql, project.conn, geom_col=\"geom\", crs=4326)"
   ]
  },
  {
   "cell_type": "code",
   "execution_count": 11,
   "id": "2b57b863-b345-417e-9578-b80194038831",
   "metadata": {
    "execution": {
     "iopub.execute_input": "2022-05-20T04:44:27.103359Z",
     "iopub.status.busy": "2022-05-20T04:44:27.102980Z",
     "iopub.status.idle": "2022-05-20T04:44:28.468544Z",
     "shell.execute_reply": "2022-05-20T04:44:28.467516Z",
     "shell.execute_reply.started": "2022-05-20T04:44:27.103321Z"
    },
    "tags": [],
    "pycharm": {
     "name": "#%%\n"
    }
   },
   "outputs": [
    {
     "data": {
      "text/plain": [
       "<AxesSubplot:>"
      ]
     },
     "execution_count": 11,
     "metadata": {},
     "output_type": "execute_result"
    },
    {
     "data": {
      "image/png": "[encoded data removed]",
      "text/plain": [
       "<Figure size 432x288 with 2 Axes>"
      ]
     },
     "metadata": {
      "needs_background": "light"
     },
     "output_type": "display_data"
    }
   ],
   "source": [
    "import matplotlib.pyplot as plt\n",
    "\n",
    "data = gpd.sjoin(pop, subdiv1)\n",
    "sum_pop = data.groupby(['division_name']).sum()[['population']].reset_index()\n",
    "fig, ax = plt.subplots(1, 1)\n",
    "plot_data = subdivisions.merge(sum_pop, on='division_name')\n",
    "plot_data.plot(column='population', ax=ax, legend=True)"
   ]
  },
  {
   "cell_type": "code",
   "execution_count": 12,
   "id": "719f47cb-1e41-428f-a357-e3b6f06fd63f",
   "metadata": {
    "execution": {
     "iopub.execute_input": "2022-05-20T04:44:28.471041Z",
     "iopub.status.busy": "2022-05-20T04:44:28.469918Z",
     "iopub.status.idle": "2022-05-20T04:44:28.502438Z",
     "shell.execute_reply": "2022-05-20T04:44:28.501535Z",
     "shell.execute_reply.started": "2022-05-20T04:44:28.470995Z"
    },
    "tags": [],
    "pycharm": {
     "name": "#%%\n"
    }
   },
   "outputs": [],
   "source": [
    "import matplotlib.pyplot as plt\n",
    "\n",
    "if subdiv2.shape[0]:\n",
    "    data = gpd.sjoin(pop, subdiv2)\n",
    "    sum_pop = data.groupby(['division_name']).sum()[['population']].reset_index()\n",
    "    fig, ax = plt.subplots(1, 1)\n",
    "    plot_data = subdivisions.merge(sum_pop, on='division_name')\n",
    "    plot_data.plot(column='population', ax=ax, legend=True)"
   ]
  },
  {
   "cell_type": "code",
   "execution_count": 13,
   "id": "19f7b8ab-10fe-434d-b572-7fe0b8e38cf3",
   "metadata": {
    "execution": {
     "iopub.execute_input": "2022-05-20T04:44:28.504739Z",
     "iopub.status.busy": "2022-05-20T04:44:28.504150Z",
     "iopub.status.idle": "2022-05-20T04:44:28.648881Z",
     "shell.execute_reply": "2022-05-20T04:44:28.647950Z",
     "shell.execute_reply.started": "2022-05-20T04:44:28.504700Z"
    },
    "pycharm": {
     "name": "#%%\n"
    },
    "tags": []
   },
   "outputs": [],
   "source": [
    "project.close()"
   ]
  }
 ],
 "metadata": {
  "kernelspec": {
   "display_name": "saturn (Python 3)",
   "language": "python",
   "name": "python3"
  },
  "language_info": {
   "codemirror_mode": {
    "name": "ipython",
    "version": 3
   },
   "file_extension": ".py",
   "mimetype": "text/x-python",
   "name": "python",
   "nbconvert_exporter": "python",
   "pygments_lexer": "ipython3",
   "version": "3.9.9"
  }
 },
 "nbformat": 4,
 "nbformat_minor": 5
}