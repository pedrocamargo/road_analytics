{
 "cells": [
  {
   "cell_type": "markdown",
   "id": "8590e6b6-d76a-4b54-87af-fed5976b4b63",
   "metadata": {},
   "source": [
    "# Imports"
   ]
  },
  {
   "cell_type": "code",
   "execution_count": 1,
   "id": "57be210e-2f6e-4035-8e01-0072196b9665",
   "metadata": {
    "execution": {
     "iopub.execute_input": "2022-05-12T12:37:11.401843Z",
     "iopub.status.busy": "2022-05-12T12:37:11.400881Z",
     "iopub.status.idle": "2022-05-12T12:37:12.431195Z",
     "shell.execute_reply": "2022-05-12T12:37:12.430415Z",
     "shell.execute_reply.started": "2022-05-12T12:37:11.401694Z"
    },
    "tags": []
   },
   "outputs": [],
   "source": [
    "import sys\n",
    "import logging\n",
    "import shutil\n",
    "from uuid import uuid4\n",
    "from tempfile import gettempdir\n",
    "from os.path import join, isdir\n",
    "import folium\n",
    "from aequilibrae import Parameters, logger, Project\n",
    "import pandas as pd"
   ]
  },
  {
   "cell_type": "markdown",
   "id": "4384251b-4bb2-4d74-83cd-08884bf16d8d",
   "metadata": {
    "execution": {
     "iopub.execute_input": "2022-05-12T12:10:00.231975Z",
     "iopub.status.busy": "2022-05-12T12:10:00.230892Z",
     "iopub.status.idle": "2022-05-12T12:10:00.244913Z",
     "shell.execute_reply": "2022-05-12T12:10:00.242609Z",
     "shell.execute_reply.started": "2022-05-12T12:10:00.231932Z"
    },
    "tags": []
   },
   "source": [
    "# Model place (Country) to build the model for"
   ]
  },
  {
   "cell_type": "code",
   "execution_count": 2,
   "id": "69295e38-275b-45d6-9e00-4fd6d02154a5",
   "metadata": {
    "execution": {
     "iopub.execute_input": "2022-05-12T12:37:12.436444Z",
     "iopub.status.busy": "2022-05-12T12:37:12.435954Z",
     "iopub.status.idle": "2022-05-12T12:37:12.440983Z",
     "shell.execute_reply": "2022-05-12T12:37:12.440101Z",
     "shell.execute_reply.started": "2022-05-12T12:37:12.436415Z"
    },
    "tags": []
   },
   "outputs": [],
   "source": [
    "model_place = 'Andorra'"
   ]
  },
  {
   "cell_type": "code",
   "execution_count": 3,
   "id": "10ce42a4-2a69-45c1-961c-8c6a9d70893e",
   "metadata": {
    "execution": {
     "iopub.execute_input": "2022-05-12T12:37:12.444622Z",
     "iopub.status.busy": "2022-05-12T12:37:12.443704Z",
     "iopub.status.idle": "2022-05-12T12:37:12.450347Z",
     "shell.execute_reply": "2022-05-12T12:37:12.449102Z",
     "shell.execute_reply.started": "2022-05-12T12:37:12.444587Z"
    },
    "tags": []
   },
   "outputs": [],
   "source": [
    "fldr = f'../../{model_place}'"
   ]
  },
  {
   "cell_type": "markdown",
   "id": "cfa2f9f6-e06d-499a-a0d1-727108aa0935",
   "metadata": {},
   "source": [
    "# Open the model"
   ]
  },
  {
   "cell_type": "code",
   "execution_count": 4,
   "id": "81c63d11-359a-46a6-aec3-4b0324287f3e",
   "metadata": {
    "execution": {
     "iopub.execute_input": "2022-05-12T12:37:12.453197Z",
     "iopub.status.busy": "2022-05-12T12:37:12.452529Z",
     "iopub.status.idle": "2022-05-12T12:37:12.716389Z",
     "shell.execute_reply": "2022-05-12T12:37:12.715832Z",
     "shell.execute_reply.started": "2022-05-12T12:37:12.453164Z"
    },
    "tags": []
   },
   "outputs": [],
   "source": [
    "project = Project()\n",
    "project.open(fldr)"
   ]
  },
  {
   "cell_type": "markdown",
   "id": "dfed8c15-9684-484b-808f-daa46c6d7f83",
   "metadata": {},
   "source": [
    "# MOVE ALL CODE BELOW TO A FUNCTION\n",
    "# THIS NOTEBOOK SHOULD CONTAIN THE BUILD OF THE DEMAND MODEL WITHIN THE PROJECT AS WELL"
   ]
  },
  {
   "cell_type": "markdown",
   "id": "e834aa42-33d4-487c-898a-9fe054779c73",
   "metadata": {},
   "source": [
    "# Adds fields missing in the data"
   ]
  },
  {
   "cell_type": "code",
   "execution_count": 5,
   "id": "8decacb7-f3c5-4112-ad38-39bdb0305c53",
   "metadata": {
    "execution": {
     "iopub.execute_input": "2022-05-12T12:37:12.719304Z",
     "iopub.status.busy": "2022-05-12T12:37:12.718648Z",
     "iopub.status.idle": "2022-05-12T12:37:12.726529Z",
     "shell.execute_reply": "2022-05-12T12:37:12.726051Z",
     "shell.execute_reply.started": "2022-05-12T12:37:12.719268Z"
    },
    "tags": []
   },
   "outputs": [],
   "source": [
    "speeds_and_capacities = pd.read_csv('../model/network/speeds_and_capacities.csv')"
   ]
  },
  {
   "cell_type": "markdown",
   "id": "9c9fd12b-261b-44e4-b56c-09fea1cc5700",
   "metadata": {},
   "source": [
    "### Number of lanes and lane_capacity"
   ]
  },
  {
   "cell_type": "code",
   "execution_count": 6,
   "id": "08102275-a7db-407f-874c-0422957f1d17",
   "metadata": {
    "execution": {
     "iopub.execute_input": "2022-05-12T12:37:12.728463Z",
     "iopub.status.busy": "2022-05-12T12:37:12.727886Z",
     "iopub.status.idle": "2022-05-12T12:37:12.764064Z",
     "shell.execute_reply": "2022-05-12T12:37:12.763226Z",
     "shell.execute_reply.started": "2022-05-12T12:37:12.728431Z"
    },
    "tags": []
   },
   "outputs": [
    {
     "data": {
      "text/plain": [
       "<sqlite3.Cursor at 0x7f9e3d277b90>"
      ]
     },
     "execution_count": 6,
     "metadata": {},
     "output_type": "execute_result"
    }
   ],
   "source": [
    "project.conn.execute('Update link_types set lanes=1, lane_capacity=400 where link_type_id not in (\"z\", \"y\")')\n",
    "project.conn.commit()\n",
    "for idx, rec in speeds_and_capacities.iterrows():\n",
    "    project.conn.execute('Update link_types set lanes=?, lane_capacity=? where link_type=?', [rec.lanes, rec.lane_capacity, rec.link_type])\n",
    "    project.conn.execute('Update links set lanes_ab=? where lanes_ab is NULL and direction>=0 and link_type=?', [rec.lanes, rec.link_type])\n",
    "    project.conn.execute('Update links set lanes_ba=? where lanes_ba is NULL and direction>=0 and link_type=?', [rec.lanes, rec.link_type])\n",
    "    \n",
    "project.conn.execute('Update links set lanes_ab = (select lanes from link_types where link_type=links.link_type) where lanes_ab is NULL')\n",
    "project.conn.execute('Update links set lanes_ba =(select lanes from link_types where link_type=links.link_type) where lanes_ba is NULL')"
   ]
  },
  {
   "cell_type": "markdown",
   "id": "0aaa9275-ea2b-4532-8d2e-ba1427be52b2",
   "metadata": {},
   "source": [
    "### Speeds"
   ]
  },
  {
   "cell_type": "code",
   "execution_count": 7,
   "id": "3e9f7ea4-02da-4d20-b401-de602a14fbf1",
   "metadata": {
    "execution": {
     "iopub.execute_input": "2022-05-12T12:37:12.769589Z",
     "iopub.status.busy": "2022-05-12T12:37:12.768990Z",
     "iopub.status.idle": "2022-05-12T12:37:12.863720Z",
     "shell.execute_reply": "2022-05-12T12:37:12.863112Z",
     "shell.execute_reply.started": "2022-05-12T12:37:12.769553Z"
    },
    "tags": []
   },
   "outputs": [],
   "source": [
    "for idx, rec in speeds_and_capacities.iterrows():\n",
    "    project.conn.execute('Update links set speed_ab=? where direction>=0 and link_type=?', [rec.speed, rec.link_type])\n",
    "    project.conn.execute('Update links set speed_ba=? where direction<1 and link_type=?', [rec.speed, rec.link_type])\n",
    "\n",
    "# Fill the missing ones\n",
    "project.conn.execute('Update links set speed_ab=40 where direction>=0 and speed_ab is NULL')\n",
    "project.conn.execute('Update links set speed_ba=40 where direction<1 and speed_ba is NULL')\n",
    "project.conn.commit()"
   ]
  },
  {
   "cell_type": "markdown",
   "id": "54dddc2d-f3b2-4dfb-ab52-894d6b96bb70",
   "metadata": {},
   "source": [
    "### Link capacities"
   ]
  },
  {
   "cell_type": "code",
   "execution_count": 8,
   "id": "5f85edfb-acc4-402d-8a4b-f74a09cf69b6",
   "metadata": {
    "execution": {
     "iopub.execute_input": "2022-05-12T12:37:12.865534Z",
     "iopub.status.busy": "2022-05-12T12:37:12.864977Z",
     "iopub.status.idle": "2022-05-12T12:37:12.963323Z",
     "shell.execute_reply": "2022-05-12T12:37:12.962548Z",
     "shell.execute_reply.started": "2022-05-12T12:37:12.865501Z"
    },
    "tags": []
   },
   "outputs": [
    {
     "data": {
      "text/plain": [
       "<sqlite3.Cursor at 0x7f9e3d2776c0>"
      ]
     },
     "execution_count": 8,
     "metadata": {},
     "output_type": "execute_result"
    }
   ],
   "source": [
    "project.conn.execute('Update links set capacity_ab=lanes_ab* (select lane_capacity from link_types where link_type=links.link_type)')\n",
    "project.conn.execute('Update links set capacity_ba=lanes_ba* (select lane_capacity from link_types where link_type=links.link_type)')\n",
    "project.conn.execute(\"Update links set capacity_ab=0.1 where modes like '%c%' and capacity_ab=0\")\n",
    "project.conn.execute(\"Update links set capacity_ba=0.1 where modes like '%c%' and capacity_ba=0\")"
   ]
  },
  {
   "cell_type": "code",
   "execution_count": null,
   "id": "20c4e7de-425f-4d3a-a2bf-fbc0732a21fa",
   "metadata": {},
   "outputs": [],
   "source": [
    "project.close()"
   ]
  }
 ],
 "metadata": {
  "kernelspec": {
   "display_name": "saturn (Python 3)",
   "language": "python",
   "name": "python3"
  },
  "language_info": {
   "codemirror_mode": {
    "name": "ipython",
    "version": 3
   },
   "file_extension": ".py",
   "mimetype": "text/x-python",
   "name": "python",
   "nbconvert_exporter": "python",
   "pygments_lexer": "ipython3",
   "version": "3.9.12"
  }
 },
 "nbformat": 4,
 "nbformat_minor": 5
}
