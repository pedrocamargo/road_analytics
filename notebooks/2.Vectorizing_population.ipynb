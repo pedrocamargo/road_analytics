{
 "cells": [
  {
   "cell_type": "code",
   "execution_count": 3,
   "id": "liquid-wayne",
   "metadata": {
    "execution": {
     "iopub.execute_input": "2022-05-11T20:23:36.342287Z",
     "iopub.status.busy": "2022-05-11T20:23:36.340831Z",
     "iopub.status.idle": "2022-05-11T20:23:36.453216Z",
     "shell.execute_reply": "2022-05-11T20:23:36.451953Z",
     "shell.execute_reply.started": "2022-05-11T20:23:36.342154Z"
    },
    "pycharm": {
     "name": "#%%\n"
    },
    "tags": []
   },
   "outputs": [],
   "source": [
    "from aequilibrae import Project\n",
    "import geopandas as gpd\n",
    "import pandas as pd\n",
    "import rasterio"
   ]
  },
  {
   "cell_type": "code",
   "execution_count": 4,
   "id": "2b474c29-80fa-4073-bd89-090c37da8791",
   "metadata": {
    "execution": {
     "iopub.execute_input": "2022-05-11T20:23:38.228636Z",
     "iopub.status.busy": "2022-05-11T20:23:38.227873Z",
     "iopub.status.idle": "2022-05-11T20:23:38.241914Z",
     "shell.execute_reply": "2022-05-11T20:23:38.240271Z",
     "shell.execute_reply.started": "2022-05-11T20:23:38.228571Z"
    },
    "tags": []
   },
   "outputs": [],
   "source": [
    "from functions.raster_to_dataframe import raster_to_df\n",
    "from functions.country_main_area import get_main_area"
   ]
  },
  {
   "cell_type": "markdown",
   "id": "75e4534b-b14b-4698-a4bf-6ceae5cfc3e5",
   "metadata": {
    "execution": {
     "iopub.execute_input": "2022-05-11T16:57:50.975348Z",
     "iopub.status.busy": "2022-05-11T16:57:50.974908Z",
     "iopub.status.idle": "2022-05-11T16:57:50.984393Z",
     "shell.execute_reply": "2022-05-11T16:57:50.983359Z",
     "shell.execute_reply.started": "2022-05-11T16:57:50.975268Z"
    },
    "tags": []
   },
   "source": [
    "## Model place (Country)"
   ]
  },
  {
   "cell_type": "code",
   "execution_count": 5,
   "id": "5d409b2b-15ca-4ab1-85f6-27cb40ad4b21",
   "metadata": {
    "execution": {
     "iopub.execute_input": "2022-05-11T20:23:40.711144Z",
     "iopub.status.busy": "2022-05-11T20:23:40.710497Z",
     "iopub.status.idle": "2022-05-11T20:23:40.718455Z",
     "shell.execute_reply": "2022-05-11T20:23:40.717528Z",
     "shell.execute_reply.started": "2022-05-11T20:23:40.711084Z"
    },
    "tags": []
   },
   "outputs": [],
   "source": [
    "model_place = 'Andorra'"
   ]
  },
  {
   "cell_type": "markdown",
   "id": "fe39f652-6c66-4a08-929d-70d4cfb1959d",
   "metadata": {},
   "source": [
    "## Loading project and getting country main area to be transformed into dataframe"
   ]
  },
  {
   "cell_type": "code",
   "execution_count": 6,
   "id": "eligible-immunology",
   "metadata": {
    "execution": {
     "iopub.execute_input": "2022-05-11T20:23:43.339991Z",
     "iopub.status.busy": "2022-05-11T20:23:43.339342Z",
     "iopub.status.idle": "2022-05-11T20:23:43.346609Z",
     "shell.execute_reply": "2022-05-11T20:23:43.345534Z",
     "shell.execute_reply.started": "2022-05-11T20:23:43.339929Z"
    },
    "pycharm": {
     "name": "#%%\n"
    },
    "tags": []
   },
   "outputs": [],
   "source": [
    "model_fldr = f'../{model_place}'\n",
    "pop_file = f'../population/{model_place}/ppp_2020.tif'"
   ]
  },
  {
   "cell_type": "code",
   "execution_count": 7,
   "id": "02d88be9-4d4e-4bf2-bd54-bb79c27633d1",
   "metadata": {
    "execution": {
     "iopub.execute_input": "2022-05-11T20:23:45.871985Z",
     "iopub.status.busy": "2022-05-11T20:23:45.870611Z",
     "iopub.status.idle": "2022-05-11T20:23:47.082149Z",
     "shell.execute_reply": "2022-05-11T20:23:47.081130Z",
     "shell.execute_reply.started": "2022-05-11T20:23:45.871786Z"
    },
    "pycharm": {
     "name": "#%%\n"
    },
    "tags": []
   },
   "outputs": [],
   "source": [
    "project = Project()\n",
    "project.open(model_fldr)"
   ]
  },
  {
   "cell_type": "code",
   "execution_count": 8,
   "id": "95de4727-d458-4ee4-89c0-6bb133e26078",
   "metadata": {
    "execution": {
     "iopub.execute_input": "2022-05-11T20:23:49.094707Z",
     "iopub.status.busy": "2022-05-11T20:23:49.094095Z",
     "iopub.status.idle": "2022-05-11T20:23:49.196164Z",
     "shell.execute_reply": "2022-05-11T20:23:49.194384Z",
     "shell.execute_reply.started": "2022-05-11T20:23:49.094648Z"
    },
    "pycharm": {
     "name": "#%%\n"
    },
    "tags": []
   },
   "outputs": [],
   "source": [
    "main_area = get_main_area(project)\n",
    "# modeling_region = gpd.GeoDataFrame(pd.DataFrame({'ids': [0], 'geometry': [main_area]}), crs=\"EPSG:4326\") ## Ask about it"
   ]
  },
  {
   "cell_type": "markdown",
   "id": "984d7875-fde8-45aa-aa25-c6f2e11727d1",
   "metadata": {
    "pycharm": {
     "name": "#%% md\n"
    }
   },
   "source": [
    "## Processing the raster image in Python \n",
    "(slow for large datasets)"
   ]
  },
  {
   "cell_type": "code",
   "execution_count": 9,
   "id": "f1091f32-eadd-48a0-a6e6-c74d65b38176",
   "metadata": {
    "execution": {
     "iopub.execute_input": "2022-05-11T20:23:51.129874Z",
     "iopub.status.busy": "2022-05-11T20:23:51.129217Z",
     "iopub.status.idle": "2022-05-11T20:23:51.213854Z",
     "shell.execute_reply": "2022-05-11T20:23:51.212930Z",
     "shell.execute_reply.started": "2022-05-11T20:23:51.129812Z"
    },
    "tags": []
   },
   "outputs": [],
   "source": [
    "dataset = rasterio.open(pop_file)\n",
    "df = raster_to_df(dataset, main_area)"
   ]
  },
  {
   "cell_type": "markdown",
   "id": "f13b3850-0c6a-42b7-ab4d-86ad193b52c4",
   "metadata": {
    "execution": {
     "iopub.execute_input": "2022-05-11T20:56:04.356315Z",
     "iopub.status.busy": "2022-05-11T20:56:04.355594Z",
     "iopub.status.idle": "2022-05-11T20:56:04.362000Z",
     "shell.execute_reply": "2022-05-11T20:56:04.361037Z",
     "shell.execute_reply.started": "2022-05-11T20:56:04.356241Z"
    },
    "tags": []
   },
   "source": [
    "## Comparing the total vectorized population to the World Bank source"
   ]
  },
  {
   "cell_type": "code",
   "execution_count": 15,
   "id": "418f267d-8767-4008-b567-594e0de11d21",
   "metadata": {
    "execution": {
     "iopub.execute_input": "2022-05-11T21:01:33.143350Z",
     "iopub.status.busy": "2022-05-11T21:01:33.142250Z",
     "iopub.status.idle": "2022-05-11T21:01:33.168447Z",
     "shell.execute_reply": "2022-05-11T21:01:33.167666Z",
     "shell.execute_reply.started": "2022-05-11T21:01:33.143285Z"
    },
    "tags": []
   },
   "outputs": [],
   "source": [
    "wb_tot_pop_df = pd.read_csv('../population/tot_pop_all_countries_WB.csv', skiprows = 4)"
   ]
  },
  {
   "cell_type": "code",
   "execution_count": 38,
   "id": "05e4df8f-26d3-4377-83bb-424f4fbe9c8f",
   "metadata": {
    "execution": {
     "iopub.execute_input": "2022-05-11T21:07:11.012915Z",
     "iopub.status.busy": "2022-05-11T21:07:11.011754Z",
     "iopub.status.idle": "2022-05-11T21:07:11.042781Z",
     "shell.execute_reply": "2022-05-11T21:07:11.040560Z",
     "shell.execute_reply.started": "2022-05-11T21:07:11.012756Z"
    },
    "tags": []
   },
   "outputs": [
    {
     "data": {
      "text/html": [
       "<div>\n",
       "<style scoped>\n",
       "    .dataframe tbody tr th:only-of-type {\n",
       "        vertical-align: middle;\n",
       "    }\n",
       "\n",
       "    .dataframe tbody tr th {\n",
       "        vertical-align: top;\n",
       "    }\n",
       "\n",
       "    .dataframe thead th {\n",
       "        text-align: right;\n",
       "    }\n",
       "</style>\n",
       "<table border=\"1\" class=\"dataframe\">\n",
       "  <thead>\n",
       "    <tr style=\"text-align: right;\">\n",
       "      <th></th>\n",
       "      <th>Total population</th>\n",
       "    </tr>\n",
       "    <tr>\n",
       "      <th></th>\n",
       "      <th></th>\n",
       "    </tr>\n",
       "  </thead>\n",
       "  <tbody>\n",
       "    <tr>\n",
       "      <th>From WB source</th>\n",
       "      <td>77265</td>\n",
       "    </tr>\n",
       "    <tr>\n",
       "      <th>Vectorized from raster</th>\n",
       "      <td>114728</td>\n",
       "    </tr>\n",
       "  </tbody>\n",
       "</table>\n",
       "</div>"
      ],
      "text/plain": [
       "                        Total population\n",
       "                                        \n",
       "From WB source                     77265\n",
       "Vectorized from raster            114728"
      ]
     },
     "execution_count": 38,
     "metadata": {},
     "output_type": "execute_result"
    }
   ],
   "source": [
    "wb_source = wb_tot_pop_df.loc[wb_tot_pop_df['Country Name'] == model_place, '2020']\n",
    "table_df = pd.DataFrame({'': ['Vectorized from raster', 'From WB source'], 'Total population': [int(df.population.sum()), int(wb_source)]})\n",
    "table_df = table_df.groupby('').sum()\n",
    "table_df"
   ]
  },
  {
   "cell_type": "markdown",
   "id": "ce662c1b-24f6-4979-b0e3-7b30746ec394",
   "metadata": {
    "pycharm": {
     "name": "#%% md\n"
    }
   },
   "source": [
    "## Creating a new table inside the model for the vectorized population"
   ]
  },
  {
   "cell_type": "code",
   "execution_count": 9,
   "id": "e560dc61-b959-4889-8bb4-37fe19142853",
   "metadata": {
    "execution": {
     "iopub.execute_input": "2022-05-11T02:11:38.022468Z",
     "iopub.status.busy": "2022-05-11T02:11:38.022232Z",
     "iopub.status.idle": "2022-05-11T02:11:38.199144Z",
     "shell.execute_reply": "2022-05-11T02:11:38.198101Z",
     "shell.execute_reply.started": "2022-05-11T02:11:38.022437Z"
    },
    "pycharm": {
     "name": "#%%\n"
    }
   },
   "outputs": [
    {
     "name": "stdout",
     "output_type": "stream",
     "text": [
      "CPU times: user 85.8 ms, sys: 12.3 ms, total: 98.2 ms\n",
      "Wall time: 164 ms\n"
     ]
    },
    {
     "data": {
      "text/plain": [
       "<sqlite3.Cursor at 0x7f2c79b24570>"
      ]
     },
     "execution_count": 9,
     "metadata": {},
     "output_type": "execute_result"
    }
   ],
   "source": [
    "%%time\n",
    "# Creating a new table inside the model and inserting the vectorized population there\n",
    "conn = project.conn\n",
    "df.to_sql('raw_population', conn, if_exists='replace', index=False)\n",
    "conn.execute(\"select AddGeometryColumn( 'raw_population', 'geometry', 4326, 'POINT', 'XY', 1);\")"
   ]
  },
  {
   "cell_type": "markdown",
   "id": "9538a921-b3dd-45b4-9f9f-a305b2ede123",
   "metadata": {},
   "source": [
    "## Creating point geometries from the population latitude and longitude coordinates"
   ]
  },
  {
   "cell_type": "code",
   "execution_count": 10,
   "id": "ed54e382-059f-45c6-8c1e-fc6e66a0a7bc",
   "metadata": {
    "execution": {
     "iopub.execute_input": "2022-05-11T02:11:38.200666Z",
     "iopub.status.busy": "2022-05-11T02:11:38.200416Z",
     "iopub.status.idle": "2022-05-11T02:11:38.737245Z",
     "shell.execute_reply": "2022-05-11T02:11:38.736300Z",
     "shell.execute_reply.started": "2022-05-11T02:11:38.200623Z"
    },
    "pycharm": {
     "name": "#%%\n"
    }
   },
   "outputs": [
    {
     "name": "stdout",
     "output_type": "stream",
     "text": [
      "CPU times: user 491 ms, sys: 5.02 ms, total: 496 ms\n",
      "Wall time: 531 ms\n"
     ]
    }
   ],
   "source": [
    "%%time\n",
    "conn.execute(\"UPDATE raw_population SET Geometry=MakePoint(longitude, latitude, 4326)\")\n",
    "conn.commit()"
   ]
  },
  {
   "cell_type": "code",
   "execution_count": 11,
   "id": "19f7b8ab-10fe-434d-b572-7fe0b8e38cf3",
   "metadata": {
    "execution": {
     "iopub.execute_input": "2022-05-11T02:11:38.738824Z",
     "iopub.status.busy": "2022-05-11T02:11:38.738582Z",
     "iopub.status.idle": "2022-05-11T02:11:38.833818Z",
     "shell.execute_reply": "2022-05-11T02:11:38.833130Z",
     "shell.execute_reply.started": "2022-05-11T02:11:38.738792Z"
    },
    "pycharm": {
     "name": "#%%\n"
    },
    "tags": []
   },
   "outputs": [],
   "source": [
    "project.close()"
   ]
  }
 ],
 "metadata": {
  "kernelspec": {
   "display_name": "saturn (Python 3)",
   "language": "python",
   "name": "python3"
  },
  "language_info": {
   "codemirror_mode": {
    "name": "ipython",
    "version": 3
   },
   "file_extension": ".py",
   "mimetype": "text/x-python",
   "name": "python",
   "nbconvert_exporter": "python",
   "pygments_lexer": "ipython3",
   "version": "3.9.12"
  }
 },
 "nbformat": 4,
 "nbformat_minor": 5
}
