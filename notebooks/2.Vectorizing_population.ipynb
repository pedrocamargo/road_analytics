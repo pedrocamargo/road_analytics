{
 "cells": [
  {
   "cell_type": "code",
   "execution_count": 39,
   "id": "liquid-wayne",
   "metadata": {
    "execution": {
     "iopub.execute_input": "2022-05-11T22:14:33.237061Z",
     "iopub.status.busy": "2022-05-11T22:14:33.236639Z",
     "iopub.status.idle": "2022-05-11T22:14:33.286605Z",
     "shell.execute_reply": "2022-05-11T22:14:33.285832Z",
     "shell.execute_reply.started": "2022-05-11T22:14:33.237033Z"
    },
    "pycharm": {
     "name": "#%%\n"
    },
    "tags": []
   },
   "outputs": [],
   "source": [
    "from aequilibrae import Project\n",
    "import geopandas as gpd\n",
    "import pandas as pd\n",
    "import rasterio\n",
    "import zipfile\n",
    "from io import BytesIO"
   ]
  },
  {
   "cell_type": "code",
   "execution_count": 31,
   "id": "2b474c29-80fa-4073-bd89-090c37da8791",
   "metadata": {
    "execution": {
     "iopub.execute_input": "2022-05-11T22:05:00.465341Z",
     "iopub.status.busy": "2022-05-11T22:05:00.464257Z",
     "iopub.status.idle": "2022-05-11T22:05:00.471832Z",
     "shell.execute_reply": "2022-05-11T22:05:00.469689Z",
     "shell.execute_reply.started": "2022-05-11T22:05:00.465303Z"
    },
    "tags": []
   },
   "outputs": [],
   "source": [
    "from functions.raster_to_dataframe import raster_to_df\n",
    "from functions.country_main_area import get_main_area"
   ]
  },
  {
   "cell_type": "markdown",
   "id": "75e4534b-b14b-4698-a4bf-6ceae5cfc3e5",
   "metadata": {
    "execution": {
     "iopub.execute_input": "2022-05-11T16:57:50.975348Z",
     "iopub.status.busy": "2022-05-11T16:57:50.974908Z",
     "iopub.status.idle": "2022-05-11T16:57:50.984393Z",
     "shell.execute_reply": "2022-05-11T16:57:50.983359Z",
     "shell.execute_reply.started": "2022-05-11T16:57:50.975268Z"
    },
    "tags": []
   },
   "source": [
    "## Model place (Country) and population raster definition\n",
    "(the raster must be in the same folder of this notebook)"
   ]
  },
  {
   "cell_type": "code",
   "execution_count": 40,
   "id": "5d409b2b-15ca-4ab1-85f6-27cb40ad4b21",
   "metadata": {
    "execution": {
     "iopub.execute_input": "2022-05-11T22:18:08.974927Z",
     "iopub.status.busy": "2022-05-11T22:18:08.974397Z",
     "iopub.status.idle": "2022-05-11T22:18:08.978868Z",
     "shell.execute_reply": "2022-05-11T22:18:08.977995Z",
     "shell.execute_reply.started": "2022-05-11T22:18:08.974898Z"
    },
    "tags": []
   },
   "outputs": [],
   "source": [
    "model_place = 'Andorra'\n",
    "pop_file = 'and_ppp_2020.tif'"
   ]
  },
  {
   "cell_type": "markdown",
   "id": "fe39f652-6c66-4a08-929d-70d4cfb1959d",
   "metadata": {},
   "source": [
    "## Loading project and getting country main area to be transformed into dataframe"
   ]
  },
  {
   "cell_type": "code",
   "execution_count": 33,
   "id": "eligible-immunology",
   "metadata": {
    "execution": {
     "iopub.execute_input": "2022-05-11T22:05:00.487418Z",
     "iopub.status.busy": "2022-05-11T22:05:00.486736Z",
     "iopub.status.idle": "2022-05-11T22:05:00.502427Z",
     "shell.execute_reply": "2022-05-11T22:05:00.499527Z",
     "shell.execute_reply.started": "2022-05-11T22:05:00.487380Z"
    },
    "pycharm": {
     "name": "#%%\n"
    },
    "tags": []
   },
   "outputs": [],
   "source": [
    "model_fldr = f'../{model_place}'\n",
    "# pop_file = f'../population/{model_place}/ppp_2020.tif'"
   ]
  },
  {
   "cell_type": "code",
   "execution_count": 34,
   "id": "02d88be9-4d4e-4bf2-bd54-bb79c27633d1",
   "metadata": {
    "execution": {
     "iopub.execute_input": "2022-05-11T22:05:00.505345Z",
     "iopub.status.busy": "2022-05-11T22:05:00.504495Z",
     "iopub.status.idle": "2022-05-11T22:05:00.923378Z",
     "shell.execute_reply": "2022-05-11T22:05:00.922440Z",
     "shell.execute_reply.started": "2022-05-11T22:05:00.505306Z"
    },
    "pycharm": {
     "name": "#%%\n"
    },
    "tags": []
   },
   "outputs": [],
   "source": [
    "project = Project()\n",
    "project.open(model_fldr)"
   ]
  },
  {
   "cell_type": "code",
   "execution_count": 35,
   "id": "95de4727-d458-4ee4-89c0-6bb133e26078",
   "metadata": {
    "execution": {
     "iopub.execute_input": "2022-05-11T22:05:00.930218Z",
     "iopub.status.busy": "2022-05-11T22:05:00.929343Z",
     "iopub.status.idle": "2022-05-11T22:05:00.938581Z",
     "shell.execute_reply": "2022-05-11T22:05:00.937273Z",
     "shell.execute_reply.started": "2022-05-11T22:05:00.930145Z"
    },
    "pycharm": {
     "name": "#%%\n"
    },
    "tags": []
   },
   "outputs": [],
   "source": [
    "main_area = get_main_area(project)\n",
    "# modeling_region = gpd.GeoDataFrame(pd.DataFrame({'ids': [0], 'geometry': [main_area]}), crs=\"EPSG:4326\") ## Ask about it"
   ]
  },
  {
   "cell_type": "markdown",
   "id": "984d7875-fde8-45aa-aa25-c6f2e11727d1",
   "metadata": {
    "pycharm": {
     "name": "#%% md\n"
    }
   },
   "source": [
    "## Processing the raster image in Python \n",
    "(slow for large datasets)"
   ]
  },
  {
   "cell_type": "code",
   "execution_count": 41,
   "id": "f1091f32-eadd-48a0-a6e6-c74d65b38176",
   "metadata": {
    "execution": {
     "iopub.execute_input": "2022-05-11T22:18:10.850773Z",
     "iopub.status.busy": "2022-05-11T22:18:10.849877Z",
     "iopub.status.idle": "2022-05-11T22:18:10.919474Z",
     "shell.execute_reply": "2022-05-11T22:18:10.918519Z",
     "shell.execute_reply.started": "2022-05-11T22:18:10.850735Z"
    },
    "tags": []
   },
   "outputs": [],
   "source": [
    "dataset = rasterio.open(pop_file)\n",
    "df = raster_to_df(dataset, main_area)"
   ]
  },
  {
   "cell_type": "markdown",
   "id": "f13b3850-0c6a-42b7-ab4d-86ad193b52c4",
   "metadata": {
    "execution": {
     "iopub.execute_input": "2022-05-11T20:56:04.356315Z",
     "iopub.status.busy": "2022-05-11T20:56:04.355594Z",
     "iopub.status.idle": "2022-05-11T20:56:04.362000Z",
     "shell.execute_reply": "2022-05-11T20:56:04.361037Z",
     "shell.execute_reply.started": "2022-05-11T20:56:04.356241Z"
    },
    "tags": []
   },
   "source": [
    "## Comparing the total vectorized population to the World Bank source"
   ]
  },
  {
   "cell_type": "code",
   "execution_count": 42,
   "id": "418f267d-8767-4008-b567-594e0de11d21",
   "metadata": {
    "execution": {
     "iopub.execute_input": "2022-05-11T22:18:13.650255Z",
     "iopub.status.busy": "2022-05-11T22:18:13.649663Z",
     "iopub.status.idle": "2022-05-11T22:18:14.070984Z",
     "shell.execute_reply": "2022-05-11T22:18:14.070288Z",
     "shell.execute_reply.started": "2022-05-11T22:18:13.650226Z"
    },
    "tags": []
   },
   "outputs": [],
   "source": [
    "url = \"https://api.worldbank.org/v2/en/indicator/SP.POP.TOTL?downloadformat=csv\"\n",
    "r = requests.get(url)\n",
    "buf1 = BytesIO(r.content)\n",
    "with zipfile.ZipFile(buf1, \"r\") as f:\n",
    "    for name in f.namelist():\n",
    "        if name == 'API_SP.POP.TOTL_DS2_en_csv_v2_4019998.csv':\n",
    "            with f.open(name) as zd:\n",
    "                wb_tot_pop_df = pd.read_csv(zd, skiprows = 4, encoding='utf-8')\n",
    "            break"
   ]
  },
  {
   "cell_type": "code",
   "execution_count": 43,
   "id": "05e4df8f-26d3-4377-83bb-424f4fbe9c8f",
   "metadata": {
    "execution": {
     "iopub.execute_input": "2022-05-11T22:18:15.537171Z",
     "iopub.status.busy": "2022-05-11T22:18:15.536320Z",
     "iopub.status.idle": "2022-05-11T22:18:15.579173Z",
     "shell.execute_reply": "2022-05-11T22:18:15.578289Z",
     "shell.execute_reply.started": "2022-05-11T22:18:15.537124Z"
    },
    "tags": []
   },
   "outputs": [
    {
     "data": {
      "text/html": [
       "<div>\n",
       "<style scoped>\n",
       "    .dataframe tbody tr th:only-of-type {\n",
       "        vertical-align: middle;\n",
       "    }\n",
       "\n",
       "    .dataframe tbody tr th {\n",
       "        vertical-align: top;\n",
       "    }\n",
       "\n",
       "    .dataframe thead th {\n",
       "        text-align: right;\n",
       "    }\n",
       "</style>\n",
       "<table border=\"1\" class=\"dataframe\">\n",
       "  <thead>\n",
       "    <tr style=\"text-align: right;\">\n",
       "      <th></th>\n",
       "      <th>Total population</th>\n",
       "    </tr>\n",
       "    <tr>\n",
       "      <th></th>\n",
       "      <th></th>\n",
       "    </tr>\n",
       "  </thead>\n",
       "  <tbody>\n",
       "    <tr>\n",
       "      <th>From WB source</th>\n",
       "      <td>77265</td>\n",
       "    </tr>\n",
       "    <tr>\n",
       "      <th>Vectorized from raster</th>\n",
       "      <td>114728</td>\n",
       "    </tr>\n",
       "  </tbody>\n",
       "</table>\n",
       "</div>"
      ],
      "text/plain": [
       "                        Total population\n",
       "                                        \n",
       "From WB source                     77265\n",
       "Vectorized from raster            114728"
      ]
     },
     "execution_count": 43,
     "metadata": {},
     "output_type": "execute_result"
    }
   ],
   "source": [
    "wb_source = wb_tot_pop_df.loc[wb_tot_pop_df['Country Name'] == model_place, '2020']\n",
    "table_df = pd.DataFrame({'': ['Vectorized from raster', 'From WB source'], 'Total population': [int(df.population.sum()), int(wb_source)]})\n",
    "table_df = table_df.groupby('').sum()\n",
    "table_df"
   ]
  },
  {
   "cell_type": "markdown",
   "id": "ce662c1b-24f6-4979-b0e3-7b30746ec394",
   "metadata": {
    "pycharm": {
     "name": "#%% md\n"
    }
   },
   "source": [
    "## Creating a new table inside the model for the vectorized population"
   ]
  },
  {
   "cell_type": "code",
   "execution_count": 44,
   "id": "e560dc61-b959-4889-8bb4-37fe19142853",
   "metadata": {
    "execution": {
     "iopub.execute_input": "2022-05-11T22:18:17.553532Z",
     "iopub.status.busy": "2022-05-11T22:18:17.553218Z",
     "iopub.status.idle": "2022-05-11T22:18:17.809639Z",
     "shell.execute_reply": "2022-05-11T22:18:17.808745Z",
     "shell.execute_reply.started": "2022-05-11T22:18:17.553508Z"
    },
    "pycharm": {
     "name": "#%%\n"
    },
    "tags": []
   },
   "outputs": [
    {
     "name": "stdout",
     "output_type": "stream",
     "text": [
      "CPU times: user 151 ms, sys: 4.46 ms, total: 155 ms\n",
      "Wall time: 245 ms\n"
     ]
    },
    {
     "data": {
      "text/plain": [
       "<sqlite3.Cursor at 0x7f9208895260>"
      ]
     },
     "execution_count": 44,
     "metadata": {},
     "output_type": "execute_result"
    }
   ],
   "source": [
    "%%time\n",
    "# Creating a new table inside the model and inserting the vectorized population there\n",
    "conn = project.conn\n",
    "df.to_sql('raw_population', conn, if_exists='replace', index=False)\n",
    "conn.execute(\"select AddGeometryColumn( 'raw_population', 'geometry', 4326, 'POINT', 'XY', 1);\")"
   ]
  },
  {
   "cell_type": "markdown",
   "id": "9538a921-b3dd-45b4-9f9f-a305b2ede123",
   "metadata": {},
   "source": [
    "## Creating point geometries from the population latitude and longitude coordinates"
   ]
  },
  {
   "cell_type": "code",
   "execution_count": 45,
   "id": "ed54e382-059f-45c6-8c1e-fc6e66a0a7bc",
   "metadata": {
    "execution": {
     "iopub.execute_input": "2022-05-11T22:18:19.816963Z",
     "iopub.status.busy": "2022-05-11T22:18:19.816366Z",
     "iopub.status.idle": "2022-05-11T22:18:20.610430Z",
     "shell.execute_reply": "2022-05-11T22:18:20.605645Z",
     "shell.execute_reply.started": "2022-05-11T22:18:19.816924Z"
    },
    "pycharm": {
     "name": "#%%\n"
    },
    "tags": []
   },
   "outputs": [
    {
     "name": "stdout",
     "output_type": "stream",
     "text": [
      "CPU times: user 626 ms, sys: 33.2 ms, total: 659 ms\n",
      "Wall time: 783 ms\n"
     ]
    }
   ],
   "source": [
    "%%time\n",
    "conn.execute(\"UPDATE raw_population SET Geometry=MakePoint(longitude, latitude, 4326)\")\n",
    "conn.commit()"
   ]
  },
  {
   "cell_type": "code",
   "execution_count": 46,
   "id": "19f7b8ab-10fe-434d-b572-7fe0b8e38cf3",
   "metadata": {
    "execution": {
     "iopub.execute_input": "2022-05-11T22:18:22.722392Z",
     "iopub.status.busy": "2022-05-11T22:18:22.721401Z",
     "iopub.status.idle": "2022-05-11T22:18:22.919651Z",
     "shell.execute_reply": "2022-05-11T22:18:22.918713Z",
     "shell.execute_reply.started": "2022-05-11T22:18:22.722341Z"
    },
    "pycharm": {
     "name": "#%%\n"
    },
    "tags": []
   },
   "outputs": [],
   "source": [
    "project.close()"
   ]
  }
 ],
 "metadata": {
  "kernelspec": {
   "display_name": "saturn (Python 3)",
   "language": "python",
   "name": "python3"
  },
  "language_info": {
   "codemirror_mode": {
    "name": "ipython",
    "version": 3
   },
   "file_extension": ".py",
   "mimetype": "text/x-python",
   "name": "python",
   "nbconvert_exporter": "python",
   "pygments_lexer": "ipython3",
   "version": "3.9.12"
  }
 },
 "nbformat": 4,
 "nbformat_minor": 5
}
