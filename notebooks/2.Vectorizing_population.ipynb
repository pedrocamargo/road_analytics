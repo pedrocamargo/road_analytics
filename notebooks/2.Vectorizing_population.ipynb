{
 "cells": [
  {
   "cell_type": "code",
   "execution_count": 1,
   "id": "liquid-wayne",
   "metadata": {
    "execution": {
     "iopub.execute_input": "2022-05-11T23:37:51.690043Z",
     "iopub.status.busy": "2022-05-11T23:37:51.689265Z",
     "iopub.status.idle": "2022-05-11T23:37:52.562559Z",
     "shell.execute_reply": "2022-05-11T23:37:52.561777Z",
     "shell.execute_reply.started": "2022-05-11T23:37:51.689949Z"
    },
    "pycharm": {
     "name": "#%%\n"
    },
    "tags": []
   },
   "outputs": [],
   "source": [
    "from aequilibrae import Project\n",
    "import pandas as pd\n",
    "import rasterio"
   ]
  },
  {
   "cell_type": "code",
   "execution_count": 2,
   "id": "2b474c29-80fa-4073-bd89-090c37da8791",
   "metadata": {
    "execution": {
     "iopub.execute_input": "2022-05-11T23:37:52.564750Z",
     "iopub.status.busy": "2022-05-11T23:37:52.564215Z",
     "iopub.status.idle": "2022-05-11T23:37:53.361639Z",
     "shell.execute_reply": "2022-05-11T23:37:53.361081Z",
     "shell.execute_reply.started": "2022-05-11T23:37:52.564716Z"
    },
    "tags": []
   },
   "outputs": [],
   "source": [
    "from functions.raster_to_dataframe import raster_to_df\n",
    "from functions.country_main_area import get_main_area\n",
    "from functions.check_population import check_pop\n",
    "from functions.preview_raster import preview_raster"
   ]
  },
  {
   "cell_type": "markdown",
   "id": "75e4534b-b14b-4698-a4bf-6ceae5cfc3e5",
   "metadata": {
    "execution": {
     "iopub.execute_input": "2022-05-11T16:57:50.975348Z",
     "iopub.status.busy": "2022-05-11T16:57:50.974908Z",
     "iopub.status.idle": "2022-05-11T16:57:50.984393Z",
     "shell.execute_reply": "2022-05-11T16:57:50.983359Z",
     "shell.execute_reply.started": "2022-05-11T16:57:50.975268Z"
    },
    "tags": []
   },
   "source": [
    "## Model place (country) and population raster definition\n",
    "(the raster must be in the same folder as this notebook)"
   ]
  },
  {
   "cell_type": "code",
   "execution_count": 3,
   "id": "5d409b2b-15ca-4ab1-85f6-27cb40ad4b21",
   "metadata": {
    "execution": {
     "iopub.execute_input": "2022-05-11T23:37:53.365691Z",
     "iopub.status.busy": "2022-05-11T23:37:53.365157Z",
     "iopub.status.idle": "2022-05-11T23:37:53.369879Z",
     "shell.execute_reply": "2022-05-11T23:37:53.369102Z",
     "shell.execute_reply.started": "2022-05-11T23:37:53.365663Z"
    },
    "tags": []
   },
   "outputs": [],
   "source": [
    "model_place = 'Andorra'\n",
    "pop_file = 'andorra_population.tif'"
   ]
  },
  {
   "cell_type": "markdown",
   "id": "fe39f652-6c66-4a08-929d-70d4cfb1959d",
   "metadata": {},
   "source": [
    "## Loading project and getting country main area"
   ]
  },
  {
   "cell_type": "code",
   "execution_count": 4,
   "id": "eligible-immunology",
   "metadata": {
    "execution": {
     "iopub.execute_input": "2022-05-11T23:37:53.371725Z",
     "iopub.status.busy": "2022-05-11T23:37:53.371265Z",
     "iopub.status.idle": "2022-05-11T23:37:53.375462Z",
     "shell.execute_reply": "2022-05-11T23:37:53.374609Z",
     "shell.execute_reply.started": "2022-05-11T23:37:53.371693Z"
    },
    "pycharm": {
     "name": "#%%\n"
    },
    "tags": []
   },
   "outputs": [],
   "source": [
    "model_fldr = f'../{model_place}'"
   ]
  },
  {
   "cell_type": "code",
   "execution_count": 5,
   "id": "02d88be9-4d4e-4bf2-bd54-bb79c27633d1",
   "metadata": {
    "execution": {
     "iopub.execute_input": "2022-05-11T23:37:53.377212Z",
     "iopub.status.busy": "2022-05-11T23:37:53.376717Z",
     "iopub.status.idle": "2022-05-11T23:37:53.747773Z",
     "shell.execute_reply": "2022-05-11T23:37:53.747246Z",
     "shell.execute_reply.started": "2022-05-11T23:37:53.377181Z"
    },
    "pycharm": {
     "name": "#%%\n"
    },
    "tags": []
   },
   "outputs": [],
   "source": [
    "project = Project()\n",
    "project.open(model_fldr)"
   ]
  },
  {
   "cell_type": "code",
   "execution_count": 6,
   "id": "95de4727-d458-4ee4-89c0-6bb133e26078",
   "metadata": {
    "execution": {
     "iopub.execute_input": "2022-05-11T23:37:53.750249Z",
     "iopub.status.busy": "2022-05-11T23:37:53.749679Z",
     "iopub.status.idle": "2022-05-11T23:37:53.754553Z",
     "shell.execute_reply": "2022-05-11T23:37:53.753710Z",
     "shell.execute_reply.started": "2022-05-11T23:37:53.750213Z"
    },
    "pycharm": {
     "name": "#%%\n"
    },
    "tags": []
   },
   "outputs": [],
   "source": [
    "main_area = get_main_area(project)"
   ]
  },
  {
   "cell_type": "markdown",
   "id": "984d7875-fde8-45aa-aa25-c6f2e11727d1",
   "metadata": {
    "pycharm": {
     "name": "#%% md\n"
    }
   },
   "source": [
    "## Processing the raster population information and transforming it into a dataframe\n",
    "(slow for large datasets)"
   ]
  },
  {
   "cell_type": "code",
   "execution_count": null,
   "id": "f1091f32-eadd-48a0-a6e6-c74d65b38176",
   "metadata": {
    "execution": {
     "iopub.status.busy": "2022-05-11T23:37:55.269073Z",
     "iopub.status.idle": "2022-05-11T23:37:55.269371Z",
     "shell.execute_reply": "2022-05-11T23:37:55.269249Z",
     "shell.execute_reply.started": "2022-05-11T23:37:55.269234Z"
    },
    "tags": []
   },
   "outputs": [],
   "source": [
    "df = raster_to_df(rasterio.open(pop_file), main_area)"
   ]
  },
  {
   "cell_type": "markdown",
   "id": "f13b3850-0c6a-42b7-ab4d-86ad193b52c4",
   "metadata": {
    "execution": {
     "iopub.execute_input": "2022-05-11T20:56:04.356315Z",
     "iopub.status.busy": "2022-05-11T20:56:04.355594Z",
     "iopub.status.idle": "2022-05-11T20:56:04.362000Z",
     "shell.execute_reply": "2022-05-11T20:56:04.361037Z",
     "shell.execute_reply.started": "2022-05-11T20:56:04.356241Z"
    },
    "tags": []
   },
   "source": [
    "## Comparing the total vectorized population to a World Bank source"
   ]
  },
  {
   "cell_type": "code",
   "execution_count": null,
   "id": "407a763f-04e5-4a23-adc6-f1cd69afb39e",
   "metadata": {
    "execution": {
     "iopub.status.busy": "2022-05-11T23:37:55.270777Z",
     "iopub.status.idle": "2022-05-11T23:37:55.271307Z",
     "shell.execute_reply": "2022-05-11T23:37:55.271128Z",
     "shell.execute_reply.started": "2022-05-11T23:37:55.271107Z"
    },
    "tags": []
   },
   "outputs": [],
   "source": [
    "check_pop(model_place, df)"
   ]
  },
  {
   "cell_type": "markdown",
   "id": "ce662c1b-24f6-4979-b0e3-7b30746ec394",
   "metadata": {
    "pycharm": {
     "name": "#%% md\n"
    }
   },
   "source": [
    "## Creating a new table inside the model for the vectorized population"
   ]
  },
  {
   "cell_type": "code",
   "execution_count": null,
   "id": "e560dc61-b959-4889-8bb4-37fe19142853",
   "metadata": {
    "execution": {
     "iopub.status.busy": "2022-05-11T23:37:55.272482Z",
     "iopub.status.idle": "2022-05-11T23:37:55.273066Z",
     "shell.execute_reply": "2022-05-11T23:37:55.272884Z",
     "shell.execute_reply.started": "2022-05-11T23:37:55.272864Z"
    },
    "pycharm": {
     "name": "#%%\n"
    },
    "tags": []
   },
   "outputs": [],
   "source": [
    "%%time\n",
    "# Creating a new table inside the model and inserting the vectorized population there\n",
    "conn = project.conn\n",
    "df.to_sql('raw_population', conn, if_exists='replace', index=False)\n",
    "conn.execute(\"select AddGeometryColumn( 'raw_population', 'geometry', 4326, 'POINT', 'XY', 1);\")"
   ]
  },
  {
   "cell_type": "markdown",
   "id": "9538a921-b3dd-45b4-9f9f-a305b2ede123",
   "metadata": {},
   "source": [
    "## Creating point geometries from the population latitude and longitude coordinates"
   ]
  },
  {
   "cell_type": "code",
   "execution_count": null,
   "id": "ed54e382-059f-45c6-8c1e-fc6e66a0a7bc",
   "metadata": {
    "execution": {
     "iopub.status.busy": "2022-05-11T23:37:55.274150Z",
     "iopub.status.idle": "2022-05-11T23:37:55.274806Z",
     "shell.execute_reply": "2022-05-11T23:37:55.274618Z",
     "shell.execute_reply.started": "2022-05-11T23:37:55.274595Z"
    },
    "pycharm": {
     "name": "#%%\n"
    },
    "tags": []
   },
   "outputs": [],
   "source": [
    "%%time\n",
    "conn.execute(\"UPDATE raw_population SET Geometry=MakePoint(longitude, latitude, 4326)\")\n",
    "conn.commit()"
   ]
  },
  {
   "cell_type": "code",
   "execution_count": null,
   "id": "19f7b8ab-10fe-434d-b572-7fe0b8e38cf3",
   "metadata": {
    "execution": {
     "iopub.status.busy": "2022-05-11T23:37:55.275980Z",
     "iopub.status.idle": "2022-05-11T23:37:55.276474Z",
     "shell.execute_reply": "2022-05-11T23:37:55.276268Z",
     "shell.execute_reply.started": "2022-05-11T23:37:55.276247Z"
    },
    "pycharm": {
     "name": "#%%\n"
    },
    "tags": []
   },
   "outputs": [],
   "source": [
    "project.close()"
   ]
  }
 ],
 "metadata": {
  "kernelspec": {
   "display_name": "saturn (Python 3)",
   "language": "python",
   "name": "python3"
  },
  "language_info": {
   "codemirror_mode": {
    "name": "ipython",
    "version": 3
   },
   "file_extension": ".py",
   "mimetype": "text/x-python",
   "name": "python",
   "nbconvert_exporter": "python",
   "pygments_lexer": "ipython3",
   "version": "3.9.12"
  }
 },
 "nbformat": 4,
 "nbformat_minor": 5
}
