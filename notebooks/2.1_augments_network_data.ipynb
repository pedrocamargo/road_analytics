{
 "cells": [
  {
   "cell_type": "markdown",
   "id": "8590e6b6-d76a-4b54-87af-fed5976b4b63",
   "metadata": {},
   "source": [
    "# Imports"
   ]
  },
  {
   "cell_type": "code",
   "execution_count": 1,
   "id": "57be210e-2f6e-4035-8e01-0072196b9665",
   "metadata": {
    "execution": {
     "iopub.execute_input": "2022-05-13T10:17:36.685442Z",
     "iopub.status.busy": "2022-05-13T10:17:36.685062Z",
     "iopub.status.idle": "2022-05-13T10:17:37.598287Z",
     "shell.execute_reply": "2022-05-13T10:17:37.590101Z",
     "shell.execute_reply.started": "2022-05-13T10:17:36.685353Z"
    },
    "tags": []
   },
   "outputs": [],
   "source": [
    "import sys\n",
    "import logging\n",
    "import shutil\n",
    "from uuid import uuid4\n",
    "from tempfile import gettempdir\n",
    "from os.path import join, isdir\n",
    "import folium\n",
    "from aequilibrae import Parameters, logger, Project\n",
    "import pandas as pd"
   ]
  },
  {
   "cell_type": "code",
   "execution_count": 4,
   "id": "baa99a1b-1c6a-443e-bcb6-99f7006a24c2",
   "metadata": {
    "execution": {
     "iopub.execute_input": "2022-05-13T10:18:04.453509Z",
     "iopub.status.busy": "2022-05-13T10:18:04.453124Z",
     "iopub.status.idle": "2022-05-13T10:18:04.458816Z",
     "shell.execute_reply": "2022-05-13T10:18:04.457935Z",
     "shell.execute_reply.started": "2022-05-13T10:18:04.453482Z"
    },
    "tags": []
   },
   "outputs": [],
   "source": [
    "from functions.fix_network import fix_speeds\n",
    "from functions.map_capacity import map_capacity"
   ]
  },
  {
   "cell_type": "markdown",
   "id": "4384251b-4bb2-4d74-83cd-08884bf16d8d",
   "metadata": {
    "execution": {
     "iopub.execute_input": "2022-05-12T12:10:00.231975Z",
     "iopub.status.busy": "2022-05-12T12:10:00.230892Z",
     "iopub.status.idle": "2022-05-12T12:10:00.244913Z",
     "shell.execute_reply": "2022-05-12T12:10:00.242609Z",
     "shell.execute_reply.started": "2022-05-12T12:10:00.231932Z"
    },
    "tags": []
   },
   "source": [
    "# Model place (Country) to build the model for"
   ]
  },
  {
   "cell_type": "code",
   "execution_count": 5,
   "id": "69295e38-275b-45d6-9e00-4fd6d02154a5",
   "metadata": {
    "execution": {
     "iopub.execute_input": "2022-05-13T10:18:06.252151Z",
     "iopub.status.busy": "2022-05-13T10:18:06.250964Z",
     "iopub.status.idle": "2022-05-13T10:18:06.260048Z",
     "shell.execute_reply": "2022-05-13T10:18:06.259162Z",
     "shell.execute_reply.started": "2022-05-13T10:18:06.252118Z"
    },
    "tags": []
   },
   "outputs": [],
   "source": [
    "model_place = 'Andorra'"
   ]
  },
  {
   "cell_type": "code",
   "execution_count": 6,
   "id": "10ce42a4-2a69-45c1-961c-8c6a9d70893e",
   "metadata": {
    "execution": {
     "iopub.execute_input": "2022-05-13T10:18:07.306073Z",
     "iopub.status.busy": "2022-05-13T10:18:07.305458Z",
     "iopub.status.idle": "2022-05-13T10:18:07.315559Z",
     "shell.execute_reply": "2022-05-13T10:18:07.314312Z",
     "shell.execute_reply.started": "2022-05-13T10:18:07.306005Z"
    },
    "tags": []
   },
   "outputs": [],
   "source": [
    "fldr = f'../../{model_place}'"
   ]
  },
  {
   "cell_type": "markdown",
   "id": "cfa2f9f6-e06d-499a-a0d1-727108aa0935",
   "metadata": {},
   "source": [
    "# Open the model"
   ]
  },
  {
   "cell_type": "code",
   "execution_count": 7,
   "id": "81c63d11-359a-46a6-aec3-4b0324287f3e",
   "metadata": {
    "execution": {
     "iopub.execute_input": "2022-05-13T10:18:09.227929Z",
     "iopub.status.busy": "2022-05-13T10:18:09.227612Z",
     "iopub.status.idle": "2022-05-13T10:18:09.941360Z",
     "shell.execute_reply": "2022-05-13T10:18:09.940624Z",
     "shell.execute_reply.started": "2022-05-13T10:18:09.227898Z"
    },
    "tags": []
   },
   "outputs": [],
   "source": [
    "project = Project()\n",
    "project.open(fldr)"
   ]
  },
  {
   "cell_type": "markdown",
   "id": "b83a349d-bee2-4e31-a39e-093ffd479659",
   "metadata": {},
   "source": [
    "# Augments the model with speeds and capacities"
   ]
  },
  {
   "cell_type": "code",
   "execution_count": 6,
   "id": "44bd9a80-66dd-4de3-860a-0ff74ea5c990",
   "metadata": {
    "execution": {
     "iopub.execute_input": "2022-05-13T08:29:39.272430Z",
     "iopub.status.busy": "2022-05-13T08:29:39.271732Z",
     "iopub.status.idle": "2022-05-13T08:29:39.710643Z",
     "shell.execute_reply": "2022-05-13T08:29:39.709853Z",
     "shell.execute_reply.started": "2022-05-13T08:29:39.272397Z"
    },
    "tags": []
   },
   "outputs": [],
   "source": [
    "fix_speeds(project)"
   ]
  },
  {
   "cell_type": "markdown",
   "id": "3b209674-b5ac-4984-b3fe-0e1b4076f6af",
   "metadata": {},
   "source": [
    "# Mapping network capacities\n",
    "\n",
    "* Links with capacity of more than 1,000 Veh/h are painted in red\n",
    "* Thickness of links is proportional to the link's maximum unidirectional capacity"
   ]
  },
  {
   "cell_type": "markdown",
   "id": "54dddc2d-f3b2-4dfb-ab52-894d6b96bb70",
   "metadata": {},
   "source": []
  },
  {
   "cell_type": "code",
   "execution_count": null,
   "id": "faba8256-00be-41e8-a072-51ec3e274c56",
   "metadata": {
    "execution": {
     "iopub.execute_input": "2022-05-13T10:20:57.596923Z",
     "iopub.status.busy": "2022-05-13T10:20:57.596507Z"
    },
    "tags": []
   },
   "outputs": [],
   "source": [
    "map_capacity(project)"
   ]
  },
  {
   "cell_type": "code",
   "execution_count": 7,
   "id": "20c4e7de-425f-4d3a-a2bf-fbc0732a21fa",
   "metadata": {
    "execution": {
     "iopub.execute_input": "2022-05-13T08:29:39.713816Z",
     "iopub.status.busy": "2022-05-13T08:29:39.713538Z",
     "iopub.status.idle": "2022-05-13T08:29:39.718773Z",
     "shell.execute_reply": "2022-05-13T08:29:39.718008Z",
     "shell.execute_reply.started": "2022-05-13T08:29:39.713793Z"
    },
    "tags": []
   },
   "outputs": [],
   "source": [
    "project.close()"
   ]
  }
 ],
 "metadata": {
  "kernelspec": {
   "display_name": "saturn (Python 3)",
   "language": "python",
   "name": "python3"
  },
  "language_info": {
   "codemirror_mode": {
    "name": "ipython",
    "version": 3
   },
   "file_extension": ".py",
   "mimetype": "text/x-python",
   "name": "python",
   "nbconvert_exporter": "python",
   "pygments_lexer": "ipython3",
   "version": "3.9.12"
  }
 },
 "nbformat": 4,
 "nbformat_minor": 5
}
