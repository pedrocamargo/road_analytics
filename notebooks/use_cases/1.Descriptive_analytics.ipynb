{
 "cells": [
  {
   "cell_type": "markdown",
   "id": "019b293e-c5b6-442c-973e-b157a82ce134",
   "metadata": {},
   "source": [
    "# Imports"
   ]
  },
  {
   "cell_type": "code",
   "execution_count": 1,
   "id": "84820b9f-8c2c-4332-bbb8-b8a44a71894a",
   "metadata": {
    "execution": {
     "iopub.execute_input": "2022-05-16T11:42:02.063894Z",
     "iopub.status.busy": "2022-05-16T11:42:02.063482Z",
     "iopub.status.idle": "2022-05-16T11:42:03.590504Z",
     "shell.execute_reply": "2022-05-16T11:42:03.589302Z",
     "shell.execute_reply.started": "2022-05-16T11:42:02.063801Z"
    },
    "tags": []
   },
   "outputs": [
    {
     "name": "stderr",
     "output_type": "stream",
     "text": [
      "ERROR 1: PROJ: proj_create_from_database: Open of /opt/conda/envs/saturn/share/proj failed\n"
     ]
    }
   ],
   "source": [
    "import logging\n",
    "import shutil\n",
    "import sys\n",
    "from os.path import isdir, join\n",
    "from tempfile import gettempdir\n",
    "from uuid import uuid4\n",
    "\n",
    "import folium\n",
    "import pandas as pd\n",
    "import geopandas as gpd\n",
    "from aequilibrae import Parameters, Project, logger\n",
    "\n",
    "from functions.basic_stats import basic_stats\n",
    "from functions.bridge_stats import bridge_stats\n",
    "from functions.toll_stats import toll_stats\n",
    "from functions.tunnel_stats import tunnel_stats"
   ]
  },
  {
   "cell_type": "markdown",
   "id": "706f171e-43bb-431e-af6e-20b5b2014493",
   "metadata": {},
   "source": [
    "# Model place (Country) to build the model for"
   ]
  },
  {
   "cell_type": "code",
   "execution_count": 2,
   "id": "28475878-31e3-49c0-a38b-6bd3fa53f5ee",
   "metadata": {
    "execution": {
     "iopub.execute_input": "2022-05-16T11:42:03.593136Z",
     "iopub.status.busy": "2022-05-16T11:42:03.592602Z",
     "iopub.status.idle": "2022-05-16T11:42:03.608468Z",
     "shell.execute_reply": "2022-05-16T11:42:03.607255Z",
     "shell.execute_reply.started": "2022-05-16T11:42:03.593100Z"
    },
    "tags": []
   },
   "outputs": [],
   "source": [
    "model_place = 'Andorra'"
   ]
  },
  {
   "cell_type": "code",
   "execution_count": 3,
   "id": "94a4f4b1",
   "metadata": {
    "execution": {
     "iopub.execute_input": "2022-05-16T11:42:03.618989Z",
     "iopub.status.busy": "2022-05-16T11:42:03.618127Z",
     "iopub.status.idle": "2022-05-16T11:42:03.624803Z",
     "shell.execute_reply": "2022-05-16T11:42:03.623835Z",
     "shell.execute_reply.started": "2022-05-16T11:42:03.618948Z"
    },
    "tags": []
   },
   "outputs": [
    {
     "name": "stdout",
     "output_type": "stream",
     "text": [
      "../../../Andorra\n"
     ]
    }
   ],
   "source": [
    "fldr = f'../../../{model_place}'\n",
    "\n",
    "if isdir(fldr):\n",
    "    print(fldr)"
   ]
  },
  {
   "cell_type": "markdown",
   "id": "37340d5e-8005-4db4-9939-527ff9209c59",
   "metadata": {
    "execution": {
     "iopub.execute_input": "2022-05-06T08:44:13.171729Z",
     "iopub.status.busy": "2022-05-06T08:44:13.171509Z",
     "iopub.status.idle": "2022-05-06T08:44:13.175112Z",
     "shell.execute_reply": "2022-05-06T08:44:13.174427Z",
     "shell.execute_reply.started": "2022-05-06T08:44:13.171708Z"
    },
    "tags": []
   },
   "source": [
    "# Open Model"
   ]
  },
  {
   "cell_type": "code",
   "execution_count": 4,
   "id": "4fe405c9",
   "metadata": {
    "execution": {
     "iopub.execute_input": "2022-05-16T11:42:03.628489Z",
     "iopub.status.busy": "2022-05-16T11:42:03.627233Z",
     "iopub.status.idle": "2022-05-16T11:42:03.993750Z",
     "shell.execute_reply": "2022-05-16T11:42:03.992614Z",
     "shell.execute_reply.started": "2022-05-16T11:42:03.628445Z"
    },
    "tags": []
   },
   "outputs": [],
   "source": [
    "project = Project()\n",
    "project.open(fldr)"
   ]
  },
  {
   "cell_type": "markdown",
   "id": "e19e1493-b8c2-455b-be2e-706dc05c011e",
   "metadata": {},
   "source": [
    "# Get model data\n",
    "\n",
    "And filters only to links accessible to cars"
   ]
  },
  {
   "cell_type": "code",
   "execution_count": 5,
   "id": "498956e2-e8cf-4a84-8700-1f061dbe5ea7",
   "metadata": {
    "execution": {
     "iopub.execute_input": "2022-05-16T11:42:03.996022Z",
     "iopub.status.busy": "2022-05-16T11:42:03.995613Z",
     "iopub.status.idle": "2022-05-16T11:42:04.467081Z",
     "shell.execute_reply": "2022-05-16T11:42:04.466107Z",
     "shell.execute_reply.started": "2022-05-16T11:42:03.995986Z"
    },
    "tags": []
   },
   "outputs": [],
   "source": [
    "links = project.network.links.data\n",
    "links = links[links.modes.str.contains('c')]"
   ]
  },
  {
   "cell_type": "markdown",
   "id": "daef2105-6e4a-4ee9-a639-230409c1ee81",
   "metadata": {},
   "source": [
    "# Print statistics"
   ]
  },
  {
   "cell_type": "code",
   "execution_count": 6,
   "id": "3d7cfeb6-aab2-4d7e-a9d9-8ad9654850a2",
   "metadata": {
    "execution": {
     "iopub.execute_input": "2022-05-16T11:42:04.468903Z",
     "iopub.status.busy": "2022-05-16T11:42:04.468537Z",
     "iopub.status.idle": "2022-05-16T11:42:04.536137Z",
     "shell.execute_reply": "2022-05-16T11:42:04.532830Z",
     "shell.execute_reply.started": "2022-05-16T11:42:04.468864Z"
    },
    "tags": []
   },
   "outputs": [
    {
     "name": "stdout",
     "output_type": "stream",
     "text": [
      "----- Links -----\n",
      "\n",
      "|   General |   Bridge |   Toll |   Tunnel |   Total |\n",
      "|-----------|----------|--------|----------|---------|\n",
      "|      4795 |      290 |     15 |       68 |    5168 |\n",
      "\n",
      "----- Total km -----\n",
      "\n",
      "|   General |   Bridge |   Toll |   Tunnel |   Total |\n",
      "|-----------|----------|--------|----------|---------|\n",
      "|    479.30 |     7.60 |   4.49 |    16.62 |  508.01 |\n",
      "\n",
      "----- Link Type -----\n",
      "\n",
      "| Link Type     |   Links |     km |\n",
      "|---------------|---------|--------|\n",
      "| living_street |      70 |   2.76 |\n",
      "| primary       |    1238 | 117.10 |\n",
      "| residential   |    1512 | 113.95 |\n",
      "| secondary     |     927 | 145.78 |\n",
      "| service       |     908 |  58.76 |\n",
      "| tertiary      |     296 |  42.78 |\n",
      "| trunk         |      63 |  12.82 |\n",
      "| unclassified  |     153 |  13.71 |\n",
      "| via_ferrata   |       1 |   0.34 |\n",
      "\n",
      "----- Pavement Surfaces -----\n",
      "\n",
      "| Surface Type   |   Links |     km |\n",
      "|----------------|---------|--------|\n",
      "| asphalt        |    2796 | 341.59 |\n",
      "| compacted      |       2 |   0.53 |\n",
      "| concrete       |       3 |   0.07 |\n",
      "| dirt           |       1 |   0.05 |\n",
      "| fine_gravel    |       1 |   0.07 |\n",
      "| gravel         |       1 |   0.08 |\n",
      "| ground         |       3 |   0.11 |\n",
      "| paved          |       2 |   0.24 |\n",
      "| paving_stones  |       1 |   0.05 |\n",
      "| pebblestone    |       3 |   0.12 |\n",
      "| sett           |       3 |   0.23 |\n",
      "| unclassified   |    2349 | 164.36 |\n",
      "| unpaved        |       3 |   0.51 |\n",
      "\n"
     ]
    }
   ],
   "source": [
    "basic_stats(links)"
   ]
  },
  {
   "cell_type": "code",
   "execution_count": 7,
   "id": "b7143f87-3296-4364-8d4c-132d8648558f",
   "metadata": {
    "execution": {
     "iopub.execute_input": "2022-05-16T11:42:04.539043Z",
     "iopub.status.busy": "2022-05-16T11:42:04.537425Z",
     "iopub.status.idle": "2022-05-16T11:42:04.580611Z",
     "shell.execute_reply": "2022-05-16T11:42:04.579626Z",
     "shell.execute_reply.started": "2022-05-16T11:42:04.539006Z"
    },
    "tags": []
   },
   "outputs": [
    {
     "name": "stdout",
     "output_type": "stream",
     "text": [
      "----- Bridge - Overall Stats -----\n",
      " \n",
      "|        |   Links |        km |\n",
      "|--------|---------|-----------|\n",
      "| Bridge |     290 |   7603.57 |\n",
      "| Total  |    5168 | 508012.66 |\n",
      " \n",
      "There are no toll bridges in the search area.\n",
      "\n",
      "----- Bridge - Link Type -----\n",
      "\n",
      "| Link Type     |   Links |   km |\n",
      "|---------------|---------|------|\n",
      "| living_street |       1 | 0.01 |\n",
      "| primary       |     106 | 3.42 |\n",
      "| residential   |      58 | 0.89 |\n",
      "| secondary     |      57 | 1.27 |\n",
      "| service       |      30 | 0.55 |\n",
      "| tertiary      |      11 | 0.11 |\n",
      "| trunk         |      12 | 1.06 |\n",
      "| unclassified  |      15 | 0.29 |\n",
      "\n",
      "----- Bridge - Pavement Surface -----\n",
      "\n",
      "| Surface Type   |   Links |   km |\n",
      "|----------------|---------|------|\n",
      "| asphalt        |     185 | 5.33 |\n",
      "| unclassified   |     105 | 2.27 |\n",
      "\n"
     ]
    }
   ],
   "source": [
    "bridge_stats(links)"
   ]
  },
  {
   "cell_type": "code",
   "execution_count": 8,
   "id": "6fe2bd78-1f7a-4ac8-984c-bf590599f56a",
   "metadata": {
    "execution": {
     "iopub.execute_input": "2022-05-16T11:42:04.582524Z",
     "iopub.status.busy": "2022-05-16T11:42:04.582135Z",
     "iopub.status.idle": "2022-05-16T11:42:04.634984Z",
     "shell.execute_reply": "2022-05-16T11:42:04.619213Z",
     "shell.execute_reply.started": "2022-05-16T11:42:04.582489Z"
    },
    "tags": []
   },
   "outputs": [
    {
     "name": "stdout",
     "output_type": "stream",
     "text": [
      "----- Tolls - Overall Stats -----\n",
      " \n",
      "|       |   Links |     km |\n",
      "|-------|---------|--------|\n",
      "| Tolls |      15 |   4.49 |\n",
      "| Total |    5168 | 508.01 |\n",
      " \n",
      "----- Tolls - Link Type -----\n",
      "\n",
      "| Link Type   |   Links |   km |\n",
      "|-------------|---------|------|\n",
      "| primary     |       2 | 0.22 |\n",
      "| trunk       |      13 | 4.27 |\n",
      "\n",
      "----- Tolls - Pavement Surfaces -----\n",
      "\n",
      "| Surface Type   |   Links |   km |\n",
      "|----------------|---------|------|\n",
      "| asphalt        |      15 | 4.49 |\n",
      "\n"
     ]
    }
   ],
   "source": [
    "toll_stats(links)"
   ]
  },
  {
   "cell_type": "code",
   "execution_count": 9,
   "id": "b223deda-cf92-448c-aa4b-e2e3890c25bf",
   "metadata": {
    "execution": {
     "iopub.execute_input": "2022-05-16T11:42:04.637094Z",
     "iopub.status.busy": "2022-05-16T11:42:04.636641Z",
     "iopub.status.idle": "2022-05-16T11:42:04.701645Z",
     "shell.execute_reply": "2022-05-16T11:42:04.700212Z",
     "shell.execute_reply.started": "2022-05-16T11:42:04.637055Z"
    },
    "tags": []
   },
   "outputs": [
    {
     "name": "stdout",
     "output_type": "stream",
     "text": [
      "----- Tunnels - Overall Stats -----\n",
      " \n",
      "|         |   Links |     km |\n",
      "|---------|---------|--------|\n",
      "| Tunnels |      68 |  16.62 |\n",
      "| Total   |    5168 | 508.01 |\n",
      " \n",
      "----- Toll Tunnels -----\n",
      " \n",
      "|   links |   km |\n",
      "|---------|------|\n",
      "|       2 | 2.96 |\n",
      "\n",
      "----- Tunnels - Link Type -----\n",
      "\n",
      "| Link Type     |   Links |   km |\n",
      "|---------------|---------|------|\n",
      "| living_street |       4 | 0.03 |\n",
      "| primary       |      16 | 3.65 |\n",
      "| residential   |       4 | 0.14 |\n",
      "| secondary     |       2 | 0.08 |\n",
      "| service       |      24 | 3.49 |\n",
      "| tertiary      |       4 | 0.37 |\n",
      "| trunk         |       9 | 8.81 |\n",
      "| unclassified  |       5 | 0.05 |\n",
      "\n",
      "----- Tunnels - Pavement Surfaces -----\n",
      "\n",
      "| Surface Type   |   Links |    km |\n",
      "|----------------|---------|-------|\n",
      "| asphalt        |      33 | 13.02 |\n",
      "| unclassified   |      35 |  3.61 |\n",
      "\n"
     ]
    }
   ],
   "source": [
    "tunnel_stats(links)"
   ]
  },
  {
   "cell_type": "markdown",
   "id": "24321269-a99d-4736-b9c8-475455987d0e",
   "metadata": {},
   "source": [
    "# We map the total network distance per subdivision"
   ]
  },
  {
   "cell_type": "code",
   "execution_count": 10,
   "id": "8abf552b-5846-4bfa-91c2-fe5e83c27157",
   "metadata": {
    "execution": {
     "iopub.execute_input": "2022-05-16T11:42:04.705096Z",
     "iopub.status.busy": "2022-05-16T11:42:04.704615Z",
     "iopub.status.idle": "2022-05-16T11:42:04.728641Z",
     "shell.execute_reply": "2022-05-16T11:42:04.727610Z",
     "shell.execute_reply.started": "2022-05-16T11:42:04.705054Z"
    },
    "tags": []
   },
   "outputs": [],
   "source": [
    "sql = \"SELECT division_name, level, Hex(ST_AsBinary(GEOMETRY)) as geom FROM country_subdivisions;\"\n",
    "subdivisions = gpd.GeoDataFrame.from_postgis(sql, project.conn, geom_col=\"geom\", crs=4326)\n",
    "# subdivisions.set_crs('epsg:4326', inplace=True)\n",
    "subdivisions = subdivisions[subdivisions.level==1]"
   ]
  },
  {
   "cell_type": "code",
   "execution_count": 15,
   "id": "6f9469b2-efa4-4103-9c66-5ec24fd3869b",
   "metadata": {
    "execution": {
     "iopub.execute_input": "2022-05-16T11:42:24.492505Z",
     "iopub.status.busy": "2022-05-16T11:42:24.489999Z",
     "iopub.status.idle": "2022-05-16T11:42:24.593563Z",
     "shell.execute_reply": "2022-05-16T11:42:24.592389Z",
     "shell.execute_reply.started": "2022-05-16T11:42:24.492452Z"
    },
    "tags": []
   },
   "outputs": [],
   "source": [
    "links=gpd.GeoDataFrame(links, geometry='geometry', crs=4326)\n",
    "data = gpd.sjoin(links, subdivisions)\n",
    "sum_distance = data.groupby(['division_name']).sum()[['distance']].reset_index()\n",
    "sum_distance.loc[:, 'distance'] /= 1000"
   ]
  },
  {
   "cell_type": "code",
   "execution_count": 12,
   "id": "b64f2600-ee4f-4acc-b765-ee2d6d5477b5",
   "metadata": {
    "execution": {
     "iopub.execute_input": "2022-05-16T11:42:04.835885Z",
     "iopub.status.busy": "2022-05-16T11:42:04.835489Z",
     "iopub.status.idle": "2022-05-16T11:42:04.844476Z",
     "shell.execute_reply": "2022-05-16T11:42:04.841211Z",
     "shell.execute_reply.started": "2022-05-16T11:42:04.835847Z"
    }
   },
   "outputs": [],
   "source": [
    "# Em km"
   ]
  },
  {
   "cell_type": "code",
   "execution_count": 16,
   "id": "339ecc6f-cdb1-4190-a91c-4edd9299b009",
   "metadata": {
    "execution": {
     "iopub.execute_input": "2022-05-16T11:42:26.239124Z",
     "iopub.status.busy": "2022-05-16T11:42:26.238282Z",
     "iopub.status.idle": "2022-05-16T11:42:26.697646Z",
     "shell.execute_reply": "2022-05-16T11:42:26.688750Z",
     "shell.execute_reply.started": "2022-05-16T11:42:26.239095Z"
    },
    "tags": []
   },
   "outputs": [
    {
     "data": {
      "text/plain": [
       "<AxesSubplot:>"
      ]
     },
     "execution_count": 16,
     "metadata": {},
     "output_type": "execute_result"
    },
    {
     "data": {
      "image/png": "[encoded data removed]",
      "text/plain": [
       "<Figure size 432x288 with 2 Axes>"
      ]
     },
     "metadata": {
      "needs_background": "light"
     },
     "output_type": "display_data"
    }
   ],
   "source": [
    "import matplotlib.pyplot as plt\n",
    "\n",
    "fig, ax = plt.subplots(1, 1)\n",
    "plot_data = subdivisions.merge(sum_distance, on='division_name')\n",
    "plot_data.plot(column='distance', ax=ax, legend=True)"
   ]
  },
  {
   "cell_type": "code",
   "execution_count": 14,
   "id": "b11e5b17-a786-45e6-8aac-fafc261c65ea",
   "metadata": {
    "execution": {
     "iopub.execute_input": "2022-05-16T11:42:06.140399Z",
     "iopub.status.busy": "2022-05-16T11:42:06.139783Z",
     "iopub.status.idle": "2022-05-16T11:42:06.355065Z",
     "shell.execute_reply": "2022-05-16T11:42:06.354214Z",
     "shell.execute_reply.started": "2022-05-16T11:42:06.140359Z"
    },
    "tags": []
   },
   "outputs": [],
   "source": [
    "project.close()"
   ]
  }
 ],
 "metadata": {
  "kernelspec": {
   "display_name": "saturn (Python 3)",
   "language": "python",
   "name": "python3"
  },
  "language_info": {
   "codemirror_mode": {
    "name": "ipython",
    "version": 3
   },
   "file_extension": ".py",
   "mimetype": "text/x-python",
   "name": "python",
   "nbconvert_exporter": "python",
   "pygments_lexer": "ipython3",
   "version": "3.9.12"
  }
 },
 "nbformat": 4,
 "nbformat_minor": 5
}
