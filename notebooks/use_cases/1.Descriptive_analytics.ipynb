{
 "cells": [
  {
   "cell_type": "markdown",
   "id": "019b293e-c5b6-442c-973e-b157a82ce134",
   "metadata": {},
   "source": [
    "# Imports"
   ]
  },
  {
   "cell_type": "code",
   "execution_count": 30,
   "id": "003e0c7b",
   "metadata": {
    "execution": {
     "iopub.execute_input": "2022-05-08T23:27:19.929800Z",
     "iopub.status.busy": "2022-05-08T23:27:19.929409Z",
     "iopub.status.idle": "2022-05-08T23:27:19.935130Z",
     "shell.execute_reply": "2022-05-08T23:27:19.934225Z",
     "shell.execute_reply.started": "2022-05-08T23:27:19.929766Z"
    },
    "tags": []
   },
   "outputs": [],
   "source": [
    "import sys\n",
    "import logging\n",
    "import shutil\n",
    "from uuid import uuid4\n",
    "from tempfile import gettempdir\n",
    "from os.path import join, isdir\n",
    "import folium\n",
    "from aequilibrae import Parameters, logger, Project\n",
    "import pandas as pd"
   ]
  },
  {
   "cell_type": "markdown",
   "id": "706f171e-43bb-431e-af6e-20b5b2014493",
   "metadata": {},
   "source": [
    "# Model place (Country) to build the model for"
   ]
  },
  {
   "cell_type": "code",
   "execution_count": 2,
   "id": "28475878-31e3-49c0-a38b-6bd3fa53f5ee",
   "metadata": {
    "execution": {
     "iopub.execute_input": "2022-05-08T23:22:59.464161Z",
     "iopub.status.busy": "2022-05-08T23:22:59.463893Z",
     "iopub.status.idle": "2022-05-08T23:22:59.471067Z",
     "shell.execute_reply": "2022-05-08T23:22:59.470370Z",
     "shell.execute_reply.started": "2022-05-08T23:22:59.464139Z"
    },
    "tags": []
   },
   "outputs": [],
   "source": [
    "model_place = 'Andorra'"
   ]
  },
  {
   "cell_type": "code",
   "execution_count": 27,
   "id": "94a4f4b1",
   "metadata": {
    "execution": {
     "iopub.execute_input": "2022-05-08T23:26:26.170635Z",
     "iopub.status.busy": "2022-05-08T23:26:26.170427Z",
     "iopub.status.idle": "2022-05-08T23:26:26.174859Z",
     "shell.execute_reply": "2022-05-08T23:26:26.174214Z",
     "shell.execute_reply.started": "2022-05-08T23:26:26.170615Z"
    },
    "tags": []
   },
   "outputs": [
    {
     "name": "stdout",
     "output_type": "stream",
     "text": [
      "/home/jovyan/workspace/Andorra\n"
     ]
    }
   ],
   "source": [
    "fldr = f'/home/jovyan/workspace/{model_place}'\n",
    "\n",
    "if isdir(fldr):\n",
    "  print(fldr)"
   ]
  },
  {
   "cell_type": "markdown",
   "id": "37340d5e-8005-4db4-9939-527ff9209c59",
   "metadata": {
    "execution": {
     "iopub.execute_input": "2022-05-06T08:44:13.171729Z",
     "iopub.status.busy": "2022-05-06T08:44:13.171509Z",
     "iopub.status.idle": "2022-05-06T08:44:13.175112Z",
     "shell.execute_reply": "2022-05-06T08:44:13.174427Z",
     "shell.execute_reply.started": "2022-05-06T08:44:13.171708Z"
    },
    "tags": []
   },
   "source": [
    "# Open Model"
   ]
  },
  {
   "cell_type": "code",
   "execution_count": 28,
   "id": "4fe405c9",
   "metadata": {
    "execution": {
     "iopub.execute_input": "2022-05-08T23:26:30.947067Z",
     "iopub.status.busy": "2022-05-08T23:26:30.946688Z",
     "iopub.status.idle": "2022-05-08T23:26:31.485170Z",
     "shell.execute_reply": "2022-05-08T23:26:31.484477Z",
     "shell.execute_reply.started": "2022-05-08T23:26:30.947040Z"
    },
    "tags": []
   },
   "outputs": [],
   "source": [
    "project = Project()\n",
    "project.open(fldr)"
   ]
  },
  {
   "cell_type": "markdown",
   "id": "e19e1493-b8c2-455b-be2e-706dc05c011e",
   "metadata": {},
   "source": [
    "# Get model data"
   ]
  },
  {
   "cell_type": "code",
   "execution_count": 34,
   "id": "498956e2-e8cf-4a84-8700-1f061dbe5ea7",
   "metadata": {
    "execution": {
     "iopub.execute_input": "2022-05-08T23:27:55.573621Z",
     "iopub.status.busy": "2022-05-08T23:27:55.573387Z",
     "iopub.status.idle": "2022-05-08T23:27:55.649959Z",
     "shell.execute_reply": "2022-05-08T23:27:55.647527Z",
     "shell.execute_reply.started": "2022-05-08T23:27:55.573595Z"
    },
    "tags": []
   },
   "outputs": [],
   "source": [
    "links = pd.read_sql('select * from links', project.conn).drop(columns=['geometry'])"
   ]
  },
  {
   "cell_type": "code",
   "execution_count": 35,
   "id": "28751664-c9f6-4feb-9791-5901b125859f",
   "metadata": {
    "execution": {
     "iopub.execute_input": "2022-05-08T23:27:56.991986Z",
     "iopub.status.busy": "2022-05-08T23:27:56.991678Z",
     "iopub.status.idle": "2022-05-08T23:27:57.020680Z",
     "shell.execute_reply": "2022-05-08T23:27:57.019873Z",
     "shell.execute_reply.started": "2022-05-08T23:27:56.991953Z"
    },
    "tags": []
   },
   "outputs": [
    {
     "data": {
      "text/html": [
       "<div>\n",
       "<style scoped>\n",
       "    .dataframe tbody tr th:only-of-type {\n",
       "        vertical-align: middle;\n",
       "    }\n",
       "\n",
       "    .dataframe tbody tr th {\n",
       "        vertical-align: top;\n",
       "    }\n",
       "\n",
       "    .dataframe thead th {\n",
       "        text-align: right;\n",
       "    }\n",
       "</style>\n",
       "<table border=\"1\" class=\"dataframe\">\n",
       "  <thead>\n",
       "    <tr style=\"text-align: right;\">\n",
       "      <th></th>\n",
       "      <th>ogc_fid</th>\n",
       "      <th>link_id</th>\n",
       "      <th>a_node</th>\n",
       "      <th>b_node</th>\n",
       "      <th>direction</th>\n",
       "      <th>distance</th>\n",
       "      <th>modes</th>\n",
       "      <th>link_type</th>\n",
       "      <th>name</th>\n",
       "      <th>speed_ab</th>\n",
       "      <th>speed_ba</th>\n",
       "      <th>capacity_ab</th>\n",
       "      <th>capacity_ba</th>\n",
       "      <th>osm_id</th>\n",
       "      <th>bridge</th>\n",
       "      <th>tunnel</th>\n",
       "      <th>toll</th>\n",
       "      <th>surface</th>\n",
       "      <th>lanes_ab</th>\n",
       "      <th>lanes_ba</th>\n",
       "    </tr>\n",
       "  </thead>\n",
       "  <tbody>\n",
       "    <tr>\n",
       "      <th>0</th>\n",
       "      <td>1</td>\n",
       "      <td>1</td>\n",
       "      <td>2</td>\n",
       "      <td>1</td>\n",
       "      <td>0</td>\n",
       "      <td>58.944021</td>\n",
       "      <td>tc</td>\n",
       "      <td>residential</td>\n",
       "      <td>None</td>\n",
       "      <td>NaN</td>\n",
       "      <td>NaN</td>\n",
       "      <td>None</td>\n",
       "      <td>None</td>\n",
       "      <td>1057801040</td>\n",
       "      <td>None</td>\n",
       "      <td>None</td>\n",
       "      <td>None</td>\n",
       "      <td>None</td>\n",
       "      <td>NaN</td>\n",
       "      <td>NaN</td>\n",
       "    </tr>\n",
       "    <tr>\n",
       "      <th>1</th>\n",
       "      <td>2</td>\n",
       "      <td>2</td>\n",
       "      <td>3</td>\n",
       "      <td>2</td>\n",
       "      <td>1</td>\n",
       "      <td>23.842513</td>\n",
       "      <td>tc</td>\n",
       "      <td>residential</td>\n",
       "      <td>None</td>\n",
       "      <td>NaN</td>\n",
       "      <td>NaN</td>\n",
       "      <td>None</td>\n",
       "      <td>None</td>\n",
       "      <td>1057801039</td>\n",
       "      <td>None</td>\n",
       "      <td>None</td>\n",
       "      <td>None</td>\n",
       "      <td>None</td>\n",
       "      <td>NaN</td>\n",
       "      <td>NaN</td>\n",
       "    </tr>\n",
       "    <tr>\n",
       "      <th>2</th>\n",
       "      <td>3</td>\n",
       "      <td>3</td>\n",
       "      <td>2</td>\n",
       "      <td>4</td>\n",
       "      <td>1</td>\n",
       "      <td>24.128949</td>\n",
       "      <td>tc</td>\n",
       "      <td>residential</td>\n",
       "      <td>None</td>\n",
       "      <td>NaN</td>\n",
       "      <td>NaN</td>\n",
       "      <td>None</td>\n",
       "      <td>None</td>\n",
       "      <td>1057801039</td>\n",
       "      <td>None</td>\n",
       "      <td>None</td>\n",
       "      <td>None</td>\n",
       "      <td>None</td>\n",
       "      <td>NaN</td>\n",
       "      <td>NaN</td>\n",
       "    </tr>\n",
       "    <tr>\n",
       "      <th>3</th>\n",
       "      <td>4</td>\n",
       "      <td>4</td>\n",
       "      <td>6</td>\n",
       "      <td>5</td>\n",
       "      <td>0</td>\n",
       "      <td>127.165977</td>\n",
       "      <td>tc</td>\n",
       "      <td>residential</td>\n",
       "      <td>None</td>\n",
       "      <td>NaN</td>\n",
       "      <td>NaN</td>\n",
       "      <td>None</td>\n",
       "      <td>None</td>\n",
       "      <td>1057801038</td>\n",
       "      <td>None</td>\n",
       "      <td>None</td>\n",
       "      <td>None</td>\n",
       "      <td>None</td>\n",
       "      <td>NaN</td>\n",
       "      <td>NaN</td>\n",
       "    </tr>\n",
       "    <tr>\n",
       "      <th>4</th>\n",
       "      <td>5</td>\n",
       "      <td>5</td>\n",
       "      <td>8</td>\n",
       "      <td>7</td>\n",
       "      <td>0</td>\n",
       "      <td>21.504977</td>\n",
       "      <td>tc</td>\n",
       "      <td>service</td>\n",
       "      <td>None</td>\n",
       "      <td>NaN</td>\n",
       "      <td>NaN</td>\n",
       "      <td>None</td>\n",
       "      <td>None</td>\n",
       "      <td>1057801037</td>\n",
       "      <td>None</td>\n",
       "      <td>None</td>\n",
       "      <td>None</td>\n",
       "      <td>None</td>\n",
       "      <td>NaN</td>\n",
       "      <td>NaN</td>\n",
       "    </tr>\n",
       "  </tbody>\n",
       "</table>\n",
       "</div>"
      ],
      "text/plain": [
       "   ogc_fid  link_id  a_node  b_node  direction    distance modes    link_type  \\\n",
       "0        1        1       2       1          0   58.944021    tc  residential   \n",
       "1        2        2       3       2          1   23.842513    tc  residential   \n",
       "2        3        3       2       4          1   24.128949    tc  residential   \n",
       "3        4        4       6       5          0  127.165977    tc  residential   \n",
       "4        5        5       8       7          0   21.504977    tc      service   \n",
       "\n",
       "   name  speed_ab  speed_ba capacity_ab capacity_ba      osm_id bridge tunnel  \\\n",
       "0  None       NaN       NaN        None        None  1057801040   None   None   \n",
       "1  None       NaN       NaN        None        None  1057801039   None   None   \n",
       "2  None       NaN       NaN        None        None  1057801039   None   None   \n",
       "3  None       NaN       NaN        None        None  1057801038   None   None   \n",
       "4  None       NaN       NaN        None        None  1057801037   None   None   \n",
       "\n",
       "   toll surface  lanes_ab  lanes_ba  \n",
       "0  None    None       NaN       NaN  \n",
       "1  None    None       NaN       NaN  \n",
       "2  None    None       NaN       NaN  \n",
       "3  None    None       NaN       NaN  \n",
       "4  None    None       NaN       NaN  "
      ]
     },
     "execution_count": 35,
     "metadata": {},
     "output_type": "execute_result"
    }
   ],
   "source": [
    "links.head()"
   ]
  },
  {
   "cell_type": "code",
   "execution_count": 17,
   "id": "95fcdb74",
   "metadata": {
    "execution": {
     "iopub.execute_input": "2022-05-06T11:34:17.695232Z",
     "iopub.status.busy": "2022-05-06T11:34:17.694125Z",
     "iopub.status.idle": "2022-05-06T11:34:17.891594Z",
     "shell.execute_reply": "2022-05-06T11:34:17.890790Z",
     "shell.execute_reply.started": "2022-05-06T11:34:17.695190Z"
    },
    "tags": []
   },
   "outputs": [
    {
     "name": "stdout",
     "output_type": "stream",
     "text": [
      "2022-05-06 11:34:17,887;aequilibrae;INFO ; Closed project on ../Andorra\n"
     ]
    }
   ],
   "source": [
    "project.close()"
   ]
  }
 ],
 "metadata": {
  "kernelspec": {
   "display_name": "saturn (Python 3)",
   "language": "python",
   "name": "python3"
  },
  "language_info": {
   "codemirror_mode": {
    "name": "ipython",
    "version": 3
   },
   "file_extension": ".py",
   "mimetype": "text/x-python",
   "name": "python",
   "nbconvert_exporter": "python",
   "pygments_lexer": "ipython3",
   "version": "3.9.9"
  }
 },
 "nbformat": 4,
 "nbformat_minor": 5
}
