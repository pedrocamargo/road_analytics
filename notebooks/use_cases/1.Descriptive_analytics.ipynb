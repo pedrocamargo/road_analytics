{
 "cells": [
  {
   "cell_type": "markdown",
   "id": "019b293e-c5b6-442c-973e-b157a82ce134",
   "metadata": {},
   "source": [
    "# Imports"
   ]
  },
  {
   "cell_type": "code",
   "execution_count": 1,
   "id": "84820b9f-8c2c-4332-bbb8-b8a44a71894a",
   "metadata": {
    "execution": {
     "iopub.execute_input": "2022-05-16T11:13:38.741316Z",
     "iopub.status.busy": "2022-05-16T11:13:38.740627Z",
     "iopub.status.idle": "2022-05-16T11:13:40.004658Z",
     "shell.execute_reply": "2022-05-16T11:13:40.003478Z",
     "shell.execute_reply.started": "2022-05-16T11:13:38.741220Z"
    },
    "tags": []
   },
   "outputs": [
    {
     "name": "stderr",
     "output_type": "stream",
     "text": [
      "ERROR 1: PROJ: proj_create_from_database: Open of /opt/conda/envs/saturn/share/proj failed\n"
     ]
    }
   ],
   "source": [
    "import logging\n",
    "import shutil\n",
    "import sys\n",
    "from os.path import isdir, join\n",
    "from tempfile import gettempdir\n",
    "from uuid import uuid4\n",
    "\n",
    "import folium\n",
    "import pandas as pd\n",
    "import geopandas as gpd\n",
    "from aequilibrae import Parameters, Project, logger\n",
    "\n",
    "from functions.basic_stats import basic_stats\n",
    "from functions.bridge_stats import bridge_stats\n",
    "from functions.toll_stats import toll_stats\n",
    "from functions.tunnel_stats import tunnel_stats"
   ]
  },
  {
   "cell_type": "markdown",
   "id": "706f171e-43bb-431e-af6e-20b5b2014493",
   "metadata": {},
   "source": [
    "# Model place (Country) to build the model for"
   ]
  },
  {
   "cell_type": "code",
   "execution_count": 2,
   "id": "28475878-31e3-49c0-a38b-6bd3fa53f5ee",
   "metadata": {
    "execution": {
     "iopub.execute_input": "2022-05-16T11:13:40.007745Z",
     "iopub.status.busy": "2022-05-16T11:13:40.006760Z",
     "iopub.status.idle": "2022-05-16T11:13:40.012926Z",
     "shell.execute_reply": "2022-05-16T11:13:40.011942Z",
     "shell.execute_reply.started": "2022-05-16T11:13:40.007699Z"
    },
    "tags": []
   },
   "outputs": [],
   "source": [
    "model_place = 'Andorra'"
   ]
  },
  {
   "cell_type": "code",
   "execution_count": 3,
   "id": "94a4f4b1",
   "metadata": {
    "execution": {
     "iopub.execute_input": "2022-05-16T11:13:40.018859Z",
     "iopub.status.busy": "2022-05-16T11:13:40.018415Z",
     "iopub.status.idle": "2022-05-16T11:13:40.024803Z",
     "shell.execute_reply": "2022-05-16T11:13:40.023702Z",
     "shell.execute_reply.started": "2022-05-16T11:13:40.018820Z"
    },
    "tags": []
   },
   "outputs": [
    {
     "name": "stdout",
     "output_type": "stream",
     "text": [
      "../../../Andorra\n"
     ]
    }
   ],
   "source": [
    "fldr = f'../../../{model_place}'\n",
    "\n",
    "if isdir(fldr):\n",
    "    print(fldr)"
   ]
  },
  {
   "cell_type": "markdown",
   "id": "37340d5e-8005-4db4-9939-527ff9209c59",
   "metadata": {
    "execution": {
     "iopub.execute_input": "2022-05-06T08:44:13.171729Z",
     "iopub.status.busy": "2022-05-06T08:44:13.171509Z",
     "iopub.status.idle": "2022-05-06T08:44:13.175112Z",
     "shell.execute_reply": "2022-05-06T08:44:13.174427Z",
     "shell.execute_reply.started": "2022-05-06T08:44:13.171708Z"
    },
    "tags": []
   },
   "source": [
    "# Open Model"
   ]
  },
  {
   "cell_type": "code",
   "execution_count": 4,
   "id": "4fe405c9",
   "metadata": {
    "execution": {
     "iopub.execute_input": "2022-05-16T11:13:40.363997Z",
     "iopub.status.busy": "2022-05-16T11:13:40.363254Z",
     "iopub.status.idle": "2022-05-16T11:13:40.673053Z",
     "shell.execute_reply": "2022-05-16T11:13:40.672028Z",
     "shell.execute_reply.started": "2022-05-16T11:13:40.363973Z"
    },
    "tags": []
   },
   "outputs": [],
   "source": [
    "project = Project()\n",
    "project.open(fldr)"
   ]
  },
  {
   "cell_type": "markdown",
   "id": "e19e1493-b8c2-455b-be2e-706dc05c011e",
   "metadata": {},
   "source": [
    "# Get model data\n",
    "\n",
    "And filters only to links accessible to cars"
   ]
  },
  {
   "cell_type": "code",
   "execution_count": 5,
   "id": "498956e2-e8cf-4a84-8700-1f061dbe5ea7",
   "metadata": {
    "execution": {
     "iopub.execute_input": "2022-05-16T11:13:43.019457Z",
     "iopub.status.busy": "2022-05-16T11:13:43.018771Z",
     "iopub.status.idle": "2022-05-16T11:13:43.419744Z",
     "shell.execute_reply": "2022-05-16T11:13:43.418865Z",
     "shell.execute_reply.started": "2022-05-16T11:13:43.019428Z"
    },
    "tags": []
   },
   "outputs": [],
   "source": [
    "links = project.network.links.data\n",
    "links = links[links.modes.str.contains('c')]"
   ]
  },
  {
   "cell_type": "markdown",
   "id": "daef2105-6e4a-4ee9-a639-230409c1ee81",
   "metadata": {},
   "source": [
    "# Print statistics"
   ]
  },
  {
   "cell_type": "code",
   "execution_count": 6,
   "id": "3d7cfeb6-aab2-4d7e-a9d9-8ad9654850a2",
   "metadata": {
    "execution": {
     "iopub.execute_input": "2022-05-11T18:08:54.479590Z",
     "iopub.status.busy": "2022-05-11T18:08:54.479181Z",
     "iopub.status.idle": "2022-05-11T18:08:54.531717Z",
     "shell.execute_reply": "2022-05-11T18:08:54.530745Z",
     "shell.execute_reply.started": "2022-05-11T18:08:54.479564Z"
    },
    "tags": []
   },
   "outputs": [
    {
     "name": "stdout",
     "output_type": "stream",
     "text": [
      "----- Links -----\n",
      "\n",
      "|   General |   Bridge |   Toll |   Tunnel |   Total |\n",
      "|-----------|----------|--------|----------|---------|\n",
      "|      4641 |      288 |     15 |       63 |    5007 |\n",
      "\n",
      "----- Total km -----\n",
      "\n",
      "|   General |   Bridge |   Toll |   Tunnel |   Total |\n",
      "|-----------|----------|--------|----------|---------|\n",
      "|    478.20 |     7.54 |   4.49 |    16.55 |  506.77 |\n",
      "\n",
      "----- Link Type -----\n",
      "\n",
      "| Link Type     |   Links |     km |\n",
      "|---------------|---------|--------|\n",
      "| living_street |      54 |   2.02 |\n",
      "| primary       |    1225 | 117.03 |\n",
      "| residential   |    1449 | 114.44 |\n",
      "| secondary     |     910 | 145.93 |\n",
      "| service       |     856 |  57.68 |\n",
      "| tertiary      |     296 |  42.80 |\n",
      "| trunk         |      63 |  12.82 |\n",
      "| unclassified  |     153 |  13.71 |\n",
      "| via_ferrata   |       1 |   0.34 |\n",
      "\n",
      "----- Pavement Surfaces -----\n",
      "\n",
      "| Surface Type   |   Links |     km |\n",
      "|----------------|---------|--------|\n",
      "| asphalt        |    2760 | 341.95 |\n",
      "| compacted      |       2 |   0.53 |\n",
      "| concrete       |       3 |   0.07 |\n",
      "| dirt           |       1 |   0.05 |\n",
      "| fine_gravel    |       1 |   0.07 |\n",
      "| gravel         |       2 |   0.49 |\n",
      "| ground         |       3 |   0.11 |\n",
      "| paved          |       2 |   0.24 |\n",
      "| paving_stones  |       5 |   0.26 |\n",
      "| pebblestone    |       3 |   0.12 |\n",
      "| sett           |       3 |   0.23 |\n",
      "| unclassified   |    2219 | 162.13 |\n",
      "| unpaved        |       3 |   0.51 |\n",
      "\n"
     ]
    }
   ],
   "source": [
    "basic_stats(links)"
   ]
  },
  {
   "cell_type": "code",
   "execution_count": 7,
   "id": "b7143f87-3296-4364-8d4c-132d8648558f",
   "metadata": {
    "execution": {
     "iopub.execute_input": "2022-05-11T18:08:59.147003Z",
     "iopub.status.busy": "2022-05-11T18:08:59.146458Z",
     "iopub.status.idle": "2022-05-11T18:08:59.240812Z",
     "shell.execute_reply": "2022-05-11T18:08:59.239811Z",
     "shell.execute_reply.started": "2022-05-11T18:08:59.146974Z"
    },
    "tags": []
   },
   "outputs": [
    {
     "name": "stdout",
     "output_type": "stream",
     "text": [
      "----- Bridge - Overall Stats -----\n",
      " \n",
      "|        |   Links |        km |\n",
      "|--------|---------|-----------|\n",
      "| Bridge |     288 |   7536.45 |\n",
      "| Total  |    5007 | 506772.07 |\n",
      " \n",
      "There are no toll bridges in the search area.\n",
      "\n",
      "----- Bridge - Link Type -----\n",
      "\n",
      "| Link Type     |   Links |   km |\n",
      "|---------------|---------|------|\n",
      "| living_street |       1 | 0.01 |\n",
      "| primary       |     106 | 3.42 |\n",
      "| residential   |      57 | 0.89 |\n",
      "| secondary     |      57 | 1.21 |\n",
      "| service       |      29 | 0.54 |\n",
      "| tertiary      |      11 | 0.11 |\n",
      "| trunk         |      12 | 1.06 |\n",
      "| unclassified  |      15 | 0.29 |\n",
      "\n",
      "----- Bridge - Pavement Surface -----\n",
      "\n",
      "| Surface Type   |   Links |   km |\n",
      "|----------------|---------|------|\n",
      "| asphalt        |     185 | 5.27 |\n",
      "| unclassified   |     103 | 2.26 |\n",
      "\n"
     ]
    }
   ],
   "source": [
    "bridge_stats(links)"
   ]
  },
  {
   "cell_type": "code",
   "execution_count": 8,
   "id": "6fe2bd78-1f7a-4ac8-984c-bf590599f56a",
   "metadata": {
    "execution": {
     "iopub.execute_input": "2022-05-11T18:09:03.749141Z",
     "iopub.status.busy": "2022-05-11T18:09:03.748757Z",
     "iopub.status.idle": "2022-05-11T18:09:03.828409Z",
     "shell.execute_reply": "2022-05-11T18:09:03.827553Z",
     "shell.execute_reply.started": "2022-05-11T18:09:03.749114Z"
    },
    "tags": []
   },
   "outputs": [
    {
     "name": "stdout",
     "output_type": "stream",
     "text": [
      "----- Tolls - Overall Stats -----\n",
      " \n",
      "|       |   Links |     km |\n",
      "|-------|---------|--------|\n",
      "| Tolls |      15 |   4.49 |\n",
      "| Total |    5007 | 506.77 |\n",
      " \n",
      "----- Tolls - Link Type -----\n",
      "\n",
      "| Link Type   |   Links |   km |\n",
      "|-------------|---------|------|\n",
      "| primary     |       2 | 0.22 |\n",
      "| trunk       |      13 | 4.27 |\n",
      "\n",
      "----- Tolls - Pavement Surfaces -----\n",
      "\n",
      "| Surface Type   |   Links |   km |\n",
      "|----------------|---------|------|\n",
      "| asphalt        |      15 | 4.49 |\n",
      "\n"
     ]
    }
   ],
   "source": [
    "toll_stats(links)"
   ]
  },
  {
   "cell_type": "code",
   "execution_count": null,
   "id": "b223deda-cf92-448c-aa4b-e2e3890c25bf",
   "metadata": {
    "execution": {
     "iopub.execute_input": "2022-05-11T18:09:06.704601Z",
     "iopub.status.busy": "2022-05-11T18:09:06.704316Z",
     "iopub.status.idle": "2022-05-11T18:09:06.742369Z",
     "shell.execute_reply": "2022-05-11T18:09:06.737554Z",
     "shell.execute_reply.started": "2022-05-11T18:09:06.704579Z"
    },
    "tags": []
   },
   "outputs": [
    {
     "name": "stdout",
     "output_type": "stream",
     "text": [
      "----- Tunnels - Overall Stats -----\n",
      " \n",
      "|         |   Links |     km |\n",
      "|---------|---------|--------|\n",
      "| Tunnels |      68 |  16.62 |\n",
      "| Total   |    5168 | 508.01 |\n",
      " \n",
      "----- Toll Tunnels -----\n",
      " \n",
      "|   links |   km |\n",
      "|---------|------|\n",
      "|       2 | 2.96 |\n",
      "\n",
      "----- Tunnels - Link Type -----\n",
      "\n",
      "| Link Type     |   Links |   km |\n",
      "|---------------|---------|------|\n",
      "| living_street |       4 | 0.03 |\n",
      "| primary       |      16 | 3.65 |\n",
      "| residential   |       4 | 0.14 |\n",
      "| secondary     |       2 | 0.08 |\n",
      "| service       |      24 | 3.49 |\n",
      "| tertiary      |       4 | 0.37 |\n",
      "| trunk         |       9 | 8.81 |\n",
      "| unclassified  |       5 | 0.05 |\n",
      "\n",
      "----- Tunnels - Pavement Surfaces -----\n",
      "\n",
      "| Surface Type   |   Links |    km |\n",
      "|----------------|---------|-------|\n",
      "| asphalt        |      33 | 13.02 |\n",
      "| unclassified   |      35 |  3.61 |\n",
      "\n"
     ]
    }
   ],
   "source": [
    "tunnel_stats(links)"
   ]
  },
  {
   "cell_type": "markdown",
   "id": "24321269-a99d-4736-b9c8-475455987d0e",
   "metadata": {},
   "source": [
    "# We map the total network distance per subdivision"
   ]
  },
  {
   "cell_type": "code",
   "execution_count": 12,
   "id": "8abf552b-5846-4bfa-91c2-fe5e83c27157",
   "metadata": {
    "execution": {
     "iopub.execute_input": "2022-05-16T11:16:17.172110Z",
     "iopub.status.busy": "2022-05-16T11:16:17.171414Z",
     "iopub.status.idle": "2022-05-16T11:16:17.184057Z",
     "shell.execute_reply": "2022-05-16T11:16:17.183142Z",
     "shell.execute_reply.started": "2022-05-16T11:16:17.172082Z"
    },
    "tags": []
   },
   "outputs": [],
   "source": [
    "sql = \"SELECT division_name, level, Hex(ST_AsBinary(GEOMETRY)) as geom FROM country_subdivisions;\"\n",
    "subdivisions = gpd.GeoDataFrame.from_postgis(sql, project.conn, geom_col=\"geom\", crs=4326)\n",
    "# subdivisions.set_crs('epsg:4326', inplace=True)\n",
    "subdivisions = subdivisions[subdivisions.level==1]"
   ]
  },
  {
   "cell_type": "code",
   "execution_count": 13,
   "id": "6f9469b2-efa4-4103-9c66-5ec24fd3869b",
   "metadata": {
    "execution": {
     "iopub.execute_input": "2022-05-16T11:16:18.616691Z",
     "iopub.status.busy": "2022-05-16T11:16:18.615992Z",
     "iopub.status.idle": "2022-05-16T11:16:18.689118Z",
     "shell.execute_reply": "2022-05-16T11:16:18.688256Z",
     "shell.execute_reply.started": "2022-05-16T11:16:18.616665Z"
    },
    "tags": []
   },
   "outputs": [],
   "source": [
    "links=gpd.GeoDataFrame(links, geometry='geometry', crs=4326)\n",
    "data = gpd.sjoin(links, subdivisions)\n",
    "sum_distance = data.groupby(['division_name']).sum()[['distance']].reset_index()"
   ]
  },
  {
   "cell_type": "code",
   "execution_count": 20,
   "id": "339ecc6f-cdb1-4190-a91c-4edd9299b009",
   "metadata": {
    "execution": {
     "iopub.execute_input": "2022-05-16T11:18:29.254084Z",
     "iopub.status.busy": "2022-05-16T11:18:29.253303Z",
     "iopub.status.idle": "2022-05-16T11:18:29.610312Z",
     "shell.execute_reply": "2022-05-16T11:18:29.609227Z",
     "shell.execute_reply.started": "2022-05-16T11:18:29.254057Z"
    },
    "tags": []
   },
   "outputs": [
    {
     "data": {
      "text/plain": [
       "<AxesSubplot:>"
      ]
     },
     "execution_count": 20,
     "metadata": {},
     "output_type": "execute_result"
    },
    {
     "data": {
      "image/png": "[encoded data removed]",
      "text/plain": [
       "<Figure size 432x288 with 2 Axes>"
      ]
     },
     "metadata": {
      "needs_background": "light"
     },
     "output_type": "display_data"
    }
   ],
   "source": [
    "import matplotlib.pyplot as plt\n",
    "\n",
    "fig, ax = plt.subplots(1, 1)\n",
    "plot_data = subdivisions.merge(sum_distance, on='division_name')\n",
    "plot_data.plot(column='distance', ax=ax, legend=True)"
   ]
  },
  {
   "cell_type": "code",
   "execution_count": 10,
   "id": "b11e5b17-a786-45e6-8aac-fafc261c65ea",
   "metadata": {
    "execution": {
     "iopub.execute_input": "2022-05-11T18:09:09.922114Z",
     "iopub.status.busy": "2022-05-11T18:09:09.921364Z",
     "iopub.status.idle": "2022-05-11T18:09:10.021750Z",
     "shell.execute_reply": "2022-05-11T18:09:10.021232Z",
     "shell.execute_reply.started": "2022-05-11T18:09:09.922076Z"
    },
    "tags": []
   },
   "outputs": [],
   "source": [
    "project.close()"
   ]
  }
 ],
 "metadata": {
  "kernelspec": {
   "display_name": "saturn (Python 3)",
   "language": "python",
   "name": "python3"
  },
  "language_info": {
   "codemirror_mode": {
    "name": "ipython",
    "version": 3
   },
   "file_extension": ".py",
   "mimetype": "text/x-python",
   "name": "python",
   "nbconvert_exporter": "python",
   "pygments_lexer": "ipython3",
   "version": "3.9.12"
  }
 },
 "nbformat": 4,
 "nbformat_minor": 5
}
