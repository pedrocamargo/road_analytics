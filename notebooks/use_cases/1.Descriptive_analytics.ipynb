{
 "cells": [
  {
   "cell_type": "markdown",
   "id": "019b293e-c5b6-442c-973e-b157a82ce134",
   "metadata": {},
   "source": [
    "# Imports"
   ]
  },
  {
   "cell_type": "code",
   "execution_count": 1,
   "id": "003e0c7b",
   "metadata": {
    "execution": {
     "iopub.execute_input": "2022-05-10T18:37:39.213719Z",
     "iopub.status.busy": "2022-05-10T18:37:39.213236Z",
     "iopub.status.idle": "2022-05-10T18:37:40.539478Z",
     "shell.execute_reply": "2022-05-10T18:37:40.538813Z",
     "shell.execute_reply.started": "2022-05-10T18:37:39.213634Z"
    },
    "tags": []
   },
   "outputs": [],
   "source": [
    "import logging\n",
    "import shutil\n",
    "import sys\n",
    "from os.path import isdir, join\n",
    "from tempfile import gettempdir\n",
    "from uuid import uuid4\n",
    "\n",
    "import folium\n",
    "import pandas as pd\n",
    "from aequilibrae import Parameters, Project, logger\n",
    "\n",
    "import numpy as np\n",
    "from tabulate import tabulate\n",
    "import geopandas as gpd"
   ]
  },
  {
   "cell_type": "markdown",
   "id": "706f171e-43bb-431e-af6e-20b5b2014493",
   "metadata": {},
   "source": [
    "# Model place (Country) to build the model for"
   ]
  },
  {
   "cell_type": "code",
   "execution_count": 2,
   "id": "28475878-31e3-49c0-a38b-6bd3fa53f5ee",
   "metadata": {
    "execution": {
     "iopub.execute_input": "2022-05-10T18:37:42.793606Z",
     "iopub.status.busy": "2022-05-10T18:37:42.793077Z",
     "iopub.status.idle": "2022-05-10T18:37:42.797038Z",
     "shell.execute_reply": "2022-05-10T18:37:42.796362Z",
     "shell.execute_reply.started": "2022-05-10T18:37:42.793521Z"
    },
    "tags": []
   },
   "outputs": [],
   "source": [
    "model_place = 'Andorra'"
   ]
  },
  {
   "cell_type": "code",
   "execution_count": 3,
   "id": "94a4f4b1",
   "metadata": {
    "execution": {
     "iopub.execute_input": "2022-05-10T18:37:43.014945Z",
     "iopub.status.busy": "2022-05-10T18:37:43.014418Z",
     "iopub.status.idle": "2022-05-10T18:37:43.025902Z",
     "shell.execute_reply": "2022-05-10T18:37:43.024598Z",
     "shell.execute_reply.started": "2022-05-10T18:37:43.014915Z"
    },
    "tags": []
   },
   "outputs": [
    {
     "name": "stdout",
     "output_type": "stream",
     "text": [
      "/home/jovyan/workspace/road_analytics/Andorra\n"
     ]
    }
   ],
   "source": [
    "fldr = f'/home/jovyan/workspace/road_analytics/{model_place}'\n",
    "\n",
    "if isdir(fldr):\n",
    "    print(fldr)"
   ]
  },
  {
   "cell_type": "markdown",
   "id": "37340d5e-8005-4db4-9939-527ff9209c59",
   "metadata": {
    "execution": {
     "iopub.execute_input": "2022-05-06T08:44:13.171729Z",
     "iopub.status.busy": "2022-05-06T08:44:13.171509Z",
     "iopub.status.idle": "2022-05-06T08:44:13.175112Z",
     "shell.execute_reply": "2022-05-06T08:44:13.174427Z",
     "shell.execute_reply.started": "2022-05-06T08:44:13.171708Z"
    },
    "tags": []
   },
   "source": [
    "# Open Model"
   ]
  },
  {
   "cell_type": "code",
   "execution_count": 4,
   "id": "4fe405c9",
   "metadata": {
    "execution": {
     "iopub.execute_input": "2022-05-10T18:37:44.902744Z",
     "iopub.status.busy": "2022-05-10T18:37:44.902309Z",
     "iopub.status.idle": "2022-05-10T18:37:45.318127Z",
     "shell.execute_reply": "2022-05-10T18:37:45.317495Z",
     "shell.execute_reply.started": "2022-05-10T18:37:44.902643Z"
    },
    "tags": []
   },
   "outputs": [],
   "source": [
    "project = Project()\n",
    "project.open(fldr)"
   ]
  },
  {
   "cell_type": "markdown",
   "id": "e19e1493-b8c2-455b-be2e-706dc05c011e",
   "metadata": {},
   "source": [
    "# Get model data"
   ]
  },
  {
   "cell_type": "code",
   "execution_count": 5,
   "id": "498956e2-e8cf-4a84-8700-1f061dbe5ea7",
   "metadata": {
    "execution": {
     "iopub.execute_input": "2022-05-10T18:37:49.124710Z",
     "iopub.status.busy": "2022-05-10T18:37:49.124468Z",
     "iopub.status.idle": "2022-05-10T18:37:49.256080Z",
     "shell.execute_reply": "2022-05-10T18:37:49.255578Z",
     "shell.execute_reply.started": "2022-05-10T18:37:49.124685Z"
    },
    "tags": []
   },
   "outputs": [],
   "source": [
    "links = pd.read_sql('select * from links', project.conn).drop(columns=['geometry'])"
   ]
  },
  {
   "cell_type": "code",
   "execution_count": 6,
   "id": "28751664-c9f6-4feb-9791-5901b125859f",
   "metadata": {
    "execution": {
     "iopub.execute_input": "2022-05-10T18:37:53.747009Z",
     "iopub.status.busy": "2022-05-10T18:37:53.745367Z",
     "iopub.status.idle": "2022-05-10T18:37:53.765543Z",
     "shell.execute_reply": "2022-05-10T18:37:53.764832Z",
     "shell.execute_reply.started": "2022-05-10T18:37:53.746966Z"
    },
    "tags": []
   },
   "outputs": [
    {
     "data": {
      "text/html": [
       "<div>\n",
       "<style scoped>\n",
       "    .dataframe tbody tr th:only-of-type {\n",
       "        vertical-align: middle;\n",
       "    }\n",
       "\n",
       "    .dataframe tbody tr th {\n",
       "        vertical-align: top;\n",
       "    }\n",
       "\n",
       "    .dataframe thead th {\n",
       "        text-align: right;\n",
       "    }\n",
       "</style>\n",
       "<table border=\"1\" class=\"dataframe\">\n",
       "  <thead>\n",
       "    <tr style=\"text-align: right;\">\n",
       "      <th></th>\n",
       "      <th>0</th>\n",
       "      <th>1</th>\n",
       "      <th>2</th>\n",
       "      <th>3</th>\n",
       "      <th>4</th>\n",
       "    </tr>\n",
       "  </thead>\n",
       "  <tbody>\n",
       "    <tr>\n",
       "      <th>ogc_fid</th>\n",
       "      <td>1</td>\n",
       "      <td>2</td>\n",
       "      <td>3</td>\n",
       "      <td>4</td>\n",
       "      <td>5</td>\n",
       "    </tr>\n",
       "    <tr>\n",
       "      <th>link_id</th>\n",
       "      <td>1</td>\n",
       "      <td>2</td>\n",
       "      <td>3</td>\n",
       "      <td>4</td>\n",
       "      <td>5</td>\n",
       "    </tr>\n",
       "    <tr>\n",
       "      <th>a_node</th>\n",
       "      <td>2</td>\n",
       "      <td>1</td>\n",
       "      <td>5</td>\n",
       "      <td>4</td>\n",
       "      <td>8</td>\n",
       "    </tr>\n",
       "    <tr>\n",
       "      <th>b_node</th>\n",
       "      <td>1</td>\n",
       "      <td>3</td>\n",
       "      <td>4</td>\n",
       "      <td>6</td>\n",
       "      <td>7</td>\n",
       "    </tr>\n",
       "    <tr>\n",
       "      <th>direction</th>\n",
       "      <td>1</td>\n",
       "      <td>1</td>\n",
       "      <td>1</td>\n",
       "      <td>1</td>\n",
       "      <td>1</td>\n",
       "    </tr>\n",
       "    <tr>\n",
       "      <th>distance</th>\n",
       "      <td>19.863131</td>\n",
       "      <td>16.884412</td>\n",
       "      <td>15.190793</td>\n",
       "      <td>18.038848</td>\n",
       "      <td>13.234459</td>\n",
       "    </tr>\n",
       "    <tr>\n",
       "      <th>modes</th>\n",
       "      <td>ct</td>\n",
       "      <td>ct</td>\n",
       "      <td>ct</td>\n",
       "      <td>ct</td>\n",
       "      <td>ct</td>\n",
       "    </tr>\n",
       "    <tr>\n",
       "      <th>link_type</th>\n",
       "      <td>residential</td>\n",
       "      <td>residential</td>\n",
       "      <td>residential</td>\n",
       "      <td>residential</td>\n",
       "      <td>residential</td>\n",
       "    </tr>\n",
       "    <tr>\n",
       "      <th>name</th>\n",
       "      <td>None</td>\n",
       "      <td>None</td>\n",
       "      <td>None</td>\n",
       "      <td>None</td>\n",
       "      <td>None</td>\n",
       "    </tr>\n",
       "    <tr>\n",
       "      <th>speed_ab</th>\n",
       "      <td>NaN</td>\n",
       "      <td>NaN</td>\n",
       "      <td>NaN</td>\n",
       "      <td>NaN</td>\n",
       "      <td>NaN</td>\n",
       "    </tr>\n",
       "    <tr>\n",
       "      <th>speed_ba</th>\n",
       "      <td>NaN</td>\n",
       "      <td>NaN</td>\n",
       "      <td>NaN</td>\n",
       "      <td>NaN</td>\n",
       "      <td>NaN</td>\n",
       "    </tr>\n",
       "    <tr>\n",
       "      <th>capacity_ab</th>\n",
       "      <td>None</td>\n",
       "      <td>None</td>\n",
       "      <td>None</td>\n",
       "      <td>None</td>\n",
       "      <td>None</td>\n",
       "    </tr>\n",
       "    <tr>\n",
       "      <th>capacity_ba</th>\n",
       "      <td>None</td>\n",
       "      <td>None</td>\n",
       "      <td>None</td>\n",
       "      <td>None</td>\n",
       "      <td>None</td>\n",
       "    </tr>\n",
       "    <tr>\n",
       "      <th>osm_id</th>\n",
       "      <td>1058565900</td>\n",
       "      <td>1058565900</td>\n",
       "      <td>1058565899</td>\n",
       "      <td>1058565899</td>\n",
       "      <td>1058514206</td>\n",
       "    </tr>\n",
       "    <tr>\n",
       "      <th>bridge</th>\n",
       "      <td>None</td>\n",
       "      <td>None</td>\n",
       "      <td>None</td>\n",
       "      <td>None</td>\n",
       "      <td>None</td>\n",
       "    </tr>\n",
       "    <tr>\n",
       "      <th>tunnel</th>\n",
       "      <td>None</td>\n",
       "      <td>None</td>\n",
       "      <td>None</td>\n",
       "      <td>None</td>\n",
       "      <td>None</td>\n",
       "    </tr>\n",
       "    <tr>\n",
       "      <th>toll</th>\n",
       "      <td>None</td>\n",
       "      <td>None</td>\n",
       "      <td>None</td>\n",
       "      <td>None</td>\n",
       "      <td>None</td>\n",
       "    </tr>\n",
       "    <tr>\n",
       "      <th>surface</th>\n",
       "      <td>None</td>\n",
       "      <td>None</td>\n",
       "      <td>None</td>\n",
       "      <td>None</td>\n",
       "      <td>None</td>\n",
       "    </tr>\n",
       "    <tr>\n",
       "      <th>lanes_ab</th>\n",
       "      <td>NaN</td>\n",
       "      <td>NaN</td>\n",
       "      <td>NaN</td>\n",
       "      <td>NaN</td>\n",
       "      <td>NaN</td>\n",
       "    </tr>\n",
       "    <tr>\n",
       "      <th>lanes_ba</th>\n",
       "      <td>NaN</td>\n",
       "      <td>NaN</td>\n",
       "      <td>NaN</td>\n",
       "      <td>NaN</td>\n",
       "      <td>NaN</td>\n",
       "    </tr>\n",
       "    <tr>\n",
       "      <th>source_id</th>\n",
       "      <td>None</td>\n",
       "      <td>None</td>\n",
       "      <td>None</td>\n",
       "      <td>None</td>\n",
       "      <td>None</td>\n",
       "    </tr>\n",
       "  </tbody>\n",
       "</table>\n",
       "</div>"
      ],
      "text/plain": [
       "                       0            1            2            3            4\n",
       "ogc_fid                1            2            3            4            5\n",
       "link_id                1            2            3            4            5\n",
       "a_node                 2            1            5            4            8\n",
       "b_node                 1            3            4            6            7\n",
       "direction              1            1            1            1            1\n",
       "distance       19.863131    16.884412    15.190793    18.038848    13.234459\n",
       "modes                 ct           ct           ct           ct           ct\n",
       "link_type    residential  residential  residential  residential  residential\n",
       "name                None         None         None         None         None\n",
       "speed_ab             NaN          NaN          NaN          NaN          NaN\n",
       "speed_ba             NaN          NaN          NaN          NaN          NaN\n",
       "capacity_ab         None         None         None         None         None\n",
       "capacity_ba         None         None         None         None         None\n",
       "osm_id        1058565900   1058565900   1058565899   1058565899   1058514206\n",
       "bridge              None         None         None         None         None\n",
       "tunnel              None         None         None         None         None\n",
       "toll                None         None         None         None         None\n",
       "surface             None         None         None         None         None\n",
       "lanes_ab             NaN          NaN          NaN          NaN          NaN\n",
       "lanes_ba             NaN          NaN          NaN          NaN          NaN\n",
       "source_id           None         None         None         None         None"
      ]
     },
     "execution_count": 6,
     "metadata": {},
     "output_type": "execute_result"
    }
   ],
   "source": [
    "links.head().transpose()"
   ]
  },
  {
   "cell_type": "code",
   "execution_count": 7,
   "id": "6a0557c1-2b9d-4c1e-b5d8-2e74b98165c0",
   "metadata": {
    "execution": {
     "iopub.execute_input": "2022-05-10T18:37:54.951710Z",
     "iopub.status.busy": "2022-05-10T18:37:54.949329Z",
     "iopub.status.idle": "2022-05-10T18:37:54.978276Z",
     "shell.execute_reply": "2022-05-10T18:37:54.977519Z",
     "shell.execute_reply.started": "2022-05-10T18:37:54.951588Z"
    },
    "tags": []
   },
   "outputs": [
    {
     "name": "stdout",
     "output_type": "stream",
     "text": [
      "<class 'pandas.core.frame.DataFrame'>\n",
      "RangeIndex: 9448 entries, 0 to 9447\n",
      "Data columns (total 21 columns):\n",
      " #   Column       Non-Null Count  Dtype  \n",
      "---  ------       --------------  -----  \n",
      " 0   ogc_fid      9448 non-null   int64  \n",
      " 1   link_id      9448 non-null   int64  \n",
      " 2   a_node       9448 non-null   int64  \n",
      " 3   b_node       9448 non-null   int64  \n",
      " 4   direction    9448 non-null   int64  \n",
      " 5   distance     9448 non-null   float64\n",
      " 6   modes        9448 non-null   object \n",
      " 7   link_type    9448 non-null   object \n",
      " 8   name         2936 non-null   object \n",
      " 9   speed_ab     1387 non-null   float64\n",
      " 10  speed_ba     1084 non-null   float64\n",
      " 11  capacity_ab  0 non-null      object \n",
      " 12  capacity_ba  0 non-null      object \n",
      " 13  osm_id       9448 non-null   int64  \n",
      " 14  bridge       440 non-null    object \n",
      " 15  tunnel       76 non-null     object \n",
      " 16  toll         15 non-null     object \n",
      " 17  surface      3506 non-null   object \n",
      " 18  lanes_ab     1755 non-null   float64\n",
      " 19  lanes_ba     1316 non-null   float64\n",
      " 20  source_id    0 non-null      object \n",
      "dtypes: float64(5), int64(6), object(10)\n",
      "memory usage: 1.5+ MB\n"
     ]
    }
   ],
   "source": [
    "links.info()"
   ]
  },
  {
   "cell_type": "markdown",
   "id": "a8e0e7d2-f7d2-4e9b-a185-4d5ce6b5d30f",
   "metadata": {},
   "source": [
    "---\n",
    "Useful analytics:\n",
    "\n",
    "* Surface type (pavement);\n",
    "* Num. of nodes (per mode)\n",
    "* Node density (per km²)\n",
    "* Length of links (per mode)\n",
    "* Density of links (per km²)\n",
    "* Num.tunnels\n",
    "* Num. nodes corresponding to tunnels\n",
    "* Length of tunnels\n",
    "* Num. tunnels\n",
    "* Num. nodes corresponding to tunnels\n",
    "* Length of tunnels\n",
    "* Num. tunnels\n",
    "* Num. nodes corresponding to tunnel roads\n",
    "* Length of tunnel roads\n",
    "* Avg. Speed\n",
    "* Avg. num. of lanes\n",
    "---"
   ]
  },
  {
   "cell_type": "markdown",
   "id": "e600a440-b64f-4392-93d6-c60050da42b5",
   "metadata": {
    "execution": {
     "iopub.execute_input": "2022-05-10T15:38:22.826943Z",
     "iopub.status.busy": "2022-05-10T15:38:22.826353Z",
     "iopub.status.idle": "2022-05-10T15:38:22.865743Z",
     "shell.execute_reply": "2022-05-10T15:38:22.864736Z",
     "shell.execute_reply.started": "2022-05-10T15:38:22.826901Z"
    },
    "tags": []
   },
   "source": [
    "nodes = pd.read_sql('select * from nodes', project.conn).drop(columns=['geometry'])\n",
    "\n",
    "nodes.head()"
   ]
  },
  {
   "cell_type": "code",
   "execution_count": 36,
   "id": "3235bcd3-c0c9-44c7-9698-4cf49b11df01",
   "metadata": {
    "execution": {
     "iopub.execute_input": "2022-05-10T19:19:00.781157Z",
     "iopub.status.busy": "2022-05-10T19:19:00.779875Z",
     "iopub.status.idle": "2022-05-10T19:19:00.788262Z",
     "shell.execute_reply": "2022-05-10T19:19:00.787596Z",
     "shell.execute_reply.started": "2022-05-10T19:19:00.781109Z"
    }
   },
   "outputs": [],
   "source": [
    " bridge_links = links[links[\"bridge\"].notna()]"
   ]
  },
  {
   "cell_type": "code",
   "execution_count": 39,
   "id": "c4b9160d-0dda-45f2-a71f-c990e6ee3a56",
   "metadata": {
    "execution": {
     "iopub.execute_input": "2022-05-10T19:19:27.960633Z",
     "iopub.status.busy": "2022-05-10T19:19:27.960272Z",
     "iopub.status.idle": "2022-05-10T19:19:27.983294Z",
     "shell.execute_reply": "2022-05-10T19:19:27.982592Z",
     "shell.execute_reply.started": "2022-05-10T19:19:27.960579Z"
    },
    "tags": []
   },
   "outputs": [
    {
     "data": {
      "text/plain": [
       "0"
      ]
     },
     "execution_count": 39,
     "metadata": {},
     "output_type": "execute_result"
    }
   ],
   "source": []
  },
  {
   "cell_type": "code",
   "execution_count": 40,
   "id": "ea31803d-1c8c-4871-88c6-d1353caf911c",
   "metadata": {
    "execution": {
     "iopub.execute_input": "2022-05-10T19:19:55.916807Z",
     "iopub.status.busy": "2022-05-10T19:19:55.914805Z",
     "iopub.status.idle": "2022-05-10T19:19:55.939387Z",
     "shell.execute_reply": "2022-05-10T19:19:55.938818Z",
     "shell.execute_reply.started": "2022-05-10T19:19:55.916651Z"
    },
    "tags": []
   },
   "outputs": [],
   "source": [
    "def bridge_stats(links):\n",
    "    #vehicle_links[vehicle_links['bridge'].notna()][['a_node', 'b_node']].nunique().sum()\n",
    "    vehicle_links = links[(links[\"modes\"].str.contains(\"c\")) & (links[\"modes\"].str.contains(\"t\"))]\n",
    "    bridge_links = vehicle_links[vehicle_links[\"bridge\"].notna()]\n",
    "    \n",
    "    print(\"----- Overall stats -----\")\n",
    "    print(\" \")\n",
    "    table = [[\"bridges\", len(bridge_links), bridge_links[['a_node', 'b_node']].nunique().sum(),\n",
    "              np.around(bridge_links.sum(numeric_only=True)['distance'], decimals=2)],\n",
    "             [\"Total\", len(vehicle_links), vehicle_links[['a_node', 'b_node']].nunique().sum(),\n",
    "              np.around(vehicle_links.sum(numeric_only=True)['distance'], decimals=2)]]\n",
    "\n",
    "    print(tabulate(table, headers=[\"\", \"Links\", \"Nodes\", \"km\"], tablefmt='github', floatfmt=\".2f\"))\n",
    "    print(\" \")\n",
    "    if len(bridge_links[bridge_links['toll'].notna()]) == 0:\n",
    "        print(f\"There are no toll bridges in {model_place}.\")\n",
    "        print(\"\")\n",
    "    else: #gotta work on this one later!\n",
    "        is_bridge(bridge_links)\n",
    "    \n",
    "    print(\"----- Link types -----\")\n",
    "    print(\"\")\n",
    "    df = pd.DataFrame.from_dict(dict(bridge_links.groupby('link_type').sum(numeric_only=True)['distance']/1000),\n",
    "                            orient='index', columns=['total_km'])\n",
    "    df.insert(0, 'links', bridge_links.groupby('link_type').count()['distance'])\n",
    "    df.insert(1, 'nodes', [bridge_links[bridge_links['link_type'] == i][['a_node', 'b_node']].nunique().sum() \n",
    "                           for i in bridge_links.groupby('link_type').count()['distance'].index.tolist()])\n",
    "\n",
    "    print(tabulate(df, tablefmt=\"github\", floatfmt=(\".0f\", \".0f\", \".0f\", \".2f\"), \n",
    "                   headers=[\"Link Type\", \"Links\", \"Nodes\", 'Total km']))\n",
    "    print(\"\")\n",
    "    \n",
    "    print(\"----- Pavement Surfaces -----\")\n",
    "    print(\"\")\n",
    "    bridge_links.loc[bridge_links['surface'].isna(), 'surface'] = 'unclassified'\n",
    "    df = pd.DataFrame.from_dict(dict(bridge_links.groupby('surface').sum(numeric_only=True)['distance']/1000),\n",
    "                            orient='index', columns=['total_km'])\n",
    "    df.insert(0, 'links', bridge_links.groupby('surface').count()['distance'])\n",
    "    df.insert(1, 'nodes', [bridge_links[bridge_links['surface'] == i][['a_node', 'b_node']].nunique().sum() \n",
    "                           for i in bridge_links.groupby('surface').count()['distance'].index.tolist()])\n",
    "\n",
    "    print(tabulate(df, tablefmt=\"github\", floatfmt=(\".0f\", \".0f\", \".0f\", \".2f\"), \n",
    "                   headers=[\"Surface\", \"Links\", \"Nodes\", 'Total km']))\n",
    "    print(\"\")"
   ]
  },
  {
   "cell_type": "code",
   "execution_count": 34,
   "id": "e37f0a99-e06b-48c4-b75e-950f7be9e543",
   "metadata": {
    "execution": {
     "iopub.execute_input": "2022-05-10T19:18:10.092867Z",
     "iopub.status.busy": "2022-05-10T19:18:10.092630Z",
     "iopub.status.idle": "2022-05-10T19:18:10.097839Z",
     "shell.execute_reply": "2022-05-10T19:18:10.097074Z",
     "shell.execute_reply.started": "2022-05-10T19:18:10.092842Z"
    },
    "tags": []
   },
   "outputs": [],
   "source": [
    "def is_bridge(bridge_links):\n",
    "    \n",
    "    print(f\"----- Toll bridges -----\")\n",
    "    print(\" \")\n",
    "    bridge_bridges = bridge_links[bridge_links['toll'] == 'yes']\n",
    "    table = [[len(bridge_bridges),\n",
    "              bridge_bridges[['a_node', 'b_node']].nunique().sum(),\n",
    "              bridge_bridges.sum(numeric_only=True)['distance']/1000]]\n",
    "    \n",
    "    print(tabulate(table, headers=['links', 'nodes','total_km'], tablefmt='github', floatfmt=\".2f\"))\n",
    "    print(\"\")"
   ]
  },
  {
   "cell_type": "code",
   "execution_count": 41,
   "id": "a99d10f7-6df7-4817-ab10-778d7456fe16",
   "metadata": {
    "execution": {
     "iopub.execute_input": "2022-05-10T19:19:58.982883Z",
     "iopub.status.busy": "2022-05-10T19:19:58.982660Z",
     "iopub.status.idle": "2022-05-10T19:19:59.038960Z",
     "shell.execute_reply": "2022-05-10T19:19:59.037645Z",
     "shell.execute_reply.started": "2022-05-10T19:19:58.982861Z"
    },
    "tags": []
   },
   "outputs": [
    {
     "name": "stdout",
     "output_type": "stream",
     "text": [
      "----- Overall stats -----\n",
      " \n",
      "|         |   Links |   Nodes |        km |\n",
      "|---------|---------|---------|-----------|\n",
      "| bridges |     288 |  525.00 |   7536.45 |\n",
      "| Total   |    5007 | 7847.00 | 506772.07 |\n",
      " \n",
      "There are no toll bridges in Andorra.\n",
      "\n",
      "----- Link types -----\n",
      "\n",
      "| Link Type     |   Links |   Nodes |   Total km |\n",
      "|---------------|---------|---------|------------|\n",
      "| living_street |       1 |       2 |       0.01 |\n",
      "| primary       |     106 |     189 |       3.42 |\n",
      "| residential   |      57 |     113 |       0.89 |\n",
      "| secondary     |      57 |     102 |       1.21 |\n",
      "| service       |      29 |      58 |       0.54 |\n",
      "| tertiary      |      11 |      22 |       0.11 |\n",
      "| trunk         |      12 |      21 |       1.06 |\n",
      "| unclassified  |      15 |      30 |       0.29 |\n",
      "\n",
      "----- Pavement Surfaces -----\n",
      "\n",
      "| Surface      |   Links |   Nodes |   Total km |\n",
      "|--------------|---------|---------|------------|\n",
      "| asphalt      |     185 |     334 |       5.27 |\n",
      "| unclassified |     103 |     204 |       2.26 |\n",
      "\n"
     ]
    }
   ],
   "source": [
    "bridge_stats(links)"
   ]
  },
  {
   "cell_type": "code",
   "execution_count": 23,
   "id": "b2be91ba-a402-4cd0-ab21-a706f95839fb",
   "metadata": {
    "execution": {
     "iopub.execute_input": "2022-05-10T19:11:57.161312Z",
     "iopub.status.busy": "2022-05-10T19:11:57.160748Z",
     "iopub.status.idle": "2022-05-10T19:11:57.173163Z",
     "shell.execute_reply": "2022-05-10T19:11:57.172441Z",
     "shell.execute_reply.started": "2022-05-10T19:11:57.161280Z"
    },
    "tags": []
   },
   "outputs": [],
   "source": [
    "def toll_stats(links):\n",
    "    \n",
    "    vehicle_links = links[(links[\"modes\"].str.contains(\"c\")) & (links[\"modes\"].str.contains(\"t\"))]\n",
    "    toll_links = vehicle_links[vehicle_links[\"toll\"].notna()]\n",
    "    \n",
    "    print(\"----- Overall stats -----\")\n",
    "    print(\" \")\n",
    "    table = [[\"Tolls\", len(toll_links), toll_links[['a_node', 'b_node']].nunique().sum(),\n",
    "              np.around(toll_links.sum(numeric_only=True)['distance'], decimals=2)],\n",
    "             [\"Total\", len(vehicle_links), vehicle_links[['a_node', 'b_node']].nunique().sum(),\n",
    "              np.around(vehicle_links.sum(numeric_only=True)['distance'], decimals=2)]]\n",
    "\n",
    "    print(tabulate(table, headers=[\"\", \"Links\", \"Nodes\", \"km\"], tablefmt='github', floatfmt=\".2f\"))\n",
    "    print(\" \")\n",
    "    if len(toll_links.toll.value_counts()) == 0:\n",
    "        print(f\"There are no tolls in {model_place}.\")\n",
    "        print(\"\")\n",
    "    else: #gotta work on this one later!\n",
    "        is_toll(toll_links)\n",
    "    \n",
    "    print(\"----- Link types -----\")\n",
    "    print(\"\")\n",
    "    df = pd.DataFrame.from_dict(dict(toll_links.groupby('link_type').sum(numeric_only=True)['distance']/1000),\n",
    "                            orient='index', columns=['total_km'])\n",
    "    df.insert(0, 'links', toll_links.groupby('link_type').count()['distance'])\n",
    "    df.insert(1, 'nodes', [toll_links[toll_links['link_type'] == i][['a_node', 'b_node']].nunique().sum() \n",
    "                           for i in toll_links.groupby('link_type').count()['distance'].index.tolist()])\n",
    "\n",
    "    print(tabulate(df, tablefmt=\"github\", floatfmt=(\".0f\", \".0f\", \".0f\", \".2f\"), \n",
    "                   headers=[\"Link Type\", \"Links\", \"Nodes\", 'Total km']))\n",
    "    print(\"\")\n",
    "    \n",
    "    print(\"----- Pavement Surfaces -----\")\n",
    "    print(\"\")\n",
    "    toll_links.loc[toll_links['surface'].isna(), 'surface'] = 'unclassified'\n",
    "    df = pd.DataFrame.from_dict(dict(toll_links.groupby('surface').sum(numeric_only=True)['distance']/1000),\n",
    "                            orient='index', columns=['total_km'])\n",
    "    df.insert(0, 'links', toll_links.groupby('surface').count()['distance'])\n",
    "    df.insert(1, 'nodes', [toll_links[toll_links['surface'] == i][['a_node', 'b_node']].nunique().sum() \n",
    "                           for i in toll_links.groupby('surface').count()['distance'].index.tolist()])\n",
    "\n",
    "    print(tabulate(df, tablefmt=\"github\", floatfmt=(\".0f\", \".0f\", \".0f\", \".2f\"), \n",
    "                   headers=[\"Surface\", \"Links\", \"Nodes\", 'Total km']))\n",
    "    print(\"\")"
   ]
  },
  {
   "cell_type": "code",
   "execution_count": 24,
   "id": "c4fa14de-eca4-43e7-84d3-ad419b978d8e",
   "metadata": {
    "execution": {
     "iopub.execute_input": "2022-05-10T19:11:58.826615Z",
     "iopub.status.busy": "2022-05-10T19:11:58.826185Z",
     "iopub.status.idle": "2022-05-10T19:11:58.832676Z",
     "shell.execute_reply": "2022-05-10T19:11:58.832010Z",
     "shell.execute_reply.started": "2022-05-10T19:11:58.826581Z"
    },
    "tags": []
   },
   "outputs": [],
   "source": [
    "def is_toll(toll_links):\n",
    "    \n",
    "    print(f\"----- Tolls -----\")\n",
    "    print(\" \")\n",
    "    toll_tolls = toll_links[toll_links['toll'] == 'yes']\n",
    "    table = [[len(toll_tolls),\n",
    "              toll_tolls[['a_node', 'b_node']].nunique().sum(),\n",
    "              toll_tolls.sum(numeric_only=True)['distance']/1000]]\n",
    "    \n",
    "    print(tabulate(table, headers=['links', 'nodes','total_km'], tablefmt='github', floatfmt=\".2f\"))\n",
    "    print(\"\")"
   ]
  },
  {
   "cell_type": "code",
   "execution_count": 25,
   "id": "1591a8c0-6527-4ae5-add4-3341d76b3760",
   "metadata": {
    "execution": {
     "iopub.execute_input": "2022-05-10T19:11:59.736257Z",
     "iopub.status.busy": "2022-05-10T19:11:59.735876Z",
     "iopub.status.idle": "2022-05-10T19:11:59.788955Z",
     "shell.execute_reply": "2022-05-10T19:11:59.787263Z",
     "shell.execute_reply.started": "2022-05-10T19:11:59.736224Z"
    },
    "tags": []
   },
   "outputs": [
    {
     "name": "stdout",
     "output_type": "stream",
     "text": [
      "----- Overall stats -----\n",
      " \n",
      "|       |   Links |   Nodes |        km |\n",
      "|-------|---------|---------|-----------|\n",
      "| Tolls |      15 |   27.00 |   4489.18 |\n",
      "| Total |    5007 | 7847.00 | 506772.07 |\n",
      " \n",
      "----- Tolls -----\n",
      " \n",
      "|   links |   nodes |   total_km |\n",
      "|---------|---------|------------|\n",
      "|      13 |   23.00 |       4.27 |\n",
      "\n",
      "----- Link types -----\n",
      "\n",
      "| Link Type   |   Links |   Nodes |   Total km |\n",
      "|-------------|---------|---------|------------|\n",
      "| primary     |       2 |       4 |       0.22 |\n",
      "| trunk       |      13 |      23 |       4.27 |\n",
      "\n",
      "----- Pavement Surfaces -----\n",
      "\n",
      "| Surface   |   Links |   Nodes |   Total km |\n",
      "|-----------|---------|---------|------------|\n",
      "| asphalt   |      15 |      27 |       4.49 |\n",
      "\n"
     ]
    }
   ],
   "source": [
    "toll_stats(links)"
   ]
  },
  {
   "cell_type": "code",
   "execution_count": 17,
   "id": "11620ade-9c58-4221-ae41-c0ec5c25f04d",
   "metadata": {
    "execution": {
     "iopub.execute_input": "2022-05-10T19:06:52.300700Z",
     "iopub.status.busy": "2022-05-10T19:06:52.300360Z",
     "iopub.status.idle": "2022-05-10T19:06:52.314328Z",
     "shell.execute_reply": "2022-05-10T19:06:52.313646Z",
     "shell.execute_reply.started": "2022-05-10T19:06:52.300672Z"
    },
    "tags": []
   },
   "outputs": [],
   "source": [
    "def tunnel_stats(links):\n",
    "    \n",
    "    vehicle_links = links[(links[\"modes\"].str.contains(\"c\")) & (links[\"modes\"].str.contains(\"t\"))]\n",
    "    #vehicle_nodes = nodes[nodes['node_id'].isin(vehicle_links.a_node.tolist() + vehicle_links.b_node.tolist())]\n",
    "    tunnel_links = vehicle_links[vehicle_links[\"tunnel\"].notna()]\n",
    "    #tunnel_nodes = nodes[nodes['node_id'].isin(tunnel_links.a_node.tolist() + tunnel_links.b_node.tolist())]\n",
    "    \n",
    "    print(\"----- Overall stats -----\")\n",
    "    print(\" \")\n",
    "    table = [[\"tunnels\", len(tunnel_links), tunnel_links[[\"a_node\", 'b_node']].nunique().sum(),\n",
    "              np.around(tunnel_links.sum(numeric_only=True)['distance']/1000, decimals=2)],\n",
    "             [\"Total\", len(vehicle_links), vehicle_links[[\"a_node\", 'b_node']].nunique().sum(),\n",
    "              np.around(vehicle_links.sum(numeric_only=True)['distance']/1000, decimals=2)]]\n",
    "\n",
    "    print(tabulate(table, headers=[\"\", \"Links\", \"Nodes\", \"km\"], tablefmt='github', floatfmt=\".2f\"))\n",
    "    print(\" \")\n",
    "    \n",
    "    if len(tunnel_links.tunnel.value_counts()) == 0:\n",
    "        print(f\"There are no toll tunnels in {model_place}.\")\n",
    "        print(\"\")\n",
    "    else: #gotta work on this one later!\n",
    "        is_tunnel(tunnel_links)\n",
    "        \n",
    "    print(\"----- Link types -----\")\n",
    "    print(\"\")\n",
    "    df = pd.DataFrame.from_dict(dict(tunnel_links.groupby('link_type').sum(numeric_only=True)['distance']/1000),\n",
    "                            orient='index', columns=['total_km'])\n",
    "    df.insert(0, 'links', tunnel_links.groupby('link_type').count()['distance'])\n",
    "    df.insert(1, 'nodes', [tunnel_links[tunnel_links['link_type'] == i][['a_node', 'b_node']].nunique().sum() \n",
    "                           for i in tunnel_links.groupby('link_type').count()['distance'].index.tolist()])\n",
    "\n",
    "    print(tabulate(df, tablefmt=\"github\", floatfmt=(\".0f\", \".0f\", \".0f\", \".2f\"), \n",
    "                   headers=[\"Link Type\", \"Links\", \"Nodes\", 'Total km']))\n",
    "    print(\"\")\n",
    "    \n",
    "    print(\"----- Pavement Surfaces -----\")\n",
    "    print(\"\")\n",
    "    tunnel_links.loc[tunnel_links['surface'].isna(), 'surface'] = 'unclassified'\n",
    "    df = pd.DataFrame.from_dict(dict(tunnel_links.groupby('surface').sum(numeric_only=True)['distance']/1000),\n",
    "                            orient='index', columns=['total_km'])\n",
    "    df.insert(0, 'links', tunnel_links.groupby('surface').count()['distance'])\n",
    "    df.insert(1, 'nodes', [tunnel_links[tunnel_links['surface'] == i][['a_node', 'b_node']].nunique().sum() \n",
    "                           for i in tunnel_links.groupby('surface').count()['distance'].index.tolist()])\n",
    "\n",
    "    print(tabulate(df, tablefmt=\"github\", floatfmt=(\".0f\", \".0f\", \".0f\", \".2f\"), \n",
    "                   headers=[\"Surface\", \"Links\", \"Nodes\", 'Total km']))\n",
    "    print(\"\")"
   ]
  },
  {
   "cell_type": "code",
   "execution_count": 8,
   "id": "6bbd7072-842b-4f4e-9048-bff35a2289b7",
   "metadata": {
    "execution": {
     "iopub.execute_input": "2022-05-10T18:51:28.207193Z",
     "iopub.status.busy": "2022-05-10T18:51:28.206210Z",
     "iopub.status.idle": "2022-05-10T18:51:28.213666Z",
     "shell.execute_reply": "2022-05-10T18:51:28.212545Z",
     "shell.execute_reply.started": "2022-05-10T18:51:28.207160Z"
    }
   },
   "outputs": [],
   "source": [
    "def is_tunnel(tunnel_links):\n",
    "    \n",
    "    print(f\"----- Toll tunnels -----\")\n",
    "    print(\" \")\n",
    "    toll_tunnels = tunnel_links[tunnel_links['toll'] == 'yes']\n",
    "    table = [[len(toll_tunnels),\n",
    "              toll_tunnels[['a_node', 'b_node']].nunique().sum(),\n",
    "              toll_tunnels.sum(numeric_only=True)['distance']/1000]]\n",
    "    \n",
    "    print(tabulate(table, headers=['links', 'nodes','total_km'], tablefmt='github', floatfmt=\".2f\"))\n",
    "    print(\"\")"
   ]
  },
  {
   "cell_type": "code",
   "execution_count": 18,
   "id": "17fdad1d-3391-47ee-b145-5586a922ebd0",
   "metadata": {
    "execution": {
     "iopub.execute_input": "2022-05-10T19:06:54.713437Z",
     "iopub.status.busy": "2022-05-10T19:06:54.712738Z",
     "iopub.status.idle": "2022-05-10T19:06:54.849255Z",
     "shell.execute_reply": "2022-05-10T19:06:54.848472Z",
     "shell.execute_reply.started": "2022-05-10T19:06:54.713399Z"
    },
    "tags": []
   },
   "outputs": [
    {
     "name": "stdout",
     "output_type": "stream",
     "text": [
      "----- Overall stats -----\n",
      " \n",
      "|         |   Links |   Nodes |     km |\n",
      "|---------|---------|---------|--------|\n",
      "| tunnels |      63 |  123.00 |  16.55 |\n",
      "| Total   |    5007 | 7847.00 | 506.77 |\n",
      " \n",
      "----- Toll tunnels -----\n",
      " \n",
      "|   links |   nodes |   total_km |\n",
      "|---------|---------|------------|\n",
      "|       2 |    4.00 |       2.96 |\n",
      "\n",
      "----- Link types -----\n",
      "\n",
      "| Link Type     |   Links |   Nodes |   Total km |\n",
      "|---------------|---------|---------|------------|\n",
      "| living_street |       4 |       8 |       0.03 |\n",
      "| primary       |      16 |      32 |       3.65 |\n",
      "| residential   |       4 |       8 |       0.14 |\n",
      "| secondary     |       2 |       4 |       0.09 |\n",
      "| service       |      19 |      37 |       3.40 |\n",
      "| tertiary      |       4 |       8 |       0.37 |\n",
      "| trunk         |       9 |      18 |       8.81 |\n",
      "| unclassified  |       5 |       8 |       0.05 |\n",
      "\n",
      "----- Pavement Surfaces -----\n",
      "\n",
      "| Link Type    |   Links |   Nodes |   Total km |\n",
      "|--------------|---------|---------|------------|\n",
      "| asphalt      |      33 |      66 |      13.03 |\n",
      "| unclassified |      30 |      57 |       3.52 |\n",
      "\n"
     ]
    }
   ],
   "source": [
    "tunnel_stats(links)"
   ]
  },
  {
   "cell_type": "code",
   "execution_count": 102,
   "id": "1d020992-b401-4e3a-8305-12ef4e45b626",
   "metadata": {
    "execution": {
     "iopub.execute_input": "2022-05-10T18:35:32.267493Z",
     "iopub.status.busy": "2022-05-10T18:35:32.267123Z",
     "iopub.status.idle": "2022-05-10T18:35:32.294369Z",
     "shell.execute_reply": "2022-05-10T18:35:32.293647Z",
     "shell.execute_reply.started": "2022-05-10T18:35:32.267461Z"
    },
    "tags": []
   },
   "outputs": [],
   "source": [
    "def primary_stats(links):\n",
    "    \n",
    "    vehicle_links = links[(links[\"modes\"].str.contains(\"c\")) & (links[\"modes\"].str.contains(\"t\"))]\n",
    "    #vehicle_nodes = nodes[nodes['node_id'].isin(vehicle_links.a_node.tolist() + vehicle_links.b_node.tolist())]\n",
    "    \n",
    "    print(\"----- Links -----\")\n",
    "    print(\"\")\n",
    "    bridge_links = len(vehicle_links[vehicle_links['bridge'].notna()])\n",
    "    toll_links = len(vehicle_links[vehicle_links['toll'].notna()])\n",
    "    tunnel_links = len(vehicle_links[vehicle_links['tunnel'].notna()])\n",
    "    total_links = len(vehicle_links)\n",
    "    \n",
    "    table = [[total_links - bridge_links - toll_links - tunnel_links, bridge_links, toll_links, tunnel_links, total_links]]\n",
    "    \n",
    "    print(tabulate(table, headers=[\"General\", \"Bridge\", \"Toll\", \"Tunnel\", \"Total\"], tablefmt=\"github\", floatfmt=\".0f\"))\n",
    "    print(\"\")\n",
    "    \n",
    "    print(\"----- Nodes -----\")\n",
    "    print(\"\")\n",
    "    bridge_nodes = vehicle_links[vehicle_links['bridge'].notna()][['a_node', 'b_node']].nunique().sum()\n",
    "    toll_nodes = vehicle_links[vehicle_links['toll'].notna()][['a_node', 'b_node']].nunique().sum()\n",
    "    tunnel_nodes = vehicle_links[vehicle_links['tunnel'].notna()][['a_node', 'b_node']].nunique().sum()\n",
    "    total_nodes = vehicle_links[['a_node', 'b_node']].nunique().sum()\n",
    "    \n",
    "    table = [[total_nodes - bridge_nodes - toll_nodes - tunnel_nodes,\n",
    "              bridge_nodes, toll_nodes, tunnel_nodes, total_nodes]]\n",
    "    \n",
    "    print(tabulate(table, headers=[\"General\", \"Bridge\", \"Toll\", \"Tunnel\", \"Total\"], tablefmt=\"github\", floatfmt=\".0f\"))\n",
    "    print(\"\")\n",
    "    \n",
    "    print(\"----- Total km -----\")\n",
    "    print(\"\")\n",
    "    bridge_dist = vehicle_links[vehicle_links['bridge'].notna()]['distance'].sum()/1000\n",
    "    toll_dist = vehicle_links[vehicle_links['toll'].notna()]['distance'].sum()/1000\n",
    "    tunnel_dist = vehicle_links[vehicle_links['tunnel'].notna()]['distance'].sum()/1000\n",
    "    total_dist = vehicle_links.distance.sum()/1000\n",
    "    \n",
    "    table = [[total_dist - bridge_dist - toll_dist - tunnel_dist,\n",
    "              bridge_dist, toll_dist, tunnel_dist, total_dist]]\n",
    "    print(tabulate(table, headers=[\"General\", \"Bridge\", \"Toll\", \"Tunnel\", \"Total\"], tablefmt=\"github\", floatfmt=\".2f\"))\n",
    "    print(\"\")\n",
    "    \n",
    "    print(\"----- Link types -----\")\n",
    "    print(\"\")\n",
    "    df = pd.DataFrame.from_dict(dict(vehicle_links.groupby('link_type').sum(numeric_only=True)['distance']/1000),\n",
    "                            orient='index', columns=['total_km'])\n",
    "    df.insert(0, 'links', vehicle_links.groupby('link_type').count()['distance'])\n",
    "    df.insert(1, 'nodes', [vehicle_links[vehicle_links['link_type'] == i][['a_node', 'b_node']].nunique().sum() \n",
    "                           for i in vehicle_links.groupby('link_type').count()['distance'].index.tolist()])\n",
    "\n",
    "    print(tabulate(df, tablefmt=\"github\", floatfmt=(\".0f\", \".0f\", \".0f\", \".2f\"), \n",
    "                   headers=[\"Link Type\", \"Links\", \"Nodes\", 'Total km']))\n",
    "    print(\"\")\n",
    "    \n",
    "    print(\"----- Pavement Surfaces -----\")\n",
    "    print(\"\")\n",
    "    vehicle_links.loc[vehicle_links['surface'].isna(), 'surface'] = 'unclassified'\n",
    "    df = pd.DataFrame.from_dict(dict(vehicle_links.groupby('surface').sum(numeric_only=True)['distance']/1000),\n",
    "                            orient='index', columns=['total_km'])\n",
    "    df.insert(0, 'links', vehicle_links.groupby('surface').count()['distance'])\n",
    "    df.insert(1, 'nodes', [vehicle_links[vehicle_links['surface'] == i][['a_node', 'b_node']].nunique().sum() \n",
    "                           for i in vehicle_links.groupby('surface').count()['distance'].index.tolist()])\n",
    "\n",
    "    print(tabulate(df, tablefmt=\"github\", floatfmt=(\".0f\", \".0f\", \".0f\", \".2f\"), \n",
    "                   headers=[\"Surface\", \"Links\", \"Nodes\", 'Total km']))\n",
    "    print(\"\")"
   ]
  },
  {
   "cell_type": "code",
   "execution_count": 103,
   "id": "78507cc6-4253-4af0-966e-34258766f9a9",
   "metadata": {
    "execution": {
     "iopub.execute_input": "2022-05-10T18:35:36.261277Z",
     "iopub.status.busy": "2022-05-10T18:35:36.260973Z",
     "iopub.status.idle": "2022-05-10T18:35:36.429540Z",
     "shell.execute_reply": "2022-05-10T18:35:36.424472Z",
     "shell.execute_reply.started": "2022-05-10T18:35:36.261251Z"
    },
    "tags": []
   },
   "outputs": [
    {
     "name": "stdout",
     "output_type": "stream",
     "text": [
      "----- Links -----\n",
      "\n",
      "|   General |   Bridge |   Toll |   Tunnel |   Total |\n",
      "|-----------|----------|--------|----------|---------|\n",
      "|      4641 |      288 |     15 |       63 |    5007 |\n",
      "\n",
      "----- Nodes -----\n",
      "\n",
      "|   General |   Bridge |   Toll |   Tunnel |   Total |\n",
      "|-----------|----------|--------|----------|---------|\n",
      "|      7172 |      525 |     27 |      123 |    7847 |\n",
      "\n",
      "----- Total km -----\n",
      "\n",
      "|   General |   Bridge |   Toll |   Tunnel |   Total |\n",
      "|-----------|----------|--------|----------|---------|\n",
      "|    478.20 |     7.54 |   4.49 |    16.55 |  506.77 |\n",
      "\n",
      "----- Link types -----\n",
      "\n",
      "| Link Type     |   Links |   Nodes |   Total km |\n",
      "|---------------|---------|---------|------------|\n",
      "| living_street |      54 |      97 |       2.02 |\n",
      "| primary       |    1225 |    2121 |     117.03 |\n",
      "| residential   |    1449 |    2470 |     114.44 |\n",
      "| secondary     |     910 |    1681 |     145.93 |\n",
      "| service       |     856 |    1535 |      57.68 |\n",
      "| tertiary      |     296 |     567 |      42.80 |\n",
      "| trunk         |      63 |     105 |      12.82 |\n",
      "| unclassified  |     153 |     289 |      13.71 |\n",
      "| via_ferrata   |       1 |       2 |       0.34 |\n",
      "\n",
      "----- Surfaces -----\n",
      "\n",
      "| Link Type     |   Links |   Nodes |   Total km |\n",
      "|---------------|---------|---------|------------|\n",
      "| asphalt       |    2760 |    4828 |     341.95 |\n",
      "| compacted     |       2 |       4 |       0.53 |\n",
      "| concrete      |       3 |       5 |       0.07 |\n",
      "| dirt          |       1 |       2 |       0.05 |\n",
      "| fine_gravel   |       1 |       2 |       0.07 |\n",
      "| gravel        |       2 |       4 |       0.49 |\n",
      "| ground        |       3 |       6 |       0.11 |\n",
      "| paved         |       2 |       4 |       0.24 |\n",
      "| paving_stones |       5 |      10 |       0.26 |\n",
      "| pebblestone   |       3 |       5 |       0.12 |\n",
      "| sett          |       3 |       6 |       0.23 |\n",
      "| unclassified  |    2219 |    3793 |     162.13 |\n",
      "| unpaved       |       3 |       6 |       0.51 |\n",
      "\n"
     ]
    }
   ],
   "source": [
    "primary_stats(links)"
   ]
  },
  {
   "cell_type": "markdown",
   "id": "0db27acc-45a5-4fb0-9a13-17edcd781265",
   "metadata": {
    "tags": []
   },
   "source": [
    "---"
   ]
  },
  {
   "cell_type": "code",
   "execution_count": 8,
   "id": "f4a23d4f-c828-4f67-9552-85ae18fb7134",
   "metadata": {
    "execution": {
     "iopub.execute_input": "2022-05-10T15:39:17.073339Z",
     "iopub.status.busy": "2022-05-10T15:39:17.073026Z",
     "iopub.status.idle": "2022-05-10T15:39:17.079340Z",
     "shell.execute_reply": "2022-05-10T15:39:17.078474Z",
     "shell.execute_reply.started": "2022-05-10T15:39:17.073311Z"
    },
    "tags": []
   },
   "outputs": [],
   "source": [
    "sys.path.insert(0, '/home/jovyan/workspace/road_analytics/notebooks')\n",
    "from functions.country_borders import get_country_borders"
   ]
  },
  {
   "cell_type": "code",
   "execution_count": 9,
   "id": "17759c37-b027-4e97-bc84-a810bc94a69f",
   "metadata": {
    "execution": {
     "iopub.execute_input": "2022-05-10T15:39:18.701600Z",
     "iopub.status.busy": "2022-05-10T15:39:18.701160Z",
     "iopub.status.idle": "2022-05-10T15:39:19.972010Z",
     "shell.execute_reply": "2022-05-10T15:39:19.971280Z",
     "shell.execute_reply.started": "2022-05-10T15:39:18.701570Z"
    },
    "tags": []
   },
   "outputs": [],
   "source": [
    "# use geopandas area to calculate the country/region/area\n",
    "place_geo = get_country_borders(model_place)\n",
    "\n",
    "place_geo.area"
   ]
  },
  {
   "cell_type": "markdown",
   "id": "bb03b6ba-d303-4def-8db1-bdf79a526ed8",
   "metadata": {},
   "source": [
    "---"
   ]
  },
  {
   "cell_type": "code",
   "execution_count": null,
   "id": "0320436a-42ba-410b-aaf5-0c1dd7ccad9f",
   "metadata": {},
   "outputs": [],
   "source": []
  },
  {
   "cell_type": "markdown",
   "id": "715785fb-d3d5-407d-9b0a-814e856633dc",
   "metadata": {
    "execution": {
     "iopub.execute_input": "2022-05-06T11:34:17.695232Z",
     "iopub.status.busy": "2022-05-06T11:34:17.694125Z",
     "iopub.status.idle": "2022-05-06T11:34:17.891594Z",
     "shell.execute_reply": "2022-05-06T11:34:17.890790Z",
     "shell.execute_reply.started": "2022-05-06T11:34:17.695190Z"
    },
    "tags": []
   },
   "source": [
    "project.close()"
   ]
  }
 ],
 "metadata": {
  "kernelspec": {
   "display_name": "saturn (Python 3)",
   "language": "python",
   "name": "python3"
  },
  "language_info": {
   "codemirror_mode": {
    "name": "ipython",
    "version": 3
   },
   "file_extension": ".py",
   "mimetype": "text/x-python",
   "name": "python",
   "nbconvert_exporter": "python",
   "pygments_lexer": "ipython3",
   "version": "3.9.12"
  }
 },
 "nbformat": 4,
 "nbformat_minor": 5
}
