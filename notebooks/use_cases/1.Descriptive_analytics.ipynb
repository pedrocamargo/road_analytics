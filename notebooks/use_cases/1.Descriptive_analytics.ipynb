{
 "cells": [
  {
   "cell_type": "markdown",
   "id": "019b293e-c5b6-442c-973e-b157a82ce134",
   "metadata": {},
   "source": [
    "# Imports"
   ]
  },
  {
   "cell_type": "code",
   "execution_count": 1,
   "id": "003e0c7b",
   "metadata": {
    "execution": {
     "iopub.execute_input": "2022-05-09T20:55:04.445350Z",
     "iopub.status.busy": "2022-05-09T20:55:04.444607Z",
     "iopub.status.idle": "2022-05-09T20:55:05.623519Z",
     "shell.execute_reply": "2022-05-09T20:55:05.623036Z",
     "shell.execute_reply.started": "2022-05-09T20:55:04.445254Z"
    },
    "tags": []
   },
   "outputs": [],
   "source": [
    "import sys\n",
    "import logging\n",
    "import shutil\n",
    "from uuid import uuid4\n",
    "from tempfile import gettempdir\n",
    "from os.path import join, isdir\n",
    "import folium\n",
    "from aequilibrae import Parameters, logger, Project\n",
    "import pandas as pd"
   ]
  },
  {
   "cell_type": "markdown",
   "id": "706f171e-43bb-431e-af6e-20b5b2014493",
   "metadata": {},
   "source": [
    "# Model place (Country) to build the model for"
   ]
  },
  {
   "cell_type": "code",
   "execution_count": 2,
   "id": "28475878-31e3-49c0-a38b-6bd3fa53f5ee",
   "metadata": {
    "execution": {
     "iopub.execute_input": "2022-05-09T20:55:29.264598Z",
     "iopub.status.busy": "2022-05-09T20:55:29.264113Z",
     "iopub.status.idle": "2022-05-09T20:55:29.268436Z",
     "shell.execute_reply": "2022-05-09T20:55:29.267613Z",
     "shell.execute_reply.started": "2022-05-09T20:55:29.264568Z"
    },
    "tags": []
   },
   "outputs": [],
   "source": [
    "model_place = 'Andorra'"
   ]
  },
  {
   "cell_type": "code",
   "execution_count": 3,
   "id": "94a4f4b1",
   "metadata": {
    "execution": {
     "iopub.execute_input": "2022-05-09T20:55:31.638042Z",
     "iopub.status.busy": "2022-05-09T20:55:31.637786Z",
     "iopub.status.idle": "2022-05-09T20:55:31.643087Z",
     "shell.execute_reply": "2022-05-09T20:55:31.641622Z",
     "shell.execute_reply.started": "2022-05-09T20:55:31.638013Z"
    },
    "tags": []
   },
   "outputs": [
    {
     "name": "stdout",
     "output_type": "stream",
     "text": [
      "/home/jovyan/workspace/road_analytics/Andorra\n"
     ]
    }
   ],
   "source": [
    "fldr = f'/home/jovyan/workspace/road_analytics/{model_place}'\n",
    "\n",
    "if isdir(fldr):\n",
    "    print(fldr)"
   ]
  },
  {
   "cell_type": "markdown",
   "id": "37340d5e-8005-4db4-9939-527ff9209c59",
   "metadata": {
    "execution": {
     "iopub.execute_input": "2022-05-06T08:44:13.171729Z",
     "iopub.status.busy": "2022-05-06T08:44:13.171509Z",
     "iopub.status.idle": "2022-05-06T08:44:13.175112Z",
     "shell.execute_reply": "2022-05-06T08:44:13.174427Z",
     "shell.execute_reply.started": "2022-05-06T08:44:13.171708Z"
    },
    "tags": []
   },
   "source": [
    "# Open Model"
   ]
  },
  {
   "cell_type": "code",
   "execution_count": 4,
   "id": "4fe405c9",
   "metadata": {
    "execution": {
     "iopub.execute_input": "2022-05-09T20:55:34.887987Z",
     "iopub.status.busy": "2022-05-09T20:55:34.887752Z",
     "iopub.status.idle": "2022-05-09T20:55:35.210672Z",
     "shell.execute_reply": "2022-05-09T20:55:35.210149Z",
     "shell.execute_reply.started": "2022-05-09T20:55:34.887964Z"
    },
    "tags": []
   },
   "outputs": [],
   "source": [
    "project = Project()\n",
    "project.open(fldr)"
   ]
  },
  {
   "cell_type": "markdown",
   "id": "e19e1493-b8c2-455b-be2e-706dc05c011e",
   "metadata": {},
   "source": [
    "# Get model data"
   ]
  },
  {
   "cell_type": "code",
   "execution_count": 5,
   "id": "498956e2-e8cf-4a84-8700-1f061dbe5ea7",
   "metadata": {
    "execution": {
     "iopub.execute_input": "2022-05-09T20:55:39.599357Z",
     "iopub.status.busy": "2022-05-09T20:55:39.598572Z",
     "iopub.status.idle": "2022-05-09T20:55:39.687980Z",
     "shell.execute_reply": "2022-05-09T20:55:39.687283Z",
     "shell.execute_reply.started": "2022-05-09T20:55:39.599319Z"
    },
    "tags": []
   },
   "outputs": [],
   "source": [
    "links = pd.read_sql('select * from links', project.conn).drop(columns=['geometry'])"
   ]
  },
  {
   "cell_type": "code",
   "execution_count": 6,
   "id": "28751664-c9f6-4feb-9791-5901b125859f",
   "metadata": {
    "execution": {
     "iopub.execute_input": "2022-05-09T20:55:41.236419Z",
     "iopub.status.busy": "2022-05-09T20:55:41.236187Z",
     "iopub.status.idle": "2022-05-09T20:55:41.268290Z",
     "shell.execute_reply": "2022-05-09T20:55:41.267652Z",
     "shell.execute_reply.started": "2022-05-09T20:55:41.236392Z"
    },
    "tags": []
   },
   "outputs": [
    {
     "data": {
      "text/html": [
       "<div>\n",
       "<style scoped>\n",
       "    .dataframe tbody tr th:only-of-type {\n",
       "        vertical-align: middle;\n",
       "    }\n",
       "\n",
       "    .dataframe tbody tr th {\n",
       "        vertical-align: top;\n",
       "    }\n",
       "\n",
       "    .dataframe thead th {\n",
       "        text-align: right;\n",
       "    }\n",
       "</style>\n",
       "<table border=\"1\" class=\"dataframe\">\n",
       "  <thead>\n",
       "    <tr style=\"text-align: right;\">\n",
       "      <th></th>\n",
       "      <th>ogc_fid</th>\n",
       "      <th>link_id</th>\n",
       "      <th>a_node</th>\n",
       "      <th>b_node</th>\n",
       "      <th>direction</th>\n",
       "      <th>distance</th>\n",
       "      <th>modes</th>\n",
       "      <th>link_type</th>\n",
       "      <th>name</th>\n",
       "      <th>speed_ab</th>\n",
       "      <th>...</th>\n",
       "      <th>capacity_ab</th>\n",
       "      <th>capacity_ba</th>\n",
       "      <th>osm_id</th>\n",
       "      <th>bridge</th>\n",
       "      <th>tunnel</th>\n",
       "      <th>toll</th>\n",
       "      <th>surface</th>\n",
       "      <th>lanes_ab</th>\n",
       "      <th>lanes_ba</th>\n",
       "      <th>source_id</th>\n",
       "    </tr>\n",
       "  </thead>\n",
       "  <tbody>\n",
       "    <tr>\n",
       "      <th>0</th>\n",
       "      <td>1</td>\n",
       "      <td>1</td>\n",
       "      <td>2</td>\n",
       "      <td>1</td>\n",
       "      <td>1</td>\n",
       "      <td>19.863131</td>\n",
       "      <td>ct</td>\n",
       "      <td>residential</td>\n",
       "      <td>None</td>\n",
       "      <td>NaN</td>\n",
       "      <td>...</td>\n",
       "      <td>None</td>\n",
       "      <td>None</td>\n",
       "      <td>1058565900</td>\n",
       "      <td>None</td>\n",
       "      <td>None</td>\n",
       "      <td>None</td>\n",
       "      <td>None</td>\n",
       "      <td>NaN</td>\n",
       "      <td>NaN</td>\n",
       "      <td>None</td>\n",
       "    </tr>\n",
       "    <tr>\n",
       "      <th>1</th>\n",
       "      <td>2</td>\n",
       "      <td>2</td>\n",
       "      <td>1</td>\n",
       "      <td>3</td>\n",
       "      <td>1</td>\n",
       "      <td>16.884412</td>\n",
       "      <td>ct</td>\n",
       "      <td>residential</td>\n",
       "      <td>None</td>\n",
       "      <td>NaN</td>\n",
       "      <td>...</td>\n",
       "      <td>None</td>\n",
       "      <td>None</td>\n",
       "      <td>1058565900</td>\n",
       "      <td>None</td>\n",
       "      <td>None</td>\n",
       "      <td>None</td>\n",
       "      <td>None</td>\n",
       "      <td>NaN</td>\n",
       "      <td>NaN</td>\n",
       "      <td>None</td>\n",
       "    </tr>\n",
       "    <tr>\n",
       "      <th>2</th>\n",
       "      <td>3</td>\n",
       "      <td>3</td>\n",
       "      <td>5</td>\n",
       "      <td>4</td>\n",
       "      <td>1</td>\n",
       "      <td>15.190793</td>\n",
       "      <td>ct</td>\n",
       "      <td>residential</td>\n",
       "      <td>None</td>\n",
       "      <td>NaN</td>\n",
       "      <td>...</td>\n",
       "      <td>None</td>\n",
       "      <td>None</td>\n",
       "      <td>1058565899</td>\n",
       "      <td>None</td>\n",
       "      <td>None</td>\n",
       "      <td>None</td>\n",
       "      <td>None</td>\n",
       "      <td>NaN</td>\n",
       "      <td>NaN</td>\n",
       "      <td>None</td>\n",
       "    </tr>\n",
       "    <tr>\n",
       "      <th>3</th>\n",
       "      <td>4</td>\n",
       "      <td>4</td>\n",
       "      <td>4</td>\n",
       "      <td>6</td>\n",
       "      <td>1</td>\n",
       "      <td>18.038848</td>\n",
       "      <td>ct</td>\n",
       "      <td>residential</td>\n",
       "      <td>None</td>\n",
       "      <td>NaN</td>\n",
       "      <td>...</td>\n",
       "      <td>None</td>\n",
       "      <td>None</td>\n",
       "      <td>1058565899</td>\n",
       "      <td>None</td>\n",
       "      <td>None</td>\n",
       "      <td>None</td>\n",
       "      <td>None</td>\n",
       "      <td>NaN</td>\n",
       "      <td>NaN</td>\n",
       "      <td>None</td>\n",
       "    </tr>\n",
       "    <tr>\n",
       "      <th>4</th>\n",
       "      <td>5</td>\n",
       "      <td>5</td>\n",
       "      <td>8</td>\n",
       "      <td>7</td>\n",
       "      <td>1</td>\n",
       "      <td>13.234459</td>\n",
       "      <td>ct</td>\n",
       "      <td>residential</td>\n",
       "      <td>None</td>\n",
       "      <td>NaN</td>\n",
       "      <td>...</td>\n",
       "      <td>None</td>\n",
       "      <td>None</td>\n",
       "      <td>1058514206</td>\n",
       "      <td>None</td>\n",
       "      <td>None</td>\n",
       "      <td>None</td>\n",
       "      <td>None</td>\n",
       "      <td>NaN</td>\n",
       "      <td>NaN</td>\n",
       "      <td>None</td>\n",
       "    </tr>\n",
       "  </tbody>\n",
       "</table>\n",
       "<p>5 rows × 21 columns</p>\n",
       "</div>"
      ],
      "text/plain": [
       "   ogc_fid  link_id  a_node  b_node  direction   distance modes    link_type  \\\n",
       "0        1        1       2       1          1  19.863131    ct  residential   \n",
       "1        2        2       1       3          1  16.884412    ct  residential   \n",
       "2        3        3       5       4          1  15.190793    ct  residential   \n",
       "3        4        4       4       6          1  18.038848    ct  residential   \n",
       "4        5        5       8       7          1  13.234459    ct  residential   \n",
       "\n",
       "   name  speed_ab  ...  capacity_ab capacity_ba      osm_id  bridge tunnel  \\\n",
       "0  None       NaN  ...         None        None  1058565900    None   None   \n",
       "1  None       NaN  ...         None        None  1058565900    None   None   \n",
       "2  None       NaN  ...         None        None  1058565899    None   None   \n",
       "3  None       NaN  ...         None        None  1058565899    None   None   \n",
       "4  None       NaN  ...         None        None  1058514206    None   None   \n",
       "\n",
       "   toll surface lanes_ab  lanes_ba  source_id  \n",
       "0  None    None      NaN       NaN       None  \n",
       "1  None    None      NaN       NaN       None  \n",
       "2  None    None      NaN       NaN       None  \n",
       "3  None    None      NaN       NaN       None  \n",
       "4  None    None      NaN       NaN       None  \n",
       "\n",
       "[5 rows x 21 columns]"
      ]
     },
     "execution_count": 6,
     "metadata": {},
     "output_type": "execute_result"
    }
   ],
   "source": [
    "links.head()"
   ]
  },
  {
   "cell_type": "code",
   "execution_count": 11,
   "id": "6a0557c1-2b9d-4c1e-b5d8-2e74b98165c0",
   "metadata": {
    "execution": {
     "iopub.execute_input": "2022-05-09T21:10:04.670886Z",
     "iopub.status.busy": "2022-05-09T21:10:04.670673Z",
     "iopub.status.idle": "2022-05-09T21:10:04.812255Z",
     "shell.execute_reply": "2022-05-09T21:10:04.803273Z",
     "shell.execute_reply.started": "2022-05-09T21:10:04.670866Z"
    },
    "tags": []
   },
   "outputs": [
    {
     "name": "stdout",
     "output_type": "stream",
     "text": [
      "<class 'pandas.core.frame.DataFrame'>\n",
      "RangeIndex: 9448 entries, 0 to 9447\n",
      "Data columns (total 21 columns):\n",
      " #   Column       Non-Null Count  Dtype  \n",
      "---  ------       --------------  -----  \n",
      " 0   ogc_fid      9448 non-null   int64  \n",
      " 1   link_id      9448 non-null   int64  \n",
      " 2   a_node       9448 non-null   int64  \n",
      " 3   b_node       9448 non-null   int64  \n",
      " 4   direction    9448 non-null   int64  \n",
      " 5   distance     9448 non-null   float64\n",
      " 6   modes        9448 non-null   object \n",
      " 7   link_type    9448 non-null   object \n",
      " 8   name         2936 non-null   object \n",
      " 9   speed_ab     1387 non-null   float64\n",
      " 10  speed_ba     1084 non-null   float64\n",
      " 11  capacity_ab  0 non-null      object \n",
      " 12  capacity_ba  0 non-null      object \n",
      " 13  osm_id       9448 non-null   int64  \n",
      " 14  bridge       440 non-null    object \n",
      " 15  tunnel       76 non-null     object \n",
      " 16  toll         15 non-null     object \n",
      " 17  surface      3506 non-null   object \n",
      " 18  lanes_ab     1755 non-null   float64\n",
      " 19  lanes_ba     1316 non-null   float64\n",
      " 20  source_id    0 non-null      object \n",
      "dtypes: float64(5), int64(6), object(10)\n",
      "memory usage: 1.5+ MB\n"
     ]
    }
   ],
   "source": [
    "links.info()"
   ]
  },
  {
   "cell_type": "markdown",
   "id": "a8e0e7d2-f7d2-4e9b-a185-4d5ce6b5d30f",
   "metadata": {},
   "source": [
    "---\n",
    "Useful analytics:\n",
    "\n",
    "* Surface type (pavement);\n",
    "* Num. of nodes (per mode)\n",
    "* Node density (per km²)\n",
    "* Length of links (per mode)\n",
    "* Density of links (per km²)\n",
    "* Num.bridges\n",
    "* Num. nodes corresponding to bridges\n",
    "* Length of bridges\n",
    "* Num. tunnels\n",
    "* Num. nodes corresponding to tunnels\n",
    "* Length of tunnels\n",
    "* Num. tolls\n",
    "* Num. nodes corresponding to toll roads\n",
    "* Length of toll roads\n",
    "* Avg. Speed\n",
    "* Avg. num. of lanes\n",
    "---"
   ]
  },
  {
   "cell_type": "code",
   "execution_count": 27,
   "id": "f44e74b7-f545-48d7-9491-1e53ac1b0df5",
   "metadata": {
    "execution": {
     "iopub.execute_input": "2022-05-09T21:49:03.235761Z",
     "iopub.status.busy": "2022-05-09T21:49:03.235214Z",
     "iopub.status.idle": "2022-05-09T21:49:03.270386Z",
     "shell.execute_reply": "2022-05-09T21:49:03.265449Z",
     "shell.execute_reply.started": "2022-05-09T21:49:03.235724Z"
    },
    "tags": []
   },
   "outputs": [
    {
     "name": "stdout",
     "output_type": "stream",
     "text": [
      "CPU times: user 14.6 ms, sys: 142 µs, total: 14.8 ms\n",
      "Wall time: 15 ms\n"
     ]
    },
    {
     "data": {
      "text/html": [
       "<div>\n",
       "<style scoped>\n",
       "    .dataframe tbody tr th:only-of-type {\n",
       "        vertical-align: middle;\n",
       "    }\n",
       "\n",
       "    .dataframe tbody tr th {\n",
       "        vertical-align: top;\n",
       "    }\n",
       "\n",
       "    .dataframe thead th {\n",
       "        text-align: right;\n",
       "    }\n",
       "</style>\n",
       "<table border=\"1\" class=\"dataframe\">\n",
       "  <thead>\n",
       "    <tr style=\"text-align: right;\">\n",
       "      <th></th>\n",
       "      <th>surface</th>\n",
       "      <th>total_km</th>\n",
       "    </tr>\n",
       "  </thead>\n",
       "  <tbody>\n",
       "  </tbody>\n",
       "</table>\n",
       "</div>"
      ],
      "text/plain": [
       "Empty DataFrame\n",
       "Columns: [surface, total_km]\n",
       "Index: []"
      ]
     },
     "execution_count": 27,
     "metadata": {},
     "output_type": "execute_result"
    }
   ],
   "source": [
    "%%time\n",
    "#Total km per surface type\n",
    "df = pd.DataFrame(links[links[\"modes\"].str.contains(\"c\")].groupby('surface').sum(numeric_only=True)['distance'],\n",
    "                  columns=['surface', 'total_km'])\n",
    "\n",
    "df.head()"
   ]
  },
  {
   "cell_type": "code",
   "execution_count": null,
   "id": "062b580f-d0d5-4a09-9fe0-c5acde8e97e9",
   "metadata": {},
   "outputs": [],
   "source": [
    "links[links[\"modes\"].str.contains(\"c\")].groupby('link_type').sum(numeric_only=True)['distance']head"
   ]
  },
  {
   "cell_type": "code",
   "execution_count": null,
   "id": "f7d43ab7-e921-457c-af83-42168527126d",
   "metadata": {},
   "outputs": [],
   "source": [
    "# use geopandas area to calculate the country/region/area"
   ]
  },
  {
   "cell_type": "markdown",
   "id": "715785fb-d3d5-407d-9b0a-814e856633dc",
   "metadata": {
    "execution": {
     "iopub.execute_input": "2022-05-06T11:34:17.695232Z",
     "iopub.status.busy": "2022-05-06T11:34:17.694125Z",
     "iopub.status.idle": "2022-05-06T11:34:17.891594Z",
     "shell.execute_reply": "2022-05-06T11:34:17.890790Z",
     "shell.execute_reply.started": "2022-05-06T11:34:17.695190Z"
    },
    "tags": []
   },
   "source": [
    "project.close()"
   ]
  }
 ],
 "metadata": {
  "kernelspec": {
   "display_name": "saturn (Python 3)",
   "language": "python",
   "name": "python3"
  },
  "language_info": {
   "codemirror_mode": {
    "name": "ipython",
    "version": 3
   },
   "file_extension": ".py",
   "mimetype": "text/x-python",
   "name": "python",
   "nbconvert_exporter": "python",
   "pygments_lexer": "ipython3",
   "version": "3.9.9"
  }
 },
 "nbformat": 4,
 "nbformat_minor": 5
}
