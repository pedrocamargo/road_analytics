{
 "cells": [
  {
   "cell_type": "markdown",
   "id": "019b293e-c5b6-442c-973e-b157a82ce134",
   "metadata": {},
   "source": [
    "# Imports"
   ]
  },
  {
   "cell_type": "code",
   "execution_count": 1,
   "id": "84820b9f-8c2c-4332-bbb8-b8a44a71894a",
   "metadata": {
    "execution": {
     "iopub.execute_input": "2022-05-11T18:08:45.241206Z",
     "iopub.status.busy": "2022-05-11T18:08:45.240695Z",
     "iopub.status.idle": "2022-05-11T18:08:46.595605Z",
     "shell.execute_reply": "2022-05-11T18:08:46.594843Z",
     "shell.execute_reply.started": "2022-05-11T18:08:45.241113Z"
    },
    "tags": []
   },
   "outputs": [],
   "source": [
    "import logging\n",
    "import shutil\n",
    "import sys\n",
    "from os.path import isdir, join\n",
    "from tempfile import gettempdir\n",
    "from uuid import uuid4\n",
    "\n",
    "import folium\n",
    "import pandas as pd\n",
    "from aequilibrae import Parameters, Project, logger\n",
    "\n",
    "from functions.basic_stats import basic_stats\n",
    "from functions.bridge_stats import bridge_stats\n",
    "from functions.toll_stats import toll_stats\n",
    "from functions.tunnel_stats import tunnel_stats"
   ]
  },
  {
   "cell_type": "markdown",
   "id": "706f171e-43bb-431e-af6e-20b5b2014493",
   "metadata": {},
   "source": [
    "# Model place (Country) to build the model for"
   ]
  },
  {
   "cell_type": "code",
   "execution_count": 2,
   "id": "28475878-31e3-49c0-a38b-6bd3fa53f5ee",
   "metadata": {
    "execution": {
     "iopub.execute_input": "2022-05-11T18:08:47.924146Z",
     "iopub.status.busy": "2022-05-11T18:08:47.923770Z",
     "iopub.status.idle": "2022-05-11T18:08:47.931216Z",
     "shell.execute_reply": "2022-05-11T18:08:47.930218Z",
     "shell.execute_reply.started": "2022-05-11T18:08:47.924121Z"
    },
    "tags": []
   },
   "outputs": [],
   "source": [
    "model_place = 'Andorra'"
   ]
  },
  {
   "cell_type": "code",
   "execution_count": 3,
   "id": "94a4f4b1",
   "metadata": {
    "execution": {
     "iopub.execute_input": "2022-05-11T18:08:48.896694Z",
     "iopub.status.busy": "2022-05-11T18:08:48.896322Z",
     "iopub.status.idle": "2022-05-11T18:08:48.901053Z",
     "shell.execute_reply": "2022-05-11T18:08:48.900333Z",
     "shell.execute_reply.started": "2022-05-11T18:08:48.896670Z"
    },
    "tags": []
   },
   "outputs": [
    {
     "name": "stdout",
     "output_type": "stream",
     "text": [
      "/home/jovyan/workspace/road_analytics/Andorra\n"
     ]
    }
   ],
   "source": [
    "fldr = f'/home/jovyan/workspace/road_analytics/{model_place}'\n",
    "\n",
    "if isdir(fldr):\n",
    "    print(fldr)"
   ]
  },
  {
   "cell_type": "markdown",
   "id": "37340d5e-8005-4db4-9939-527ff9209c59",
   "metadata": {
    "execution": {
     "iopub.execute_input": "2022-05-06T08:44:13.171729Z",
     "iopub.status.busy": "2022-05-06T08:44:13.171509Z",
     "iopub.status.idle": "2022-05-06T08:44:13.175112Z",
     "shell.execute_reply": "2022-05-06T08:44:13.174427Z",
     "shell.execute_reply.started": "2022-05-06T08:44:13.171708Z"
    },
    "tags": []
   },
   "source": [
    "# Open Model"
   ]
  },
  {
   "cell_type": "code",
   "execution_count": 4,
   "id": "4fe405c9",
   "metadata": {
    "execution": {
     "iopub.execute_input": "2022-05-11T18:08:50.354626Z",
     "iopub.status.busy": "2022-05-11T18:08:50.353283Z",
     "iopub.status.idle": "2022-05-11T18:08:50.684685Z",
     "shell.execute_reply": "2022-05-11T18:08:50.683534Z",
     "shell.execute_reply.started": "2022-05-11T18:08:50.354585Z"
    },
    "tags": []
   },
   "outputs": [],
   "source": [
    "project = Project()\n",
    "project.open(fldr)"
   ]
  },
  {
   "cell_type": "markdown",
   "id": "e19e1493-b8c2-455b-be2e-706dc05c011e",
   "metadata": {},
   "source": [
    "# Get model data"
   ]
  },
  {
   "cell_type": "code",
   "execution_count": 5,
   "id": "498956e2-e8cf-4a84-8700-1f061dbe5ea7",
   "metadata": {
    "execution": {
     "iopub.execute_input": "2022-05-11T18:08:52.511190Z",
     "iopub.status.busy": "2022-05-11T18:08:52.510892Z",
     "iopub.status.idle": "2022-05-11T18:08:52.587033Z",
     "shell.execute_reply": "2022-05-11T18:08:52.586281Z",
     "shell.execute_reply.started": "2022-05-11T18:08:52.511167Z"
    },
    "tags": []
   },
   "outputs": [],
   "source": [
    "links = pd.read_sql('select * from links', project.conn).drop(columns=['geometry'])"
   ]
  },
  {
   "cell_type": "markdown",
   "id": "daef2105-6e4a-4ee9-a639-230409c1ee81",
   "metadata": {},
   "source": [
    "# Print statistics"
   ]
  },
  {
   "cell_type": "code",
   "execution_count": 6,
   "id": "3d7cfeb6-aab2-4d7e-a9d9-8ad9654850a2",
   "metadata": {
    "execution": {
     "iopub.execute_input": "2022-05-11T18:08:54.479590Z",
     "iopub.status.busy": "2022-05-11T18:08:54.479181Z",
     "iopub.status.idle": "2022-05-11T18:08:54.531717Z",
     "shell.execute_reply": "2022-05-11T18:08:54.530745Z",
     "shell.execute_reply.started": "2022-05-11T18:08:54.479564Z"
    },
    "tags": []
   },
   "outputs": [
    {
     "name": "stdout",
     "output_type": "stream",
     "text": [
      "----- Links -----\n",
      "\n",
      "|   General |   Bridge |   Toll |   Tunnel |   Total |\n",
      "|-----------|----------|--------|----------|---------|\n",
      "|      4641 |      288 |     15 |       63 |    5007 |\n",
      "\n",
      "----- Total km -----\n",
      "\n",
      "|   General |   Bridge |   Toll |   Tunnel |   Total |\n",
      "|-----------|----------|--------|----------|---------|\n",
      "|    478.20 |     7.54 |   4.49 |    16.55 |  506.77 |\n",
      "\n",
      "----- Link Type -----\n",
      "\n",
      "| Link Type     |   Links |     km |\n",
      "|---------------|---------|--------|\n",
      "| living_street |      54 |   2.02 |\n",
      "| primary       |    1225 | 117.03 |\n",
      "| residential   |    1449 | 114.44 |\n",
      "| secondary     |     910 | 145.93 |\n",
      "| service       |     856 |  57.68 |\n",
      "| tertiary      |     296 |  42.80 |\n",
      "| trunk         |      63 |  12.82 |\n",
      "| unclassified  |     153 |  13.71 |\n",
      "| via_ferrata   |       1 |   0.34 |\n",
      "\n",
      "----- Pavement Surfaces -----\n",
      "\n",
      "| Surface Type   |   Links |     km |\n",
      "|----------------|---------|--------|\n",
      "| asphalt        |    2760 | 341.95 |\n",
      "| compacted      |       2 |   0.53 |\n",
      "| concrete       |       3 |   0.07 |\n",
      "| dirt           |       1 |   0.05 |\n",
      "| fine_gravel    |       1 |   0.07 |\n",
      "| gravel         |       2 |   0.49 |\n",
      "| ground         |       3 |   0.11 |\n",
      "| paved          |       2 |   0.24 |\n",
      "| paving_stones  |       5 |   0.26 |\n",
      "| pebblestone    |       3 |   0.12 |\n",
      "| sett           |       3 |   0.23 |\n",
      "| unclassified   |    2219 | 162.13 |\n",
      "| unpaved        |       3 |   0.51 |\n",
      "\n"
     ]
    }
   ],
   "source": [
    "basic_stats(links)"
   ]
  },
  {
   "cell_type": "code",
   "execution_count": 7,
   "id": "b7143f87-3296-4364-8d4c-132d8648558f",
   "metadata": {
    "execution": {
     "iopub.execute_input": "2022-05-11T18:08:59.147003Z",
     "iopub.status.busy": "2022-05-11T18:08:59.146458Z",
     "iopub.status.idle": "2022-05-11T18:08:59.240812Z",
     "shell.execute_reply": "2022-05-11T18:08:59.239811Z",
     "shell.execute_reply.started": "2022-05-11T18:08:59.146974Z"
    },
    "tags": []
   },
   "outputs": [
    {
     "name": "stdout",
     "output_type": "stream",
     "text": [
      "----- Bridge - Overall Stats -----\n",
      " \n",
      "|        |   Links |        km |\n",
      "|--------|---------|-----------|\n",
      "| Bridge |     288 |   7536.45 |\n",
      "| Total  |    5007 | 506772.07 |\n",
      " \n",
      "There are no toll bridges in the search area.\n",
      "\n",
      "----- Bridge - Link Type -----\n",
      "\n",
      "| Link Type     |   Links |   km |\n",
      "|---------------|---------|------|\n",
      "| living_street |       1 | 0.01 |\n",
      "| primary       |     106 | 3.42 |\n",
      "| residential   |      57 | 0.89 |\n",
      "| secondary     |      57 | 1.21 |\n",
      "| service       |      29 | 0.54 |\n",
      "| tertiary      |      11 | 0.11 |\n",
      "| trunk         |      12 | 1.06 |\n",
      "| unclassified  |      15 | 0.29 |\n",
      "\n",
      "----- Bridge - Pavement Surface -----\n",
      "\n",
      "| Surface Type   |   Links |   km |\n",
      "|----------------|---------|------|\n",
      "| asphalt        |     185 | 5.27 |\n",
      "| unclassified   |     103 | 2.26 |\n",
      "\n"
     ]
    }
   ],
   "source": [
    "bridge_stats(links)"
   ]
  },
  {
   "cell_type": "code",
   "execution_count": 8,
   "id": "6fe2bd78-1f7a-4ac8-984c-bf590599f56a",
   "metadata": {
    "execution": {
     "iopub.execute_input": "2022-05-11T18:09:03.749141Z",
     "iopub.status.busy": "2022-05-11T18:09:03.748757Z",
     "iopub.status.idle": "2022-05-11T18:09:03.828409Z",
     "shell.execute_reply": "2022-05-11T18:09:03.827553Z",
     "shell.execute_reply.started": "2022-05-11T18:09:03.749114Z"
    },
    "tags": []
   },
   "outputs": [
    {
     "name": "stdout",
     "output_type": "stream",
     "text": [
      "----- Tolls - Overall Stats -----\n",
      " \n",
      "|       |   Links |     km |\n",
      "|-------|---------|--------|\n",
      "| Tolls |      15 |   4.49 |\n",
      "| Total |    5007 | 506.77 |\n",
      " \n",
      "----- Tolls - Link Type -----\n",
      "\n",
      "| Link Type   |   Links |   km |\n",
      "|-------------|---------|------|\n",
      "| primary     |       2 | 0.22 |\n",
      "| trunk       |      13 | 4.27 |\n",
      "\n",
      "----- Tolls - Pavement Surfaces -----\n",
      "\n",
      "| Surface Type   |   Links |   km |\n",
      "|----------------|---------|------|\n",
      "| asphalt        |      15 | 4.49 |\n",
      "\n"
     ]
    }
   ],
   "source": [
    "toll_stats(links)"
   ]
  },
  {
   "cell_type": "code",
   "execution_count": 9,
   "id": "b223deda-cf92-448c-aa4b-e2e3890c25bf",
   "metadata": {
    "execution": {
     "iopub.execute_input": "2022-05-11T18:09:06.704601Z",
     "iopub.status.busy": "2022-05-11T18:09:06.704316Z",
     "iopub.status.idle": "2022-05-11T18:09:06.742369Z",
     "shell.execute_reply": "2022-05-11T18:09:06.737554Z",
     "shell.execute_reply.started": "2022-05-11T18:09:06.704579Z"
    },
    "tags": []
   },
   "outputs": [
    {
     "name": "stdout",
     "output_type": "stream",
     "text": [
      "----- Tunnels - Overall Stats -----\n",
      " \n",
      "|         |   Links |     km |\n",
      "|---------|---------|--------|\n",
      "| Tunnels |      63 |  16.55 |\n",
      "| Total   |    5007 | 506.77 |\n",
      " \n",
      "----- Toll Tunnels -----\n",
      " \n",
      "|   links |   km |\n",
      "|---------|------|\n",
      "|       2 | 2.96 |\n",
      "\n",
      "----- Tunnels - Link Type -----\n",
      "\n",
      "| Link Type     |   Links |   km |\n",
      "|---------------|---------|------|\n",
      "| living_street |       4 | 0.03 |\n",
      "| primary       |      16 | 3.65 |\n",
      "| residential   |       4 | 0.14 |\n",
      "| secondary     |       2 | 0.09 |\n",
      "| service       |      19 | 3.40 |\n",
      "| tertiary      |       4 | 0.37 |\n",
      "| trunk         |       9 | 8.81 |\n",
      "| unclassified  |       5 | 0.05 |\n",
      "\n",
      "----- Tunnels - Pavement Surfaces -----\n",
      "\n",
      "| Surface Type   |   Links |    km |\n",
      "|----------------|---------|-------|\n",
      "| asphalt        |      33 | 13.03 |\n",
      "| unclassified   |      30 |  3.52 |\n",
      "\n"
     ]
    }
   ],
   "source": [
    "tunnel_stats(links)"
   ]
  },
  {
   "cell_type": "code",
   "execution_count": 10,
   "id": "b11e5b17-a786-45e6-8aac-fafc261c65ea",
   "metadata": {
    "execution": {
     "iopub.execute_input": "2022-05-11T18:09:09.922114Z",
     "iopub.status.busy": "2022-05-11T18:09:09.921364Z",
     "iopub.status.idle": "2022-05-11T18:09:10.021750Z",
     "shell.execute_reply": "2022-05-11T18:09:10.021232Z",
     "shell.execute_reply.started": "2022-05-11T18:09:09.922076Z"
    },
    "tags": []
   },
   "outputs": [],
   "source": [
    "project.close()"
   ]
  },
  {
   "cell_type": "code",
   "execution_count": null,
   "id": "551e12e1-32ba-43c1-92fb-4a5b95252b49",
   "metadata": {},
   "outputs": [],
   "source": []
  }
 ],
 "metadata": {
  "kernelspec": {
   "display_name": "saturn (Python 3)",
   "language": "python",
   "name": "python3"
  },
  "language_info": {
   "codemirror_mode": {
    "name": "ipython",
    "version": 3
   },
   "file_extension": ".py",
   "mimetype": "text/x-python",
   "name": "python",
   "nbconvert_exporter": "python",
   "pygments_lexer": "ipython3",
   "version": "3.9.12"
  }
 },
 "nbformat": 4,
 "nbformat_minor": 5
}
