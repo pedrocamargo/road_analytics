{
 "cells": [
  {
   "cell_type": "code",
   "execution_count": 2,
   "id": "5d65728a-460d-4eb7-be39-080672f9635e",
   "metadata": {
    "collapsed": true,
    "execution": {
     "iopub.execute_input": "2022-05-13T13:18:28.276161Z",
     "iopub.status.busy": "2022-05-13T13:18:28.275795Z",
     "iopub.status.idle": "2022-05-13T13:18:28.948764Z",
     "shell.execute_reply": "2022-05-13T13:18:28.947468Z",
     "shell.execute_reply.started": "2022-05-13T13:18:28.276135Z"
    },
    "jupyter": {
     "outputs_hidden": true
    },
    "pycharm": {
     "name": "#%%\n"
    },
    "tags": []
   },
   "outputs": [
    {
     "ename": "ModuleNotFoundError",
     "evalue": "No module named 'watermark'",
     "output_type": "error",
     "traceback": [
      "\u001b[0;31m---------------------------------------------------------------------------\u001b[0m",
      "\u001b[0;31mModuleNotFoundError\u001b[0m                       Traceback (most recent call last)",
      "Input \u001b[0;32mIn [2]\u001b[0m, in \u001b[0;36m<cell line: 1>\u001b[0;34m()\u001b[0m\n\u001b[0;32m----> 1\u001b[0m \u001b[43mget_ipython\u001b[49m\u001b[43m(\u001b[49m\u001b[43m)\u001b[49m\u001b[38;5;241;43m.\u001b[39;49m\u001b[43mrun_line_magic\u001b[49m\u001b[43m(\u001b[49m\u001b[38;5;124;43m'\u001b[39;49m\u001b[38;5;124;43mload_ext\u001b[39;49m\u001b[38;5;124;43m'\u001b[39;49m\u001b[43m,\u001b[49m\u001b[43m \u001b[49m\u001b[38;5;124;43m'\u001b[39;49m\u001b[38;5;124;43mwatermark\u001b[39;49m\u001b[38;5;124;43m'\u001b[39;49m\u001b[43m)\u001b[49m\n\u001b[1;32m      2\u001b[0m get_ipython()\u001b[38;5;241m.\u001b[39mrun_line_magic(\u001b[38;5;124m'\u001b[39m\u001b[38;5;124mwatermark\u001b[39m\u001b[38;5;124m'\u001b[39m, \u001b[38;5;124m'\u001b[39m\u001b[38;5;124m'\u001b[39m)\n",
      "File \u001b[0;32m/srv/conda/envs/saturn/lib/python3.9/site-packages/IPython/core/interactiveshell.py:2304\u001b[0m, in \u001b[0;36mInteractiveShell.run_line_magic\u001b[0;34m(self, magic_name, line, _stack_depth)\u001b[0m\n\u001b[1;32m   2302\u001b[0m     kwargs[\u001b[38;5;124m'\u001b[39m\u001b[38;5;124mlocal_ns\u001b[39m\u001b[38;5;124m'\u001b[39m] \u001b[38;5;241m=\u001b[39m \u001b[38;5;28mself\u001b[39m\u001b[38;5;241m.\u001b[39mget_local_scope(stack_depth)\n\u001b[1;32m   2303\u001b[0m \u001b[38;5;28;01mwith\u001b[39;00m \u001b[38;5;28mself\u001b[39m\u001b[38;5;241m.\u001b[39mbuiltin_trap:\n\u001b[0;32m-> 2304\u001b[0m     result \u001b[38;5;241m=\u001b[39m \u001b[43mfn\u001b[49m\u001b[43m(\u001b[49m\u001b[38;5;241;43m*\u001b[39;49m\u001b[43margs\u001b[49m\u001b[43m,\u001b[49m\u001b[43m \u001b[49m\u001b[38;5;241;43m*\u001b[39;49m\u001b[38;5;241;43m*\u001b[39;49m\u001b[43mkwargs\u001b[49m\u001b[43m)\u001b[49m\n\u001b[1;32m   2305\u001b[0m \u001b[38;5;28;01mreturn\u001b[39;00m result\n",
      "File \u001b[0;32m/srv/conda/envs/saturn/lib/python3.9/site-packages/IPython/core/magics/extension.py:33\u001b[0m, in \u001b[0;36mExtensionMagics.load_ext\u001b[0;34m(self, module_str)\u001b[0m\n\u001b[1;32m     31\u001b[0m \u001b[38;5;28;01mif\u001b[39;00m \u001b[38;5;129;01mnot\u001b[39;00m module_str:\n\u001b[1;32m     32\u001b[0m     \u001b[38;5;28;01mraise\u001b[39;00m UsageError(\u001b[38;5;124m'\u001b[39m\u001b[38;5;124mMissing module name.\u001b[39m\u001b[38;5;124m'\u001b[39m)\n\u001b[0;32m---> 33\u001b[0m res \u001b[38;5;241m=\u001b[39m \u001b[38;5;28;43mself\u001b[39;49m\u001b[38;5;241;43m.\u001b[39;49m\u001b[43mshell\u001b[49m\u001b[38;5;241;43m.\u001b[39;49m\u001b[43mextension_manager\u001b[49m\u001b[38;5;241;43m.\u001b[39;49m\u001b[43mload_extension\u001b[49m\u001b[43m(\u001b[49m\u001b[43mmodule_str\u001b[49m\u001b[43m)\u001b[49m\n\u001b[1;32m     35\u001b[0m \u001b[38;5;28;01mif\u001b[39;00m res \u001b[38;5;241m==\u001b[39m \u001b[38;5;124m'\u001b[39m\u001b[38;5;124malready loaded\u001b[39m\u001b[38;5;124m'\u001b[39m:\n\u001b[1;32m     36\u001b[0m     \u001b[38;5;28mprint\u001b[39m(\u001b[38;5;124m\"\u001b[39m\u001b[38;5;124mThe \u001b[39m\u001b[38;5;132;01m%s\u001b[39;00m\u001b[38;5;124m extension is already loaded. To reload it, use:\u001b[39m\u001b[38;5;124m\"\u001b[39m \u001b[38;5;241m%\u001b[39m module_str)\n",
      "File \u001b[0;32m/srv/conda/envs/saturn/lib/python3.9/site-packages/IPython/core/extensions.py:76\u001b[0m, in \u001b[0;36mExtensionManager.load_extension\u001b[0;34m(self, module_str)\u001b[0m\n\u001b[1;32m     69\u001b[0m \u001b[38;5;124;03m\"\"\"Load an IPython extension by its module name.\u001b[39;00m\n\u001b[1;32m     70\u001b[0m \n\u001b[1;32m     71\u001b[0m \u001b[38;5;124;03mReturns the string \"already loaded\" if the extension is already loaded,\u001b[39;00m\n\u001b[1;32m     72\u001b[0m \u001b[38;5;124;03m\"no load function\" if the module doesn't have a load_ipython_extension\u001b[39;00m\n\u001b[1;32m     73\u001b[0m \u001b[38;5;124;03mfunction, or None if it succeeded.\u001b[39;00m\n\u001b[1;32m     74\u001b[0m \u001b[38;5;124;03m\"\"\"\u001b[39;00m\n\u001b[1;32m     75\u001b[0m \u001b[38;5;28;01mtry\u001b[39;00m:\n\u001b[0;32m---> 76\u001b[0m     \u001b[38;5;28;01mreturn\u001b[39;00m \u001b[38;5;28;43mself\u001b[39;49m\u001b[38;5;241;43m.\u001b[39;49m\u001b[43m_load_extension\u001b[49m\u001b[43m(\u001b[49m\u001b[43mmodule_str\u001b[49m\u001b[43m)\u001b[49m\n\u001b[1;32m     77\u001b[0m \u001b[38;5;28;01mexcept\u001b[39;00m \u001b[38;5;167;01mModuleNotFoundError\u001b[39;00m:\n\u001b[1;32m     78\u001b[0m     \u001b[38;5;28;01mif\u001b[39;00m module_str \u001b[38;5;129;01min\u001b[39;00m BUILTINS_EXTS:\n",
      "File \u001b[0;32m/srv/conda/envs/saturn/lib/python3.9/site-packages/IPython/core/extensions.py:92\u001b[0m, in \u001b[0;36mExtensionManager._load_extension\u001b[0;34m(self, module_str)\u001b[0m\n\u001b[1;32m     90\u001b[0m \u001b[38;5;28;01mif\u001b[39;00m module_str \u001b[38;5;129;01mnot\u001b[39;00m \u001b[38;5;129;01min\u001b[39;00m sys\u001b[38;5;241m.\u001b[39mmodules:\n\u001b[1;32m     91\u001b[0m     \u001b[38;5;28;01mwith\u001b[39;00m prepended_to_syspath(\u001b[38;5;28mself\u001b[39m\u001b[38;5;241m.\u001b[39mipython_extension_dir):\n\u001b[0;32m---> 92\u001b[0m         mod \u001b[38;5;241m=\u001b[39m \u001b[43mimport_module\u001b[49m\u001b[43m(\u001b[49m\u001b[43mmodule_str\u001b[49m\u001b[43m)\u001b[49m\n\u001b[1;32m     93\u001b[0m         \u001b[38;5;28;01mif\u001b[39;00m mod\u001b[38;5;241m.\u001b[39m\u001b[38;5;18m__file__\u001b[39m\u001b[38;5;241m.\u001b[39mstartswith(\u001b[38;5;28mself\u001b[39m\u001b[38;5;241m.\u001b[39mipython_extension_dir):\n\u001b[1;32m     94\u001b[0m             \u001b[38;5;28mprint\u001b[39m((\u001b[38;5;124m\"\u001b[39m\u001b[38;5;124mLoading extensions from \u001b[39m\u001b[38;5;132;01m{dir}\u001b[39;00m\u001b[38;5;124m is deprecated. \u001b[39m\u001b[38;5;124m\"\u001b[39m\n\u001b[1;32m     95\u001b[0m                    \u001b[38;5;124m\"\u001b[39m\u001b[38;5;124mWe recommend managing extensions like any \u001b[39m\u001b[38;5;124m\"\u001b[39m\n\u001b[1;32m     96\u001b[0m                    \u001b[38;5;124m\"\u001b[39m\u001b[38;5;124mother Python packages, in site-packages.\u001b[39m\u001b[38;5;124m\"\u001b[39m)\u001b[38;5;241m.\u001b[39mformat(\n\u001b[1;32m     97\u001b[0m                   \u001b[38;5;28mdir\u001b[39m\u001b[38;5;241m=\u001b[39mcompress_user(\u001b[38;5;28mself\u001b[39m\u001b[38;5;241m.\u001b[39mipython_extension_dir)))\n",
      "File \u001b[0;32m/srv/conda/envs/saturn/lib/python3.9/importlib/__init__.py:127\u001b[0m, in \u001b[0;36mimport_module\u001b[0;34m(name, package)\u001b[0m\n\u001b[1;32m    125\u001b[0m             \u001b[38;5;28;01mbreak\u001b[39;00m\n\u001b[1;32m    126\u001b[0m         level \u001b[38;5;241m+\u001b[39m\u001b[38;5;241m=\u001b[39m \u001b[38;5;241m1\u001b[39m\n\u001b[0;32m--> 127\u001b[0m \u001b[38;5;28;01mreturn\u001b[39;00m \u001b[43m_bootstrap\u001b[49m\u001b[38;5;241;43m.\u001b[39;49m\u001b[43m_gcd_import\u001b[49m\u001b[43m(\u001b[49m\u001b[43mname\u001b[49m\u001b[43m[\u001b[49m\u001b[43mlevel\u001b[49m\u001b[43m:\u001b[49m\u001b[43m]\u001b[49m\u001b[43m,\u001b[49m\u001b[43m \u001b[49m\u001b[43mpackage\u001b[49m\u001b[43m,\u001b[49m\u001b[43m \u001b[49m\u001b[43mlevel\u001b[49m\u001b[43m)\u001b[49m\n",
      "File \u001b[0;32m<frozen importlib._bootstrap>:1030\u001b[0m, in \u001b[0;36m_gcd_import\u001b[0;34m(name, package, level)\u001b[0m\n",
      "File \u001b[0;32m<frozen importlib._bootstrap>:1007\u001b[0m, in \u001b[0;36m_find_and_load\u001b[0;34m(name, import_)\u001b[0m\n",
      "File \u001b[0;32m<frozen importlib._bootstrap>:984\u001b[0m, in \u001b[0;36m_find_and_load_unlocked\u001b[0;34m(name, import_)\u001b[0m\n",
      "\u001b[0;31mModuleNotFoundError\u001b[0m: No module named 'watermark'"
     ]
    }
   ],
   "source": [
    "%load_ext watermark\n",
    "%watermark"
   ]
  },
  {
   "cell_type": "code",
   "execution_count": 1,
   "id": "40932031-f03d-412a-bc82-aec81d4bc1b0",
   "metadata": {
    "execution": {
     "iopub.execute_input": "2022-05-13T23:05:17.137373Z",
     "iopub.status.busy": "2022-05-13T23:05:17.136639Z",
     "iopub.status.idle": "2022-05-13T23:05:18.120040Z",
     "shell.execute_reply": "2022-05-13T23:05:18.119279Z",
     "shell.execute_reply.started": "2022-05-13T23:05:17.137287Z"
    },
    "pycharm": {
     "name": "#%%\n"
    },
    "tags": []
   },
   "outputs": [],
   "source": [
    "import sqlite3\n",
    "from os.path import join\n",
    "import numpy as np\n",
    "import rasterio\n",
    "from math import floor, ceil\n",
    "import numpy as np\n",
    "import pandas as pd\n",
    "from rtree import Index\n",
    "import geopandas as gpd\n",
    "from geopandas.tools import sjoin\n",
    "import shapely.wkb\n",
    "from shapely.geometry import Point, Polygon\n",
    "from shapely import speedups\n",
    "from aequilibrae import Project\n",
    "#from folders import lyr_fldr, model_fldr, model_file, population_sqlite, districts_file, hexbins_file, provinces_file\n",
    "from time import perf_counter\n",
    "# shapely.speedups.disable()\n",
    "\n",
    "from functions.wkb_to_gdf import wkb_to_gdf\n",
    "from functions.hex_builder import hex_builder"
   ]
  },
  {
   "cell_type": "code",
   "execution_count": 2,
   "id": "9936e900-163b-4eb6-97f3-b8ad4092911f",
   "metadata": {
    "execution": {
     "iopub.execute_input": "2022-05-13T23:05:18.121845Z",
     "iopub.status.busy": "2022-05-13T23:05:18.121360Z",
     "iopub.status.idle": "2022-05-13T23:05:18.125741Z",
     "shell.execute_reply": "2022-05-13T23:05:18.124972Z",
     "shell.execute_reply.started": "2022-05-13T23:05:18.121808Z"
    },
    "jupyter": {
     "source_hidden": true
    },
    "tags": []
   },
   "outputs": [],
   "source": [
    "model_fldr = r'/home/jovyan/workspace/road_analytics/Andorra'"
   ]
  },
  {
   "cell_type": "code",
   "execution_count": 3,
   "id": "02d88be9-4d4e-4bf2-bd54-bb79c27633d1",
   "metadata": {
    "execution": {
     "iopub.execute_input": "2022-05-13T23:05:18.593110Z",
     "iopub.status.busy": "2022-05-13T23:05:18.592493Z",
     "iopub.status.idle": "2022-05-13T23:05:18.825526Z",
     "shell.execute_reply": "2022-05-13T23:05:18.824967Z",
     "shell.execute_reply.started": "2022-05-13T23:05:18.593071Z"
    },
    "pycharm": {
     "name": "#%%\n"
    },
    "tags": []
   },
   "outputs": [],
   "source": [
    "project = Project()\n",
    "project.open(model_fldr)"
   ]
  },
  {
   "cell_type": "markdown",
   "id": "7c9874d8-b9ef-43df-8303-4349cc65398a",
   "metadata": {
    "pycharm": {
     "name": "#%% md\n"
    }
   },
   "source": [
    "## Let's get rid of all islands"
   ]
  },
  {
   "cell_type": "code",
   "execution_count": 5,
   "id": "3ced97ce-38fe-4760-b864-69492ce72907",
   "metadata": {
    "execution": {
     "iopub.execute_input": "2022-05-13T23:05:22.048762Z",
     "iopub.status.busy": "2022-05-13T23:05:22.048473Z",
     "iopub.status.idle": "2022-05-13T23:05:22.058341Z",
     "shell.execute_reply": "2022-05-13T23:05:22.057623Z",
     "shell.execute_reply.started": "2022-05-13T23:05:22.048741Z"
    },
    "tags": []
   },
   "outputs": [],
   "source": [
    "mainland = wkb_to_gdf(project)"
   ]
  },
  {
   "cell_type": "code",
   "execution_count": 6,
   "id": "8737ad60-9092-42d2-b23b-5ee6d5de4b51",
   "metadata": {
    "execution": {
     "iopub.execute_input": "2022-05-13T23:05:24.178860Z",
     "iopub.status.busy": "2022-05-13T23:05:24.178223Z",
     "iopub.status.idle": "2022-05-13T23:05:24.231873Z",
     "shell.execute_reply": "2022-05-13T23:05:24.231160Z",
     "shell.execute_reply.started": "2022-05-13T23:05:24.178831Z"
    },
    "pycharm": {
     "name": "#%%\n"
    },
    "tags": []
   },
   "outputs": [],
   "source": [
    "mlnd = mainland.to_crs('epsg:3405')\n",
    "minx, miny, maxx, maxy = mlnd.unary_union.bounds"
   ]
  },
  {
   "cell_type": "markdown",
   "id": "9c8ca630-eac3-4da8-8ba3-1fb991657ee9",
   "metadata": {
    "pycharm": {
     "name": "#%% md\n"
    },
    "tags": []
   },
   "source": [
    "# Create Hex Bins"
   ]
  },
  {
   "cell_type": "code",
   "execution_count": 8,
   "id": "controlled-cursor",
   "metadata": {
    "execution": {
     "iopub.execute_input": "2022-05-13T23:05:29.655182Z",
     "iopub.status.busy": "2022-05-13T23:05:29.654311Z",
     "iopub.status.idle": "2022-05-13T23:05:38.797509Z",
     "shell.execute_reply": "2022-05-13T23:05:38.796486Z",
     "shell.execute_reply.started": "2022-05-13T23:05:29.655144Z"
    },
    "pycharm": {
     "name": "#%%\n"
    },
    "tags": []
   },
   "outputs": [
    {
     "name": "stdout",
     "output_type": "stream",
     "text": [
      "Expect 46,945 total hexbins for this bounding box\n",
      "CPU times: user 8.95 s, sys: 52.6 ms, total: 9.01 s\n",
      "Wall time: 9.13 s\n"
     ]
    },
    {
     "data": {
      "text/plain": [
       "28059"
      ]
     },
     "execution_count": 8,
     "metadata": {},
     "output_type": "execute_result"
    }
   ],
   "source": [
    "%%time\n",
    "# size_parameter was determined empirically to not allow any hex bin with more than 10k people and be sufficiently small to allow for clusterings per district\n",
    "size_parameter = 200\n",
    "hexb = hex_builder(maxx, minx, maxy, miny, size_parameter, epsg=3405, coverage_area=mlnd)\n",
    "# hexb = hex_builder(maxx, minx, maxy, miny, size_parameter, epsg=4326)\n",
    "hexb.to_crs('epsg:4326', inplace=True)\n",
    "hexb.shape[0]"
   ]
  },
  {
   "cell_type": "markdown",
   "id": "0dbc81d5-0d5c-4200-a7a5-9b444a6a8ba2",
   "metadata": {
    "jp-MarkdownHeadingCollapsed": true,
    "pycharm": {
     "name": "#%% md\n"
    },
    "tags": []
   },
   "source": [
    "# Adds geo-information to the hex bins"
   ]
  },
  {
   "cell_type": "markdown",
   "id": "3e38bc16",
   "metadata": {
    "pycharm": {
     "name": "#%% md\n"
    }
   },
   "source": [
    "# generalize to levels 1 & 2 of political subdivisions (GADM)"
   ]
  },
  {
   "cell_type": "code",
   "execution_count": null,
   "id": "d110ee23-cfee-49a8-b6a7-9fbf22563ce6",
   "metadata": {
    "pycharm": {
     "name": "#%%\n"
    }
   },
   "outputs": [],
   "source": [
    "%%time\n",
    "districts = gpd.read_file(districts_file, layer='districts', driver='gpkg')\n",
    "districts.rename(columns = {'VARNAME_1':'province', 'VARNAME_2':'district'}, inplace = True)\n",
    "districts = districts.set_crs('epsg:4326')\n",
    "districts.head()"
   ]
  },
  {
   "cell_type": "code",
   "execution_count": null,
   "id": "001eb2e3-40c4-4994-b82e-0280c75f6977",
   "metadata": {
    "pycharm": {
     "name": "#%%\n"
    }
   },
   "outputs": [],
   "source": [
    "# wards = gpd.read_file(wards_file, layer='wards', driver='gpkg')\n",
    "# wards = wards.set_crs('epsg:4326')\n",
    "# wards = gpd.GeoDataFrame(wards[]], geometry=wards['geometry'])"
   ]
  },
  {
   "cell_type": "code",
   "execution_count": null,
   "id": "4f57736f-f2a4-4951-9845-3df8fbce15db",
   "metadata": {
    "pycharm": {
     "name": "#%%\n"
    }
   },
   "outputs": [],
   "source": [
    "%%time\n",
    "# We get centroids to make the association with spatial divisions a little faster\n",
    "centroids = gpd.GeoDataFrame(hexb[['hex_id']], geometry=gpd.points_from_xy( hexb['x'], hexb['y']), crs=\"EPSG:3405\")\n",
    "centroids.to_crs(4326, inplace=True)"
   ]
  },
  {
   "cell_type": "code",
   "execution_count": 16,
   "id": "86484784-9c74-46e1-af44-9246107eff7b",
   "metadata": {
    "pycharm": {
     "name": "#%%\n"
    }
   },
   "outputs": [
    {
     "name": "stdout",
     "output_type": "stream",
     "text": [
      "Wall time: 0 ns\n"
     ]
    }
   ],
   "source": [
    "%%time\n",
    "# hexb.to_feather(join(lyr_fldr, 'hexbins_raw.feather'))\n",
    "# centroids.to_feather(join(lyr_fldr, 'hexbins_centroids.feather'))\n",
    "\n",
    "# hexb.to_file(join(lyr_fldr, 'hexbins_raw.gpkg'), driver='GPKG', layer='hexbins')\n",
    "# centroids.to_file(join(lyr_fldr, 'hexbins_raw.gpkg'), driver='GPKG', layer='centroids')"
   ]
  },
  {
   "cell_type": "code",
   "execution_count": 17,
   "id": "942ae4ed-7cdd-4269-a718-cec4d987783e",
   "metadata": {
    "pycharm": {
     "name": "#%%\n"
    }
   },
   "outputs": [
    {
     "name": "stdout",
     "output_type": "stream",
     "text": [
      "Wall time: 10min 28s\n"
     ]
    }
   ],
   "source": [
    "%%time\n",
    "data = sjoin(centroids, districts, how=\"left\", predicate=\"intersects\")\n",
    "data.drop_duplicates(subset=['hex_id'], inplace=True)\n",
    "data = data[['hex_id','province', 'district', 'geometry']]\n",
    "found_centroid = data[['hex_id', 'province', 'district']]\n",
    "found_centroid = found_centroid.dropna()\n",
    "found_centroid.head()"
   ]
  },
  {
   "cell_type": "code",
   "execution_count": 76,
   "id": "7cc5cc85-da45-4900-8534-df35a6d4f907",
   "metadata": {
    "pycharm": {
     "name": "#%%\n"
    }
   },
   "outputs": [
    {
     "name": "stdout",
     "output_type": "stream",
     "text": [
      "Wall time: 9.67 s\n"
     ]
    },
    {
     "data": {
      "text/html": [
       "<div>\n",
       "<style scoped>\n",
       "    .dataframe tbody tr th:only-of-type {\n",
       "        vertical-align: middle;\n",
       "    }\n",
       "\n",
       "    .dataframe tbody tr th {\n",
       "        vertical-align: top;\n",
       "    }\n",
       "\n",
       "    .dataframe thead th {\n",
       "        text-align: right;\n",
       "    }\n",
       "</style>\n",
       "<table border=\"1\" class=\"dataframe\">\n",
       "  <thead>\n",
       "    <tr style=\"text-align: right;\">\n",
       "      <th></th>\n",
       "      <th>hex_id</th>\n",
       "      <th>province</th>\n",
       "      <th>district</th>\n",
       "    </tr>\n",
       "  </thead>\n",
       "  <tbody>\n",
       "    <tr>\n",
       "      <th>7666</th>\n",
       "      <td>1</td>\n",
       "      <td>Dien Bien</td>\n",
       "      <td>Muong Nhe</td>\n",
       "    </tr>\n",
       "    <tr>\n",
       "      <th>7668</th>\n",
       "      <td>3</td>\n",
       "      <td>Dien Bien</td>\n",
       "      <td>Muong Nhe</td>\n",
       "    </tr>\n",
       "    <tr>\n",
       "      <th>7669</th>\n",
       "      <td>4</td>\n",
       "      <td>Dien Bien</td>\n",
       "      <td>Muong Nhe</td>\n",
       "    </tr>\n",
       "    <tr>\n",
       "      <th>7671</th>\n",
       "      <td>6</td>\n",
       "      <td>Dien Bien</td>\n",
       "      <td>Muong Nhe</td>\n",
       "    </tr>\n",
       "    <tr>\n",
       "      <th>15868</th>\n",
       "      <td>7</td>\n",
       "      <td>Dien Bien</td>\n",
       "      <td>Muong Nhe</td>\n",
       "    </tr>\n",
       "  </tbody>\n",
       "</table>\n",
       "</div>"
      ],
      "text/plain": [
       "       hex_id   province   district\n",
       "7666        1  Dien Bien  Muong Nhe\n",
       "7668        3  Dien Bien  Muong Nhe\n",
       "7669        4  Dien Bien  Muong Nhe\n",
       "7671        6  Dien Bien  Muong Nhe\n",
       "15868       7  Dien Bien  Muong Nhe"
      ]
     },
     "execution_count": 76,
     "metadata": {},
     "output_type": "execute_result"
    }
   ],
   "source": [
    "%%time\n",
    "not_found = hexb[~hexb.hex_id.isin(found_centroid.hex_id)]\n",
    "not_found_merged = sjoin(not_found, districts, how=\"left\", predicate=\"intersects\")\n",
    "not_found_merged = not_found_merged[['hex_id','province', 'district']]\n",
    "not_found_merged.dropna(inplace=True)\n",
    "not_found_merged.head()"
   ]
  },
  {
   "cell_type": "code",
   "execution_count": 78,
   "id": "44455271-eac8-41eb-98cb-ade2e0c63c3f",
   "metadata": {
    "pycharm": {
     "name": "#%%\n"
    }
   },
   "outputs": [
    {
     "name": "stdout",
     "output_type": "stream",
     "text": [
      "Wall time: 86 ms\n"
     ]
    }
   ],
   "source": [
    "%%time\n",
    "with_data = pd.concat([not_found_merged, found_centroid])"
   ]
  },
  {
   "cell_type": "code",
   "execution_count": 83,
   "id": "f4c2b1a2-eee4-4909-acbf-017b1a237f53",
   "metadata": {
    "pycharm": {
     "name": "#%%\n"
    }
   },
   "outputs": [],
   "source": [
    "data_complete = hexb.merge(with_data, on='hex_id', how='outer')"
   ]
  },
  {
   "cell_type": "code",
   "execution_count": 84,
   "id": "5b9f7d9b-687d-4bbf-be01-73cabc421ca9",
   "metadata": {
    "pycharm": {
     "name": "#%%\n"
    },
    "tags": []
   },
   "outputs": [
    {
     "name": "stdout",
     "output_type": "stream",
     "text": [
      "Wall time: 1.13 s\n"
     ]
    }
   ],
   "source": [
    "%%time\n",
    "dindex = districts.sindex\n",
    "empties = data_complete.province.isna()\n",
    "for idx, record in data_complete[empties].iterrows():\n",
    "    i -= 1\n",
    "    geo = record.geometry\n",
    "    dscrt = [x for x in dindex.nearest(geo.bounds, 10)]\n",
    "    dist = [districts.loc[d, 'geometry'].distance(geo) for d in dscrt]\n",
    "    m = dscrt[dist.index(min(dist))]\n",
    "    data_complete.loc[idx, 'province'] = districts.loc[m, 'province']\n",
    "    data_complete.loc[idx, 'district'] = districts.loc[m, 'district']    "
   ]
  },
  {
   "cell_type": "code",
   "execution_count": 87,
   "id": "90e3cb07-d7f4-4be2-93e5-65cdcdf5707e",
   "metadata": {
    "pycharm": {
     "name": "#%%\n"
    }
   },
   "outputs": [
    {
     "name": "stdout",
     "output_type": "stream",
     "text": [
      "Wall time: 239 ms\n"
     ]
    }
   ],
   "source": [
    "%%time\n",
    "zones_with_location = gpd.GeoDataFrame(data_complete[['hex_id', 'province', 'district', 'x', 'y']], geometry=data_complete['geometry'])"
   ]
  },
  {
   "cell_type": "code",
   "execution_count": 93,
   "id": "24309cdd-9801-4171-a75f-95b49040553c",
   "metadata": {
    "pycharm": {
     "name": "#%%\n"
    }
   },
   "outputs": [
    {
     "data": {
      "text/plain": [
       "'D:/OuterLoop/OneDrive - Outer Loop Consulting/Server/Projects/2021/02-11 - DT4PAG-Vietnam (WorldBank)/CVTS/zoning\\\\pop.sqlite'"
      ]
     },
     "execution_count": 93,
     "metadata": {},
     "output_type": "execute_result"
    }
   ],
   "source": [
    "population_sqlite"
   ]
  },
  {
   "cell_type": "markdown",
   "id": "608d7c9e-73e7-4e0e-b8c2-55dfb05e594d",
   "metadata": {
    "pycharm": {
     "name": "#%% md\n"
    }
   },
   "source": [
    "# Load the vectorized population"
   ]
  },
  {
   "cell_type": "code",
   "execution_count": 94,
   "id": "comparative-progressive",
   "metadata": {
    "pycharm": {
     "name": "#%%\n"
    }
   },
   "outputs": [
    {
     "name": "stdout",
     "output_type": "stream",
     "text": [
      "Wall time: 23min 54s\n"
     ]
    },
    {
     "data": {
      "text/html": [
       "<div>\n",
       "<style scoped>\n",
       "    .dataframe tbody tr th:only-of-type {\n",
       "        vertical-align: middle;\n",
       "    }\n",
       "\n",
       "    .dataframe tbody tr th {\n",
       "        vertical-align: top;\n",
       "    }\n",
       "\n",
       "    .dataframe thead th {\n",
       "        text-align: right;\n",
       "    }\n",
       "</style>\n",
       "<table border=\"1\" class=\"dataframe\">\n",
       "  <thead>\n",
       "    <tr style=\"text-align: right;\">\n",
       "      <th></th>\n",
       "      <th>population</th>\n",
       "      <th>geom</th>\n",
       "    </tr>\n",
       "  </thead>\n",
       "  <tbody>\n",
       "    <tr>\n",
       "      <th>0</th>\n",
       "      <td>1.011495</td>\n",
       "      <td>POINT (105.32167 23.39250)</td>\n",
       "    </tr>\n",
       "    <tr>\n",
       "      <th>1</th>\n",
       "      <td>0.996461</td>\n",
       "      <td>POINT (105.32250 23.39250)</td>\n",
       "    </tr>\n",
       "    <tr>\n",
       "      <th>2</th>\n",
       "      <td>0.980337</td>\n",
       "      <td>POINT (105.32333 23.39250)</td>\n",
       "    </tr>\n",
       "    <tr>\n",
       "      <th>3</th>\n",
       "      <td>0.996077</td>\n",
       "      <td>POINT (105.32417 23.39250)</td>\n",
       "    </tr>\n",
       "    <tr>\n",
       "      <th>4</th>\n",
       "      <td>0.993219</td>\n",
       "      <td>POINT (105.32500 23.39250)</td>\n",
       "    </tr>\n",
       "    <tr>\n",
       "      <th>...</th>\n",
       "      <td>...</td>\n",
       "      <td>...</td>\n",
       "    </tr>\n",
       "    <tr>\n",
       "      <th>39742433</th>\n",
       "      <td>0.752134</td>\n",
       "      <td>POINT (104.84417 8.56417)</td>\n",
       "    </tr>\n",
       "    <tr>\n",
       "      <th>39742434</th>\n",
       "      <td>0.747060</td>\n",
       "      <td>POINT (104.84500 8.56417)</td>\n",
       "    </tr>\n",
       "    <tr>\n",
       "      <th>39742435</th>\n",
       "      <td>0.827918</td>\n",
       "      <td>POINT (104.84583 8.56417)</td>\n",
       "    </tr>\n",
       "    <tr>\n",
       "      <th>39742436</th>\n",
       "      <td>0.920547</td>\n",
       "      <td>POINT (104.84667 8.56417)</td>\n",
       "    </tr>\n",
       "    <tr>\n",
       "      <th>39742437</th>\n",
       "      <td>0.957227</td>\n",
       "      <td>POINT (104.84750 8.56417)</td>\n",
       "    </tr>\n",
       "  </tbody>\n",
       "</table>\n",
       "<p>39742438 rows × 2 columns</p>\n",
       "</div>"
      ],
      "text/plain": [
       "          population                        geom\n",
       "0           1.011495  POINT (105.32167 23.39250)\n",
       "1           0.996461  POINT (105.32250 23.39250)\n",
       "2           0.980337  POINT (105.32333 23.39250)\n",
       "3           0.996077  POINT (105.32417 23.39250)\n",
       "4           0.993219  POINT (105.32500 23.39250)\n",
       "...              ...                         ...\n",
       "39742433    0.752134   POINT (104.84417 8.56417)\n",
       "39742434    0.747060   POINT (104.84500 8.56417)\n",
       "39742435    0.827918   POINT (104.84583 8.56417)\n",
       "39742436    0.920547   POINT (104.84667 8.56417)\n",
       "39742437    0.957227   POINT (104.84750 8.56417)\n",
       "\n",
       "[39742438 rows x 2 columns]"
      ]
     },
     "execution_count": 94,
     "metadata": {},
     "output_type": "execute_result"
    }
   ],
   "source": [
    "%%time\n",
    "popsqlite = sqlite3.connect(join(lyr_fldr, f'data/pop.sqlite'))\n",
    "popsqlite.enable_load_extension(True)\n",
    "popsqlite.load_extension('mod_spatialite')\n",
    "\n",
    "sql = \"SELECT population, Hex(ST_AsBinary(GEOMETRY)) as geom FROM raw_population;\"\n",
    "pop_data = gpd.GeoDataFrame.from_postgis(sql, popsqlite, geom_col=\"geom\")\n",
    "pop_data.set_crs('epsg:4326', inplace=True)"
   ]
  },
  {
   "cell_type": "markdown",
   "id": "66e5862a-b218-4748-bba5-ea04c0792538",
   "metadata": {
    "pycharm": {
     "name": "#%% md\n"
    }
   },
   "source": [
    "# Compute the population for each HexBin"
   ]
  },
  {
   "cell_type": "code",
   "execution_count": 95,
   "id": "novel-pioneer",
   "metadata": {
    "pycharm": {
     "name": "#%%\n"
    }
   },
   "outputs": [
    {
     "name": "stdout",
     "output_type": "stream",
     "text": [
      "Wall time: 54min 49s\n"
     ]
    }
   ],
   "source": [
    "%%time\n",
    "pop_to_zone = sjoin(pop_data, zones_with_location, how=\"left\", predicate=\"within\")"
   ]
  },
  {
   "cell_type": "code",
   "execution_count": 96,
   "id": "716f5ab4-b0c7-4f03-81e1-ce8029a6e457",
   "metadata": {
    "pycharm": {
     "name": "#%%\n"
    }
   },
   "outputs": [
    {
     "name": "stdout",
     "output_type": "stream",
     "text": [
      "Wall time: 8.88 s\n"
     ]
    }
   ],
   "source": [
    "%%time\n",
    "pop_per_zone = pop_to_zone.groupby(['hex_id']).sum()[['population']].reset_index()\n",
    "pop_per_zone.loc[:, 'hex_id'] = pop_per_zone.hex_id.astype(int)\n",
    "pop_per_zone.sort_values(['hex_id'], inplace=True)"
   ]
  },
  {
   "cell_type": "code",
   "execution_count": 97,
   "id": "emotional-prefix",
   "metadata": {
    "pycharm": {
     "name": "#%%\n"
    }
   },
   "outputs": [
    {
     "name": "stdout",
     "output_type": "stream",
     "text": [
      "Wall time: 3.8 s\n"
     ]
    }
   ],
   "source": [
    "%%time\n",
    "zones_with_pop = zones_with_location.merge(pop_per_zone, on='hex_id', how='left')\n",
    "zones_with_pop.population.fillna(0, inplace=True)"
   ]
  },
  {
   "cell_type": "code",
   "execution_count": 98,
   "id": "b2a02f0e-36cd-4db4-9fc7-8857619ae669",
   "metadata": {
    "pycharm": {
     "name": "#%%\n"
    }
   },
   "outputs": [
    {
     "name": "stdout",
     "output_type": "stream",
     "text": [
      "Wall time: 26min 57s\n"
     ]
    }
   ],
   "source": [
    "%%time\n",
    "zones_with_pop = zones_with_pop.drop_duplicates(subset=['geometry'])\n",
    "zones_with_pop[['hex_id', 'x', 'y', 'population','province' ,'district','geometry']].to_file(join(lyr_fldr, 'hexbins_small.gpkg'), driver='GPKG')"
   ]
  }
 ],
 "metadata": {
  "kernelspec": {
   "display_name": "saturn (Python 3)",
   "language": "python",
   "name": "python3"
  },
  "language_info": {
   "codemirror_mode": {
    "name": "ipython",
    "version": 3
   },
   "file_extension": ".py",
   "mimetype": "text/x-python",
   "name": "python",
   "nbconvert_exporter": "python",
   "pygments_lexer": "ipython3",
   "version": "3.9.12"
  }
 },
 "nbformat": 4,
 "nbformat_minor": 5
}
