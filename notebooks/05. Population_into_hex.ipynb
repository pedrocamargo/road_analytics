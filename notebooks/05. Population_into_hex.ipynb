{
 "cells": [
  {
   "cell_type": "code",
   "execution_count": null,
   "id": "5d65728a-460d-4eb7-be39-080672f9635e",
   "metadata": {
    "pycharm": {
     "name": "#%%\n"
    }
   },
   "outputs": [],
   "source": [
    "%load_ext watermark\n",
    "%watermark"
   ]
  },
  {
   "cell_type": "code",
   "execution_count": null,
   "id": "liquid-wayne",
   "metadata": {
    "pycharm": {
     "name": "#%%\n"
    }
   },
   "outputs": [],
   "source": [
    "import sqlite3\n",
    "from os.path import join\n",
    "import numpy as np\n",
    "import rasterio\n",
    "from math import floor, ceil\n",
    "import numpy as np\n",
    "import pandas as pd\n",
    "from rtree import Index\n",
    "import geopandas as gpd\n",
    "from geopandas.tools import sjoin\n",
    "import shapely.wkb\n",
    "from shapely.geometry import Point, Polygon\n",
    "from shapely import speedups\n",
    "from aequilibrae import Project\n",
    "from folders import lyr_fldr, model_fldr, model_file, population_sqlite, districts_file, hexbins_file, provinces_file\n",
    "from time import perf_counter\n",
    "# shapely.speedups.disable()"
   ]
  },
  {
   "cell_type": "code",
   "execution_count": null,
   "id": "02d88be9-4d4e-4bf2-bd54-bb79c27633d1",
   "metadata": {
    "pycharm": {
     "name": "#%%\n"
    }
   },
   "outputs": [],
   "source": [
    "project = Project()\n",
    "project.open(model_fldr)"
   ]
  },
  {
   "cell_type": "markdown",
   "id": "7c9874d8-b9ef-43df-8303-4349cc65398a",
   "metadata": {
    "pycharm": {
     "name": "#%% md\n"
    }
   },
   "source": [
    "## Let's get rid of all islands"
   ]
  },
  {
   "cell_type": "code",
   "execution_count": null,
   "id": "3327c920-9ca1-4c43-ba6b-430444a78bf4",
   "metadata": {
    "pycharm": {
     "name": "#%%\n"
    }
   },
   "outputs": [],
   "source": [
    "# project.conn.execute('delete from country_borders where name_0=\"main_land\"')\n",
    "# project.conn.commit()\n",
    "# country_wkb = [x[0] for x in project.conn.execute('Select asBinary(geometry) from country_borders')]\n",
    "# country_geo = shapely.wkb.loads(country_wkb[0])\n",
    "# for main_area in country_geo:\n",
    "#     if main_area.area > country_geo.area* 0.9:\n",
    "#         break\n",
    "# project.conn.execute(\"Insert into country_borders(name_0, GEOMETRY) VALUES(?, CastToMulti(GeomFromWKB(?, 4326)))\", ['main_land', main_area.wkb])\n",
    "# project.conn.commit()"
   ]
  },
  {
   "cell_type": "code",
   "execution_count": null,
   "id": "d6a23dcc-e434-4bfa-8d33-a68291122299",
   "metadata": {
    "pycharm": {
     "name": "#%%\n"
    }
   },
   "outputs": [],
   "source": [
    "mainland_wkb = [x[0] for x in project.conn.execute('Select asBinary(ST_Subdivide(geometry, 2048)) from country_borders where name_0=\"main_land\"')]\n",
    "mainland_geo = shapely.wkb.loads(mainland_wkb[0])\n",
    "mainland = gpd.GeoDataFrame(pd.DataFrame({'ids':np.arange(len(mainland_geo)), 'geometry':mainland_geo}))\n",
    "mainland.set_crs('epsg:4326', inplace=True)\n",
    "mainland.shape[0]"
   ]
  },
  {
   "cell_type": "code",
   "execution_count": null,
   "id": "8737ad60-9092-42d2-b23b-5ee6d5de4b51",
   "metadata": {
    "pycharm": {
     "name": "#%%\n"
    }
   },
   "outputs": [],
   "source": [
    "mlnd = mainland.to_crs('epsg:3405')\n",
    "minx, miny, maxx, maxy = mlnd.unary_union.bounds"
   ]
  },
  {
   "cell_type": "markdown",
   "id": "9c8ca630-eac3-4da8-8ba3-1fb991657ee9",
   "metadata": {
    "pycharm": {
     "name": "#%% md\n"
    }
   },
   "source": [
    "# Create Hex Bins"
   ]
  },
  {
   "cell_type": "code",
   "execution_count": null,
   "id": "atomic-english",
   "metadata": {
    "tags": [],
    "pycharm": {
     "name": "#%%\n"
    }
   },
   "outputs": [],
   "source": [
    "def hex_builder(x_right, x_left, y_top, y_bottom, hex_height, epsg=3857, coverage_area= None):\n",
    "    # Function adapted from http://michaelminn.com/linux/mmqgis/\n",
    "    \n",
    "    results = []\n",
    "    data = []\n",
    "    # To preserve symmetry, hspacing is fixed relative to vspacing\n",
    "    xvertexlo = 0.288675134594813 * hex_height\n",
    "    xvertexhi = 0.577350269189626 * hex_height\n",
    "    x_spacing = xvertexlo + xvertexhi\n",
    "\n",
    "    poly_id = 1\n",
    "    poly_centroids = []\n",
    "    t = perf_counter()\n",
    "    threshold = 5000000\n",
    "    tot_elements = int(floor(float(x_right - x_left) / x_spacing)) * int(floor(float(y_top - y_bottom) / hex_height))\n",
    "    print(f'Expect {tot_elements:,} total hexbins for this bounding box')\n",
    "    def data_conversion(dt, ref_sys, area):\n",
    "        df = pd.DataFrame(dt)\n",
    "        df.columns = ['hex_id', 'x', 'y', 'geometry']\n",
    "        df = gpd.GeoDataFrame(df[['hex_id', 'x', 'y']], geometry=df['geometry'])\n",
    "        df.set_crs(f'epsg:{ref_sys}', inplace=True)\n",
    "\n",
    "        if area is not None:\n",
    "            df = sjoin(df, area, how=\"left\", predicate=\"intersects\")\n",
    "            df = df[~df.index_right.isna()]\n",
    "            df.drop(['index_right'], axis=1, inplace=True)\n",
    "        return df\n",
    "            \n",
    "    for column in range(0, int(floor(float(x_right - x_left) / x_spacing))):\n",
    "        # (column + 1) and (row + 1) calculation is used to maintain \n",
    "        # _topology between adjacent shapes and avoid overlaps/holes \n",
    "        # due to rounding errors\n",
    "\n",
    "        x1 = x_left + (column * x_spacing)    # far _left\n",
    "        x2 = x1 + (xvertexhi - xvertexlo)    # _left\n",
    "        x3 = x_left + ((column + 1) * x_spacing)    # _right\n",
    "        x4 = x3 + (xvertexhi - xvertexlo)    # far _right\n",
    "        xm = (x2 + x3) / 2\n",
    "        \n",
    "\n",
    "        for row in range(0, int(floor(float(y_top - y_bottom) / hex_height))):\n",
    "            if (column % 2) == 0:\n",
    "                y1 = y_bottom + (((row * 2) + 0) * (hex_height / 2))    # hi\n",
    "                y2 = y_bottom + (((row * 2) + 1) * (hex_height / 2))    # mid\n",
    "                y3 = y_bottom + (((row * 2) + 2) * (hex_height / 2))    # lo\n",
    "            else:\n",
    "                y1 = y_bottom + (((row * 2) + 1) * (hex_height / 2))    # hi\n",
    "                y2 = y_bottom + (((row * 2) + 2) * (hex_height / 2))    # mid\n",
    "                y3 = y_bottom + (((row * 2) + 3) * (hex_height / 2))    #lo\n",
    "            \n",
    "            poly = Polygon([(x1, y2), (x2, y1), (x3, y1), (x4, y2), (x3, y3), (x2, y3), (x1, y2)])\n",
    "            data.append([poly_id, xm, y2, poly])\n",
    "            poly_id += 1\n",
    "        \n",
    "            if poly_id % threshold == 0:\n",
    "                print(f'{poly_id:,} --> ({round(perf_counter() - t, 1)} s)', )\n",
    "                t = perf_counter()\n",
    "                results.append(data_conversion(data, epsg, coverage_area))\n",
    "                data.clear()\n",
    "                \n",
    "    if data:\n",
    "        results.append(data_conversion(data, epsg, coverage_area))\n",
    "        data.clear()\n",
    "\n",
    "    df = pd.concat(results)\n",
    "    df.loc[:, 'hex_id'] = np.arange(df.shape[0]) + 1\n",
    "    return df"
   ]
  },
  {
   "cell_type": "code",
   "execution_count": null,
   "id": "controlled-cursor",
   "metadata": {
    "tags": [],
    "pycharm": {
     "name": "#%%\n"
    }
   },
   "outputs": [],
   "source": [
    "%%time\n",
    "# size_parameter was determined empirically to not allow any hex bin with more than 10k people and be sufficiently small to allow for clusterings per district\n",
    "size_parameter = 200\n",
    "hexb = hex_builder(maxx, minx, maxy, miny, size_parameter, epsg=3405, coverage_area=mlnd)\n",
    "# hexb = hex_builder(maxx, minx, maxy, miny, size_parameter, epsg=4326)\n",
    "hexb.to_crs('epsg:4326', inplace=True)\n",
    "hexb.shape[0]"
   ]
  },
  {
   "cell_type": "markdown",
   "id": "0dbc81d5-0d5c-4200-a7a5-9b444a6a8ba2",
   "metadata": {
    "pycharm": {
     "name": "#%% md\n"
    }
   },
   "source": [
    "# Adds geo-information to the hex bins"
   ]
  },
  {
   "cell_type": "markdown",
   "source": [
    "# generalize to levels 1 & 2 of political subdivisions (GADM)"
   ],
   "metadata": {
    "collapsed": false,
    "pycharm": {
     "name": "#%% md\n"
    }
   }
  },
  {
   "cell_type": "code",
   "execution_count": null,
   "id": "d110ee23-cfee-49a8-b6a7-9fbf22563ce6",
   "metadata": {
    "pycharm": {
     "name": "#%%\n"
    }
   },
   "outputs": [],
   "source": [
    "%%time\n",
    "districts = gpd.read_file(districts_file, layer='districts', driver='gpkg')\n",
    "districts.rename(columns = {'VARNAME_1':'province', 'VARNAME_2':'district'}, inplace = True)\n",
    "districts = districts.set_crs('epsg:4326')\n",
    "districts.head()"
   ]
  },
  {
   "cell_type": "code",
   "execution_count": null,
   "id": "001eb2e3-40c4-4994-b82e-0280c75f6977",
   "metadata": {
    "pycharm": {
     "name": "#%%\n"
    }
   },
   "outputs": [],
   "source": [
    "# wards = gpd.read_file(wards_file, layer='wards', driver='gpkg')\n",
    "# wards = wards.set_crs('epsg:4326')\n",
    "# wards = gpd.GeoDataFrame(wards[]], geometry=wards['geometry'])"
   ]
  },
  {
   "cell_type": "code",
   "execution_count": null,
   "id": "4f57736f-f2a4-4951-9845-3df8fbce15db",
   "metadata": {
    "pycharm": {
     "name": "#%%\n"
    }
   },
   "outputs": [],
   "source": [
    "%%time\n",
    "# We get centroids to make the association with spatial divisions a little faster\n",
    "centroids = gpd.GeoDataFrame(hexb[['hex_id']], geometry=gpd.points_from_xy( hexb['x'], hexb['y']), crs=\"EPSG:3405\")\n",
    "centroids.to_crs(4326, inplace=True)"
   ]
  },
  {
   "cell_type": "code",
   "execution_count": 16,
   "id": "86484784-9c74-46e1-af44-9246107eff7b",
   "metadata": {
    "pycharm": {
     "name": "#%%\n"
    }
   },
   "outputs": [
    {
     "name": "stdout",
     "output_type": "stream",
     "text": [
      "Wall time: 0 ns\n"
     ]
    }
   ],
   "source": [
    "%%time\n",
    "# hexb.to_feather(join(lyr_fldr, 'hexbins_raw.feather'))\n",
    "# centroids.to_feather(join(lyr_fldr, 'hexbins_centroids.feather'))\n",
    "\n",
    "# hexb.to_file(join(lyr_fldr, 'hexbins_raw.gpkg'), driver='GPKG', layer='hexbins')\n",
    "# centroids.to_file(join(lyr_fldr, 'hexbins_raw.gpkg'), driver='GPKG', layer='centroids')"
   ]
  },
  {
   "cell_type": "code",
   "execution_count": 17,
   "id": "942ae4ed-7cdd-4269-a718-cec4d987783e",
   "metadata": {
    "pycharm": {
     "name": "#%%\n"
    }
   },
   "outputs": [
    {
     "name": "stdout",
     "output_type": "stream",
     "text": [
      "Wall time: 10min 28s\n"
     ]
    }
   ],
   "source": [
    "%%time\n",
    "data = sjoin(centroids, districts, how=\"left\", predicate=\"intersects\")\n",
    "data.drop_duplicates(subset=['hex_id'], inplace=True)\n",
    "data = data[['hex_id','province', 'district', 'geometry']]\n",
    "found_centroid = data[['hex_id', 'province', 'district']]\n",
    "found_centroid = found_centroid.dropna()\n",
    "found_centroid.head()"
   ]
  },
  {
   "cell_type": "code",
   "execution_count": 76,
   "id": "7cc5cc85-da45-4900-8534-df35a6d4f907",
   "metadata": {
    "pycharm": {
     "name": "#%%\n"
    }
   },
   "outputs": [
    {
     "name": "stdout",
     "output_type": "stream",
     "text": [
      "Wall time: 9.67 s\n"
     ]
    },
    {
     "data": {
      "text/html": [
       "<div>\n",
       "<style scoped>\n",
       "    .dataframe tbody tr th:only-of-type {\n",
       "        vertical-align: middle;\n",
       "    }\n",
       "\n",
       "    .dataframe tbody tr th {\n",
       "        vertical-align: top;\n",
       "    }\n",
       "\n",
       "    .dataframe thead th {\n",
       "        text-align: right;\n",
       "    }\n",
       "</style>\n",
       "<table border=\"1\" class=\"dataframe\">\n",
       "  <thead>\n",
       "    <tr style=\"text-align: right;\">\n",
       "      <th></th>\n",
       "      <th>hex_id</th>\n",
       "      <th>province</th>\n",
       "      <th>district</th>\n",
       "    </tr>\n",
       "  </thead>\n",
       "  <tbody>\n",
       "    <tr>\n",
       "      <th>7666</th>\n",
       "      <td>1</td>\n",
       "      <td>Dien Bien</td>\n",
       "      <td>Muong Nhe</td>\n",
       "    </tr>\n",
       "    <tr>\n",
       "      <th>7668</th>\n",
       "      <td>3</td>\n",
       "      <td>Dien Bien</td>\n",
       "      <td>Muong Nhe</td>\n",
       "    </tr>\n",
       "    <tr>\n",
       "      <th>7669</th>\n",
       "      <td>4</td>\n",
       "      <td>Dien Bien</td>\n",
       "      <td>Muong Nhe</td>\n",
       "    </tr>\n",
       "    <tr>\n",
       "      <th>7671</th>\n",
       "      <td>6</td>\n",
       "      <td>Dien Bien</td>\n",
       "      <td>Muong Nhe</td>\n",
       "    </tr>\n",
       "    <tr>\n",
       "      <th>15868</th>\n",
       "      <td>7</td>\n",
       "      <td>Dien Bien</td>\n",
       "      <td>Muong Nhe</td>\n",
       "    </tr>\n",
       "  </tbody>\n",
       "</table>\n",
       "</div>"
      ],
      "text/plain": [
       "       hex_id   province   district\n",
       "7666        1  Dien Bien  Muong Nhe\n",
       "7668        3  Dien Bien  Muong Nhe\n",
       "7669        4  Dien Bien  Muong Nhe\n",
       "7671        6  Dien Bien  Muong Nhe\n",
       "15868       7  Dien Bien  Muong Nhe"
      ]
     },
     "execution_count": 76,
     "metadata": {},
     "output_type": "execute_result"
    }
   ],
   "source": [
    "%%time\n",
    "not_found = hexb[~hexb.hex_id.isin(found_centroid.hex_id)]\n",
    "not_found_merged = sjoin(not_found, districts, how=\"left\", predicate=\"intersects\")\n",
    "not_found_merged = not_found_merged[['hex_id','province', 'district']]\n",
    "not_found_merged.dropna(inplace=True)\n",
    "not_found_merged.head()"
   ]
  },
  {
   "cell_type": "code",
   "execution_count": 78,
   "id": "44455271-eac8-41eb-98cb-ade2e0c63c3f",
   "metadata": {
    "pycharm": {
     "name": "#%%\n"
    }
   },
   "outputs": [
    {
     "name": "stdout",
     "output_type": "stream",
     "text": [
      "Wall time: 86 ms\n"
     ]
    }
   ],
   "source": [
    "%%time\n",
    "with_data = pd.concat([not_found_merged, found_centroid])"
   ]
  },
  {
   "cell_type": "code",
   "execution_count": 83,
   "id": "f4c2b1a2-eee4-4909-acbf-017b1a237f53",
   "metadata": {
    "pycharm": {
     "name": "#%%\n"
    }
   },
   "outputs": [],
   "source": [
    "data_complete = hexb.merge(with_data, on='hex_id', how='outer')"
   ]
  },
  {
   "cell_type": "code",
   "execution_count": 84,
   "id": "5b9f7d9b-687d-4bbf-be01-73cabc421ca9",
   "metadata": {
    "tags": [],
    "pycharm": {
     "name": "#%%\n"
    }
   },
   "outputs": [
    {
     "name": "stdout",
     "output_type": "stream",
     "text": [
      "Wall time: 1.13 s\n"
     ]
    }
   ],
   "source": [
    "%%time\n",
    "dindex = districts.sindex\n",
    "empties = data_complete.province.isna()\n",
    "for idx, record in data_complete[empties].iterrows():\n",
    "    i -= 1\n",
    "    geo = record.geometry\n",
    "    dscrt = [x for x in dindex.nearest(geo.bounds, 10)]\n",
    "    dist = [districts.loc[d, 'geometry'].distance(geo) for d in dscrt]\n",
    "    m = dscrt[dist.index(min(dist))]\n",
    "    data_complete.loc[idx, 'province'] = districts.loc[m, 'province']\n",
    "    data_complete.loc[idx, 'district'] = districts.loc[m, 'district']    "
   ]
  },
  {
   "cell_type": "code",
   "execution_count": 87,
   "id": "90e3cb07-d7f4-4be2-93e5-65cdcdf5707e",
   "metadata": {
    "pycharm": {
     "name": "#%%\n"
    }
   },
   "outputs": [
    {
     "name": "stdout",
     "output_type": "stream",
     "text": [
      "Wall time: 239 ms\n"
     ]
    }
   ],
   "source": [
    "%%time\n",
    "zones_with_location = gpd.GeoDataFrame(data_complete[['hex_id', 'province', 'district', 'x', 'y']], geometry=data_complete['geometry'])"
   ]
  },
  {
   "cell_type": "code",
   "execution_count": 93,
   "id": "24309cdd-9801-4171-a75f-95b49040553c",
   "metadata": {
    "pycharm": {
     "name": "#%%\n"
    }
   },
   "outputs": [
    {
     "data": {
      "text/plain": [
       "'D:/OuterLoop/OneDrive - Outer Loop Consulting/Server/Projects/2021/02-11 - DT4PAG-Vietnam (WorldBank)/CVTS/zoning\\\\pop.sqlite'"
      ]
     },
     "execution_count": 93,
     "metadata": {},
     "output_type": "execute_result"
    }
   ],
   "source": [
    "population_sqlite"
   ]
  },
  {
   "cell_type": "markdown",
   "id": "608d7c9e-73e7-4e0e-b8c2-55dfb05e594d",
   "metadata": {
    "pycharm": {
     "name": "#%% md\n"
    }
   },
   "source": [
    "# Load the vectorized population"
   ]
  },
  {
   "cell_type": "code",
   "execution_count": 94,
   "id": "comparative-progressive",
   "metadata": {
    "pycharm": {
     "name": "#%%\n"
    }
   },
   "outputs": [
    {
     "name": "stdout",
     "output_type": "stream",
     "text": [
      "Wall time: 23min 54s\n"
     ]
    },
    {
     "data": {
      "text/html": [
       "<div>\n",
       "<style scoped>\n",
       "    .dataframe tbody tr th:only-of-type {\n",
       "        vertical-align: middle;\n",
       "    }\n",
       "\n",
       "    .dataframe tbody tr th {\n",
       "        vertical-align: top;\n",
       "    }\n",
       "\n",
       "    .dataframe thead th {\n",
       "        text-align: right;\n",
       "    }\n",
       "</style>\n",
       "<table border=\"1\" class=\"dataframe\">\n",
       "  <thead>\n",
       "    <tr style=\"text-align: right;\">\n",
       "      <th></th>\n",
       "      <th>population</th>\n",
       "      <th>geom</th>\n",
       "    </tr>\n",
       "  </thead>\n",
       "  <tbody>\n",
       "    <tr>\n",
       "      <th>0</th>\n",
       "      <td>1.011495</td>\n",
       "      <td>POINT (105.32167 23.39250)</td>\n",
       "    </tr>\n",
       "    <tr>\n",
       "      <th>1</th>\n",
       "      <td>0.996461</td>\n",
       "      <td>POINT (105.32250 23.39250)</td>\n",
       "    </tr>\n",
       "    <tr>\n",
       "      <th>2</th>\n",
       "      <td>0.980337</td>\n",
       "      <td>POINT (105.32333 23.39250)</td>\n",
       "    </tr>\n",
       "    <tr>\n",
       "      <th>3</th>\n",
       "      <td>0.996077</td>\n",
       "      <td>POINT (105.32417 23.39250)</td>\n",
       "    </tr>\n",
       "    <tr>\n",
       "      <th>4</th>\n",
       "      <td>0.993219</td>\n",
       "      <td>POINT (105.32500 23.39250)</td>\n",
       "    </tr>\n",
       "    <tr>\n",
       "      <th>...</th>\n",
       "      <td>...</td>\n",
       "      <td>...</td>\n",
       "    </tr>\n",
       "    <tr>\n",
       "      <th>39742433</th>\n",
       "      <td>0.752134</td>\n",
       "      <td>POINT (104.84417 8.56417)</td>\n",
       "    </tr>\n",
       "    <tr>\n",
       "      <th>39742434</th>\n",
       "      <td>0.747060</td>\n",
       "      <td>POINT (104.84500 8.56417)</td>\n",
       "    </tr>\n",
       "    <tr>\n",
       "      <th>39742435</th>\n",
       "      <td>0.827918</td>\n",
       "      <td>POINT (104.84583 8.56417)</td>\n",
       "    </tr>\n",
       "    <tr>\n",
       "      <th>39742436</th>\n",
       "      <td>0.920547</td>\n",
       "      <td>POINT (104.84667 8.56417)</td>\n",
       "    </tr>\n",
       "    <tr>\n",
       "      <th>39742437</th>\n",
       "      <td>0.957227</td>\n",
       "      <td>POINT (104.84750 8.56417)</td>\n",
       "    </tr>\n",
       "  </tbody>\n",
       "</table>\n",
       "<p>39742438 rows × 2 columns</p>\n",
       "</div>"
      ],
      "text/plain": [
       "          population                        geom\n",
       "0           1.011495  POINT (105.32167 23.39250)\n",
       "1           0.996461  POINT (105.32250 23.39250)\n",
       "2           0.980337  POINT (105.32333 23.39250)\n",
       "3           0.996077  POINT (105.32417 23.39250)\n",
       "4           0.993219  POINT (105.32500 23.39250)\n",
       "...              ...                         ...\n",
       "39742433    0.752134   POINT (104.84417 8.56417)\n",
       "39742434    0.747060   POINT (104.84500 8.56417)\n",
       "39742435    0.827918   POINT (104.84583 8.56417)\n",
       "39742436    0.920547   POINT (104.84667 8.56417)\n",
       "39742437    0.957227   POINT (104.84750 8.56417)\n",
       "\n",
       "[39742438 rows x 2 columns]"
      ]
     },
     "execution_count": 94,
     "metadata": {},
     "output_type": "execute_result"
    }
   ],
   "source": [
    "%%time\n",
    "popsqlite = sqlite3.connect(join(lyr_fldr, f'data/pop.sqlite'))\n",
    "popsqlite.enable_load_extension(True)\n",
    "popsqlite.load_extension('mod_spatialite')\n",
    "\n",
    "sql = \"SELECT population, Hex(ST_AsBinary(GEOMETRY)) as geom FROM raw_population;\"\n",
    "pop_data = gpd.GeoDataFrame.from_postgis(sql, popsqlite, geom_col=\"geom\")\n",
    "pop_data.set_crs('epsg:4326', inplace=True)"
   ]
  },
  {
   "cell_type": "markdown",
   "id": "66e5862a-b218-4748-bba5-ea04c0792538",
   "metadata": {
    "pycharm": {
     "name": "#%% md\n"
    }
   },
   "source": [
    "# Compute the population for each HexBin"
   ]
  },
  {
   "cell_type": "code",
   "execution_count": 95,
   "id": "novel-pioneer",
   "metadata": {
    "pycharm": {
     "name": "#%%\n"
    }
   },
   "outputs": [
    {
     "name": "stdout",
     "output_type": "stream",
     "text": [
      "Wall time: 54min 49s\n"
     ]
    }
   ],
   "source": [
    "%%time\n",
    "pop_to_zone = sjoin(pop_data, zones_with_location, how=\"left\", predicate=\"within\")"
   ]
  },
  {
   "cell_type": "code",
   "execution_count": 96,
   "id": "716f5ab4-b0c7-4f03-81e1-ce8029a6e457",
   "metadata": {
    "pycharm": {
     "name": "#%%\n"
    }
   },
   "outputs": [
    {
     "name": "stdout",
     "output_type": "stream",
     "text": [
      "Wall time: 8.88 s\n"
     ]
    }
   ],
   "source": [
    "%%time\n",
    "pop_per_zone = pop_to_zone.groupby(['hex_id']).sum()[['population']].reset_index()\n",
    "pop_per_zone.loc[:, 'hex_id'] = pop_per_zone.hex_id.astype(int)\n",
    "pop_per_zone.sort_values(['hex_id'], inplace=True)"
   ]
  },
  {
   "cell_type": "code",
   "execution_count": 97,
   "id": "emotional-prefix",
   "metadata": {
    "pycharm": {
     "name": "#%%\n"
    }
   },
   "outputs": [
    {
     "name": "stdout",
     "output_type": "stream",
     "text": [
      "Wall time: 3.8 s\n"
     ]
    }
   ],
   "source": [
    "%%time\n",
    "zones_with_pop = zones_with_location.merge(pop_per_zone, on='hex_id', how='left')\n",
    "zones_with_pop.population.fillna(0, inplace=True)"
   ]
  },
  {
   "cell_type": "code",
   "execution_count": 98,
   "id": "b2a02f0e-36cd-4db4-9fc7-8857619ae669",
   "metadata": {
    "pycharm": {
     "name": "#%%\n"
    }
   },
   "outputs": [
    {
     "name": "stdout",
     "output_type": "stream",
     "text": [
      "Wall time: 26min 57s\n"
     ]
    }
   ],
   "source": [
    "%%time\n",
    "zones_with_pop = zones_with_pop.drop_duplicates(subset=['geometry'])\n",
    "zones_with_pop[['hex_id', 'x', 'y', 'population','province' ,'district','geometry']].to_file(join(lyr_fldr, 'hexbins_small.gpkg'), driver='GPKG')"
   ]
  }
 ],
 "metadata": {
  "kernelspec": {
   "display_name": "Python 3 (ipykernel)",
   "language": "python",
   "name": "python3"
  },
  "language_info": {
   "codemirror_mode": {
    "name": "ipython",
    "version": 3
   },
   "file_extension": ".py",
   "mimetype": "text/x-python",
   "name": "python",
   "nbconvert_exporter": "python",
   "pygments_lexer": "ipython3",
   "version": "3.8.8"
  }
 },
 "nbformat": 4,
 "nbformat_minor": 5
}