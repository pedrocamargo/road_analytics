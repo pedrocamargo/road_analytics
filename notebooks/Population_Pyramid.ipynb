{
 "cells": [
  {
   "cell_type": "code",
   "execution_count": 1,
   "id": "619cb77e-65cf-42c1-b244-3e73f85e5192",
   "metadata": {
    "execution": {
     "iopub.execute_input": "2022-05-30T16:01:08.320389Z",
     "iopub.status.busy": "2022-05-30T16:01:08.319918Z",
     "iopub.status.idle": "2022-05-30T16:01:09.062466Z",
     "shell.execute_reply": "2022-05-30T16:01:09.061841Z",
     "shell.execute_reply.started": "2022-05-30T16:01:08.320307Z"
    },
    "tags": []
   },
   "outputs": [],
   "source": [
    "from aequilibrae import Project\n",
    "from os.path import isdir, join, isfile\n",
    "from functions.population_pyramid import get_population_pyramid"
   ]
  },
  {
   "cell_type": "code",
   "execution_count": 2,
   "id": "a2721bfb-5e33-4300-bbc0-f31bd838d094",
   "metadata": {
    "execution": {
     "iopub.execute_input": "2022-05-30T16:01:09.991269Z",
     "iopub.status.busy": "2022-05-30T16:01:09.990887Z",
     "iopub.status.idle": "2022-05-30T16:01:09.994491Z",
     "shell.execute_reply": "2022-05-30T16:01:09.993809Z",
     "shell.execute_reply.started": "2022-05-30T16:01:09.991243Z"
    },
    "tags": []
   },
   "outputs": [],
   "source": [
    "model_place = 'Armenia'"
   ]
  },
  {
   "cell_type": "code",
   "execution_count": 3,
   "id": "3bf28b90-829b-4181-a5be-e386c44a2a86",
   "metadata": {
    "execution": {
     "iopub.execute_input": "2022-05-30T16:01:12.332508Z",
     "iopub.status.busy": "2022-05-30T16:01:12.332113Z",
     "iopub.status.idle": "2022-05-30T16:01:12.336657Z",
     "shell.execute_reply": "2022-05-30T16:01:12.335981Z",
     "shell.execute_reply.started": "2022-05-30T16:01:12.332481Z"
    },
    "tags": []
   },
   "outputs": [
    {
     "name": "stdout",
     "output_type": "stream",
     "text": [
      "/home/jovyan/workspace/road_analytics/Armenia\n"
     ]
    }
   ],
   "source": [
    "folder = f'/home/jovyan/workspace/road_analytics/{model_place}'\n",
    "\n",
    "if isdir(folder):\n",
    "    print(folder)"
   ]
  },
  {
   "cell_type": "code",
   "execution_count": 4,
   "id": "99032ae2-5944-4152-b334-7b46d2307c54",
   "metadata": {
    "execution": {
     "iopub.execute_input": "2022-05-30T16:01:15.243097Z",
     "iopub.status.busy": "2022-05-30T16:01:15.242706Z",
     "iopub.status.idle": "2022-05-30T16:01:15.480215Z",
     "shell.execute_reply": "2022-05-30T16:01:15.479618Z",
     "shell.execute_reply.started": "2022-05-30T16:01:15.243071Z"
    },
    "tags": []
   },
   "outputs": [],
   "source": [
    "project = Project()\n",
    "project.open(folder)"
   ]
  },
  {
   "cell_type": "code",
   "execution_count": 7,
   "id": "81995e01-eb5f-404a-b3b7-83f7864fa448",
   "metadata": {
    "execution": {
     "iopub.execute_input": "2022-05-30T16:01:32.062008Z",
     "iopub.status.busy": "2022-05-30T16:01:32.061632Z",
     "iopub.status.idle": "2022-05-30T17:50:23.799691Z",
     "shell.execute_reply": "2022-05-30T17:50:23.799022Z",
     "shell.execute_reply.started": "2022-05-30T16:01:32.061984Z"
    },
    "tags": []
   },
   "outputs": [
    {
     "name": "stdout",
     "output_type": "stream",
     "text": [
      "Obtained Women population 0 to 1 years old.\n",
      "Obtained Men population 0 to 1 years old.\n",
      "Obtained Women population 1 to 5 years old.\n",
      "Obtained Men population 1 to 5 years old.\n",
      "Obtained Women population 5 to 10 years old.\n",
      "Obtained Men population 5 to 10 years old.\n",
      "Obtained Women population 10 to 15 years old.\n",
      "Obtained Men population 10 to 15 years old.\n",
      "Obtained Women population 15 to 20 years old.\n",
      "Obtained Men population 15 to 20 years old.\n",
      "Obtained Women population 20 to 25 years old.\n",
      "Obtained Men population 20 to 25 years old.\n",
      "Obtained Women population 25 to 30 years old.\n",
      "Obtained Men population 25 to 30 years old.\n",
      "Obtained Women population 30 to 35 years old.\n",
      "Obtained Men population 30 to 35 years old.\n",
      "Obtained Women population 35 to 40 years old.\n",
      "Obtained Men population 35 to 40 years old.\n",
      "Obtained Women population 40 to 45 years old.\n",
      "Obtained Men population 40 to 45 years old.\n",
      "Obtained Women population 45 to 50 years old.\n",
      "Obtained Men population 45 to 50 years old.\n",
      "Obtained Women population 50 to 55 years old.\n",
      "Obtained Men population 50 to 55 years old.\n",
      "Obtained Women population 55 to 60 years old.\n",
      "Obtained Men population 55 to 60 years old.\n",
      "Obtained Women population 60 to 65 years old.\n",
      "Obtained Men population 60 to 65 years old.\n",
      "Obtained Women population 65 to 70 years old.\n",
      "Obtained Men population 65 to 70 years old.\n",
      "Obtained Women population 70 to 75 years old.\n",
      "Obtained Men population 70 to 75 years old.\n",
      "Obtained Women population 75 to 80 years old.\n",
      "Obtained Men population 75 to 80 years old.\n",
      "Obtained Women population over 80 years old.\n",
      "Obtained Men population over 80 years old.\n"
     ]
    }
   ],
   "source": [
    "get_population_pyramid(model_place, project)"
   ]
  }
 ],
 "metadata": {
  "kernelspec": {
   "display_name": "saturn (Python 3)",
   "language": "python",
   "name": "python3"
  },
  "language_info": {
   "codemirror_mode": {
    "name": "ipython",
    "version": 3
   },
   "file_extension": ".py",
   "mimetype": "text/x-python",
   "name": "python",
   "nbconvert_exporter": "python",
   "pygments_lexer": "ipython3",
   "version": "3.9.9"
  }
 },
 "nbformat": 4,
 "nbformat_minor": 5
}
