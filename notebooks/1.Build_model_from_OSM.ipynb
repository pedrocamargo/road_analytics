{
 "cells": [
  {
   "cell_type": "markdown",
   "id": "019b293e-c5b6-442c-973e-b157a82ce134",
   "metadata": {},
   "source": [
    "# Imports"
   ]
  },
  {
   "cell_type": "code",
   "execution_count": 3,
   "id": "003e0c7b",
   "metadata": {
    "execution": {
     "iopub.execute_input": "2022-05-09T23:39:41.029630Z",
     "iopub.status.busy": "2022-05-09T23:39:41.029340Z",
     "iopub.status.idle": "2022-05-09T23:39:41.035184Z",
     "shell.execute_reply": "2022-05-09T23:39:41.034366Z",
     "shell.execute_reply.started": "2022-05-09T23:39:41.029598Z"
    },
    "tags": []
   },
   "outputs": [],
   "source": [
    "import sys\n",
    "import logging\n",
    "import shutil\n",
    "from uuid import uuid4\n",
    "from tempfile import gettempdir\n",
    "from os.path import join, isdir\n",
    "import folium\n",
    "from aequilibrae import Parameters, logger, Project"
   ]
  },
  {
   "cell_type": "code",
   "execution_count": 4,
   "id": "3c1da40a-5afa-4f09-840f-67f18cd4ef71",
   "metadata": {
    "execution": {
     "iopub.execute_input": "2022-05-09T23:39:41.037420Z",
     "iopub.status.busy": "2022-05-09T23:39:41.036946Z",
     "iopub.status.idle": "2022-05-09T23:39:41.559631Z",
     "shell.execute_reply": "2022-05-09T23:39:41.557428Z",
     "shell.execute_reply.started": "2022-05-09T23:39:41.037389Z"
    },
    "tags": []
   },
   "outputs": [
    {
     "ename": "ModuleNotFoundError",
     "evalue": "No module named 'country_borders'",
     "output_type": "error",
     "traceback": [
      "\u001b[0;31m---------------------------------------------------------------------------\u001b[0m",
      "\u001b[0;31mModuleNotFoundError\u001b[0m                       Traceback (most recent call last)",
      "Input \u001b[0;32mIn [4]\u001b[0m, in \u001b[0;36m<cell line: 1>\u001b[0;34m()\u001b[0m\n\u001b[0;32m----> 1\u001b[0m \u001b[38;5;28;01mfrom\u001b[39;00m \u001b[38;5;21;01mcountry_borders\u001b[39;00m \u001b[38;5;28;01mimport\u001b[39;00m get_country_borders\n\u001b[1;32m      2\u001b[0m \u001b[38;5;28;01mfrom\u001b[39;00m \u001b[38;5;21;01mmap_path\u001b[39;00m \u001b[38;5;28;01mimport\u001b[39;00m map_single_path\n\u001b[1;32m      3\u001b[0m \u001b[38;5;28;01mfrom\u001b[39;00m \u001b[38;5;21;01mmap_modes\u001b[39;00m \u001b[38;5;28;01mimport\u001b[39;00m map_all_modes\n",
      "\u001b[0;31mModuleNotFoundError\u001b[0m: No module named 'country_borders'"
     ]
    }
   ],
   "source": [
    "from functions.country_borders import get_country_borders\n",
    "from functions.map_path import map_single_path\n",
    "from functions.map_modes import map_all_modes"
   ]
  },
  {
   "cell_type": "markdown",
   "id": "706f171e-43bb-431e-af6e-20b5b2014493",
   "metadata": {},
   "source": [
    "# Model place (Country) to build the model for"
   ]
  },
  {
   "cell_type": "code",
   "execution_count": null,
   "id": "28475878-31e3-49c0-a38b-6bd3fa53f5ee",
   "metadata": {
    "execution": {
     "iopub.status.busy": "2022-05-09T23:39:41.560325Z",
     "iopub.status.idle": "2022-05-09T23:39:41.560574Z",
     "shell.execute_reply": "2022-05-09T23:39:41.560463Z",
     "shell.execute_reply.started": "2022-05-09T23:39:41.560448Z"
    }
   },
   "outputs": [],
   "source": [
    "model_place = 'Andorra'"
   ]
  },
  {
   "cell_type": "markdown",
   "id": "ddc32e08-eceb-453a-a344-2e1c77e84aab",
   "metadata": {
    "tags": []
   },
   "source": [
    "# Environment setup"
   ]
  },
  {
   "cell_type": "code",
   "execution_count": null,
   "id": "b2758459",
   "metadata": {
    "execution": {
     "iopub.status.busy": "2022-05-09T23:39:41.563376Z",
     "iopub.status.idle": "2022-05-09T23:39:41.563913Z",
     "shell.execute_reply": "2022-05-09T23:39:41.563728Z",
     "shell.execute_reply.started": "2022-05-09T23:39:41.563703Z"
    },
    "tags": []
   },
   "outputs": [],
   "source": [
    "stdout_handler = logging.StreamHandler(sys.stdout)\n",
    "formatter = logging.Formatter(\"%(asctime)s;%(name)s;%(levelname)s ; %(message)s\")\n",
    "stdout_handler.setFormatter(formatter)\n",
    "logger.addHandler(stdout_handler)"
   ]
  },
  {
   "cell_type": "code",
   "execution_count": null,
   "id": "94a4f4b1",
   "metadata": {
    "execution": {
     "iopub.status.busy": "2022-05-09T23:39:41.565053Z",
     "iopub.status.idle": "2022-05-09T23:39:41.565824Z",
     "shell.execute_reply": "2022-05-09T23:39:41.565601Z",
     "shell.execute_reply.started": "2022-05-09T23:39:41.565353Z"
    },
    "tags": []
   },
   "outputs": [],
   "source": [
    "fldr = f'../{model_place}'\n",
    "\n",
    "if isdir(fldr):\n",
    "  shutil.rmtree(fldr)"
   ]
  },
  {
   "cell_type": "markdown",
   "id": "37340d5e-8005-4db4-9939-527ff9209c59",
   "metadata": {
    "execution": {
     "iopub.execute_input": "2022-05-06T08:44:13.171729Z",
     "iopub.status.busy": "2022-05-06T08:44:13.171509Z",
     "iopub.status.idle": "2022-05-06T08:44:13.175112Z",
     "shell.execute_reply": "2022-05-06T08:44:13.174427Z",
     "shell.execute_reply.started": "2022-05-06T08:44:13.171708Z"
    },
    "tags": []
   },
   "source": [
    "# Create Road Network from OSM"
   ]
  },
  {
   "cell_type": "code",
   "execution_count": null,
   "id": "4fe405c9",
   "metadata": {
    "execution": {
     "iopub.status.busy": "2022-05-09T23:39:41.567157Z",
     "iopub.status.idle": "2022-05-09T23:39:41.567762Z",
     "shell.execute_reply": "2022-05-09T23:39:41.567577Z",
     "shell.execute_reply.started": "2022-05-09T23:39:41.567554Z"
    },
    "tags": []
   },
   "outputs": [],
   "source": [
    "project = Project()\n",
    "project.new(fldr)"
   ]
  },
  {
   "cell_type": "code",
   "execution_count": null,
   "id": "1878ac31",
   "metadata": {
    "execution": {
     "iopub.status.busy": "2022-05-09T23:39:41.568987Z",
     "iopub.status.idle": "2022-05-09T23:39:41.569547Z",
     "shell.execute_reply": "2022-05-09T23:39:41.569361Z",
     "shell.execute_reply.started": "2022-05-09T23:39:41.569339Z"
    },
    "tags": []
   },
   "outputs": [],
   "source": [
    "new_fields = [{'bridge': {'description': 'bridge flag', 'osm_source': 'bridge', 'type': 'text'}},\n",
    "              {'tunnel': {'description': 'tunnel flag', 'osm_source': 'tunnel', 'type': 'text'}},\n",
    "              {'toll': {'description': 'toll flag', 'osm_source': 'toll', 'type': 'text'}},\n",
    "              {'surface': {'description': 'pavement surface', 'osm_source': 'surface', 'type': 'text'}}]\n",
    "\n",
    "par = Parameters()\n",
    "par.parameters['network']['links']['fields']['one-way'].extend(new_fields)\n",
    "par.write_back()"
   ]
  },
  {
   "cell_type": "code",
   "execution_count": null,
   "id": "9eccc072",
   "metadata": {
    "execution": {
     "iopub.status.busy": "2022-05-09T23:39:41.570793Z",
     "iopub.status.idle": "2022-05-09T23:39:41.571433Z",
     "shell.execute_reply": "2022-05-09T23:39:41.571141Z",
     "shell.execute_reply.started": "2022-05-09T23:39:41.571119Z"
    },
    "tags": []
   },
   "outputs": [],
   "source": [
    "%%time\n",
    "project.network.create_from_osm(place_name=model_place)"
   ]
  },
  {
   "cell_type": "markdown",
   "id": "e19e1493-b8c2-455b-be2e-706dc05c011e",
   "metadata": {},
   "source": [
    "# Restricts import to the country's borders only"
   ]
  },
  {
   "cell_type": "code",
   "execution_count": null,
   "id": "498956e2-e8cf-4a84-8700-1f061dbe5ea7",
   "metadata": {
    "execution": {
     "iopub.status.busy": "2022-05-09T23:39:41.572404Z",
     "iopub.status.idle": "2022-05-09T23:39:41.572899Z",
     "shell.execute_reply": "2022-05-09T23:39:41.572716Z",
     "shell.execute_reply.started": "2022-05-09T23:39:41.572694Z"
    },
    "tags": []
   },
   "outputs": [],
   "source": [
    "place_geo = get_country_borders(model_place)"
   ]
  },
  {
   "cell_type": "code",
   "execution_count": null,
   "id": "48626de6-4ba8-4d3c-9699-af433be327b0",
   "metadata": {
    "execution": {
     "iopub.status.busy": "2022-05-09T23:39:41.573910Z",
     "iopub.status.idle": "2022-05-09T23:39:41.574470Z",
     "shell.execute_reply": "2022-05-09T23:39:41.574289Z",
     "shell.execute_reply.started": "2022-05-09T23:39:41.574266Z"
    },
    "tags": []
   },
   "outputs": [],
   "source": [
    "place_geo"
   ]
  },
  {
   "cell_type": "code",
   "execution_count": null,
   "id": "062d6f82-0548-4cba-b3ac-9b9ad37db816",
   "metadata": {
    "execution": {
     "iopub.status.busy": "2022-05-09T23:39:41.575876Z",
     "iopub.status.idle": "2022-05-09T23:39:41.576664Z",
     "shell.execute_reply": "2022-05-09T23:39:41.576252Z",
     "shell.execute_reply.started": "2022-05-09T23:39:41.576230Z"
    }
   },
   "outputs": [],
   "source": [
    "project.conn.execute('CREATE TABLE IF NOT EXISTS country_borders(\"country_name\" TEXT);')\n",
    "project.conn.execute(\"SELECT AddGeometryColumn( 'country_borders', 'geometry', 4326, 'MULTIPOLYGON', 'XY' );\")\n",
    "\n",
    "project.conn.execute(\"SELECT CreateSpatialIndex( 'country_borders' , 'geometry' );\")\n",
    "project.conn.commit()\n",
    "project.conn.execute('INSERT into country_borders(country_name, geometry) VALUES(?, GeomFromWKB(?, 4326));', [model_place, place_geo.wkb])\n",
    "project.conn.commit()"
   ]
  },
  {
   "cell_type": "code",
   "execution_count": null,
   "id": "88eb8e61-691c-4e5b-a68d-4d67dbbd9e95",
   "metadata": {
    "execution": {
     "iopub.status.busy": "2022-05-09T23:39:41.577815Z",
     "iopub.status.idle": "2022-05-09T23:39:41.578426Z",
     "shell.execute_reply": "2022-05-09T23:39:41.578241Z",
     "shell.execute_reply.started": "2022-05-09T23:39:41.578220Z"
    }
   },
   "outputs": [],
   "source": [
    "%%time\n",
    "sql = \"\"\"DELETE from Links where link_id not in (SELECT a.link_id\n",
    "FROM links AS a, country_borders as b\n",
    "WHERE ST_Intersects(a.geometry, b.geometry) = 1)\"\"\"\n",
    "\n",
    "project.conn.execute(sql)\n",
    "project.conn.commit()"
   ]
  },
  {
   "cell_type": "markdown",
   "id": "93a9143a-c39d-42ea-8a78-3cb6bd60438a",
   "metadata": {},
   "source": [
    "# Displays the network"
   ]
  },
  {
   "cell_type": "code",
   "execution_count": null,
   "id": "27401ad7-601f-4c00-a4fe-27bb5141624e",
   "metadata": {
    "execution": {
     "iopub.status.busy": "2022-05-09T23:39:41.579457Z",
     "iopub.status.idle": "2022-05-09T23:39:41.579967Z",
     "shell.execute_reply": "2022-05-09T23:39:41.579787Z",
     "shell.execute_reply.started": "2022-05-09T23:39:41.579766Z"
    },
    "tags": []
   },
   "outputs": [],
   "source": [
    "map_all_modes(project)"
   ]
  },
  {
   "cell_type": "markdown",
   "id": "737bdb5f-e98f-4b4c-99a2-5548b071759f",
   "metadata": {},
   "source": [
    "# We test how would path computation work"
   ]
  },
  {
   "cell_type": "code",
   "execution_count": null,
   "id": "5c262f5d-6da7-4b40-97b4-684c47326d62",
   "metadata": {
    "execution": {
     "iopub.status.busy": "2022-05-09T23:39:41.580920Z",
     "iopub.status.idle": "2022-05-09T23:39:41.581739Z",
     "shell.execute_reply": "2022-05-09T23:39:41.581468Z",
     "shell.execute_reply.started": "2022-05-09T23:39:41.581447Z"
    },
    "tags": []
   },
   "outputs": [],
   "source": [
    "from aequilibrae.paths import PathResults"
   ]
  },
  {
   "cell_type": "code",
   "execution_count": null,
   "id": "1e06a605-7c65-41d0-a051-0364b5d23d99",
   "metadata": {
    "execution": {
     "iopub.status.busy": "2022-05-09T23:39:41.582719Z",
     "iopub.status.idle": "2022-05-09T23:39:41.583216Z",
     "shell.execute_reply": "2022-05-09T23:39:41.583034Z",
     "shell.execute_reply.started": "2022-05-09T23:39:41.583012Z"
    },
    "tags": []
   },
   "outputs": [],
   "source": [
    "project.conn.execute('update nodes set is_centroid=1')\n",
    "project.conn.commit()\n",
    "\n",
    "project.network.build_graphs()\n",
    "graph = project.network.graphs['c']\n",
    "\n",
    "# we also see what graphs are available\n",
    "# project.network.graphs.keys()\n",
    "\n",
    "# let's say we want to minimize distance\n",
    "graph.set_graph('distance')\n",
    "\n",
    "# And will skim time and distance while we are at it\n",
    "graph.set_skimming(['distance'])\n",
    "\n",
    "graph.set_blocked_centroid_flows(False)"
   ]
  },
  {
   "cell_type": "code",
   "execution_count": null,
   "id": "2f3f02fe-c534-4f3d-b811-6e6ca474a51b",
   "metadata": {
    "execution": {
     "iopub.status.busy": "2022-05-09T23:39:41.584162Z",
     "iopub.status.idle": "2022-05-09T23:39:41.584684Z",
     "shell.execute_reply": "2022-05-09T23:39:41.584504Z",
     "shell.execute_reply.started": "2022-05-09T23:39:41.584464Z"
    },
    "tags": []
   },
   "outputs": [],
   "source": [
    "res = PathResults()\n",
    "res.prepare(graph)\n",
    "\n",
    "# compute a path from node 8 to 13\n",
    "res.compute_path(3673, 6817)"
   ]
  },
  {
   "cell_type": "code",
   "execution_count": null,
   "id": "7875602b-5dc6-4ffa-8863-585283996a3a",
   "metadata": {
    "execution": {
     "iopub.status.busy": "2022-05-09T23:39:41.585634Z",
     "iopub.status.idle": "2022-05-09T23:39:41.586419Z",
     "shell.execute_reply": "2022-05-09T23:39:41.586233Z",
     "shell.execute_reply.started": "2022-05-09T23:39:41.586203Z"
    },
    "tags": []
   },
   "outputs": [],
   "source": [
    "map_single_path(project, res)"
   ]
  },
  {
   "cell_type": "code",
   "execution_count": null,
   "id": "95fcdb74",
   "metadata": {
    "execution": {
     "iopub.status.busy": "2022-05-09T23:39:41.587372Z",
     "iopub.status.idle": "2022-05-09T23:39:41.587866Z",
     "shell.execute_reply": "2022-05-09T23:39:41.587685Z",
     "shell.execute_reply.started": "2022-05-09T23:39:41.587663Z"
    },
    "tags": []
   },
   "outputs": [],
   "source": [
    "project.close()"
   ]
  }
 ],
 "metadata": {
  "kernelspec": {
   "display_name": "saturn (Python 3)",
   "language": "python",
   "name": "python3"
  },
  "language_info": {
   "codemirror_mode": {
    "name": "ipython",
    "version": 3
   },
   "file_extension": ".py",
   "mimetype": "text/x-python",
   "name": "python",
   "nbconvert_exporter": "python",
   "pygments_lexer": "ipython3",
   "version": "3.9.9"
  }
 },
 "nbformat": 4,
 "nbformat_minor": 5
}
