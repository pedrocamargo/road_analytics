{
 "cells": [
  {
   "cell_type": "markdown",
   "id": "019b293e-c5b6-442c-973e-b157a82ce134",
   "metadata": {},
   "source": [
    "# Imports"
   ]
  },
  {
   "cell_type": "code",
   "execution_count": 1,
   "id": "003e0c7b",
   "metadata": {
    "execution": {
     "iopub.execute_input": "2022-05-06T09:46:45.427150Z",
     "iopub.status.busy": "2022-05-06T09:46:45.425951Z",
     "iopub.status.idle": "2022-05-06T09:46:46.304082Z",
     "shell.execute_reply": "2022-05-06T09:46:46.303619Z",
     "shell.execute_reply.started": "2022-05-06T09:46:45.427058Z"
    },
    "tags": []
   },
   "outputs": [],
   "source": [
    "import sys\n",
    "import logging\n",
    "import shutil\n",
    "from uuid import uuid4\n",
    "from tempfile import gettempdir\n",
    "from os.path import join, isdir\n",
    "import folium\n",
    "from aequilibrae import Parameters, logger, Project"
   ]
  },
  {
   "cell_type": "code",
   "execution_count": 2,
   "id": "3c1da40a-5afa-4f09-840f-67f18cd4ef71",
   "metadata": {
    "execution": {
     "iopub.execute_input": "2022-05-06T09:46:46.306308Z",
     "iopub.status.busy": "2022-05-06T09:46:46.305964Z",
     "iopub.status.idle": "2022-05-06T09:46:46.311460Z",
     "shell.execute_reply": "2022-05-06T09:46:46.310957Z",
     "shell.execute_reply.started": "2022-05-06T09:46:46.306256Z"
    },
    "tags": []
   },
   "outputs": [],
   "source": [
    "from building_parameters import model_place\n",
    "from country_borders import get_country_borders"
   ]
  },
  {
   "cell_type": "markdown",
   "id": "ddc32e08-eceb-453a-a344-2e1c77e84aab",
   "metadata": {
    "tags": []
   },
   "source": [
    "# Environment setup"
   ]
  },
  {
   "cell_type": "code",
   "execution_count": 3,
   "id": "b2758459",
   "metadata": {
    "execution": {
     "iopub.execute_input": "2022-05-06T09:46:46.314013Z",
     "iopub.status.busy": "2022-05-06T09:46:46.313570Z",
     "iopub.status.idle": "2022-05-06T09:46:46.317765Z",
     "shell.execute_reply": "2022-05-06T09:46:46.317055Z",
     "shell.execute_reply.started": "2022-05-06T09:46:46.313980Z"
    },
    "tags": []
   },
   "outputs": [],
   "source": [
    "stdout_handler = logging.StreamHandler(sys.stdout)\n",
    "formatter = logging.Formatter(\"%(asctime)s;%(name)s;%(levelname)s ; %(message)s\")\n",
    "stdout_handler.setFormatter(formatter)\n",
    "logger.addHandler(stdout_handler)"
   ]
  },
  {
   "cell_type": "code",
   "execution_count": 4,
   "id": "94a4f4b1",
   "metadata": {
    "execution": {
     "iopub.execute_input": "2022-05-06T09:46:46.319194Z",
     "iopub.status.busy": "2022-05-06T09:46:46.318962Z",
     "iopub.status.idle": "2022-05-06T09:46:46.323507Z",
     "shell.execute_reply": "2022-05-06T09:46:46.322694Z",
     "shell.execute_reply.started": "2022-05-06T09:46:46.319163Z"
    },
    "tags": []
   },
   "outputs": [],
   "source": [
    "fldr = f'../{model_place}'\n",
    "\n",
    "if isdir(fldr):\n",
    "  shutil.rmtree(fldr)"
   ]
  },
  {
   "cell_type": "markdown",
   "id": "37340d5e-8005-4db4-9939-527ff9209c59",
   "metadata": {
    "execution": {
     "iopub.execute_input": "2022-05-06T08:44:13.171729Z",
     "iopub.status.busy": "2022-05-06T08:44:13.171509Z",
     "iopub.status.idle": "2022-05-06T08:44:13.175112Z",
     "shell.execute_reply": "2022-05-06T08:44:13.174427Z",
     "shell.execute_reply.started": "2022-05-06T08:44:13.171708Z"
    },
    "tags": []
   },
   "source": [
    "# Create Road Network from OSM"
   ]
  },
  {
   "cell_type": "code",
   "execution_count": 5,
   "id": "4fe405c9",
   "metadata": {
    "execution": {
     "iopub.execute_input": "2022-05-06T09:46:46.325033Z",
     "iopub.status.busy": "2022-05-06T09:46:46.324646Z",
     "iopub.status.idle": "2022-05-06T09:46:46.816410Z",
     "shell.execute_reply": "2022-05-06T09:46:46.815729Z",
     "shell.execute_reply.started": "2022-05-06T09:46:46.324993Z"
    },
    "tags": []
   },
   "outputs": [
    {
     "name": "stderr",
     "output_type": "stream",
     "text": [
      "/srv/conda/envs/saturn/lib/python3.9/site-packages/aequilibrae/parameters.py:53: UserWarning: No pre-existing parameter file exists for this project. Will use default\n",
      "  warn('No pre-existing parameter file exists for this project. Will use default')\n"
     ]
    },
    {
     "name": "stdout",
     "output_type": "stream",
     "text": [
      "2022-05-06 09:46:46,812;aequilibrae;INFO ; Created project on ../Monaco\n"
     ]
    }
   ],
   "source": [
    "project = Project()\n",
    "project.new(fldr)"
   ]
  },
  {
   "cell_type": "code",
   "execution_count": 6,
   "id": "1878ac31",
   "metadata": {
    "execution": {
     "iopub.execute_input": "2022-05-06T09:46:46.819370Z",
     "iopub.status.busy": "2022-05-06T09:46:46.819187Z",
     "iopub.status.idle": "2022-05-06T09:46:46.871491Z",
     "shell.execute_reply": "2022-05-06T09:46:46.870847Z",
     "shell.execute_reply.started": "2022-05-06T09:46:46.819348Z"
    },
    "tags": []
   },
   "outputs": [],
   "source": [
    "new_fields = [{'bridge': {'description': 'bridge flag', 'osm_source': 'bridge', 'type': 'text'}},\n",
    "              {'tunnel': {'description': 'tunnel flag', 'osm_source': 'tunnel', 'type': 'text'}},\n",
    "              {'toll': {'description': 'toll flag', 'osm_source': 'toll', 'type': 'text'}},\n",
    "              {'surface': {'description': 'pavement surface', 'osm_source': 'surface', 'type': 'text'}}]\n",
    "\n",
    "par = Parameters()\n",
    "par.parameters['network']['links']['fields']['one-way'].extend(new_fields)\n",
    "par.write_back()"
   ]
  },
  {
   "cell_type": "code",
   "execution_count": 7,
   "id": "9eccc072",
   "metadata": {
    "execution": {
     "iopub.execute_input": "2022-05-06T09:46:46.874478Z",
     "iopub.status.busy": "2022-05-06T09:46:46.873860Z",
     "iopub.status.idle": "2022-05-06T09:47:24.072666Z",
     "shell.execute_reply": "2022-05-06T09:47:24.072009Z",
     "shell.execute_reply.started": "2022-05-06T09:46:46.874442Z"
    },
    "tags": []
   },
   "outputs": [
    {
     "name": "stdout",
     "output_type": "stream",
     "text": [
      "2022-05-06 09:46:48,283;aequilibrae;INFO ; PLACE FOUND:Monaco\n",
      "2022-05-06 09:46:48,327;aequilibrae;INFO ; Downloading data\n",
      "2022-05-06 09:46:48,408;aequilibrae;DEBUG ; Downloading polygon 1 of 1\n",
      "2022-05-06 09:46:58,414;aequilibrae;DEBUG ; Posting to http://overpass-api.de/api/interpreter with timeout=540, \"{'data': '[out:json][timeout:540];(way[\"highway\"][\"area\"!~\"yes\"][\"highway\"!~\"proposed|raceway|construction|abandoned|platform\"][\"service\"!~\"parking|parking_aisle|driveway|private|emergency_access\"][\"access\"!~\"private\"](43.724760,7.409028,43.751931,7.439870);>;);out;'}\"\n",
      "2022-05-06 09:47:01,129;aequilibrae;INFO ; Downloaded 1,994.6KB from overpass-api.de in 2.72 seconds\n",
      "2022-05-06 09:47:01,262;aequilibrae;INFO ; Building Network\n",
      "2022-05-06 09:47:01,382;aequilibrae;INFO ; Separating nodes and links\n",
      "2022-05-06 09:47:01,530;aequilibrae;INFO ; Setting data structures for nodes\n",
      "2022-05-06 09:47:01,593;aequilibrae;INFO ; Setting data structures for links\n",
      "2022-05-06 09:47:01,606;aequilibrae;INFO ; Finalizing data structures\n",
      "2022-05-06 09:47:01,966;aequilibrae;INFO ; Adding network links\n",
      "2022-05-06 09:47:02,043;aequilibrae;WARNING ; Link type has not yet been saved to the database. Do so explicitly\n",
      "2022-05-06 09:47:02,262;aequilibrae;WARNING ; Link type has not yet been saved to the database. Do so explicitly\n",
      "2022-05-06 09:47:02,330;aequilibrae;WARNING ; Link type has not yet been saved to the database. Do so explicitly\n",
      "2022-05-06 09:47:02,399;aequilibrae;WARNING ; Link type has not yet been saved to the database. Do so explicitly\n",
      "2022-05-06 09:47:02,472;aequilibrae;WARNING ; Link type has not yet been saved to the database. Do so explicitly\n",
      "2022-05-06 09:47:02,556;aequilibrae;WARNING ; Link type has not yet been saved to the database. Do so explicitly\n",
      "2022-05-06 09:47:02,653;aequilibrae;WARNING ; Link type has not yet been saved to the database. Do so explicitly\n",
      "2022-05-06 09:47:02,747;aequilibrae;WARNING ; Link type has not yet been saved to the database. Do so explicitly\n",
      "2022-05-06 09:47:02,829;aequilibrae;WARNING ; Link type has not yet been saved to the database. Do so explicitly\n",
      "2022-05-06 09:47:03,097;aequilibrae;WARNING ; Link type has not yet been saved to the database. Do so explicitly\n",
      "2022-05-06 09:47:04,192;aequilibrae;WARNING ; Link type has not yet been saved to the database. Do so explicitly\n",
      "2022-05-06 09:47:07,222;aequilibrae;WARNING ; Link type has not yet been saved to the database. Do so explicitly\n",
      "2022-05-06 09:47:07,848;aequilibrae;WARNING ; Link type has not yet been saved to the database. Do so explicitly\n",
      "2022-05-06 09:47:10,040;aequilibrae;INFO ; Inserting segments from 1,000 out of 2,879 OSM link objects\n",
      "2022-05-06 09:47:11,704;aequilibrae;WARNING ; Link type has not yet been saved to the database. Do so explicitly\n",
      "2022-05-06 09:47:17,348;aequilibrae;INFO ; Inserting segments from 2,000 out of 2,879 OSM link objects\n",
      "2022-05-06 09:47:24,068;aequilibrae;INFO ; Network built successfully\n",
      "CPU times: user 6.24 s, sys: 1.71 s, total: 7.95 s\n",
      "Wall time: 37.2 s\n"
     ]
    }
   ],
   "source": [
    "%%time\n",
    "project.network.create_from_osm(place_name=model_place)"
   ]
  },
  {
   "cell_type": "markdown",
   "id": "e19e1493-b8c2-455b-be2e-706dc05c011e",
   "metadata": {},
   "source": [
    "# Restricts import to the country's borders only"
   ]
  },
  {
   "cell_type": "code",
   "execution_count": 8,
   "id": "498956e2-e8cf-4a84-8700-1f061dbe5ea7",
   "metadata": {
    "execution": {
     "iopub.execute_input": "2022-05-06T09:47:24.074711Z",
     "iopub.status.busy": "2022-05-06T09:47:24.073982Z",
     "iopub.status.idle": "2022-05-06T09:47:25.043627Z",
     "shell.execute_reply": "2022-05-06T09:47:25.043163Z",
     "shell.execute_reply.started": "2022-05-06T09:47:24.074677Z"
    },
    "tags": []
   },
   "outputs": [],
   "source": [
    "place_geo = get_country_borders(model_place)"
   ]
  },
  {
   "cell_type": "code",
   "execution_count": 9,
   "id": "062d6f82-0548-4cba-b3ac-9b9ad37db816",
   "metadata": {
    "execution": {
     "iopub.execute_input": "2022-05-06T09:47:25.045060Z",
     "iopub.status.busy": "2022-05-06T09:47:25.044700Z",
     "iopub.status.idle": "2022-05-06T09:47:25.163260Z",
     "shell.execute_reply": "2022-05-06T09:47:25.162790Z",
     "shell.execute_reply.started": "2022-05-06T09:47:25.045028Z"
    }
   },
   "outputs": [],
   "source": [
    "project.conn.execute('CREATE TABLE IF NOT EXISTS country_borders(\"country_name\" TEXT);')\n",
    "project.conn.execute(\"SELECT AddGeometryColumn( 'country_borders', 'geometry', 4326, 'MULTIPOLYGON', 'XY' );\")\n",
    "\n",
    "project.conn.execute(\"SELECT CreateSpatialIndex( 'country_borders' , 'geometry' );\")\n",
    "project.conn.commit()\n",
    "project.conn.execute('INSERT into country_borders(country_name, geometry) VALUES(?, GeomFromWKB(?, 4326));', [model_place, place_geo.wkb])\n",
    "project.conn.commit()"
   ]
  },
  {
   "cell_type": "code",
   "execution_count": 10,
   "id": "88eb8e61-691c-4e5b-a68d-4d67dbbd9e95",
   "metadata": {
    "execution": {
     "iopub.execute_input": "2022-05-06T09:47:25.164674Z",
     "iopub.status.busy": "2022-05-06T09:47:25.164305Z",
     "iopub.status.idle": "2022-05-06T09:47:25.592754Z",
     "shell.execute_reply": "2022-05-06T09:47:25.592078Z",
     "shell.execute_reply.started": "2022-05-06T09:47:25.164642Z"
    }
   },
   "outputs": [
    {
     "name": "stderr",
     "output_type": "stream",
     "text": [
      "GEOS error: TopologyException: side location conflict at 7.4120416000000002 43.728095500000002\n"
     ]
    },
    {
     "name": "stdout",
     "output_type": "stream",
     "text": [
      "CPU times: user 352 ms, sys: 17.3 ms, total: 369 ms\n",
      "Wall time: 423 ms\n"
     ]
    }
   ],
   "source": [
    "%%time\n",
    "sql = \"\"\"DELETE from Links where link_id not in (SELECT a.link_id\n",
    "FROM links AS a, country_borders as b\n",
    "WHERE ST_Intersects(a.geometry, b.geometry) = 1)\"\"\"\n",
    "\n",
    "project.conn.execute(sql)\n",
    "project.conn.commit()"
   ]
  },
  {
   "cell_type": "code",
   "execution_count": 11,
   "id": "95fcdb74",
   "metadata": {
    "execution": {
     "iopub.execute_input": "2022-05-06T09:47:25.594329Z",
     "iopub.status.busy": "2022-05-06T09:47:25.593952Z",
     "iopub.status.idle": "2022-05-06T09:47:25.704580Z",
     "shell.execute_reply": "2022-05-06T09:47:25.703868Z",
     "shell.execute_reply.started": "2022-05-06T09:47:25.594296Z"
    },
    "tags": []
   },
   "outputs": [
    {
     "name": "stdout",
     "output_type": "stream",
     "text": [
      "2022-05-06 09:47:25,700;aequilibrae;INFO ; Closed project on ../Monaco\n"
     ]
    }
   ],
   "source": [
    "project.close()"
   ]
  }
 ],
 "metadata": {
  "kernelspec": {
   "display_name": "saturn (Python 3)",
   "language": "python",
   "name": "python3"
  },
  "language_info": {
   "codemirror_mode": {
    "name": "ipython",
    "version": 3
   },
   "file_extension": ".py",
   "mimetype": "text/x-python",
   "name": "python",
   "nbconvert_exporter": "python",
   "pygments_lexer": "ipython3",
   "version": "3.9.9"
  }
 },
 "nbformat": 4,
 "nbformat_minor": 5
}
